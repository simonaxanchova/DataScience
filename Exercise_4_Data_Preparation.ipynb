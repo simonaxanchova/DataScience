{
  "nbformat": 4,
  "nbformat_minor": 0,
  "metadata": {
    "colab": {
      "name": "Exercise 4 - Data Preparation.ipynb",
      "provenance": [],
      "collapsed_sections": []
    },
    "kernelspec": {
      "name": "python3",
      "display_name": "Python 3"
    }
  },
  "cells": [
    {
      "cell_type": "markdown",
      "metadata": {
        "id": "cfr_fHwKtdak"
      },
      "source": [
        "# Handling Missing Values"
      ]
    },
    {
      "cell_type": "markdown",
      "metadata": {
        "id": "Nv1RVcsJtnkF"
      },
      "source": [
        "**Titanic Dataset for Non Time Series problem**"
      ]
    },
    {
      "cell_type": "code",
      "metadata": {
        "id": "3r-rGAGFuWXm"
      },
      "source": [
        "import pandas as pd\n",
        "\n",
        "train = pd.read_csv('/content/drive/MyDrive/train_titanic.csv')\n",
        "test = pd.read_csv('/content/drive/MyDrive/test_titanic.csv')"
      ],
      "execution_count": 87,
      "outputs": []
    },
    {
      "cell_type": "code",
      "metadata": {
        "colab": {
          "base_uri": "https://localhost:8080/"
        },
        "id": "aNTXqd6wvAKX",
        "outputId": "0995ff4d-1857-4b2e-cc1e-0f212af1df66"
      },
      "source": [
        "print('Training data shape: ', train.shape)\n",
        "print('Testing data shape: ', test.shape)"
      ],
      "execution_count": 88,
      "outputs": [
        {
          "output_type": "stream",
          "text": [
            "Training data shape:  (891, 12)\n",
            "Testing data shape:  (418, 11)\n"
          ],
          "name": "stdout"
        }
      ]
    },
    {
      "cell_type": "code",
      "metadata": {
        "colab": {
          "base_uri": "https://localhost:8080/",
          "height": 484
        },
        "id": "2zNaZl2TvJRT",
        "outputId": "0cafb745-7bd1-4f7b-b641-84754d66e73b"
      },
      "source": [
        "train.head()"
      ],
      "execution_count": 89,
      "outputs": [
        {
          "output_type": "execute_result",
          "data": {
            "text/html": [
              "<div>\n",
              "<style scoped>\n",
              "    .dataframe tbody tr th:only-of-type {\n",
              "        vertical-align: middle;\n",
              "    }\n",
              "\n",
              "    .dataframe tbody tr th {\n",
              "        vertical-align: top;\n",
              "    }\n",
              "\n",
              "    .dataframe thead th {\n",
              "        text-align: right;\n",
              "    }\n",
              "</style>\n",
              "<table border=\"1\" class=\"dataframe\">\n",
              "  <thead>\n",
              "    <tr style=\"text-align: right;\">\n",
              "      <th></th>\n",
              "      <th>PassengerId</th>\n",
              "      <th>Survived</th>\n",
              "      <th>Pclass</th>\n",
              "      <th>Name</th>\n",
              "      <th>Sex</th>\n",
              "      <th>Age</th>\n",
              "      <th>SibSp</th>\n",
              "      <th>Parch</th>\n",
              "      <th>Ticket</th>\n",
              "      <th>Fare</th>\n",
              "      <th>Cabin</th>\n",
              "      <th>Embarked</th>\n",
              "    </tr>\n",
              "  </thead>\n",
              "  <tbody>\n",
              "    <tr>\n",
              "      <th>0</th>\n",
              "      <td>1</td>\n",
              "      <td>0</td>\n",
              "      <td>3</td>\n",
              "      <td>Braund, Mr. Owen Harris</td>\n",
              "      <td>male</td>\n",
              "      <td>22.0</td>\n",
              "      <td>1</td>\n",
              "      <td>0</td>\n",
              "      <td>A/5 21171</td>\n",
              "      <td>7.2500</td>\n",
              "      <td>NaN</td>\n",
              "      <td>S</td>\n",
              "    </tr>\n",
              "    <tr>\n",
              "      <th>1</th>\n",
              "      <td>2</td>\n",
              "      <td>1</td>\n",
              "      <td>1</td>\n",
              "      <td>Cumings, Mrs. John Bradley (Florence Briggs Th...</td>\n",
              "      <td>female</td>\n",
              "      <td>38.0</td>\n",
              "      <td>1</td>\n",
              "      <td>0</td>\n",
              "      <td>PC 17599</td>\n",
              "      <td>71.2833</td>\n",
              "      <td>C85</td>\n",
              "      <td>C</td>\n",
              "    </tr>\n",
              "    <tr>\n",
              "      <th>2</th>\n",
              "      <td>3</td>\n",
              "      <td>1</td>\n",
              "      <td>3</td>\n",
              "      <td>Heikkinen, Miss. Laina</td>\n",
              "      <td>female</td>\n",
              "      <td>26.0</td>\n",
              "      <td>0</td>\n",
              "      <td>0</td>\n",
              "      <td>STON/O2. 3101282</td>\n",
              "      <td>7.9250</td>\n",
              "      <td>NaN</td>\n",
              "      <td>S</td>\n",
              "    </tr>\n",
              "    <tr>\n",
              "      <th>3</th>\n",
              "      <td>4</td>\n",
              "      <td>1</td>\n",
              "      <td>1</td>\n",
              "      <td>Futrelle, Mrs. Jacques Heath (Lily May Peel)</td>\n",
              "      <td>female</td>\n",
              "      <td>35.0</td>\n",
              "      <td>1</td>\n",
              "      <td>0</td>\n",
              "      <td>113803</td>\n",
              "      <td>53.1000</td>\n",
              "      <td>C123</td>\n",
              "      <td>S</td>\n",
              "    </tr>\n",
              "    <tr>\n",
              "      <th>4</th>\n",
              "      <td>5</td>\n",
              "      <td>0</td>\n",
              "      <td>3</td>\n",
              "      <td>Allen, Mr. William Henry</td>\n",
              "      <td>male</td>\n",
              "      <td>35.0</td>\n",
              "      <td>0</td>\n",
              "      <td>0</td>\n",
              "      <td>373450</td>\n",
              "      <td>8.0500</td>\n",
              "      <td>NaN</td>\n",
              "      <td>S</td>\n",
              "    </tr>\n",
              "  </tbody>\n",
              "</table>\n",
              "</div>"
            ],
            "text/plain": [
              "   PassengerId  Survived  Pclass  ...     Fare Cabin  Embarked\n",
              "0            1         0       3  ...   7.2500   NaN         S\n",
              "1            2         1       1  ...  71.2833   C85         C\n",
              "2            3         1       3  ...   7.9250   NaN         S\n",
              "3            4         1       1  ...  53.1000  C123         S\n",
              "4            5         0       3  ...   8.0500   NaN         S\n",
              "\n",
              "[5 rows x 12 columns]"
            ]
          },
          "metadata": {
            "tags": []
          },
          "execution_count": 89
        }
      ]
    },
    {
      "cell_type": "markdown",
      "metadata": {
        "id": "KOLvwgY6vPdp"
      },
      "source": [
        "**Examining the Target column**\n",
        "\n",
        "For each passenger in the test set, we need to create a model that predicts wheater or not the passenger survived the sinking of the Titanic. Hence Survived is that target column in the dataset. Let's examine the Distribution of the target column."
      ]
    },
    {
      "cell_type": "code",
      "metadata": {
        "colab": {
          "base_uri": "https://localhost:8080/"
        },
        "id": "B36TJfYP1dR3",
        "outputId": "d7df15d8-24fd-4b10-9d31-5890126d96ad"
      },
      "source": [
        "ds = train['Survived'].value_counts()\n",
        "ds"
      ],
      "execution_count": 90,
      "outputs": [
        {
          "output_type": "execute_result",
          "data": {
            "text/plain": [
              "0    549\n",
              "1    342\n",
              "Name: Survived, dtype: int64"
            ]
          },
          "metadata": {
            "tags": []
          },
          "execution_count": 90
        }
      ]
    },
    {
      "cell_type": "markdown",
      "metadata": {
        "id": "McfTIlm_1kYp"
      },
      "source": [
        "*Visualization of 'Survived' column*\n",
        "*   1: Survived\n",
        "*   0: Did not Survive\n",
        "\n"
      ]
    },
    {
      "cell_type": "code",
      "metadata": {
        "colab": {
          "base_uri": "https://localhost:8080/",
          "height": 279
        },
        "id": "KxsVfa-u1rUQ",
        "outputId": "240d5ee6-c0d2-4074-985c-f4b5870d24f6"
      },
      "source": [
        "ds.plot.bar()"
      ],
      "execution_count": 91,
      "outputs": [
        {
          "output_type": "execute_result",
          "data": {
            "text/plain": [
              "<matplotlib.axes._subplots.AxesSubplot at 0x7f40a30075c0>"
            ]
          },
          "metadata": {
            "tags": []
          },
          "execution_count": 91
        },
        {
          "output_type": "display_data",
          "data": {
            "image/png": "[encoded data removed]",
            "text/plain": [
              "<Figure size 432x288 with 1 Axes>"
            ]
          },
          "metadata": {
            "tags": [],
            "needs_background": "light"
          }
        }
      ]
    },
    {
      "cell_type": "markdown",
      "metadata": {
        "id": "OiO2YD-01-YU"
      },
      "source": [
        "**Detecting Missing values**\n",
        "\n",
        "The first step is to detect the count/percentage of missing values in every column of the dataset. This will give an idea about the distribution of missing values.\n",
        "\n",
        "\n",
        "\n",
        "The missing values in the Dataset for training:"
      ]
    },
    {
      "cell_type": "code",
      "metadata": {
        "colab": {
          "base_uri": "https://localhost:8080/",
          "height": 402
        },
        "id": "iCJQbUTa2MJV",
        "outputId": "74659677-255c-4e2d-f8d1-26fb23fc688a"
      },
      "source": [
        "missing_values_train = train.isnull().sum()\n",
        "percentage_train = 100 * train.isnull().sum() / len(train)\n",
        "missing_values_table_train = pd.concat([missing_values_train, percentage_train], axis = 1)\n",
        "missing_values_table_train.columns = ['Num. of missing values', '% of missing values']\n",
        "missing_values_table_train"
      ],
      "execution_count": 92,
      "outputs": [
        {
          "output_type": "execute_result",
          "data": {
            "text/html": [
              "<div>\n",
              "<style scoped>\n",
              "    .dataframe tbody tr th:only-of-type {\n",
              "        vertical-align: middle;\n",
              "    }\n",
              "\n",
              "    .dataframe tbody tr th {\n",
              "        vertical-align: top;\n",
              "    }\n",
              "\n",
              "    .dataframe thead th {\n",
              "        text-align: right;\n",
              "    }\n",
              "</style>\n",
              "<table border=\"1\" class=\"dataframe\">\n",
              "  <thead>\n",
              "    <tr style=\"text-align: right;\">\n",
              "      <th></th>\n",
              "      <th>Num. of missing values</th>\n",
              "      <th>% of missing values</th>\n",
              "    </tr>\n",
              "  </thead>\n",
              "  <tbody>\n",
              "    <tr>\n",
              "      <th>PassengerId</th>\n",
              "      <td>0</td>\n",
              "      <td>0.000000</td>\n",
              "    </tr>\n",
              "    <tr>\n",
              "      <th>Survived</th>\n",
              "      <td>0</td>\n",
              "      <td>0.000000</td>\n",
              "    </tr>\n",
              "    <tr>\n",
              "      <th>Pclass</th>\n",
              "      <td>0</td>\n",
              "      <td>0.000000</td>\n",
              "    </tr>\n",
              "    <tr>\n",
              "      <th>Name</th>\n",
              "      <td>0</td>\n",
              "      <td>0.000000</td>\n",
              "    </tr>\n",
              "    <tr>\n",
              "      <th>Sex</th>\n",
              "      <td>0</td>\n",
              "      <td>0.000000</td>\n",
              "    </tr>\n",
              "    <tr>\n",
              "      <th>Age</th>\n",
              "      <td>177</td>\n",
              "      <td>19.865320</td>\n",
              "    </tr>\n",
              "    <tr>\n",
              "      <th>SibSp</th>\n",
              "      <td>0</td>\n",
              "      <td>0.000000</td>\n",
              "    </tr>\n",
              "    <tr>\n",
              "      <th>Parch</th>\n",
              "      <td>0</td>\n",
              "      <td>0.000000</td>\n",
              "    </tr>\n",
              "    <tr>\n",
              "      <th>Ticket</th>\n",
              "      <td>0</td>\n",
              "      <td>0.000000</td>\n",
              "    </tr>\n",
              "    <tr>\n",
              "      <th>Fare</th>\n",
              "      <td>0</td>\n",
              "      <td>0.000000</td>\n",
              "    </tr>\n",
              "    <tr>\n",
              "      <th>Cabin</th>\n",
              "      <td>687</td>\n",
              "      <td>77.104377</td>\n",
              "    </tr>\n",
              "    <tr>\n",
              "      <th>Embarked</th>\n",
              "      <td>2</td>\n",
              "      <td>0.224467</td>\n",
              "    </tr>\n",
              "  </tbody>\n",
              "</table>\n",
              "</div>"
            ],
            "text/plain": [
              "             Num. of missing values  % of missing values\n",
              "PassengerId                       0             0.000000\n",
              "Survived                          0             0.000000\n",
              "Pclass                            0             0.000000\n",
              "Name                              0             0.000000\n",
              "Sex                               0             0.000000\n",
              "Age                             177            19.865320\n",
              "SibSp                             0             0.000000\n",
              "Parch                             0             0.000000\n",
              "Ticket                            0             0.000000\n",
              "Fare                              0             0.000000\n",
              "Cabin                           687            77.104377\n",
              "Embarked                          2             0.224467"
            ]
          },
          "metadata": {
            "tags": []
          },
          "execution_count": 92
        }
      ]
    },
    {
      "cell_type": "markdown",
      "metadata": {
        "id": "6DGEb2GN2ouI"
      },
      "source": [
        "The missing values in the Dataset for testing:"
      ]
    },
    {
      "cell_type": "code",
      "metadata": {
        "colab": {
          "base_uri": "https://localhost:8080/",
          "height": 373
        },
        "id": "tsxaDpRf2vdu",
        "outputId": "b420b0e8-19ff-46c2-a41f-43b769734a3a"
      },
      "source": [
        "missing_values_test = test.isnull().sum()\n",
        "percentage_test = 100 * test.isnull().sum() / len(test)\n",
        "missing_values_table_test = pd.concat([missing_values_test, percentage_test], axis = 1)\n",
        "missing_values_table_test.columns = ['Num. of missing values', '% of missing values']\n",
        "missing_values_table_test"
      ],
      "execution_count": 93,
      "outputs": [
        {
          "output_type": "execute_result",
          "data": {
            "text/html": [
              "<div>\n",
              "<style scoped>\n",
              "    .dataframe tbody tr th:only-of-type {\n",
              "        vertical-align: middle;\n",
              "    }\n",
              "\n",
              "    .dataframe tbody tr th {\n",
              "        vertical-align: top;\n",
              "    }\n",
              "\n",
              "    .dataframe thead th {\n",
              "        text-align: right;\n",
              "    }\n",
              "</style>\n",
              "<table border=\"1\" class=\"dataframe\">\n",
              "  <thead>\n",
              "    <tr style=\"text-align: right;\">\n",
              "      <th></th>\n",
              "      <th>Num. of missing values</th>\n",
              "      <th>% of missing values</th>\n",
              "    </tr>\n",
              "  </thead>\n",
              "  <tbody>\n",
              "    <tr>\n",
              "      <th>PassengerId</th>\n",
              "      <td>0</td>\n",
              "      <td>0.000000</td>\n",
              "    </tr>\n",
              "    <tr>\n",
              "      <th>Pclass</th>\n",
              "      <td>0</td>\n",
              "      <td>0.000000</td>\n",
              "    </tr>\n",
              "    <tr>\n",
              "      <th>Name</th>\n",
              "      <td>0</td>\n",
              "      <td>0.000000</td>\n",
              "    </tr>\n",
              "    <tr>\n",
              "      <th>Sex</th>\n",
              "      <td>0</td>\n",
              "      <td>0.000000</td>\n",
              "    </tr>\n",
              "    <tr>\n",
              "      <th>Age</th>\n",
              "      <td>86</td>\n",
              "      <td>20.574163</td>\n",
              "    </tr>\n",
              "    <tr>\n",
              "      <th>SibSp</th>\n",
              "      <td>0</td>\n",
              "      <td>0.000000</td>\n",
              "    </tr>\n",
              "    <tr>\n",
              "      <th>Parch</th>\n",
              "      <td>0</td>\n",
              "      <td>0.000000</td>\n",
              "    </tr>\n",
              "    <tr>\n",
              "      <th>Ticket</th>\n",
              "      <td>0</td>\n",
              "      <td>0.000000</td>\n",
              "    </tr>\n",
              "    <tr>\n",
              "      <th>Fare</th>\n",
              "      <td>1</td>\n",
              "      <td>0.239234</td>\n",
              "    </tr>\n",
              "    <tr>\n",
              "      <th>Cabin</th>\n",
              "      <td>327</td>\n",
              "      <td>78.229665</td>\n",
              "    </tr>\n",
              "    <tr>\n",
              "      <th>Embarked</th>\n",
              "      <td>0</td>\n",
              "      <td>0.000000</td>\n",
              "    </tr>\n",
              "  </tbody>\n",
              "</table>\n",
              "</div>"
            ],
            "text/plain": [
              "             Num. of missing values  % of missing values\n",
              "PassengerId                       0             0.000000\n",
              "Pclass                            0             0.000000\n",
              "Name                              0             0.000000\n",
              "Sex                               0             0.000000\n",
              "Age                              86            20.574163\n",
              "SibSp                             0             0.000000\n",
              "Parch                             0             0.000000\n",
              "Ticket                            0             0.000000\n",
              "Fare                              1             0.239234\n",
              "Cabin                           327            78.229665\n",
              "Embarked                          0             0.000000"
            ]
          },
          "metadata": {
            "tags": []
          },
          "execution_count": 93
        }
      ]
    },
    {
      "cell_type": "markdown",
      "metadata": {
        "id": "OGZiRFZl28qT"
      },
      "source": [
        "**Detecting missing data visually using Missingno library**"
      ]
    },
    {
      "cell_type": "code",
      "metadata": {
        "colab": {
          "base_uri": "https://localhost:8080/",
          "height": 343
        },
        "id": "S2S_U8ET3BJb",
        "outputId": "6d91a3fb-f2ec-4420-9235-1dc991c0823d"
      },
      "source": [
        "import missingno as msno\n",
        "msno.bar(train)"
      ],
      "execution_count": 94,
      "outputs": [
        {
          "output_type": "execute_result",
          "data": {
            "text/plain": [
              "<matplotlib.axes._subplots.AxesSubplot at 0x7f40a2f55710>"
            ]
          },
          "metadata": {
            "tags": []
          },
          "execution_count": 94
        },
        {
          "output_type": "display_data",
          "data": {
            "image/png": "[encoded data removed]",
            "text/plain": [
              "<Figure size 1728x720 with 3 Axes>"
            ]
          },
          "metadata": {
            "tags": [],
            "needs_background": "light"
          }
        }
      ]
    },
    {
      "cell_type": "code",
      "metadata": {
        "colab": {
          "base_uri": "https://localhost:8080/",
          "height": 321
        },
        "id": "hqCQGouK3H2h",
        "outputId": "ca9d7a07-d778-4108-8395-cba15afb293a"
      },
      "source": [
        "msno.matrix(train)"
      ],
      "execution_count": 95,
      "outputs": [
        {
          "output_type": "execute_result",
          "data": {
            "text/plain": [
              "<matplotlib.axes._subplots.AxesSubplot at 0x7f40a2e26a90>"
            ]
          },
          "metadata": {
            "tags": []
          },
          "execution_count": 95
        },
        {
          "output_type": "display_data",
          "data": {
            "image/png": "[encoded data removed]",
            "text/plain": [
              "<Figure size 1800x720 with 2 Axes>"
            ]
          },
          "metadata": {
            "tags": [],
            "needs_background": "light"
          }
        }
      ]
    },
    {
      "cell_type": "markdown",
      "metadata": {
        "id": "z1QTjU7D3LZy"
      },
      "source": [
        "**Reasons for Missing Values**\n",
        "\n",
        "The missingno package also let's us sort the graph by a particular column. Let's sort the values by Age and Cabin column to see if there is a pattern in the missing values."
      ]
    },
    {
      "cell_type": "code",
      "metadata": {
        "colab": {
          "base_uri": "https://localhost:8080/",
          "height": 321
        },
        "id": "lkHQykAm3Zuq",
        "outputId": "fc2aab5f-5fff-4d04-982d-fbc11aa4f70b"
      },
      "source": [
        "# Sorted by Age\n",
        "msno.matrix(train.sort_values('Age'))"
      ],
      "execution_count": 96,
      "outputs": [
        {
          "output_type": "execute_result",
          "data": {
            "text/plain": [
              "<matplotlib.axes._subplots.AxesSubplot at 0x7f40a2d576a0>"
            ]
          },
          "metadata": {
            "tags": []
          },
          "execution_count": 96
        },
        {
          "output_type": "display_data",
          "data": {
            "image/png": "[encoded data removed]",
            "text/plain": [
              "<Figure size 1800x720 with 2 Axes>"
            ]
          },
          "metadata": {
            "tags": [],
            "needs_background": "light"
          }
        }
      ]
    },
    {
      "cell_type": "markdown",
      "metadata": {
        "id": "ztMpZNQf3h4a"
      },
      "source": [
        "It is clear that there isn't a relation between the missingness in Age and Cabin column. To cement this conclusion further we can also draw a Heatmap among the different variables in the dataset."
      ]
    },
    {
      "cell_type": "code",
      "metadata": {
        "colab": {
          "base_uri": "https://localhost:8080/",
          "height": 462
        },
        "id": "kwCaD4-w3xDD",
        "outputId": "3c2a4336-7b0a-4a71-de50-db333a198a45"
      },
      "source": [
        "msno.heatmap(train)"
      ],
      "execution_count": 97,
      "outputs": [
        {
          "output_type": "execute_result",
          "data": {
            "text/plain": [
              "<matplotlib.axes._subplots.AxesSubplot at 0x7f40a2ccfba8>"
            ]
          },
          "metadata": {
            "tags": []
          },
          "execution_count": 97
        },
        {
          "output_type": "display_data",
          "data": {
            "image/png": "[encoded data removed]",
            "text/plain": [
              "<Figure size 1440x864 with 2 Axes>"
            ]
          },
          "metadata": {
            "tags": [],
            "needs_background": "light"
          }
        }
      ]
    },
    {
      "cell_type": "markdown",
      "metadata": {
        "id": "lXaBwheV3-XR"
      },
      "source": [
        "The heatmap function shows that there are no strong correlations between missing values of different features. This is good; low correlations further inidicate that the data are MAR (Missing at Random)."
      ]
    },
    {
      "cell_type": "code",
      "metadata": {
        "colab": {
          "base_uri": "https://localhost:8080/",
          "height": 322
        },
        "id": "p6Awovke4L1U",
        "outputId": "5684c5c0-9c7a-4ae6-d8ce-07c00205b2da"
      },
      "source": [
        "msno.dendrogram(train)"
      ],
      "execution_count": 98,
      "outputs": [
        {
          "output_type": "execute_result",
          "data": {
            "text/plain": [
              "<matplotlib.axes._subplots.AxesSubplot at 0x7f40a2ce0cc0>"
            ]
          },
          "metadata": {
            "tags": []
          },
          "execution_count": 98
        },
        {
          "output_type": "display_data",
          "data": {
            "image/png": "[encoded data removed]",
            "text/plain": [
              "<Figure size 1800x720 with 1 Axes>"
            ]
          },
          "metadata": {
            "tags": [],
            "needs_background": "light"
          }
        }
      ]
    },
    {
      "cell_type": "markdown",
      "metadata": {
        "id": "SggQ7R5x4TDZ"
      },
      "source": [
        "**Treating Missing values**"
      ]
    },
    {
      "cell_type": "markdown",
      "metadata": {
        "id": "7yRiT_Uo4XYO"
      },
      "source": [
        "![deletions.jpg](data:image/jpeg;base64,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)"
      ]
    },
    {
      "cell_type": "markdown",
      "metadata": {
        "id": "gb-tzbW-4eqr"
      },
      "source": [
        "**Pairwise Deletion** is used when values are missing completly at random i.e MCAR. During Pairwise Deletion, only the missing values are deleted. All operations in pandas like mean, sum etc intrinsically skip missing values."
      ]
    },
    {
      "cell_type": "code",
      "metadata": {
        "colab": {
          "base_uri": "https://localhost:8080/"
        },
        "id": "Lg5m85nu40MB",
        "outputId": "93dad134-a507-4fec-97d4-b74f33e6d642"
      },
      "source": [
        "train_1 = train.copy()\n",
        "train_1['Age'].mean()   # pandas skips the missing values and calculates mean of the remaining values"
      ],
      "execution_count": 99,
      "outputs": [
        {
          "output_type": "execute_result",
          "data": {
            "text/plain": [
              "29.69911764705882"
            ]
          },
          "metadata": {
            "tags": []
          },
          "execution_count": 99
        }
      ]
    },
    {
      "cell_type": "markdown",
      "metadata": {
        "id": "PNVaK93O5AMa"
      },
      "source": [
        "**Listwise Deletion**, complete rows (which contain the missing values) are deleted. As a result, it is also called Complete Case deletion. Like Pairwise deletion, listwise deletions are also only used for MCAR values."
      ]
    },
    {
      "cell_type": "code",
      "metadata": {
        "colab": {
          "base_uri": "https://localhost:8080/"
        },
        "id": "2KoN3tL75MYZ",
        "outputId": "fef1d25a-9df5-494a-ff1a-e1451e91807a"
      },
      "source": [
        "train_1.dropna(subset = ['Age'], how = 'any', inplace = True)\n",
        "train_1['Age'].isnull().sum()"
      ],
      "execution_count": 100,
      "outputs": [
        {
          "output_type": "execute_result",
          "data": {
            "text/plain": [
              "0"
            ]
          },
          "metadata": {
            "tags": []
          },
          "execution_count": 100
        }
      ]
    },
    {
      "cell_type": "markdown",
      "metadata": {
        "id": "5vRqBK6J5WDr"
      },
      "source": [
        "The Listwise deletion problem is that a major chunk of data and hence a lot of information is lost. Hence, it is advisable to use it only when the number of missing values is very small."
      ]
    },
    {
      "cell_type": "markdown",
      "metadata": {
        "id": "0Y_WDBwO5jCH"
      },
      "source": [
        "**Droppint complete columns** If a column contains a lot of missing values, say more than 80%, and the feature is not significant, you might want to delete that feature. However, again, it is not a good methodology to delete data."
      ]
    },
    {
      "cell_type": "markdown",
      "metadata": {
        "id": "URo3JNwQ5xPw"
      },
      "source": [
        "# Imputations (General) Techniques for non Time Series Problems"
      ]
    },
    {
      "cell_type": "markdown",
      "metadata": {
        "id": "ybFpAKu256su"
      },
      "source": [
        "![imputations.jpg](data:image/jpeg;base64,/9j/4AAQSkZJRgABAQEAeAB4AAD/2wBDAAMCAgMCAgMDAwMEAwMEBQgFBQQEBQoHBwYIDAoMDAsKCwsNDhIQDQ4RDgsLEBYQERMUFRUVDA8XGBYUGBIUFRT/2wBDAQMEBAUEBQkFBQkUDQsNFBQUFBQUFBQUFBQUFBQUFBQUFBQUFBQUFBQUFBQUFBQUFBQUFBQUFBQUFBQUFBQUFBT/wAARCAH5ArkDASIAAhEBAxEB/8QAHwAAAQUBAQEBAQEAAAAAAAAAAAECAwQFBgcICQoL/8QAtRAAAgEDAwIEAwUFBAQAAAF9AQIDAAQRBRIhMUEGE1FhByJxFDKBkaEII0KxwRVS0fAkM2JyggkKFhcYGRolJicoKSo0NTY3ODk6Q0RFRkdISUpTVFVWV1hZWmNkZWZnaGlqc3R1dnd4eXqDhIWGh4iJipKTlJWWl5iZmqKjpKWmp6ipqrKztLW2t7i5usLDxMXGx8jJytLT1NXW19jZ2uHi4+Tl5ufo6erx8vP09fb3+Pn6/8QAHwEAAwEBAQEBAQEBAQAAAAAAAAECAwQFBgcICQoL/8QAtREAAgECBAQDBAcFBAQAAQJ3AAECAxEEBSExBhJBUQdhcRMiMoEIFEKRobHBCSMzUvAVYnLRChYkNOEl8RcYGRomJygpKjU2Nzg5OkNERUZHSElKU1RVVldYWVpjZGVmZ2hpanN0dXZ3eHl6goOEhYaHiImKkpOUlZaXmJmaoqOkpaanqKmqsrO0tba3uLm6wsPExcbHyMnK0tPU1dbX2Nna4uPk5ebn6Onq8vP09fb3+Pn6/9oADAMBAAIRAxEAPwD9U6KKKACiiigAooooAKKKKACiiigAooooAKKKKACiiigAooooAKKKKACiiigAooooAKKKKACiiigAooooAKKKKACiiigAooooAKKKKACiiigAoryz4Q+Nda8UeKfG1nqd59pt9O1BoLVPKRPLQdBlVBP45r1OgAooooAKKKKACiiigAooooAKKKKACiiigAooooAKKKKACiiigAooooAKKKKACiiigAooooAKKKKACiiigAooooAKKKKACiiigAooooAKKKKACiiigAooooAKKKKACiiigAooooAKKKKACiiigAooooAKKKKACiiigAooooAKKKKACiiigAooooAKKKKACimGaNesij8RSfaIv+eqf99Cp5l3HZklFR/aIv8Anqn/AH0KPtEX/PVP++hRzR7hZ9iSio/tEX/PVP8AvoUfaIv+eqf99Cjmj3Cz7ElFR/aIv+eqf99Cj7RF/wA9U/76FHNHuFn2JKKj+0Rf89U/76FH2iL/AJ6p/wB9Cjmj3Cz7ElFR/aIv+eqf99Cj7RF/z1T/AL6FHNHuFn2JKKj+0Rf89U/76FH2iL/nqn/fQo5o9ws+xJXOfELXNR8NeEdQ1TS7ZLy7tU8wQSHAcDqM1v8A2iL/AJ6p/wB9Cobxba+tZreV0aKVCjDcOhGDRzR7hZ9j4+/Z7+L2r3/xMvrG00yOR/EF611M24/ulA3NjjngGvsuvA/gL8HYfh9448V386oEScw2Lsf+WTfNlfoDtr3j7RF/z1T/AL6FHNHuFn2JKKj+0Rf89U/76FH2iL/nqn/fQo5o9ws+xJRUf2iL/nqn/fQo+0Rf89U/76FHNHuFn2JKKj+0Rf8APVP++hR9oi/56p/30KOaPcLPsSUVH9oi/wCeqf8AfQo+0Rf89U/76FHNHuFn2JKKj+0Rf89U/wC+hR9oi/56p/30KOaPcLPsSUVH9oi/56p/30KPtEX/AD1T/voUc0e4WfYkoqP7RF/z1T/voUfaIv8Anqn/AH0KOaPcLPsSUU1ZFb7rKfoadT32EFFFFMAooooAKKKKACiiigAooooAKKKKACiiigAooooAKKKKACiiigAooooAKKKKACiiigAooooAKKKKACiiigAooooAKKKKACiiigAooooAKKKKACiiigAooooAKKKKACiiigAooqC8uBa27SHqOlTKSinJjScnZEd9qMdkvPzP2WsG41Ke4Y5fav8AdWoJpmmkZ3OWNMr5jEYudZ2Tsj2aVCNNa7iliepJpM0UVwHSGaM0UUAGaM0UUAGaM0UUAGaM0UUAGaM0UUAGaM0UUAGaM0UUAGaM0UUAGaM0UUAGaM0UUAGaM0UUAGaM0UUAGaM0UUAGaM0UUAGaM0UUAOWR16MR+NaFnrUkJCy/vE9e4rNoranWnSd4MzlCM1aSOvhnS4jDocg1JXNaVfG1mCn/AFbcGuk619PhsQsRC/U8etS9lK3QWiiiuswCiiigAooooAKKKKACiiigAooooAKKKKACiiigAooooAKKKKACiiigAooooAKKKKACiiigAooooAKKKKACiiigAooooAKKKKACiiigAooooAKKKKACiiigAooooAKxfEEx3RxdutbVc/r4P2pT22/415+ObVB2OrDK9RGZRRRXy57IUUUUAFFFFABRRRQAUUUUAeYal8X57H46ab4BWxjaG6smu2uiTuGMcAZ96wvhR+0SfiF8VPFPg680+PT30tytrKCc3O0/N1PUDniuY8Qf8ns6B/2BpP5LXjOnald/D/WfGnxG0+2ku5dA8YSR3VvF96W2liiV1/AEn8a9KNGMo2tq0vvOR1JJ/M+itK/aNbW/2ir34b2mmobSzgdpb5idxlQqGQc443Cub079oz4g+KfEviy08M+BrPVtO8PahNYzym7EcjFCeQC3OQPSuB+Dnh250H4/eCJtQH/E01TQ7vUrzI582SSEkH14Aqt8HNE+IeueNvi7b+C9d07RLSTxHcJcyXVsZZgSx+ZCGGMCr9lTjd2WiW/qTzydvU9Z1j9q63X4IHx9pmjsZYtTXSp7G6J/dy/xcjGcZFd98ZPilN8LfhnceKIrOO8mjMQELkhTvdV9f9qvDPjf8E0+F/7KN3olhPJqc8Oppq2oXbJtMshOZH25OBgL3PStj9prx3onir9n3ToNO1G3urjWprNLWGKQM7EurcAc9AayVOEnFxWjb+7Qvmkk+bex0nxQ+Nnj/wAE6B/wkemeDrK/8ORadHfT3k11tZcoHYBdwJxWp8E/ih8QviQ9jqOteELLR/Dd7aG4hvYrnc7EkbRs3EjIz27VD8fLV7H9lbXbaQYkh0Hy2HuIcGrXw/8AFFt4K/Zd0jXLuXyILLRBKZMZwduF/UiotF09I63sVrz6vSxh6T+1NDq3xym8FrpipoiXb6cNWLHJuljLGPGcdQRV/wCNnxd+IPwwGq6ppvhCx1Lwxp9v58t/Nc7H4zuATcCe3avlG80rxxp/wf0jxJJ4JkWW21YeKZNfW6wX8yTzf9Xt6bW2/e9/avqv49eIYfFn7KPiDWLd98V5o/mhvcjn9c1tKlCE42V09DOM5Si7vXcPhv8AGLx94q8K3nifXPCFlpOg/wBjSapZ3EdxuaYhN6qV3EjIzU+l/tM6Xa/s96Z8TvEFutml5G5Wxgbl3ErxhFznrtH51a8F/wDJpun/APYo/wDtqa+bbi0mj/Yt+FGsmB7nTdJvjc3saLuzGLt8kj04NTGnCo9re9b8xuUorfp/key3H7RvjvwlZWHiHxl4AXSPCF00aG6hn3zwb87WkTJ2jA5yOOK3Pjf+0tF8Jbzwi8FgmqaXrW2aS6Qk7ICNxkXB5G3n6VmftQfEHwzf/s76naW+oWt/dazbxW+n28Lh3klYqVAA5HANcJ448KGTW/gN4d1mNpPM0kWV3DMMkZtWR0P0yR+FOEIStKUbb6eiCUpK6T7Htnj742f8Ir4s+GOmWNpFfWnjG7eD7QWOYlCxkMMH/b/SuY8aftA+J3+KGoeB/APhOPxBqOmQCe9mvJfKjUEgYByPWvCGmvPDfxp+E/w81gyG88NeIpJLCVhxLZTBNmPdWjcflXtHxR+F/hrxT481PX/C3jlfCHj2yjVbySOUbGXGQJEJHXHUGj2dOm1zLdfrp+Ac0pXsey/D3xFq/ifw3Dea5okugaluZJbORt2CDjIPcHtXS14p+yr8VNa+KHg3WG15ori90jU5NN+2wKQlyEVTvH1zXtdcNSLhNxZ0RfNFNBRRRWZYUUUUAFFFFABRRRQAV1OmzGazjY9cYNctXS6KCLFfrmvWy5v2rXkcOLXuJl6iiivojygooooAKKKKACiiigAooooAKKKKACiiigAooooAKKKKACiiigAooooAKKKKACiiigAooooAKKKKACiiigAooooAKKKKACiiigAooooAKKKKACiiigAooooAKKKKACsrXrcvCkgH3etatNkjEiFWGVIwaxrU/a03DuaU58klI46irV/YvZyEYyh6NVWvkJwlTk4yWp7sZKSugoooqCgooooAKKKKACiiigDnLj4e6FdeNIPFclnu1yCEwR3O88IcZGOnaotB+Gnhzw4usrZ6bH5er3Bur2Ob94sshABJDZHQCuooquaW1ybI5+bwHok/i+18TvZg6zbW7WsVxuPyxsQSuOn8I/Ko/Cfw80LwTfaxd6PZ/ZZ9WuWu7xt5PmSnq3PSukoo5pWtcdluVdU0y11rT7ixvYEubS4QxywyKGV1PUEGvNPDf7L/AMNvCfiKHW9P8OQpfwtuiaV2kSM+qqxIH4CvVaKcZyirJicU9WjK8VeF9O8aaBe6Lq0H2nTryMxTRbiu5SMEZFZuofDbw/qngceELiy3eHxEsH2QSMAUU5Ckg5Irp6KSk1sx2RjXXhHSr3wmfDctqp0Y2gsvswJAEITYFH/AeKy1+FvhxPh//wAIV9hY+HPJMH2RpWPyE5xuznvXW0Uc0u4WRkWfhXTLDwrH4cgt9mkJafYlt9x4h27duevSqeg/D3QPDfguHwnZadH/AGBFG8K2U37xCjMWYHdnIJY9fWujoo5n3CyPLPDv7MPw18LeIBrVh4Ytlv1OUabMiIexVWyF/AV2eueA9F8ReINJ1q/tPP1HSyzWk24jyyQQeO/U10FFU6k27tiUYrRI5XxB8L/DXijxVo3iTUdMjm1rSH32l2CVdD2zjqB6H1Nc/wCPv2c/h98StSOoa74ehnvW/wBZPCTC8nOfnK43fjXpVFCqTjswcU90Y/hTwjo/gfRYNJ0PT4NNsIRhYYECj6nHU+5rYooqG29WMKKKKQwooooAKKKKACiiigBVUuwUDJPArrLSH7Pbxx91HNZmj6aVYTyD/dU/zrZr6LAUHTi6kt2eViqik+VdAooor1jhCiiigAooooAKKKKACiiigAooooAKKKKACiiigAooooAKKKKACiiigAooooAKKKKACiiigAooooAKKKKACiiigAooooAKKKKACiiigAooooAKKKKACiiigAooooAKKKKAGTQpOhV1DL71k3Og8kwvgf3WrZornq0Kdb40awqSp/CzmW0e6XpHu+hFN/sm7/54n8xXUUVxf2bS7s6Prc+yOX/sm7/54n8xR/ZN3/zxP5iuoopf2bS7v+vkP63Psjl/7Ju/+eJ/MUf2Td/88T+YrqKKP7Npd3/XyD63Psjl/wCybv8A54n8xR/ZN3/zxP5iuooo/s2l3f8AXyD63Psjl/7Ju/8AnifzFH9k3f8AzxP5iuooo/s2l3f9fIPrc+yOX/sm7/54n8xR/ZN3/wA8T+YrqKKP7Npd3/XyD63Psjl/7Ju/+eJ/MUf2Td/88T+YrqKKP7Npd3/XyD63Psjl/wCybv8A54n8xR/ZN3/zxP5iuooo/s2l3f8AXyD63PsjgdG1a08QXl/a6fOt1cWMnlXKLkGN/Q5/pWt/ZN3/AM8T+Yrzj4A/8jt8SP8AsLP/ADr2+j+zaXd/18g+tz7I5f8Asm7/AOeJ/MUf2Td/88T+YrqKKP7Npd3/AF8g+tz7I5f+ybv/AJ4n8xR/ZN3/AM8T+YrqKKP7Npd3/XyD63Psjl/7Ju/+eJ/MUf2Td/8APE/mK6iij+zaXd/18g+tz7I5f+ybv/nifzFH9k3f/PE/mK6iij+zaXd/18g+tz7I5f8Asm7/AOeJ/MUf2Td/88T+YrqKKP7Npd3/AF8g+tz7I5f+ybv/AJ4n8xR/ZN3/AM8T+YrqKKP7Npd3/XyD63Psjl/7Ju/+eJ/MUf2Td/8APE/mK6iij+zaXd/18g+tz7I5yPRLh2G4BB7mtK00WK3YM58xvfpWjRXRTwVGm72u/MyniKk9AoooruOYKKKKACiiigAooooAKKKKACiiigAooooAKKKKACiiigAooooAKKKKACiiigAooooAKKKKACiiigAooooAKKKKACiiigAooooAKKKKACiiigAooooAKKhury3sITNczx28Q4MkrhV/M1n/APCWaH/0GdP/APAqP/GgDWorJ/4SzQ/+gzp//gVH/jR/wlmh/wDQZ0//AMCo/wDGgDWorJ/4SzQ/+gzp/wD4FR/40f8ACWaH/wBBnT//AAKj/wAaANaisn/hLND/AOgzp/8A4FR/40f8JZof/QZ0/wD8Co/8aANaisn/AISzQ/8AoM6f/wCBUf8AjR/wlmh/9BnT/wDwKj/xoA1qKyf+Es0P/oM6f/4FR/40f8JZof8A0GdP/wDAqP8AxoA1qKyf+Es0P/oM6f8A+BUf+NH/AAlmh/8AQZ0//wACo/8AGgDWorJ/4SzQ/wDoM6f/AOBUf+NH/CWaH/0GdP8A/AqP/GgDWorJ/wCEs0P/AKDOn/8AgVH/AI0f8JZof/QZ0/8A8Co/8aANaisn/hLND/6DOn/+BUf+NH/CWaH/ANBnT/8AwKj/AMaANaisn/hLND/6DOn/APgVH/jR/wAJZof/AEGdP/8AAqP/ABoA1qKyf+Es0P8A6DOn/wDgVH/jR/wlmh/9BnT/APwKj/xoA1qKyf8AhLND/wCgzp//AIFR/wCNH/CWaH/0GdP/APAqP/GgDyb4A/8AI7fEj/sLP/Ovb68C+BGvaZa+MviJJNqNpFHJqrlHknVQwz1BJ5r2f/hLND/6DOn/APgVH/jQBrUVk/8ACWaH/wBBnT//AAKj/wAaP+Es0P8A6DOn/wDgVH/jQBrUVk/8JZof/QZ0/wD8Co/8aP8AhLND/wCgzp//AIFR/wCNAGtRWT/wlmh/9BnT/wDwKj/xo/4SzQ/+gzp//gVH/jQBrUVk/wDCWaH/ANBnT/8AwKj/AMaP+Es0P/oM6f8A+BUf+NAGtRWT/wAJZof/AEGdP/8AAqP/ABo/4SzQ/wDoM6f/AOBUf+NAGtRWT/wlmh/9BnT/APwKj/xo/wCEs0P/AKDOn/8AgVH/AI0Aa1FZP/CWaH/0GdP/APAqP/Gj/hLND/6DOn/+BUf+NAGtRWT/AMJZof8A0GdP/wDAqP8Axo/4SzQ/+gzp/wD4FR/40Aa1FZP/AAlmh/8AQZ0//wACo/8AGj/hLND/AOgzp/8A4FR/40Aa1FZP/CWaH/0GdP8A/AqP/Gj/AISzQ/8AoM6f/wCBUf8AjQBrUVk/8JZof/QZ0/8A8Co/8aP+Es0P/oM6f/4FR/40Aa1FZP8Awlmh/wDQZ0//AMCo/wDGnJ4q0WRlVNXsGZjgKtyhJP50AalFIDnkciloAKKKKACiiigAooooAKKKKACiiigAooooAKKKKACiiigAooooAKKKKACiiigAooooAKKKKACiiigAooooAKKKKACiiigDyH9qIFvhnGm5lWTUYEbacZB3ZFXbf9nTwI1vGx0liSoJ/fv6fWsT9qDXtN/4QeKx+324vU1G3drcyDeFBbnHXFetaDrVhrVikmn3kF7GgCs0EgcA46cUAcJ/wzl4D/6BLf8Af9/8aP8AhnLwH/0CW/7/AL/416bRQB5l/wAM5eA/+gS3/f8Af/Gj/hnLwH/0CW/7/v8A416bRQB5l/wzl4D/AOgS3/f9/wDGj/hnLwH/ANAlv+/7/wCNem0UAeZf8M5eA/8AoEt/3/f/ABo/4Zy8B/8AQJb/AL/v/jXptFAHmX/DOXgP/oEt/wB/3/xo/wCGcvAf/QJb/v8Av/jXptFAHmX/AAzl4D/6BLf9/wB/8aP+GcvAf/QJb/v+/wDjXptFAHmX/DOXgP8A6BLf9/3/AMaP+GcvAf8A0CW/7/v/AI16bRQB5l/wzl4D/wCgS3/f9/8AGj/hnLwH/wBAlv8Av+/+Nem0UAeZf8M5eA/+gS3/AH/f/Gj/AIZy8B/9Alv+/wC/+Nem0UAeZf8ADOXgP/oEt/3/AH/xo/4Zy8B/9Alv+/7/AONem0UAeZf8M5eA/wDoEt/3/f8Axo/4Zy8B/wDQJb/v+/8AjXptFAHmX/DOXgP/AKBLf9/3/wAaP+GcvAf/AECW/wC/7/416bRQB5gn7NvgGPOzRiu45O2Zhk/nTv8AhnLwH/0CW/7/AL/416bRQB5l/wAM5eA/+gS3/f8Af/Gj/hnLwH/0CW/7/v8A416bRQB5l/wzl4D/AOgS3/f9/wDGj/hnLwH/ANAlv+/7/wCNem0UAeZf8M5eA/8AoEt/3/f/ABo/4Zy8B/8AQJb/AL/v/jXptFAHmX/DOXgP/oEt/wB/3/xo/wCGcvAf/QJb/v8Av/jXptFAHmX/AAzl4D/6BLf9/wB/8aP+GcvAf/QJb/v+/wDjXptFAHmX/DOXgP8A6BLf9/3/AMaP+GcvAf8A0CW/7/v/AI16bRQB5l/wzl4D/wCgS3/f9/8AGj/hnLwH/wBAlv8Av+/+Nem0UAeZf8M5eA/+gS3/AH/f/Gj/AIZy8B/9Alv+/wC/+Nem0UAeZf8ADOXgP/oEt/3/AH/xo/4Zy8B/9Alv+/7/AONem0UAeZf8M5eA/wDoEt/3/f8Axo/4Zy8B/wDQJb/v+/8AjXptFAHmX/DOXgP/AKBLf9/3/wAaP+GcvAf/AECW/wC/7/416bRQB5l/wzl4D/6BLf8Af9/8a85+Mnwq8OeA/wDhFr3RbN7S4k1i3jZvNY5UuvHJr6Trwr9pLxFpjQeGrYahb/aLfWbd5ovMG6NQ6kkjqBQB7jb/APHvF/uj+VSVQ0TVrLWdPjnsLuG8hHyGSBw67gBkZHfmr9ABRRRQAUUUUAFFFFABRRRQAUUUUAFFFFABRRRQAUUUUAFFFFABRRRQAUUUUAFFFJnHJ4FAC0Vlah4itbElATLJ6L0rIk8YzMfkgVR7nNbxozlqkcVTGUKbs5anWUVx/wDwl91/zzSj/hL7r/nmlX9WqGP9o0O7+47CiuP/AOEvuv8AnmlH/CX3X/PNKPq1QP7Rod39x2FFcf8A8Jfdf880o/4S+6/55pR9WqB/aNDu/uOworj/APhL7r/nmlH/AAl91/zzSj6tUD+0aHd/cfPP7Z3w+EeoaX4otY/muD9juPduqfifmr279n7wL/wgXwy0uzlTbeXCfaZz33P8wB+gOPwp3iieHxfpZ0/UrWOe33rIAR0ZTkEVrDxdcjgRxgUfVqgf2jQ7v7jsKK4//hL7r/nmlH/CX3X/ADzSj6tUD+0aHd/cdhRXH/8ACX3X/PNKP+Evuv8AnmlH1aoH9o0O7+47CiuP/wCEvuv+eaUf8Jfdf880o+rVA/tGh3f3HYUVx/8Awl91/wA80o/4S+6/55pR9WqB/aNDu/uOworlYfGT7gJYAR6q1bdjrdrqGAj7X/utwazlRnDVo6KeLo1XaMtS/RRRWJ1hRRRQAUUUUAFFFFABRRRQAUUUUAFFFFABRRRQAUUUUAFFFFABRRRQAUUUUAFFFFABRRRQAUUVSvtYttPH718t/dXk00nJ2REpxguaTsi7RXLTeMn3ERQDHYs1Qf8ACX3X/PNK6Pq9TscDzDDrr+B2FFcf/wAJfdf880o/4S+6/wCeaU/q1QX9o0O7+47CiuP/AOEvuv8AnmlH/CX3X/PNKPq1QP7Rod39x2FFcf8A8Jfdf880o/4S+6/55pR9WqB/aNDu/uOwr41/bE+Hr2fjDTtcsYC41QLC6oMlphwAB7gCvpr/AIS+6/55pWP4kkg8VRWkeoWscwtbiO5iyPuujBh+oo+rVA/tGh3f3Gt8IfBsfgP4faRpKriRIhJM2MFnYZJPv0H4V2VcePF1yBgRxgUf8Jfdf880o+rVA/tGh3f3HYUVx/8Awl91/wA80o/4S+6/55pR9WqB/aNDu/uOworj/wDhL7r/AJ5pR/wl91/zzSj6tUD+0aHd/cdhRXH/APCX3X/PNKP+Evuv+eaUfVqgf2jQ7v7jsKK5FfGFwD80SMPritCz8WW8xCzIYSe/UVMqFSOtjSGOoTduaxvUUyKZJkDxsHU9xT65zu31QUUUUDCiiigAooooAKKKKACiiigAooooASuU8Qa+0jtbW7YQcMw6n2ra1++Njpzspw7fKtcJ15Nd2GpqXvs8PMcS4fuoddxKKKK9I+eCiiigAooooAKKrahqVppNq9xeXMdrAgy0krBQBUWk69p2vQedp17Bexf3oXDUBZ2uXqKKKACiiigAooooAKKxfE/jLRvBsNrLrV/Fp8VzMsETzHAZyQAP1rZVhIoZTlWGQaQ7O1xaKKKYgooooAKVWKMGU4I5BFJRQB2Hh7Xftn7idv3w+6fWt6vNbeZreZJEOGU5r0SzuBdWscw6OoNeViKag7rZn0+AxDrRcJ7omooorkPWCiiigAooooAKKKKACiiigAooooAKKKKACiiigAooooAKKKKACiiigAooooAKKKiuJ1treSVvuoNxo3E2krsyPEGufYV8iE/v26n+6K4+SRpGLMSzHkk0+6uHurh5XOWY5qKvapU1TjbqfHYnESxE7vboFFFFbHIFFFFABRVXUdWs9IhEt7dRWsbHAaVgoJ9KsqwkUMpyrDII70ALRWH4k8baJ4Rm06HV9RhsZdQnFvapIcGWQ9FHvxW5SHZ7hRRRTEFFFFABRRRQAUVDfXkOnWc93cOIreBGkkc9FUDJP5VS8N+JtL8X6RDqmj3kd/YS5CTRHKnHWgdna5p0UUUCCiiigDR0jWJdNlADZhJ+ZTXc29wl1CssZ3IwyK81rqPCF6WElsx4HzLXFiKaa50ezl+IcZ+yls9jpqKKK8w+kCiiigAooooAKKKKACiiigAooooA5nxk52269uTXL11njCEtbwyAfdbFcnXr4f8Aho+Sx6f1iVwooorpPPCiiigAooooA+XvFehRfHH9pDXPD3iSeabwl4W06O5TTEYqs8jKuSwHXBY4Ptiui+EOrfB3wl4h8Qjwc50+/W1El5bPbzRKI4y3zAMoHXPI64qf4lfCvxjpPxVX4ifD9rS4v7i3W11HS7x9kd0gAAO7IxgAH6iqng/4Q+KvE3xE1nxT4y07TNDgvNL/ALMXTtOffuUliXLA4zlz+Vctmpba3PScoyp2ctLLS/X0OPj/AGqvFNxpS+NEHh6LwsboRf2NJer/AGj5RcKJCozzg5wDXceMfjN4xuPihp3hPwbptjeLqelJfxXF85RYA2TubAJPHYA1wngf4C+Lfh7jQT4F8NeKLGG43xa1dyeXL5ZbkMu7kgdK9Zi+GusR/tBaf4sS2gi0KDR/sR2yjcr/ADYUL1wMjmlHna1Kn7FP3Utn/wAA5/wD+0JqMPg/x/c+NLONNW8Gy7bz7GPkkDZ27encfrXLaL+034msZPC+sa7L4fn0bxFdR28em2F2r3lmJW/dtIB7EZ5zXTWPwF1XVr740W2riK307xfcRvYyxyhm2qG5YDpyRwaxfhf8H/E3hmTSNL1j4feGZodPeNP7cWXMjqmMPs3fe4B+tH7zQP3HvOy/pdPmXbz4zfELxJ8YPFXgbwpp1g66bJC66jdnEcMbKCdwwSSecYB6VufF7x9478JXF7Lp2qeFtMsrO3EixanckXN223LbE2nHTAzjrV34c/DDXPDXx5+Ifiq8hhTR9aS3WzdJQWOxSGyvbrXF+Jvg942X4keMNQtdE0jxNaa6jLa6hq0uTpyFSNiR5x3HOM8U/ft1IXsnNLSyS+b0uc98ZfiEPil8Dvhz4mMIt5L3VofMiBztdZgjfhlT+dfWVj/x42//AFzX+Qr5fm/Z58XQ/s6+G/DUcNrJ4j0XUDeC3E4EUg89nA3e64r6d0oTrplqLmNYrgRKJEU5AbHIzV073u/IyruHKoweibLVFFFbnGFFFFABRRRQAV3Hhd9+kx+xIrh67zw9D5GkwgjG4bvzrjxXwHrZYn7ZvyNKiiivLPpwooooAKKKKACiiigAooooAKKKKACiiigAooooAKKKKACiiigAooooAKKKKACsvxIxXSZvfArUrP16EzaVOByQN35VpT+NGFe7pSS7M4GiiivcPiQooooAKKKRiVUlRubHAzjNAHyZ+1Bbx/Fb4lR+DPtaW9voukXGoSCadY1N00TGEcn1KV2WgftAp4d/ZksPF9yn27U7dRp/kg5D3QyFUkdsAVD4O/Zmt/E3irxd4j+JOlRX99qV8xso472T93bDhATGw5wBxXL/APDL/iRPCHj3wZbJBZ6BLfx6l4fkFxvPmKDlXUnIHTr6Vx2mm5Jbnq3oyjGm38Nv+Ccx8UtS+Ieqax8Krrxva6bbxXOswTQLZs3mxMVPyONoHQnoT0r3fwd8ZLtviN468MeJhDZLoardW1zjCy27Lkn8CGz9K8y1j4c/GL4i3XgCTxBpOk2cHh++hmnMV0DJLtBBk649eAO9dL+0b8E/FXjTxJb6v4MW3S4vtOl0jU2nmEYEDZwwHdvnP5ChcyvJXCXs5csJNLfbpqafh34peO/EnwatPFFrbaRBf312wWTUJ/IggtedspOOTwOPeqXwf+PWt+JPG3iTwlrk2k6pd6ba/a4dT0eTdBICM7eQOn07VZ+NXwX1nWPAvhPSfC0Ud5b6HLGZdIuJvKhuo1UjaxGOh98VmfD34O+K9N+K2peKNQ0XSNEsLvSjaR2WmOuInClQDg/MTwd3vV++pJGf7mUJPTrY5aL9oj4pat8OdQ8bWWkaTDoej3EkV00rky3AVvmKgDAABHp1rvvH37Q2p2ek+BLPwrpEeoeJvF9ulzawTPiOKMpuZie+Ky/DvwR8U6b+zJ4v8Ez29uNe1KS6a3jE6lCHK7ct0HQ1m+K/gL4yt/Dvwq1rw6LU+MPCFhDaTWk02I5FEYWRQ2ceoqf3iRf7iUum7/LS/wAzs9e+Kniz4PfCjWPEfj61sLrULeZYrSPTWOyUuBsDZAx82QfpXM+Ef2gvEOm+NvDWjeK7vw/qEHiFGMbaNdLK9k6ruKy49R6Z6VueNvh940+Onwp1zQfF+n6foGoPKsunrZzGVdygFfMOT/Fn04qn8K/hvr1hq1gNd+HfhvSVtgVfU7OUPIxxjKrngnNV7/MrbEL2XI+a19f+BY53VvjB4++K0Hj5vCNlpcPhTQ1uLKaS+ZhLdsqHfswpweuOgruv2PyzfAnRCw2tvkyPQ5rgNL+EvxV+HU3jXw74Xs9G1Hw94jvJrkahfTFXtll4YBAwzgE4969f/Z78Dat8Ofhdpuha0sSajbs5kELh15PUEUoc3NdhWcFTcYWtdeu3U9IooorqPOCiiigArU8NyFdYgHY5H6GsutnwrAZdUD44jUt/T+tZVPgdzowybrQt3R2tFFFeIfahRRRQAUUUUAFFFFABRRRQAUUUUAV761W9tZIWH3hx9a8+uLd7WZo5FKspxXpNZetaJHqcZZflnA4b1rqoVfZuz2PLx2Fddc0N0cLRVm80+exkKyxsv+1jiq1eqmmro+XlFxdmgooopiCiiigAooooAKKKKACiiigAooooAKKKKACiiigAooooAKKK0NP0O51BhtQpH3duBUykoq7LhCVR8sVdjdH09tRvEjx8gOWPtXfIgjQKowoGAKrabpsWm24jjGT/ABN3NW68mtV9o9Nj6vB4b6vDXdhRRRXOd4UUUUAFFFFABRRRQAUUUUAFFFFABRRRQAUUUUAFFFFABRRRQAUUUUAFFFFABSMoZSDyDS0UAcDrWnNp9464/dscqaz69E1DT4tRgMcg9wfSuM1HQ7nT2OULx54dea9ajWU1Z7nyuLwcqMnKK938jOooorqPMCiiigAooooAKKKKACiiigAooooAKKKKACiiigAooooAKKKkhgknbbGjOf8AZGaA1eiGDngda7Tw1ppsbPzJFxLJz9BVXRfDPkss11yw5Ef+NdHXm4ispe7E+iwOElTftai16BRRRXCe2FFFFABRRRQAUUUUAFFFFABRRRQAUUUUANeNZBhlDD3FUpNDsZTk2659RV+iqUnHZkSpwn8SuZf/AAjdh/zx/Wj/AIRuw/54/rWpRVe0n3M/q9L+VfcZf/CN2H/PH9aP+EbsP+eP61qUUe0n3D6vS/lX3GX/AMI3Yf8APH9aP+EbsP8Anj+talFHtJ9w+r0v5V9xl/8ACN2H/PH9aP8AhG7D/nj+talFHtJ9w+r0v5V9x5N8d7h/BvgmK/0o+RctfQwl+vysTkfpXoNv4dsWt42MWSVBPPtXnX7UH/JN7f8A7Cdv/Nq9Ytf+PWL/AHB/Kj2k+4vq9L+VfcUP+EbsP+eP60f8I3Yf88f1rUoo9pPuP6vS/lX3GX/wjdh/zx/Wj/hG7D/nj+talFHtJ9w+r0v5V9xl/wDCN2H/ADx/Wj/hG7D/AJ4/rWpRR7SfcPq9L+VfcZf/AAjdh/zx/Wj/AIRuw/54/rWpRR7SfcPq9L+VfcUodHs7dgUt0B9auABRgDApaKhyb3NIwjDSKsFFFFIsKKKKACiiigAooooAKKKKACiiigAooooAKKKKACiiigAooooAKKKKACiiigAooooAKKKKACkIDDBGRS0UAU5tHs7hsvbqT61X/wCEbsP+eP61qUVfPJdTF0aUndxX3GX/AMI3Yf8APH9aP+EbsP8Anj+talFP2k+4vq9L+VfcZf8Awjdh/wA8f1o/4Ruw/wCeP61qUUe0n3D6vS/lX3GX/wAI3Yf88f1o/wCEbsP+eP61qUUe0n3D6vS/lX3GX/wjdh/zx/WvM/jhdS+E7Hw8+mN9na71SG2lPXKM6gj8jXsFeNftKf8AIP8ACX/Ybt//AEYtHtJ9xfV6X8q+49Oh8O2LQxkxZJUE8+1P/wCEbsP+eP61oW//AB7xf7o/lUlHtJ9x/V6X8q+4y/8AhG7D/nj+tH/CN2H/ADx/WtSij2k+4fV6X8q+4y/+EbsP+eP60f8ACN2H/PH9a1KKPaT7h9Xpfyr7jL/4Ruw/54/rR/wjdh/zx/WtSij2k+4fV6X8q+4zU8P2Cf8ALBW+tXYbWK3XEcaoPYVLRUuUpbsuNOEPhikFFFFSaBRRRQAUUUUAFFFFABRRRQAUUUUAFFFFABRRRQAUUUUAFFFFABRRRQAUUUUAFFFFAHj37VCPJ8L0SJ/LkbUYAr4ztPzYNZkHwt+LbQxlfiqqqVGB/ZqcVr/tQf8AJN7f/sJ2/wDNq9Ytf+PWL/cH8qAPE/8AhVfxc/6Ksv8A4LUo/wCFV/Fz/oqy/wDgtSvcaKAPDv8AhVfxc/6Ksv8A4LUo/wCFV/Fz/oqy/wDgtSvcaKAPDv8AhVfxc/6Ksv8A4LUo/wCFV/Fz/oqy/wDgtSvcaKAPDv8AhVfxc/6Ksv8A4LUo/wCFV/Fz/oqy/wDgtSvcaKAPDv8AhVfxc/6Ksv8A4LUo/wCFV/Fz/oqy/wDgtSvcaKAPDv8AhVfxc/6Ksv8A4LUo/wCFV/Fz/oqy/wDgtSvcaKAPDv8AhVfxc/6Ksv8A4LUo/wCFV/Fz/oqy/wDgtSvcaKAPDv8AhVfxc/6Ksv8A4LUo/wCFV/Fz/oqy/wDgtSvcaKAPDv8AhVfxc/6Ksv8A4LUo/wCFV/Fz/oqy/wDgtSvcaKAPDv8AhVfxc/6Ksv8A4LUo/wCFV/Fz/oqy/wDgtSvcaKAPDv8AhVfxc/6Ksv8A4LUo/wCFV/Fz/oqy/wDgtSvcaKAPDv8AhVfxc/6Ksv8A4LUo/wCFV/Fz/oqy/wDgtSvcaKAPDv8AhVfxc/6Ksv8A4LUrmfHVj8UvhlZ6fqd78RDqlvLeR27W8dlHGTuPrg19L147+09/yJek/wDYWt/5mgD2KiiigAooooAKKKKACiiigAooooAKKKKACiiigAooooAKKKKACiiigAooooAK8a/aU/5B/hL/ALDdv/6MWvZa8a/aU/5B/hL/ALDdv/6MWgD2G3/494v90fyqSo7f/j3i/wB0fyqSgAooooAKKKKACiiigAooooAKKKKACiiigAooooAKKKKACiiigAooooAKKKKACiiigAooooAKKKKACiiigAooooAKKKKAPIv2oP8Akm9v/wBhO3/m1esWv/HrF/uD+VfK37XPxA8Q6PqFtoElvbnRpmjvIJ9h3lkJyuc9sj869n+BPjDX/HfglNY1y3gtvOfFskKlf3Y4ycnvigD0eiiigAooooAKKKKACiiigAooooAKKKKACiiigAooooAKKKKACiiigAooooAKKKKACvHf2nv+RL0n/sLW/wDM17FXyR+1j8R/EGleIrfw/Na2/wDZKvHfW8207mIJGCc+360AfW9FcF8FfF2t+OvA9trmuRQQS3RLRRwIVAj7Hk85Fd7QAUUUUAFFFFABRRRQAUUUUAFFFFABRRRQAUUUUAFFFFABRRRQAUUUUAFeNftKf8g/wl/2G7f/ANGLXsteNftKf8g/wl/2G7f/ANGLQB7Db/8AHvF/uj+VSVHb/wDHvF/uj+VSUAFFFFABRRRQAUUUUAFFFFABRRRQAUUUUAFFFFABRRRQAUUUUAFFFFABRRRQAUySZIRl3VB/tHFcx4h8ZCzdrez2vKOGk6gf/Xri7jULi7YtNM7k+pqeY9OjgZ1FzS0R6k2r2S8G6h/BwaT+2rH/AJ+ov++hXk1FLmOz+zYfzHrP9tWP/P1F/wB9Cj+2rH/n6i/76FeTUUcw/wCzYfzHrP8AbVj/AM/UX/fQo/tqx/5+ov8AvoV5NRRzB/ZsP5j1n+2rH/n6i/76FH9tWP8Az9Rf99CvJqKOYP7Nh/Mes/21Y/8AP1F/30KP7asf+fqL/voV5NRRzB/ZsP5g/aI8B2XxN8M2aWs8A1C1uVZXJ58s/fH8vyr0bwzHpPhfw/p+k2tzEILOBIFOQM7VAyfc4rzmijmD+zYfzHrP9tWP/P1F/wB9Cj+2rH/n6i/76FeTUUcwf2bD+Y9Z/tqx/wCfqL/voUf21Y/8/UX/AH0K8moo5g/s2H8x6z/bVj/z9Rf99Cj+2rH/AJ+ov++hXk1FHMH9mw/mPWf7asf+fqL/AL6FH9tWP/P1F/30K8moo5g/s2H8x6z/AG1Y/wDP1F/30KdHqlnLwtzET/vivJKUEr0OKOYX9mx/mPZFYMoIOR6ilrymw16906RWinYqP4W5BrvdB8SQ6zGFP7u4A5T1+lUnc8+vg6lFc26NmiiimcAUUUUAFFFMmmS3iaSRgiKMlj0FAD6imuobfmWVI/8AeYCuJ1vxtNM7RWX7uPp5nc/SuYmuJbhiZJGcnn5jmp5j1qWXzmrzdj1X+2bEf8vUX/fQo/tqx/5+ov8AvoV5NRS5jq/s2H8x6z/bVj/z9Rf99Cj+2rH/AJ+ov++hXk1FHMH9mw/mPWf7asf+fqL/AL6FeQ/tEfD+1+J2laQLOeE3tvdqpYsOI2+8f0H51LRRzB/ZsP5j0zRW0jw/pFnptnPFFaWkSwxIGHCqMAVd/tqx/wCfqL/voV5NRRzB/ZsP5j1n+2rH/n6i/wC+hR/bVj/z9Rf99CvJqKOYP7Nh/Mes/wBtWP8Az9Rf99CnR6tZyHC3UOf98V5JS0cwv7Nj/MeyKwZQVIYHoRS15PY61eafIHhmYY/hY5Fd34f8URawoikxHc4+72P0qkzgr4KdFcy1Ru0UUUzzwooooAKKKKACiiigAooooAKKKKACiiigArxr9pT/AJB/hL/sN2//AKMWvZa8a/aU/wCQf4S/7Ddv/wCjFoA9ht/+PeL/AHR/KpKjt/8Aj3i/3R/KpKACiiigAooooAKKKKACiiigAooooAKKKKACiiigAooooAKKKKACiiigArnvGOsnTrIQxNiebjg8getdDXmXi26Nzrk/OVTCD6Y/+vSZ34KkqtXXZamP1pKK8g+Onxa8SfD3WPCuleGdL0/Ur7XLn7Mq37Mqqe2CGH61mfTTmqceZnr9FeefD3WPiTeajcDxpoui6Xp6x7kl0+dnbd6HLnjFaunfFzwZq2tNpNp4m0yfUVbZ9nS6QsWzjaBnk57UCVRNXenqddRWDrXj7w54cuZ7fVNbsbCeGEXEkVxcKjLGSQGIJ6cH8qdceKra48F3HiHS5Y722+wveW8gOUkAQsp47HFBXMu5uUV4d8E/2iLj4o+Bdb1C+0+30/XtLheZrSPd5bpt3K4yc4PTr1BrsvhX8Tj4y+Gdv4r1v7JpSMGaZlcrFGoOMksePxNBnGtCdmnud/RXMeEvib4W8dTTw6Drllqk0H347eZXYDOM4B6e9Q6t8WvB2h29xNfeI9OtlglMEiyXCBlkABK4z1wRx70F88bXvodbRVXT9UtNY0+O90+5hvbaVd0U0Lh0cdiCODXzz8R/jR8W/h7rWl2tx4Y8OtbavqP2CwczyFmy2ELYk44IzQTUqRprmex9IUV41rPiX4iW/gRrnXrzw94K1Vr6GOK48zfC8ZzlfmYjecDH416JqXj3w/4ekNtq+uWFldRQCaRZ51j+Xj5sE9MmgFUT30OhorjZvjJ4Ig0NNYfxRpf9nO5jScXSYZxjKjnqMjj3FdCviTSn0Q6wuo2raUI/N+2rKpi2/wB7dnGKC1KL2Zo0VzXhH4leGPHjTpoGt2WqSQH95HbzK7L74B6e9ct8dPi9c/CvSdNXTdOXU9Z1S4+zWkUzbYg3qxyOPxoJlUjGPPfQ9Oorzr4ceIPiHfatNZeNPDun6fCsAkjvNOmLIW4ypBY8/Stq++K3hDTfEC6Jc+ItOi1Vjt+ytcoHU+hGeDz3oBVItXenqdXRWLq3jbQdCupbbUdXs7GaKH7Q6XEyoRHkDdyemSBn3FcpH4wl1v4j6ANK8UaU+hXdjJMNLBDXF1guPNQ9dox244NA3NLQ9ForlNZ+KvhDw9riaPqXiLTrLUnwBbzXKK4z0yCeKveJvHXh7wbZxXWt6zZaXBN/qnup1QScZ+XJ549KB80dddjdqa1upLO4SaJirqcisvRdc0/xFp8d9pd7BqFnJ92e3kDofxFXqB6SXkes6PqS6pp8VwvVhhh6GrtcX8Pro7rqAnjhwP0rtK0R8jiKfsqrggooopnMFcL411xppzYwt+6T/WY7n0rtriQw28rjqqlvyFeRXExuLiSRjksxNTI9bL6SnNzfQioor52+Lnxm+KnwwuhO3hvw/NpF1fizspXmkMj7nwhYB+DgjPFQe7UqKmryPomivGL3xT8SB4A1C98QTeH/AAZfb4vst8sm+IKc53bmIB6Yr0SfxvomgW9pFrGvafBdSW3n7pJ1QSKMbnUE9MkfnQEaifkdHRXF/wDC5vBH9gPrQ8T6YdNRzGZhcpjcP4evX29xXQ2vifSbzQxrMOoW76UY/N+2CQeXt9d2cUFqUXszTormvCnxK8L+OJp4dB12x1SaHmSO2nV2A9cA9PesL43fFR/hP4Sj1C3shqGoXU62trA5IQu3QsewoJdSKjz30PQqK80+HviH4lT6wll4x8N6fbW0kRkF7p1wCsbAj5WBY569q6DV/it4Q0HXIdGv/EOn22pysEFq9wocE9ARnjPvQCqRau9PU6uisXWfG2geHbhINU1iy0+WSJplS5nVCUXALDJ6DcPzrjLrx3/wkvi7wrJ4c8XaSNEu/OMltvR5L3ZuU+WfQEdvSgJTitD02iuZ1/4meFPC2pRafq/iHTdPvZMbbe4uUR+ehwTnFWvEHjnw/wCFtJj1PVtYsrCwlx5U886qsmRkBSTzx6UFc0dddjcqSCZ7eZZIztdTkGsbw34q0jxhpq6houo2+p2bHHnW0gdQfQkdDWrQPSS8j1TQdUGrabHNx5g+Vx71pVw/w/umW5uLcn5WXcB713FaI+SxVNUqritgooopnKFFFFABRRRQAUUUUAFFFFABRRRQAV41+0p/yD/CX/Ybt/8A0Ytey141+0p/yD/CX/Ybt/8A0YtAHsNv/wAe8X+6P5VJUdv/AMe8X+6P5VJQAUVU1bVLfRdNur+7YpbW0bSyMoJIUDJ4FeSf8NcfDg9NQviPUafL/wDE12UMHicUm6FNyS7K5zVcTRoNKrNRv3Z7NRXjP/DW/wAOf+f++/8ABfN/8TR/w1v8Of8An/vv/BfN/wDE11f2Tj/+fEv/AAFmH9oYT/n7H70ezUV4z/w1v8Of+f8Avv8AwXzf/E0f8Nb/AA5/5/77/wAF83/xNH9k4/8A58S/8BYf2hhP+fsfvR7NRXjP/DW/w5/5/wC+/wDBfN/8TR/w1v8ADn/n/vv/AAXzf/E0f2Tj/wDnxL/wFh/aGE/5+x+9Hs1FeM/8Nb/Dn/n/AL7/AMF83/xNH/DW/wAOf+f++/8ABfN/8TR/ZOP/AOfEv/AWH9oYT/n7H70ezUV4z/w1v8Of+f8Avv8AwXzf/E0f8Nb/AA5/5/77/wAF83/xNH9k4/8A58S/8BYf2hhP+fsfvR7NRXjP/DW/w5/5/wC+/wDBfN/8TR/w1v8ADn/n/vv/AAXzf/E0f2Tj/wDnxL/wFh/aGE/5+x+9Hs1FeM/8Nb/Dn/n/AL7/AMF83/xNH/DW/wAOf+f++/8ABfN/8TR/ZOP/AOfEv/AWH9oYT/n7H70ezUV4z/w1v8Of+f8Avv8AwXzf/E0f8Nb/AA5/5/77/wAF83/xNH9k4/8A58S/8BYf2hhP+fsfvR7NRXIfD34qeHvihbXc+gXE1xHasEl86BoiCc44Ye1dfXnVaVSjN06sWpLozsp1IVYqcHdMK8p8QKU1m7B67/6V6tXn/jnTTb6gtyq4jmHJ/wBof5FYSPYy+ajVafVHM181/tW6Tc6547+GFhaahLpdxPqWxLyEZeIk9R719KVkax4S0nX9Q0++v7KK5utPk822kkXJib1HvUHvVaftIcp5L4s8C+KPAfwd8bCDxTqXiXVLi0/0d7kAPDg87MeoP6V4T4oj8Ex/AHwcPDElu3jgzWvkmPIuTc7l8wN367q+5ZI1mjZHUOjDBVhkGuQ0/wCD/gzSfEZ1208Oafb6pksJ47dQQx6sOOD707mFTDuXw7WtqeD3nhe28WftXeG7PX7dbtY/C8U00EnKtKpfk+uDmvonxdaw2PgHW7e3jWGCPTZ1SNBgKBE2AKsf8IjpH/CTDxCbGI6yIfs4uyvziPJO0H05Nad1axXtrNbzoJIZkaN0boykYI/Kg1p0uRS8z4m8P6Lc+E/gZ4N+ImnIz+Xaz2GrxpyXtnlkXdj1UE/lU2qSSz/sn+DmO/8AsWTV4zfeXkN5R3dT/d9a+vbbwXoln4Wbw5Dp0EeitE0Js1QeXsbO4Y98n86ZaeBdBsvDB8OxaXbjRSpQ2ZjBjIPbFFzm+qu1k+lvmfOXiKPw1Y/Hz4cj4dR2ouXRxdLp5/dm32N9/wCi9M1B8MPAmheLvHXxfk1jTor9o7jbH5wzsynOPQ19EeD/AIWeFPAM082g6JaadPNw8sUQDY9M4yB7Vf0zwVouj3Op3FlYRW82pHddPGMGU4xk0XLWHd05W3vb5WPKv2NbuW7+BWl+a5fy7iaJc9lVsAVn/tUf8h74Uf8AYyRf+hJXtnhrwvpfg/Sk03R7KKwsUYssMKhVBPU0zXvCWk+Jp9Om1OyivJNPnFzbGRc+XIMYYe/Aovrc09k/YqnfXQ8d/bI/5JPpn/Ybs/8A2esDxT4b03xR+1Z4dtNVtEvbUaOz+TJypITjI719BeJfCuleMNPjstXs4761jlWdYpRkB1zg/hk0j+EdIk8RQ661jF/asMZhS62jcqEYxn0oFOi5Sv00/A+Uvhh8NPDV540+MVpc6VDc22nsFtYpclYdyEttHbP9K5G+vNZf9lPwOLaQ/YBrYS7ZydgiG7AfH8GcZr7V0/wPoml3WqXNrp8MM+qHN5Iq4M3GPm9abY+A/D+m+G28PwaTajRmyDZtEDGc9flIxRcx+qu1k7b/AIs8N+FPhK+k+LWleIG1Lw2sKae8TWmh5UzRlWCMR7E/pXonx007wN4g0Sz0fxrerp6XMha0uNxVkkUdVbHHWug8I/Cfwl4FvJbvQ9BstPupPvTRQqHAxjAOOB7Vq+J/B+i+M7EWet6Zbanbg5CXMQcA+oyOKDeNJxpuOl2fMnw98VeIPBvxRuPA2g+J5PGehSaZcS280gy1nIsTMilsn+IAfjXnPgnwhqPjrwPrFm974dsLyS+ke7uNS3C9jk3feBz09K+0vBvwy8MfD/zz4f0W002SbiSSGIB2Gc4LdcZ7Vn6p8E/A+ta6NYvvDOn3N/u3GSSBSGPqwxg/jRc53hpNK776HhPi7wXBrf7RXw90fxBjUVh0pvPUMdkzKq9fUZ5/AV1GvWFvpf7YngG1tIUt7aLw3cqkcYwqjdNwK9sm8H6PceILXW5LCE6paoYobjaNyKeoHtT7jwnpN14mtfEEtlE+sWsLW8N2V+dIznKg+nJ/Og29ha/qmfE/gvw7rPjIeNbK8n8O2utTXkou21fcLmNc/KUOenpXqXi34dX/ANj8AXEHiPR7vxNoembUstUb/RruHaV359cHrXtXiT4O+DPF2rJqmreHbC8v1OTPJApZsf3jjn8ak8U/CXwh40jtk1fQLK7FtGIod0KgxoBgKOOAB2ouZRwzimtzB/Z68bQ+Ovh/9th0iLRmt7uW1lt7c5iLrjLIcDIOa9MqhoWg6f4Z0uDTdLs4bGxgG2OCBAqr+Aq/SO6CcYpS3Oq+H6lr+4YdFQZrvK5nwNprWunvcOMNMfl/3R/9eumrRbHy+Mkp15NBRRRTOIrakpbT7kDr5bfyryOvZGUMpU8gjBrynXLBtN1OeJhgbty+mDUyPby2avKBQrwD9sP/AJFbwp/2HrX/ANGLXv8AWR4k8J6T4ugt4dXsor2K3lWeJZVyFdTkMPfIqD2KsHUg4rqeSftWf8kDn/37f+VcH440Kx8SfHj4NWGpW63dlJpsxkgf7r4jyAfXkA/hX014g8L6X4o0k6ZqlnHeWJKkwyDK8dKryeCNEl1rTtWfToW1DT4zFazlRuhUjBC+nFO5jUoucr+n4M+bPhV8M/DV1+0p8VtFuNJt5tMsorV7a2KnZEZEUsVGepzXA2l3q7fsesljva3j8TvDcgE4FsM5Vv8AZztzX2rp/hDSNK8QalrlrYxQ6rqIVbq5VcPKFAC5PsBUOjeBNA0DQ5tGstLtotLmkaSS18sGNmb7xI6c0XMvqrtZO2/4vQ+e/hb4Dv7/AOI/hXxRa6l4bt7S1tXiFvoxKtPGY2ADLnkjP6V698bY/BGoeG7fSvHE6W9jfThLeRiVKSjowbHBGetavhX4R+D/AAVqkupaL4fsdPvZMjzoYVDKDwQpxwPpW54i8M6V4s082Osafb6laFg3k3MYdcjvg0G0KTjTcer+4+YPCGv6x8MPitoXgzw/4uPjLw9qlvcMYpF3SWO2NmT5ge5A596868H6Hq3ivRPHmm3V7oGnXk1/cJdz6tkXceRw6N6AEY+lfZng/wCFfhTwHLJLoWhWenzyfemihUPj03Yzj2qp4h+CvgnxVrJ1XVfDljeX7FWeaSFSXx03cc/jRc53hptLX5Hz1418DrffF/4NeHvEUq6r5dhMly6t8s5UJ19R0rsfiPpdpo37Rnwss7G3jtbWO3uAkUS4VeJO1e3XHgnRLrWtO1WTToDf6ehjtZtgzCpxkL6dBUt94T0nU9esdaurKKfUrFWS3uHXLRg5zj8zRc1+r727p/dY+MdH0XV/FHxA+ItjetoMerzXLCZtdyZPKx8pjORwBXc698J7r/hB/AFsfF+lv4l0aNp7GG++e1vU2kckkdAete9+K/g/4O8bail/rXh+yvr1cDz5IV3kDoCccj61J4i+E/hDxVY2tnqfh+wuLa1Ty4I/IUCJfReOB9KLmawzV+v/AA9zkf2b/H0fjnwnqC/2Pb6PeadfPaXS2fMEsgAJdDgcHNet1meHfDOleEdLj07R7C306yj+7DbxhF+vHf3rTpHbTi4xSludL4DQtq7MOioc16DXKeArBobWW5ZcGQ7V+g/+vXV1otj5rHSUq7t0CiiimcAUUUUAFFFFABRRRQAUUUUAFFFFABXjX7Sn/IP8Jf8AYbt//Ri17LXjX7Sn/IP8Jf8AYbt//Ri0Aew2/wDx7xf7o/lUlR2//HvF/uj+VSUAcz8TP+Sf+If+vGX/ANBNcX+zbptnP8HdBeS0gkcx8s0YJP6V2nxM/wCSf+If+vGX/wBBNcp+zR/yRrQP+ude1BtZZO386/JnmSSeOjf+V/mj0X+x7D/nxtv+/K/4Uf2PYf8APjbf9+V/wq5RXkc8u56PKuxT/sew/wCfG2/78r/hR/Y9h/z423/flf8ACrlFHPLuHKuxT/sew/58bb/vyv8AhR/Y9h/z423/AH5X/CrlFHPLuHKuxT/sew/58bb/AL8r/hR/Y9h/z423/flf8KuUUc8u4cq7FP8Asew/58bb/vyv+FH9j2H/AD423/flf8KuUUc8u4cq7FP+x7D/AJ8bb/vyv+FH9j2H/Pjbf9+V/wAKuUUc8u4cq7FP+x7D/nxtv+/K/wCFH9j2H/Pjbf8Aflf8KuUUc8u4cq7FP+x7D/nxtv8Avyv+FH9j2H/Pjbf9+V/wq5RRzy7hyrseJfs/RrH4y+JKIoRRqagKowB8pr22vE/gD/yOnxK/7Ci/+gmvbK9TNv8Ae36R/wDSUcGX/wC7r1f5sKpavpcerWTwSD3VvQ1doryD04ycWpLc8k1LTJ9KuDFMuD2PYiqleuX+mW2pR7LiJZB2PcfSuUv/AAC+4taTgj+7J2/GocT6Gjj4SVqmjOOorefwXqStgRq3uDTf+EN1P/nkPzpWZ2/WKP8AMjDorc/4Q3U/+eQ/Oj/hDdT/AOeQ/OizD6xR/mRh0Vuf8Ibqf/PIfnR/whup/wDPIfnRZh9Yo/zIw6K3P+EN1P8A55D86P8AhDdT/wCeQ/OizD6xR/mRh0Vuf8Ibqf8AzyH50f8ACG6n/wA8h+dFmH1ij/MjDoqXxRB/whumrf6qy21s0qwh+T8zdBx9K1l8H6k6hhECCMjmizD6xR/mRiUVuf8ACG6n/wA8h+dH/CG6n/zyH50WYfWKP8yMOitz/hDdT/55D86P+EN1P/nkPzosw+sUf5kYdFbn/CG6n/zyH50f8Ibqf/PIfnRZh9Yo/wAyMOitz/hDdT/55D86P+EN1P8A55D86LMPrFH+ZGHRW5/whup/88h+dSReCNRk6iOP/eNFmL6xR/mRz9bfhvw7Jq9wrupW1U5ZvX2Fb+m+A4YWD3cvnEfwL92uphhS3jCRoEReAqjAFNRPPxGPjblpb9wjjWGNUQYVRgCn0UVZ4AUUUUAFYXinQBq9t5kQ/wBJjHy+49K3aKDSnUlTkpx3R45NC9vI0cilHU4KmmV6lq3h201j5pV2y9pF61y114Buo2/czRyL/tZBrPlZ9HSx1Ka952Zy1Fbv/CG6n/zyH50n/CG6n/zyH50WZ0/WKP8AMjDorc/4Q3U/+eQ/Oj/hDdT/AOeQ/OizD6xR/mRh0Vuf8Ibqf/PIfnWN4qj/AOENsYrzVWEEEsywIeuXboOKLMPrFH+ZDKK3P+EN1P8A55D86P8AhDdT/wCeQ/OizD6xR/mRh0Vuf8Ibqf8AzyH50f8ACG6n/wA8h+dFmH1ij/MjDorc/wCEN1P/AJ5D86kj8E6lIRlUT/eNFmH1ij/Mjn61tA0GbWLgYXbApy7kcfSui0/wDHGytdzeYR1ROn511NvbRWkKxQoI416KopqJ5+Ix8UuWlqxYIUtoUijXaijAAqSiirPA33CiiigQUUUUAFFFFABRRRQAUUUUAFFFFABXjX7Sn/IP8Jf9hu3/APRi17LXiX7Utq974f8ADdvHO9rJLq8KLNH96Ml1AYe460Ae02//AB7xf7o/lWN4t8baR4Htba51m6FnbTzCFZW+6GIJ5PYcV5xD8D/ErQoR8VPEYBUHG48cf79edfHL4I+LP+EcsYrfxVrXi+aW6CLY3Ryi/Kfm5bAoA928ba5p+u/DXX7nT7yG8gaxlxJC4YH5TWD+zR/yRrQP+udeFeHf2a/F3g/wrrGrX+v/ANkR/YZHezs3ZnfAPyP0GPoT1r3X9mf/AJIz4f7/ALqvZj/yLJ/41+TPNl/v0f8AC/zR6jXkHxy+M2ofC/xT4A0uytbeeLxFqD2k8lwD+7VQpyuCOfmr1+vkL9vbQbzxRrnwn0mwvDp95eapNDHdAkGMkR5PHtmvGPSPVvC3xt1T4lfF/UNB8KWME/hPQy0Wqa1MCwkn6eVFggZB65zwDXKfCf8AasufGHxy8R+A9bsbexht7hrfTLqIEec6KGdGyTzhlxj1rmv2eLV/2Zfivf8Awi1W8aXRNVVr7Qb64G3zWzl4/Y4LHrzivPPDPw3v/HNz8XNS0EmPxX4e8RnUtJkXhvOWKM7Ae27aBQB9D+B/j3qnibWPjTaXFjbJH4Hu2t7QxhgZgEkbL8+qDpisL4A/tVXHxc+GPiTU9QsbfT/FOi2st1JYrkI6bC8bgE5wRt715X+y/wCKF8baH+0Z4g8toZtSZLmaFgcxyNDPuXn0NcZoXh7UPA/wD8DfFDRkZ4pNOuNI1+JSf3lq7yIJCAOSgbPPQLQB9qfAP4jXvxW+F+k+JtQghtrq8DFo7cEIMNjjJNeU6n8cfih4g+MHi7wh4L0fQbiDQUWRm1F3R3BxxkMB1PpXUfsWyJL+zr4XeM5RlkKn2LnFeBSeFNH8T/tP/FhNY8bXfgyFbdAZbW++zecDtBUjcNw56e1AH0R8Av2ho/ix4L1vVtb09fDlzod7JYX5eXdDvQAs6tgYHP6V1vg344eA/iFq0mmeHPFWm6vfxqXMFrOGYqDgkDuOR+dfInwn+JWl/D/4KfFXSptFg8W+DtFuWigmFvsXURIo3GU4w3oW5OMVz8Vw1r8dvgpqVs/heya6ml8qx8LqGWCIxnCyvtXn2I7GgD7g8RfGfwP4T8QR6HrHijTdO1aTG20nnCvz0496ueM/if4U+Hljb3fiTXrHR7e4OIXupQgkPt69a+Pfipbaf8HPEni3xtY3/hvx9oN/qCnVND1N1a/ifKoyRAg5C46cdKz/AIiXF74m/atsJNQi0TT7WfQIjpEXiZSLRBkkhflZRIARz6YoA+4NP8aaFq3hw6/Z6ta3OihDIb6OQGLaOp3e1eA/Ej9piy1L4ifCbTvAPijT9UsNW1/7Bq8dq4kPlkoAD6dWrxb4n/D/AF34dfs0eJ4YNfsNU0TUtfjuLmPw9MZILa3aXMkanAwNxHHtWh46j+HcXxK/Zqj8Ef2WLlNVg+1Lp4XeExHt8zHfdv6980AfeNFFFAHifwB/5HT4lf8AYUX/ANBNe2V4n8Af+R0+JX/YUX/0E17ZXr5r/vb9I/8ApKPOy/8A3der/NhRRRXkHohRRRQAUUUUAFFFFABRRRQAUUUUAFFFFAHkX7UH/JN7f/sJ2/8ANq9Ytf8Aj1i/3B/KvJ/2oP8Akm9v/wBhO3/m1esWv/HrF/uD+VAEtFFFABRRRQAUUUUAFFFFABRRRQAUUUUAFFFFABRRRQAUUUUAFFFFABRRRQAUUUUAFeO/tPf8iXpP/YWt/wCZr2KvHf2nv+RL0n/sLW/8zQB7FRRRQAUUUUAFFFFABRRRQAUUUUAFFFFABRRRQAUUUUAFFFFABRRRQAUUUUAFeNftKf8AIP8ACX/Ybt//AEYtey141+0p/wAg/wAJf9hu3/8ARi0Aew2//HvF/uj+VSVHb/8AHvF/uj+VSUAcz8TP+Sf+If8Arxl/9BNcp+zR/wAka0D/AK511fxM/wCSf+If+vGX/wBBNcp+zR/yRrQP+udezH/kWT/xr8mebL/fo/4X+aPUaxde8G6L4nvNNu9U0+G9uNNkM1pJIDmFzjJH5CtqivGPSMLXvA+heKNQ06+1TTILy80+TzbWeRfnib1BFO0HwXovhm71C50vTobOfUJPOunjB/evgDcffAFbdFAHM6P8NfDHh+PWU03RrayTWG3X6wrtE5wR834MfzqzY+B9B03wt/wjdvpdvHoXltD9h25j2NncMH1ya3aKAMzw54b0zwjo8GlaPZx2GnwDEdvCMKv0rk/EnwF+H/i7WptX1jwtY3+ozEGS4mQlmx0zzXf0UAYVn4F8O6f4fk0O20Swg0eQFZLGO3QRPkYO5cYPHrWFovwO8B+HZLWTTfC2nWctrP8AaIZIoQHWTBGd3XoT+dd1RQB59qHwA+HmreIl1y78J6dNqYl87zjF1fOdxXoTn1FbXjH4Z+FviBaw2/iDQrPVI4RiLzoxujHorDkDgdD2rp6KAOa0v4a+F9F8LyeHLLQ7O30OUESWKxjy3ycnI781jaD8Bfh94Yntp9L8KadZ3FtcC6hmji+dJAchg3Xj06V31FABRRRQB4n8Af8AkdPiV/2FF/8AQTXtleJ/AH/kdPiV/wBhRf8A0E17ZXr5r/vb9I/+ko87L/8Ad16v82FFFFeQeiFFFFABRRRQAUUUUAFFFFABRRRQAUUUUAeRftQf8k3t/wDsJ2/82r1i1/49Yv8AcH8q8n/ag/5Jvb/9hO3/AJtXrFr/AMesX+4P5UAS0UUUAFFFFABRRRQAUUUUAFFFFABRRRQAUUUUAFFFFABRRRQAUUUUAFFFFABRRRQAV47+09/yJek/9ha3/ma9irx39p7/AJEvSf8AsLW/8zQB7FRRRQB43+1NreqaH4A0t9J1CfTLm41m2tmnt3KsEdZMjI/D8qq/8M++Iv8Aop/iH/v4KT9rf/kQfD//AGMNn/KSvb6+j+tVMJgaLpWTk530T25e6PG9hDEYqoql9FG2rXfseI/8M++Iv+in+If+/go/4Z98Rf8ART/EP/fwV7dRXJ/a2L/mX/gMf8jo/s/D9n97/wAzxH/hn3xF/wBFP8Q/9/BR/wAM++Iv+in+If8Av4K9uoo/tbF/zL/wGP8AkH9n4fs/vf8AmeI/8M++Iv8Aop/iH/v4KP8Ahn3xF/0U/wAQ/wDfwV7dRR/a2L/mX/gMf8g/s/D9n97/AMzxH/hn3xF/0U/xD/38FH/DPviL/op/iH/v4K9uoo/tbF/zL/wGP+Qf2fh+z+9/5niP/DPviL/op/iH/v4KP+GffEX/AEU/xD/38Fe3UUf2ti/5l/4DH/IP7Pw/Z/e/8zxH/hn3xF/0U/xD/wB/BR/wz74i/wCin+If+/gr26ij+1sX/Mv/AAGP+Qf2fh+z+9/5niP/AAz74i/6Kf4h/wC/grlNe8NeI/hj8RPBMD+N9Y1m21K7aOWG6lO3AUnt1r6ZrxD46/8AJSvhl/1/yf8AoBr0MBj6+JreyqtNNS+zH+V+Rx4vCUqNPnp3TTj1fdeZ7fRRRXy57oUUUUAFeNftKf8AIP8ACX/Ybt//AEYtey141+0p/wAg/wAJf9hu3/8ARi0Aew2//HvF/uj+VSVHb/8AHvF/uj+VSUAc98QrWW98D67BBG0s0lnIqRoMliVOABXgfwr+K3iD4e+B9P0G4+HniC6ltV2maKDCt9M19O0V6mHxkKNGVCrTU03fdrVadDgrYaVSqqsJ8rStsn+Z4f8A8NGaz/0TTxJ/35H+NH/DRms/9E08Sf8Afkf417hRWn1vB/8AQMv/AAKRP1fEf8/n9yPD/wDhozWf+iaeJP8AvyP8aP8AhozWf+iaeJP+/I/xr3Cij63g/wDoGX/gUg+r4j/n8/uR4f8A8NGaz/0TTxJ/35H+NH/DRms/9E08Sf8Afkf417hRR9bwf/QMv/ApB9XxH/P5/cjw/wD4aM1n/omniT/vyP8AGj/hozWf+iaeJP8AvyP8a9woo+t4P/oGX/gUg+r4j/n8/uR4f/w0ZrP/AETTxJ/35H+NH/DRms/9E08Sf9+R/jXuFFH1vB/9Ay/8CkH1fEf8/n9yPD/+GjNZ/wCiaeJP+/I/xo/4aM1n/omniT/vyP8AGvcKKPreD/6Bl/4FIPq+I/5/P7keH/8ADRms/wDRNPEn/fkf40f8NGaz/wBE08Sf9+R/jXuFFH1vB/8AQMv/AAKQfV8R/wA/n9yPD/8AhozWf+iaeJP+/I/xo/4aM1n/AKJp4k/78j/GvcKKPreD/wCgZf8AgUg+r4j/AJ/P7keIfs42+qTal401XUtIu9H/ALSvVnihu4yrYwa9voorjxeI+tVnVta9tPRWOjD0fq9NU73t+uoUUUVxnSFFFFABRRRQAUUUUAFFcZ8WviIPhf4Pm1w2bX+yWOMQq2CdzAf1rjY/jB43mjSRPhvflGAYHf2P4UAey0V47/wtzxz/ANE2v/8Avv8A+tR/wtzxz/0Ta/8A++//AK1AHsVFeO/8Lc8c/wDRNr//AL7/APrUf8Lc8c/9E2v/APvv/wCtQBL+1B/yTe3/AOwnb/zavWLX/j1i/wBwfyr5x+KfiDx58RvDUelJ4AvrMrdR3HmMSfu546e9ddD8WfHUcSJ/wra/O0Aff/8ArUAey0V47/wtzxz/ANE2v/8Avv8A+tR/wtzxz/0Ta/8A++//AK1AHsVFeO/8Lc8c/wDRNr//AL7/APrUf8Lc8c/9E2v/APvv/wCtQB7FRXjv/C3PHP8A0Ta//wC+/wD61H/C3PHP/RNr/wD77/8ArUAexUV47/wtzxz/ANE2v/8Avv8A+tR/wtzxz/0Ta/8A++//AK1AHsVFeO/8Lc8c/wDRNr//AL7/APrUf8Lc8c/9E2v/APvv/wCtQB7FRXjv/C3PHP8A0Ta//wC+/wD61H/C3PHP/RNr/wD77/8ArUAexUV518KvircfEO81i0vNHk0e702QRyQyNk5IB/rXotABRRRQAUUUUAFFFFABRRRQAUUUUAFeO/tPf8iXpP8A2Frf+Zr2KvFv2rLdrr4f6fCkjQtJqcCiReq9eaAPaa5fVPiZ4b0TxNHoOo6nFZalKgeOObKhgSR97GByO5rz3/hn3WP+ih69/wB9p/8AE1458Rv2bfF2tePYLTT7u91qEQKZNU1BgFjOT8obAHA5x15oA9a/awuIrr4e+HpIZEmjbxDZ4eNgwPEncV7nXxl8Rvgrq3wx8B6Hcan4lutTaTXbOMWQbMCZ3nODk5GOxxya+za9jEf7hh/Wf/tp51H/AHut6R/UK8lf4t+JtR8Z69ouh+Ev7St9HuEgnujcqmdwJ4BPoDXrVeE+DfhnJq3xY8fatd3Op6eg1GB4FhkMcUwCsc4/iH+NeOeiesXnjjRNJubWz1PVLPT9RnVSLWadQ4LcAYz65GfapdY8ZaH4fJGo6raWbDb8ssoDHdnbgdTnB/Kvm7xNpsei6n8VLTxJ4a1DW9c1q5D6JeJZPMZENvGkccTgfIVkVuFxgnPeum8F/Dy4uPi9bSeJdM+3vbeG4YHnuIzJEJcjOM5G4Dv1HPvQB7mviLS2S0cajalLtzHbt5y4lYdVXnk8dKjvfFWj6bDNLdana28cM3kSNJKoCyYzsPPXBHFfKTeBdctrzWdBntNQmsfBN9L4isbpYyBJI9ybgQxkD5v3T7e/pXTpDq+gfC2w1S60gR3HiPVZNT1Oe7sWu20/eqID5ZB5wgwSMD8aAPoRfF+iNpceojVrP7BISq3JmURkgEkZz1GDxVW4+IXhu1sbK8l1qzjtr0kW0jSgCXBwdvqAR1r5as/Cl5qfgZ7Cay1K7sJPGv2iKO+s/s7tCZWbLRqqgA8ZGAK9E8XQ6b4H+OCX+vaBLf8Ahy40WKy0mO1sPPht5xLK0iLGq4VmDLzjnIoA9F+GXxGm8cfDYeJ7i3jicpLJ5UTblwoyMGsD4f8Axa8WePLe01CPwetto1wz4u2ulyApIzjPtVb4C6dd2fwBS3uLGaxuGguMWs0ZR1ypwNvaqP7Pvw0bw74BsNTu7nU0vfLuCbO5lYRpuZ/4PoeKAOmj+J2qLqHg+1uLSx3a0t48jWdwZUQQlAu1sc53HPpitn4S+Nrnx94Vl1O7hSCVb24tgsZyNschUH8hXi3gDSr/AEvQfgx9psLqPyo9TglzC37p5JVKB+PlyAevpXpH7OMMtl4Hv7O4ieC5h1e93xyKQcGZiD9COhoA9VrxD46/8lK+GX/X/J/6Aa9vrxD46/8AJSvhl/1/yf8AoBr2Mp/3r/t2X/pLPOzD+B84/wDpSPb6KKK8c9EKKKKACvGv2lP+Qf4S/wCw3b/+jFr2WvGv2lP+Qf4S/wCw3b/+jFoA9ht/+PeL/dH8qkqO3/494v8AdH8qkoAKKKKACiiigAooooAKKKKACiiigAooooAKKKKACiiigAooooAKKKKACiiigAooooAKKKKACiiigDxn9rH/AJJLP/1+W/8A6MWvW9J/5BVl/wBcU/8AQRXkn7WP/JJZ/wDr8t//AEYtet6T/wAgqy/64p/6CKALdFFFABRRRQAUUUUAFFFFABRRRQAUUUUAFFFFABRRRQAUUUUAeLfBX/kpnxH/AOv1P/RaV7TXi3wV/wCSmfEf/r9T/wBFpXtNABRRRQAUUUUAFFFFABRRRQAUUUUAFeO/tPf8iXpP/YWt/wCZr2KvHf2nv+RL0n/sLW/8zQB7FSUtFAHiH7W//Ig+H/8AsYbP+Ule314f+1wQvgHQCeB/wkNn/KSvZ/7Ts/8An7g/7+L/AI17NdN4DD27z/8AbTzaLSxda/aP6lmkCgZIGCetV/7Ts/8An7g/7+L/AI0f2nZ/8/cH/fxf8a8jll2PR5l3J2jVmBZVJXoSOlLtG7OOfWq/9p2f/P3B/wB/F/xo/tOz/wCfuD/v4v8AjRyy7BzLuT7F+b5R83XjrQ0asu0qpX+6RxUH9p2f/P3B/wB/F/xo/tOz/wCfuD/v4v8AjRyy7BzLuTeWn9xeuelK8aSY3IrbTkbhnFQf2nZ/8/cH/fxf8aP7Ts/+fuD/AL+L/jRyy7BzLuWAoVcAAD0xQFCrgDA9Kr/2nZ/8/cH/AH8X/Gj+07P/AJ+4P+/i/wCNHLLsHMu5P5aYA2rhenHShY1TO1QueTgYqD+07P8A5+4P+/i/40f2nZ/8/cH/AH8X/Gjll2DmXcs14h8df+SlfDL/AK/5P/QDXs39p2f/AD9wf9/F/wAa8U+OF1BcfEv4ZCKaOQi/kzsYH+A17GVRf1rb7Mv/AElnnZg17D5x/wDSke6UUUV4p6QUUUUAFeNftKf8g/wl/wBhu3/9GLXsteNftKf8g/wl/wBhu3/9GLQB7Db/APHvF/uj+VSVHb/8e8X+6P5VJQAUUUUAFFFFAHhnx+1rxEvjTwZoOha/caAuqSOks9uNx4BOcZGenrVn/hSfj3/or+q/+AI/+OVS+N3/ACWT4Zf9fEn/AKC1e719JVxVTCYXDqkkrxbd4xf2n3TPFp0IYivWdRvRq2rXRdmeK/8ACk/Hv/RX9V/8AR/8co/4Un49/wCiv6r/AOAI/wDjle1UVxf2riv7v/gEP/kTq+oUPP8A8Cl/meK/8KT8e/8ARX9V/wDAEf8Axyj/AIUn49/6K/qv/gCP/jle1UUf2riv7v8A4BD/AORD6hQ8/wDwKX+Z4r/wpPx7/wBFf1X/AMAR/wDHKP8AhSfj3/or+q/+AI/+OV7VRR/auK/u/wDgEP8A5EPqFDz/APApf5niv/Ck/Hv/AEV/Vf8AwBH/AMco/wCFJ+Pf+iv6r/4Aj/45XtVFH9q4r+7/AOAQ/wDkQ+oUPP8A8Cl/mfNPxU8F+P8A4b+A9U8RJ8VNUv2s1Qi3a1EYfc6r97ecdfSvffBt5NqHhLR7m4kMs81pE7u3VmKgk1wf7UP/ACQ3xN/uRf8Ao1K7bwD/AMiPoP8A14w/+gCujFVpYjAQq1EubnkrpJaWj2SMKFNUcXKnBu3Knq2+r7tm/RRRXgHrhRRRQAUUUUAFFFFABRRRQAUUUUAeM/tY/wDJJZ/+vy3/APRi163pP/IKsv8Arin/AKCK8k/ax/5JLP8A9flv/wCjFr1vSf8AkFWX/XFP/QRQBbooooAKKKKACiiigAooooAKKKKACiiigAooooAKKKKACiiigDxb4K/8lM+I/wD1+p/6LSvaa8W+Cv8AyUz4j/8AX6n/AKLSvaaACiiigAooooAKKKKACiiigAooooAK8d/ae/5EvSf+wtb/AMzXsVeO/tPf8iXpP/YWt/5mgD2KiiigDmfiB8PdI+Jmhx6TrSSvaRzrcKIX2sHUEA5wf7xrhf8AhlrwZ/z11f8A8Dj/AIV6+TtBJ6V4jdftWaLHqmo2Nr4Z8RaibG5ktZZbO0EibkYqeQ3t3r2sDLMZxdPBydlro+55mKjg4yU8Qld9y/8A8MteDP8Anrq//gcf8KP+GWvBn/PXV/8AwOP+FZ3/AA1Vp/8A0JPiz/wX/wD16P8AhqrT/wDoSfFn/gv/APr16fJnneX3r/M4ubK+y+7/AIBo/wDDLXgz/nrq/wD4HH/Cj/hlrwZ/z11f/wADj/hWd/w1Vp//AEJPiz/wX/8A16P+GqtP/wChJ8Wf+C//AOvRyZ53l96/zDmyvsvu/wCAaP8Awy14M/566v8A+Bx/wo/4Za8Gf89dX/8AA4/4Vnf8NVaf/wBCT4s/8F//ANej/hqrT/8AoSfFn/gv/wDr0cmed5fev8w5sr7L7v8AgGj/AMMteDP+eur/APgcf8KP+GWvBn/PXV//AAOP+FZ3/DVWn/8AQk+LP/Bf/wDXo/4aq0//AKEnxZ/4L/8A69HJnneX3r/MObK+y+7/AIBo/wDDLXgz/nrq/wD4HH/Cj/hlrwZ/z11f/wADj/hWd/w1Vp//AEJPiz/wX/8A16P+GqtP/wChJ8Wf+C//AOvRyZ53l96/zDmyvsvu/wCAaP8Awy14M/566v8A+Bx/wo/4Za8Gf89dX/8AA4/4Vnf8NVaf/wBCT4s/8F//ANej/hqrT/8AoSfFn/gv/wDr0cmed5fev8w5sr7L7v8AgGj/AMMteDP+eur/APgcf8KuaH+zb4P0HXLLVoBqEt3Zv5kJuLreoOCOhHvWF/w1Vp//AEJPiz/wX/8A166T4b/HjS/iT4iudFttH1XS723g+0OuowiP5cgdM57+lY1v7Zp05SqOXKlrr0+8un/ZspqMEr9ND02iiivmD3QooooAK8a/aU/5B/hL/sN2/wD6MWvZa8Z/aaS5Xw/4fureyub4WuqQzyR2sRkfarKTwPpQB7Fb/wDHvF/uj+VSV4nF+05Yxxop8G+KsqAP+Qf/APXp/wDw09Yf9Cb4q/8ABf8A/XoA9porxb/hp6w/6E3xV/4L/wD69H/DT1h/0Jvir/wX/wD16APaaK8W/wCGnrD/AKE3xV/4L/8A69eLWP7XvijRfEN5HNZ/b9PM5MdtdrsnjX+6SMnPtQB638bv+SyfDL/r4k/9Bavd6+VfEXxMg+JXxO+Gd3Fpl9pjpO++O9hKZJRvunuK+qq9rHf7thf8L/8ASmebhf41f1X/AKSgrH0nxhouu6ne6dp+p215fWRxcW8TgvFzj5h2rYr8+Pgf4jPw1/aW8aeJ767a38O6lr91ot6xXKxyAGSJjjsWZRXinpH3dJ4w0SHxEmgPqdsutPH5q2JceaUzjdj0qbS/E2la5eX1rYX8F3c2MnlXMcTZaF/7rehr4Q+Cd/e+LP2xNO8Zag0hk162vJrVScqtqrxrGF9OQ9dN8PfF134Fh/ai1yw3fbbXWZzCyHBRiWUMPoTn8KAPqzVPi/4K0XWxo9/4m0211Pdt+yyTgPnAOMfiKu+JviN4Y8GNbLrmuWWlm5UvD9olC+YBjJHr1H514F+z7+zT8PfFXwV0fVfEXh+w8Ra3raNe32rXkKyTySM56OQSoGBwO+a88/bIXR9D/aA+EEV74TPivSYLW7T+wbe3SXz1AQBQjEKcdefSgD7D8L+PvDnjbzv7B1m01Xyf9Z9lkDbfrXQV4z+zYfDGoaPq2oaB8Mm+GzicQS281lDbSXA2ht37snI5xz6V7NQB5V+1D/yQ3xN/uRf+jUrtvAP/ACI+g/8AXjD/AOgCuJ/ah/5Ib4m/3Iv/AEaldt4B/wCRH0H/AK8Yf/QBXsT/AORZD/HL/wBJiebH/fpf4V+bN+iiivHPSCiiigAoorwLWvjJ4+vPiR4m8N+FvDdrqcOjSRq8sk+w4dAR/Ce+a7cLg6mMclTsuVXd2krXS3fqctfEQw6TnfV2VlfzPfaK8G/4Tr41/wDQj2P/AIF//Y0f8J18a/8AoR7H/wAC/wD7Gu3+yqv/AD8h/wCBx/zOb6/T/kl/4Cz3mivBv+E6+Nf/AEI9j/4F/wD2NH/CdfGv/oR7H/wL/wDsaP7Kq/8APyH/AIHH/MPr9P8Akl/4Cz3mivBv+E6+Nf8A0I9j/wCBf/2NH/CdfGv/AKEex/8AAv8A+xo/sqr/AM/If+Bx/wAw+v0/5Jf+As89/bO0XVNP1jTtViu7g6VdKEeDzG8sSqeDtzjpivZf2a9DvtM+Gdleanc3N1e6h+/JuZGYqnRVAPTHNeZ/ES3+LXxK0JdK1PwRZCBZklDLdZPysDj7vQ4xXSWnjD4z2VrFbxeBrBY41CKou+gA/wB2j+yqv/PyH/gcf8w+v0/5Jf8AgLPfqK8G/wCE6+Nf/Qj2P/gX/wDY0f8ACdfGv/oR7H/wL/8AsaP7Kq/8/If+Bx/zD6/T/kl/4Cz3mivBv+E6+Nf/AEI9j/4F/wD2NH/CdfGv/oR7H/wL/wDsaP7Kq/8APyH/AIHH/MPr9P8Akl/4Cz3mivBv+E6+Nf8A0I9j/wCBf/2NH/CdfGv/AKEex/8AAv8A+xo/sqr/AM/If+Bx/wAw+v0/5Jf+As95orxT4Y/FzxZr/wAR7rwr4o0S30q4htftH7mXeepx2HpXtdcGKwtTCTVOpa7SejurPzR10K8MRHnh6a6BRRXJfFbxhceAfAGr67awLc3FnFvSJzgMcgdfxrGlTlWqRpw3bsvma1JqnBzlstTraK+fdN+JXxl1bT7W9t/BNi1vcRLNGxusZVgCP4fQ1Z/4Tr41/wDQj2P/AIF//Y16zymsnZzh/wCBx/zPPWYU2rqEv/AWe80V4N/wnXxr/wChHsf/AAL/APsaP+E6+Nf/AEI9j/4F/wD2NL+yqv8Az8h/4HH/ADD6/T/kl/4Cz3mivBv+E6+Nf/Qj2P8A4F//AGNH/CdfGv8A6Eex/wDAv/7Gj+yqv/PyH/gcf8w+v0/5Jf8AgLPea534h6NceIPBOsWFpNNb3UtufKkgfY4YYYYPbJGPxryj/hOvjX/0I9j/AOBf/wBjR/wnXxr/AOhHsf8AwL/+xo/sqr/z8h/4HH/MPr9P+SX/AICzwz9nDRdc174ufZbi+vEis5Wnv8TN87IcBXOeclcV91jjivlrwfp/xW8F65ruq2Xgax+0atMJZP8AScBOANo+X1BP411v/CdfGv8A6Eex/wDAv/7Gj+yqv/PyH/gcf8w+v0/5Jf8AgLPeaK8G/wCE6+Nf/Qj2P/gX/wDY0f8ACdfGv/oR7H/wL/8AsaP7Kq/8/If+Bx/zD6/T/kl/4Cz3mivBv+E6+Nf/AEI9j/4F/wD2NH/CdfGv/oR7H/wL/wDsaP7Kq/8APyH/AIHH/MPr9P8Akl/4Cz3mivBv+E6+Nf8A0I9j/wCBf/2NH/CdfGv/AKEex/8AAv8A+xo/sqr/AM/If+Bx/wAw+v0/5Jf+As95or511b4zfE7wnNp8viDwpZWNjdXKW3mLcljlj6ba+ia5MVg6mEUXNpqV7Wae3odFDEwxDaimmu6t+YtFFFcB1hXjv7T3/Il6T/2Frf8Ama9irx39p7/kS9J/7C1v/M0AexUUUUAMl/1b/Q14X+yz1+If/Yx3H/oTV7pL/q3+hrwv9lnr8Q/+xjuP/Qmr2sL/ALjif+3PzPMr/wC90P8At78j3eiiivFPTCiiq0ep2ck3kpdwPLnHlrIpb8s0AWaKKKACiq0WpWs19PZxzo91CA0kIPzID0JHvRcalaWbhLi6hgYjIWSQKSPXk0AWaKqHVrIBj9rgwqeacSA4T+916e9Nh1qxuLiCCK6ieaeEXEUaty8Z6MPagC7RRRQAV4j4f/5Os8Q/9gSP/wBDFe3V4j4f/wCTrPEP/YEj/wDQxXr5f8OI/wAD/NHnYz4qP+Jfkz26iiivIPRCiiigAooooAKKKKACiiigArgNJ+Bng7S9cn1g6THeanNKZTcXJL4J/wBnO39K7+igDwb41RpD8YPhgkaKiLPIAqjAHyNXvNeEfG7/AJLJ8Mv+viT/ANBavd69rHf7thf8L/8ASmebhf41f1X/AKSgr5dtf2S7zxF4O+Juga9dx2f/AAkfiL+17G7tmy8Cjbg+xytfUVFeKekeB6b+z3deHfjb4O8QaV5EPhzQtEbTfL3fPuLA5A98E/jSfDX9n270jVfi/F4iENxpPjLUZbiFY2ywjfd19CMg/hXvtFAHyp4S+Fvx7+F2iy+DfDOt6FdeGVZ1sNSv4ibmwjJJCqoYBsEk/MD1rR+MPwZ+JOsfEb4b+MvDc2larrHhm1mjuH1LKRzyuFBbarKccHoa+mqKAPOvhZffFC8ur0fEDT/D9lbqg+zHRTIWZs87t0jcYr0WiigDyr9qH/khvib/AHIv/RqV23gH/kR9B/68Yf8A0AVxP7UP/JDfE3+5F/6NSu28A/8AIj6D/wBeMP8A6AK9if8AyLIf45f+kxPNj/v0v8K/Nm/RRRXjnpBRRRQAV4d8Jf8Ak4L4tf8AXS1/9Fivca8O+Ev/ACcF8Wv+ulr/AOixXsYH/d8V/gX/AKXE83FfxqH+J/8ApMj3GiiivHPSCiqupala6PYT3t7OltaQrvkmkOFUepp9jfW+p2UF5ayrPbTossUqch1IyCPYigCeiiigAooqtJqVrDqEFi86Ldzo8kUJPzOq4DED0G5fzFAFmiszRfEVl4g+1/Y3Zjazvbyhlxh1JB/DIrToAKKKKACiiigDwjR/+TsdV/7BCfzevd68I0f/AJOx1X/sEJ/N693r2c0+Kl/gj+R5mB+Gp/ikFeaftIf8kY8Sf9cV/wDQhXpdeaftIf8AJGPEn/XFf/QhXNl/++Uf8UfzN8Z/u1T/AAv8jq/h/wD8iH4d/wCwdb/+i1roK5/4f/8AIh+Hf+wdb/8Aota6Cuav/Fn6v8zel/Dj6IKKK4Pxp8RH8H+KLa3mjVtMXT7i+uCq5kxGrHC8/wCzWBqd5RXldv8AtD6LcPIv9i67GY4o7lt9mBiFyQJPvdMir+tfHDRtD1S+tJNP1S4gsXt0ur62tw8EPnKrIWbPHDqT6DNAHotFcUvxZ0WSHzY1uHQ6xHoqlU6zuiup6/dww5rk9D+Nk+vTWnnWV1oyN4huNJX7Ra7hcLGkrYB3DafkyTz0xjmgD2GivMtH+P8A4f1i+jhFlq1nBN9q8i7urUJFN9n3edsO45A2n8qseA/jRY+PNZvNNt9H1SxltrZbvfdwhVeNiduCD1O08e1AHotFedw/HLw5LdW1v/pKSTwXUwLx4VPs5cSqxzwQY2rmtd+OUuiyXdzaWt1qyNc2sMdjHa7XiWXd8xbcd2cdMCgD2mivHLH45DTPGniHT9Y0/Uk023ubaKO8Ft+5tvNBAWVt3DFioxjvXsdABRRRQB4t+1D/AMi54c/7DEP869orxf8Aah/5Fzw5/wBhiH+de0V62I/3HD+s/wA0efR/3qr6R/UWiiivJPQCvF/2q7oWXgDT52VnWPVIGKqMk4z0r2ivHf2nxnwXpIIyP7Wt/wCZoAZ/w0tZf9Cn4i/8AZP/AImuM+LH7TF9H4V36DpOr6NfJPGwur2zKxgBuVO5cc19KfZ4v+eSf98iue8cfD/SfiBo40vVYmNl5iyssJClipyBnHSgDwD4a/td3+vXMem6xoE17O42ibS4mdvqUGf0FdV+yjMLiHx/KFZQ/iCdgrDBGWJwR2Net+H/AANoHg+zMOj6Vb2KBcfu054Hqea8n/ZZ6/EP/sY7j/0Jq9rC/wC44n/tz8zzK/8AvdD/ALe/I93ooorxT0xK+J0F5H4Rm1OHw9qdhLFrReTxcl4XW3USLnMStvZSCRjaRzzX2zXkH/DOtvNZz6XP4p1z/hH5pjPJpcEsaRyHcG2sShJXIHAx9aAKPxW+NGqeCLi51HTLzStQ0qytFvZrCKCea68sqDukKAiMYOQTgdM8VoR/EXxN468X3Oi+FP7OsYNPsba8urq+y5d5txEaqOQAF5JH8Qx3qXxZ+z5p/ie68RiPWdQ0rT9etUtr21smRdwSFYVwSpIG1QCO9XdR+CVuNWh1XQ9c1Lw9qP2WGyuZbN1xcxRghNwKn5hk8+9AHlniD4rJ8P8A4+eMNMje3fxNrMWm21lDLkQhjENzuf4VAzjJ5O0dSBTvGzNJ+0BdWusaBfeLjH4ZtGMNjIVSGQ3E4ZwuRwen4V6vffA7QdU1HxBf3zT3l7q9rBbPczFTJH5QGx1IHDblVvqOlanhv4cwaB4rl8Qvez3moSaXBpTNLjDRxO7hj/tEucmgDzHxJqtvaav4i8P22jW9jFb+GRKkpXM6gkfuy3cCl8A/8lU+H3/Yh2/869L1j4X6brPiLVdZlmmFzqGnHTpFBG0J2IGOtQaD8K7XQ9a8O6qt9PNd6PpS6QN2NssKjgsPXPNAHdUUUUAFeI+H/wDk6zxD/wBgSP8A9DFe3V4j4f8A+TrPEP8A2BI//QxXr5f8OI/wP80edjPio/4l+TPbqKKK8g9EKKKKACiiigAooooAKKKKACiiigDwj43f8lk+GX/XxJ/6C1e71wvxJ+Dmg/FOSxk1iS9ikssmF7OYRkZ98GuQ/wCGT/CX/QV8Rf8Agy/+xr3pTwmIw9GFSo4ygmvhv1b7rueUo4ijVqShBSUnfe3RLsz2mivFv+GT/CX/AEFfEX/gy/8AsaP+GT/CX/QV8Rf+DL/7Guf2GB/5/v8A8A/+2Nfa4r/n0v8AwL/gHtNFeLf8Mn+Ev+gr4i/8GX/2NH/DJ/hL/oK+Iv8AwZf/AGNHsMD/AM/3/wCAf/bB7XFf8+l/4F/wD2mivFv+GT/CX/QV8Rf+DL/7Gj/hk/wl/wBBXxF/4Mv/ALGj2GB/5/v/AMA/+2D2uK/59L/wL/gHtNFeLf8ADJ/hL/oK+Iv/AAZf/Y0f8Mn+Ev8AoK+Iv/Bl/wDY0ewwP/P9/wDgH/2we1xX/Ppf+Bf8A1P2of8Akhvib/ci/wDRqV23gH/kR9B/68Yf/QBXmNx+yP4Nuomim1HxBNE3VJNQ3A/gVr2LStNh0fTbWxt93kW0axJuOTtAwM1eJqYeOEhh6M3JqTeqtuku77E0YVpYiVarFR0S3vs2+y7luiiivGPSCiiigArw74S/8nBfFr/rpa/+ixXuNeHfCX/k4L4tf9dLX/0WK9jA/wC74r/Av/S4nm4r+NQ/xP8A9Jke40UUV456RxXxo/5JZ4l/69G/mK8j0mPWPFWv+GfDVv4h1DRdOj8DR3xWwmaMtKGjVTkEEYz1HUDHQ19D6nptrrNhPZXsK3FrOuySJs4YenFULHwdo2m30N5bWEcN1DZDTkkUtlbcEER9emQPfigD578H654psdE+G3iS+8TX2o3esax/ZV1bSOfIaHz2jB2Zxuwud2MnPtUWoaxqtx4c+I/iafxhqdteaB4lubewto7xkhSNbgKsTxhsOGBwARx2r6Ej8C6DHZ6ZaLpsQt9Nn+02keWxDLuLbhz13Enn1rz/AMG/s/6NZ614j1TX9Pi1C7vteudUt286TYEdyyBow21iAe4NAGBY/ELVv7S+IM2oai9jHb6HBfW0c0mxYGa3VmZc9PmJ/EVzkOk/8Jb8WvhHqWo67qcM154b1J2eC/eHcyS2uAMH+LdyB97aM9K941/4Y+GPFGpR3+qaTFd3UcflBmd1Vk/usoYKw9iDUesfCvwrr0ekR3ukRyLpOfsJjlkjMGcEhSrA4OBweOBQB4Trnj3xRc+GtVS2125s7hvGR0tLhDlo4DdGPaP+A8CtDXPFfiHwHD8UtDstbvL19H0iDUrW+v5DLLAZDIrYLE5x5eQPevcP+Fe+HfJeL+yofLe8/tBlJbm437/M69d3PpXNfFr4Yf8ACWeE/EsWh29vDrmsWq2s80xOJ4l3ERtzwPmPIweaAOV+C2k6pceMtQ1Map4ku/DwtIxCmuXcp/fnBfCOegwe2PSvca8a+GXww1bw/wCMLbWfsJ8NWMdjJbXOnf2nLf8A2mUuhWQM7sEACsMAZ+brXstABRRRQB4Ro/8Aydjqv/YIT+b17vXhGj/8nY6r/wBghP5vXu9ezmnxUv8ABH8jzMD8NT/FIK80/aQ/5Ix4k/64r/6EK9LrzT9pD/kjHiT/AK4r/wChCubL/wDfKP8Aij+ZvjP92qf4X+R1fw//AORD8O/9g63/APRa10Fc/wDD/wD5EPw7/wBg63/9FrXQVzV/4s/V/mb0v4cfRBXGeNvhrb+Nrx7ia9lti2nz6ftRAflkVlLc9xu/SuzrzTVPi9/YHxRvPD2o2yQ6PDpbXy3wyW3puaRTzjAQA/WsDUuN8IrVp5pf7QmzJpyacR5Y4VTnd9a46H4O6rrPirxlZ3GrT6f4cuZdNAiW3Rvtqw28St8+dyglCpH1rY8JfHSO88M2l7r2nXFvqlzNOq2GnwNM6xxbd0hUchRvXJ6DcK37r4xeHrO1sLxvtr6beLC0eoR2zNbL5rKqK0nQElhxQBkx/BCO31ZJYNcni0pdZi1sad5CMPOjRUAEhO4LhBxS23wVMd9byS65NJa22tT6zDbC3UbXlSRWUt1I/eE/hWpD8ZfDtxrp0tDeeYL9dL+0m2YW5uSqsIxJ0zhlP41rfEbxNc+DvBOq6zZ263V1axho4Xzh2LBQOPrQByGpfCU6L4d059OuZL690NNSmtYHUKLh7oOdrHtgvxWD8BND8S+Gb5bS5tN2lyWrG7uri3jhlWZWHlxrt5ZQGfk8DjHU1q2vxyOp+IvA2l2NrDKNctjcXk24kQkEoyLz1EisOfStqH47eFHjnklnurSFIJLqOW5t2jS5iRlRniJ++AzoMjuwoAwde/ZzstbOtN/bd1A+oXPmxN5St9lidt08SZPSQl8ntvNaWsfBGC+jv2tdWms7mc2zwyeSriFoAQpwfvZz0NYuo/Gm8fUtTEKvo1pDPpsUP9qafIJD9omhQqUDAgnzCAegJBOcYrvf+FkaZHr40ie3v7adhIY557Rkgl2AFtjnhuo6UAZGo/CGHVdO8QW1xqszSazcWlzNMsSja0EiyDA/2iuPbNehVxXgb4t6F8QmsRpS3qrfWA1K1e6tWiWa3JUb1J68uv512tABRRRQB4t+1D/yLnhz/sMQ/wA69orxf9qH/kXPDn/YYh/nXtFetiP9xw/rP80efR/3qr6R/UWiiivJPQCvHf2nv+RL0n/sLW/8zXsVeO/tPf8AIl6T/wBha3/maAPYqKKKAGS/6t/oa8L/AGWevxD/AOxjuP8A0Jq91k5jYDrg18y/D268ffCvUvFkFv4EvNWg1HV57yOZW2jaXOO3pXvYCHtsLiKUWuZ8trtLZ+Z5WLl7OvRqNOy5tk308j6corxX/hb3xD/6Jhe/9/f/AK1H/C3viH/0TC9/7+//AFqw/svEd4/+Bx/zNfr1Hs//AAGX+R7VRXiv/C3viH/0TC9/7+//AFqP+FvfEP8A6Jhe/wDf3/61H9l4jvH/AMDj/mH16j2f/gMv8j2qivFf+FvfEP8A6Jhe/wDf3/61H/C3viH/ANEwvf8Av7/9aj+y8R3j/wCBx/zD69R7P/wGX+R7VRXiv/C3viH/ANEwvf8Av7/9aj/hb3xD/wCiYXv/AH9/+tR/ZeI7x/8AA4/5h9eo9n/4DL/I9qorxX/hb3xD/wCiYXv/AH9/+tR/wt74h/8ARML3/v7/APWo/svEd4/+Bx/zD69R7P8A8Bl/ke1UV4r/AMLe+If/AETC9/7+/wD1qP8Ahb3xD/6Jhe/9/f8A61H9l4jvH/wOP+YfXqPZ/wDgMv8AI9qrxHw//wAnWeIf+wJH/wChipP+FvfEP/omF7/39/8ArVT+FuneKda+NGseLNc8OzaDbXGnLaokpzlgwPXH1rtw+FnhaVedVx1g18UXrddmctbERxE6Uaaekr7NdH3R7tRRRXzZ7QUUUUAFFFFABRRRQAUUUUAFFFFABRRRQAUUUUAFFFFABRRRQAUUUUAFFFFABRRRQAUUUUAFeHfCX/k4L4tf9dLX/wBFivca8O+Ev/JwXxa/66Wv/osV7GB/3fFf4F/6XE83FfxqH+J/+kyPcaKKK8c9IKKKKAOWn+KHhW20uHUZdbto7KW8GnpK2QDcE4EeMZBz68VS8W/ELT9PaWztNas7S/trq3huBcIzBfNyVXgfeYKcemOa8R8afBTVfEnjbxPo5sZU8PTG41e1miG2MXUkMUaAd9ymHdxx89S6f4H8W638NrfUdW0mWLxDqPiVdQubbHzxQBjsBx/dBoA7qX9ojTtUvfiJo+mssereG45PszPFIRMy26yljlQBhiRgnnGR1rX+Fnxw0Hxxb6XpcuqRyeJprT7RLbLBJGrYOGKkrtOMjoe9cfeeH9a0zxd8X7E6VczxeKovtOn3UMZaMkWUcOxmHCndGevqKs2PgbV7GT4RGPT2hbSt8d6Y1x5SkDg47EigD1Dxl8RtA8ArbnW7x7X7QcRhLeSUn1+4px+NbGj6xZeINMt9R064W6srhd0UyZwwzjv7ivMvjA3iWTxFpNvZJqR8PSQP9o/slVM0s+fljZiCUQj+IY56mrv7OPh7VPCvwj0jS9YtprO/gkuC8E772QNM7KCe/DCgD02iiigAooooA8I0f/k7HVf+wQn83r3evCNH/wCTsdV/7BCfzevd69nNPipf4I/keZgfhqf4pBXmn7SH/JGPEn/XFf8A0IV6XXmn7SH/ACRjxJ/1xX/0IVzZf/vlH/FH8zfGf7tU/wAL/I6v4f8A/Ih+Hf8AsHW//ota6Cuf+H//ACIfh3/sHW//AKLWugrmr/xZ+r/M3pfw4+iCvO/FXwbsfGWu3V/f3k0aTGFTFB8pZEbLIT3VxlSPQ16GSFBJ4FJ5ihQdwwehz1zWBqeNeIv2d4tWXTJ4b22N3ZTXDKl5aCaIxzeXvTbuHI8pcH68VP4p/Z+j8Q/ZII9ThtrC2Fr5dr9iBWEwujHyvm+QMUzjnrXsFQyXkENxDBJNGk0xIjjZgGfAycDvwCfwoA87T4PiG2UDUWLjxDF4gP7ofejRU8oc99gOffpWnDouteMPAt5Ya9ILa8uZ9yN5IUpEJFZAyhiM4GDzXbdOTUP262MKzCePymOFfeNpPsaAPM9P+AemaXrVrfQXkhWO6kuGiZONrRqpjXn5VLAt9WNY+i/s12Gl6bfae81lIjWrWtvefYR9pCmRZPnfdz8yLkd8e1e10UAeQXnwR1bX5dQudb8SR3d3dXenXO6CxESr9llikxjefvGL8N3fFOk+BU1144j1651eKXyriSdWNoPPIZVAQvu6DB7d69dooA8s0n4TXXgfSdBbSdRa7vtA8PPo1rvgAEz5QrIw3cDKDI969H0b7Z/Y9j/aJQ6h5Ef2kxjC+ZtG/A9M5q5RQAUUUUAeLftQ/wDIueHP+wxD/OvaK8X/AGof+Rc8Of8AYYh/nXtFetiP9xw/rP8ANHn0f96q+kf1FoooryT0Arx39p7/AJEvSf8AsLW/8zXsVeO/tPf8iXpP/YWt/wCZoA9iooooAKKK8A+Lek6l40+Onh3w1D4j1TQbGbTJZnbTZihLKWIyOh6V3YPDLFVHGUuVJNt76JXOXEVnQgpKN22lb1Pf6K8O/wCGZbr/AKKX4t/8ChR/wzLdf9FL8W/+BQrq+q4L/oJ/8lkYe3xP/Pn/AMmR7jRXh3/DMt1/0Uvxb/4FCj/hmW6/6KX4t/8AAoUfVcF/0E/+SyD2+J/58/8AkyPcaK8O/wCGZbr/AKKX4t/8ChR/wzLdf9FL8W/+BQo+q4L/AKCf/JZB7fE/8+f/ACZHuNFeHf8ADMt1/wBFL8W/+BQo/wCGZbr/AKKX4t/8ChR9VwX/AEE/+SyD2+J/58/+TI9xorw7/hmW6/6KX4t/8ChR/wAMy3X/AEUvxb/4FCj6rgv+gn/yWQe3xP8Az5/8mR7jRXh3/DMt1/0Uvxb/AOBQo/4Zluv+il+Lf/AoUfVcF/0E/wDksg9vif8Anz/5Mj3GivDv+GZbr/opfi3/AMChR/wzLdf9FL8W/wDgUKPquC/6Cf8AyWQe3xP/AD5/8mR7jRXh3/DMt1/0Uvxb/wCBQo/4Zluv+il+Lf8AwKFH1XBf9BP/AJLIPb4n/nz/AOTI9xorw7/hmW6/6KX4t/8AAoUf8My3X/RS/Fv/AIFCj6rgv+gn/wAlkHt8T/z5/wDJke40V4d/wzLdf9FL8W/+BQo/4Zluv+il+Lf/AAKFH1XBf9BP/ksg9vif+fP/AJMj3GivDv8AhmW6/wCil+Lf/AoVzHxL+B+o+B/A2r65bfEXxTcT2cXmLHLd/Kx3Ac4571pTwOEqzjTjidW7fDLqRPFYinFzlR0X95H0xRXOfDm4lvPAegzzyNNNJZxs8khJZiR1Jro68epD2c3Ds7HowlzxUu4UUUVmWFFFFABRRRQAUUUUAFFFFABRRRQAUUUUAFFFFABRRRQAV4d8Jf8Ak4L4tf8AXS1/9Fivca8O+Ev/ACcF8Wv+ulr/AOixXsYH/d8V/gX/AKXE83FfxqH+J/8ApMj3GiiivHPSCiiuE1L4zeHtP8WHw9Gby/vY3WO4extJZordmxhXdVKg8jjPHfGKAO7orzjVvj74S0fxBPpc9xdFbaRYbm+jtJWtoJCAQrShdoOCM88Z5qXxV8c/C/g/V9S0y9lu5L3T4Yri5jtrOWURxOMhyyqQBgZ5NAHoVFcFr3xq8OaHJpcateajLqNnHqEMdjaSzN9mf7spCqcA89eeOlY9j8dbW8+MF74KFhd7IrWCdLn7NJjc+/O75cAfKOTQB6rRXE6V8XtA1bxNBoaG8t7y5kkitjc2csSTvGGLhSygHAVjnoQOKzLH9oHwdqWs2+n293cuZrj7H9p+xzCBJ9xURmQrtBJB7/WgD0mivM/CXxmh8TfFDxR4TFhcxrpTQpFceQ+1yysW3NjAGQMc816ZQAUUUUAeEaP/AMnY6r/2CE/m9e714Ro//J2Oq/8AYIT+b17vXs5p8VL/AAR/I8zA/DU/xSCvNP2kP+SMeJP+uK/+hCvS680/aQ/5Ix4k/wCuK/8AoQrmy/8A3yj/AIo/mb4z/dqn+F/kdX8P/wDkQ/Dv/YOt/wD0WtdBXP8Aw/8A+RD8O/8AYOt//Ra10Fc1f+LP1f5m9L+HH0Ri+NGMfg3XmX7y2E5H/ftq+XItQ1l7H4faBN9oEWh6xpF090xbbdx3MsbBevVGYjvwK+upoY7iGSKVFkikUq6MMhgRggj0qs2j2L28MDWcJghZHjjMY2oyY2EDsVwMemKwNTxBfiR4ksdQs9Ym1OG5W+1d9N/sCOH5oIxG7gk7s7gUAJxj5hxWBceONYn1Dw54qmv4tSv10/Ub5dLhjK+Q6WszLERkkkEBSeMnnjpX0Eng/Qo9abWE0eyXVWBDXogXzjnr82M84FR2Xgfw9puqTalaaJp9tqExLSXUVuiyOSMElgMnjigDyDwv8TfFU3hvV9T1HybmGbT4pLVSuxhcuWBjC5PGNoA65B9asaD4S0Sz8Wan4d8UyLdafpGlWkem/apGRTEEHnvweTvCV6a3w38OxzLLa6TZ2Mpuo7uV7aBUMroSV3EDnqetXte8H6F4q8n+2dHstU8k5j+2QLLs5B4yOOQPyoA8Z1r4m6xp+qeIjp17b2en6FeWdhpumCIyNqEckMThgSwPJkKDrjbk56VWuvGHj2+1WSW0122sre58WtoENvJYl/Ii8ppC5O8bjlQB0xk9a9ql8K+HNS1i31CTS9PutT07EcNw0KNLbcAhQcZXgg4960P7F0/cG+xQZFx9rB8sf67GPM/3sHGetAHhui+P/GGvNpGjrqtvb3b6jqlnNe/ZiS6W7TBDt3cHEa5OetVbP4seNNH0vSNVvJLfVRqumahcLaxwGPy5LZ1UfxHO7fk/Svd4PDelWsyzQ6daxyq7yB1iUEM+d5zjq2459cmnroWnRrAFsbdRbq6RARj92r/fC+gOBn1oA8M1z4keJ9BsNQt7TXbTWppdMgvYtQitz5cErXUERXbu6ESswGc4Wu8+F+ta02v+JNE1rUBqj2UkTw3Ah8s7XiRip5OfmLY9Bgds11lj4L0DTbK4s7TRrG2tbhxLNDFbqqSMDkMwA5IIzmtKDT7a2uJZ4reOOaXHmSKoDNgYGT34FAFiiiigDxb9qH/kXPDn/YYh/nXtFeL/ALUP/IueHP8AsMQ/zr2ivWxH+44f1n+aPPo/71V9I/qLRRRXknoBXjv7T3/Il6T/ANha3/ma9irx39p7/kS9J/7C1v8AzNAHsVFFFABXi3iD/k6jwt/2B5/5PXaeGvjF4T8UXtxZW2rQw31u5SS3uD5bAj03YB/CuL15g37U3hUg5B0ecgj6PXrZb8VX/BP8jz8b8MP8UfzPaaKKpa1qH9k6Pf32zzPssEk2312qTj9K8k9Au0VzXgjxa/jDwRYa8LdYHuomkEO7gYYjGfwqrpvxG0uHQdJutc1XS7G8vrZrhViuAY5ApG4xk8sBkfnQB19FYUnjrw/H4dTXm1iz/sd8BbwTKY2JOAoOfvZ4x1zx1otvHXh670P+2ItYszpu/wAs3BmUKH/uHJ4b/Z60AbtFYUfjjQJdDbWBq9oNMVgrXTShUQkhQGJ6HJA5qlqnxC06HwPrHiTTJF1K20+CWX5MgOUBJAJ+nWgDqqK43S/ijojeHNL1LVtQtNKlvrX7UIJpgCF4zjPXGRVLxZ8bPDPhP/hHZJr6G5tNamMUNzBKrIAATuJz04xQB39Fc/q/j7w5oMlumoazZ2rzhWRZJQDtbox9AfU8cVJqHjfQdK1BLG61W1ivZGVEtzIDIxb7oC9Tkc/TmgDcormofiV4XuNQt7GLXbGW7uJDDHEkwJMgbbs9myMY60/U/iH4a0bWE0u91uztr9iB5MkoBXPTd/dz2zjNAHRUVxUPjiX/AIWbqehTmGHTLPSVvzcMwGCXwSSeAAK0V+Ivh24sdSurbV7W5j0+Myz+VICVUDOfp79KAOkorzHw18arLx74S0PXPD0+nql9NEk0OoT7GjDrnau3OX9q629+IPhvTtcXRrnW7GHU2x/orTqHGegIzwT70AdDRXPax8QPDfh+6nttR1uxs7iBUeSGadVdVb7rFc5wfWt23uIrqCOeCRJoZFDpJGwZWUjIII6gjvQBJXnn7QP/ACR3xP8A9ew/9DWvQ688/aB/5I74n/69h/6Gtd2A/wB7pf4o/mjlxf8Au9T0f5G38MP+SeeHf+vKP/0Guorl/hh/yTzw7/15R/8AoNdRWOJ/jz9X+ZpR/hR9EFFFFc5sFFFFABRRRQAUUUUAFFFFABRRRQAUUUUAFFFFABRRRQAV4d8Jf+Tgvi1/10tf/RYr3GvDvhL/AMnBfFr/AK6Wv/osV7GB/wB3xX+Bf+lxPNxX8ah/if8A6TI9xooorxz0grxrwXpfiX4aeKvElhB4Z/taw1fVX1CLUobgR4WVyzCTIPKbiB64r2WigD5w1j4eeMV8E+LfAFto0d5Br13KY9ammASCGULuZ1AyzKQccjIxXYW/w31O18UfEu5ECyWmraNa2Vk7NlpHS3kRgf8AgTCvX6KAPm/xB4D8Taf4H8MWeneGrp/F1jo8dra65Y34Q20wB2xyKVIMYbBJYEcmumsfD3izQvis2sS6cdQOraJBY3F9E4CW08XmHcVxyCZPbpXtVFAHzNo/w18bat4w8DatrWl3D6ppWoTTX+rTXw2shhkQLHCoAC5YY6nsSa1ofhP4hX4QyaKlokepnXjfhd4H7vzCd2fXFfQdFAHl/hLQta8M/F3xbcvpbTaRrgtpY79ZhiNo0ZWUrjuWGOe1eoUUUAFFFFAHhGj/APJ2Oq/9ghP5vXu9eEaP/wAnY6r/ANghP5vXu9ezmnxUv8EfyPMwPw1P8UgrzT9pD/kjHiT/AK4r/wChCvS680/aQ/5Ix4k/64r/AOhCubL/APfKP+KP5m+M/wB2qf4X+R1fw/8A+RD8O/8AYOt//Ra10Fc/8P8A/kQ/Dv8A2Drf/wBFrXQVzV/4s/V/mb0v4cfRBRRRWBqFFFFAHH/EDxfN4Lm0e8cA6ZNM1rcHHKyOB5TZ7AENmvL9W+MPijSfDujXk3ltrHkW93f6bFZuywrK6Lskfd8uA5x6kD6V7hrvh/TfE2myafq1lDqFlIQXgnXcpx04rL1v4b+F/Emqw6lqmhWN9fwqFjuJogzqBggA/gKAPJ/CXjC/03xxr4hx9l1DxNDDOZcnYrWdtgA9uTTNS+OHiG6vLTS9OtYzd3lzfCO4ht3mUJbmIKm0NnLeb1z/AA9K9evPh94b1BbtbnRbOYXbpJcb4gfMZVCqT6kBVH4Cm3Hw68MXWmf2dLodlJY+aZvIaIbd5GC2PWgC94Xvr/UvD2n3Op2wtNQkhVp4VBAV8DdgHkDPY1q1BZWcGm2cFpaxLBbQRrFFEgwqKowAPYAVPQAUUUUAFFFFAHi37UP/ACLnhz/sMQ/zr2ivF/2of+Rc8Of9hiH+de0V62I/3HD+s/zR59H/AHqr6R/UWiiivJPQCuR+Jnw5tPidoMelXl3cWcUcyziS2IDhl6ckGuuooA8X/wCGbV/6HfxL/wCBSf8AxFH/AAzav/Q7+Jf/AAKT/wCIr2iigD4l0X9k3xhrniCaaab+ybDzjturhszkZ67Rg5Nej+F/AY+Hv7RHhXTRqt7q3/Epnbzb1w5Xh+F4HH1r6TrxbxB/ydR4W/7A8/8AJ69bLfiq/wCCf5Hn434Yf4o/me01k+LIZLnwrrMMSNJLJZTIiKMliY2AArWoryT0Dw74N+PreHwJpXha50nWbPU4beSN2uLB0iDbmP3zx3rlfA/gO/k174KrqeiSvDp3h6+S6W4gysEhkg2hwRwSA3X3r6Z8tf7o/KlwPSgD481bwb4isfCCPa6beppWmeMby6ns7W2Er/Z3mfY6REEMAzB8Y7V1UdrP4f8AAt9qOhxalfW+saxG15Jf6Uo+yLtw80cO0AnG0Z6cV9M7R0xxSbV242jHpigD5An8HazdeD/iFYfZNa1Cyu/EGktaf2larHJPEtxGZSERFXbgEnA6da+jviVoaj4V+JNN0qyUM+nTRw29vHjcShAAA712W0egpaAPnTwj4Hurn4keC5tT0Z5rC18I3NvM1zDujjmaS3Kqc8BiFbHfg1yVh4XvtE+Hfg3UNR8P3Fza6P4s1SW4t1td7x2r3kwiYJj7m1lI7Yr63wPSjaNuMDHpigD5N8T+G5W+JHin+1Y9bi0rxBHA9k1rpYuFEfzDyuVPlsp5wP71ei/DnwAmmfGLWri8s5r2O10iyt7XUNQjy7MsaAnpgPxyQM9a9t2g4yAfwowOuOaAPjDwq0Pir4XWvhfQ9AvJfFM3iO5lGpLZERwhb6XMxm9FGP8AvnFdpqumXGgr8R9F1Pw5c6xr+tXj3OlXMNoZvMiYgIN+OPLzn2zXv/g3wXpngPRV0rSkkW1WaaYea+9t0kjSNz6bnNbm0ZzgZ9aAPALfSvEvg3Ur2dtKk1jUofBENqu5C8VzdRqAyE98lScdwa5fwLoeq6p8ULG9MWrXen3Ph67S8F1pyW9mkx27I0CoM87vvFq+p6AoXoAPwoA+SvBmh3E3wn+HOkWmhXVtqWh6vbxanH9kMZVljYFzxyM/xe9T+ItJvLHwv4+8L3XhW81Dxrrl1MNN1KKzJWQSIFil87nYE6HsNua+rQir0UD8KXaM5wM+tAHgcfw/lvPHnxMn1TSft/m+HbG2t7qeAMJZFhn3Khx1DbentXo3wTs7zTfhN4TtL+KWC7g06CN4pgQyYQAAj2Artse1LQAV55+0D/yR3xP/ANew/wDQ1r0OvPP2gf8Akjvif/r2H/oa13YD/e6X+KP5o5cX/u9T0f5G38MP+SeeHf8Aryj/APQa6iuX+GH/ACTzw7/15R/+g11FY4n+PP1f5mlH+FH0QUUUVzmwUUUUAFFFFABRRRQAUUUUAFFFFABRRRQAUUUUAFFFFABXzN4b+JXh34dfH74oSa/qC2K3UtssW4E7isYz0+or6ZrJvPCejahcvcXOmWs88hy0kkQLH6mvTwWJpUFUhWi3Gato7PdPs+xw4qjUquEqbScXfXXo1+pwP/DTvw4/6GGP/vhqP+Gnfhx/0MMf/fDV3H/CD+H/APoDWf8A35FH/CD+H/8AoDWf/fkVrz5b/wA+5/8AgS/+RI5cb/PH7n/mcP8A8NO/Dj/oYY/++Go/4ad+HH/Qwx/98NXcf8IP4f8A+gNZ/wDfkUf8IP4f/wCgNZ/9+RRz5b/z7n/4Ev8A5EOXG/zx+5/5nD/8NO/Dj/oYY/8AvhqP+Gnfhx/0MMf/AHw1dx/wg/h//oDWf/fkUf8ACD+H/wDoDWf/AH5FHPlv/Puf/gS/+RDlxv8APH7n/mcP/wANO/Dj/oYY/wDvhqP+Gnfhx/0MMf8A3w1dx/wg/h//AKA1n/35FH/CD+H/APoDWf8A35FHPlv/AD7n/wCBL/5EOXG/zx+5/wCZw/8Aw078OP8AoYY/++Go/wCGnfhx/wBDDH/3w1dx/wAIP4f/AOgNZ/8AfkUf8IP4f/6A1n/35FHPlv8Az7n/AOBL/wCRDlxv88fuf+Zw/wDw078OP+hhj/74aj/hp34cf9DDH/3w1dx/wg/h/wD6A1n/AN+RR/wg/h//AKA1n/35FHPlv/Puf/gS/wDkQ5cb/PH7n/mcP/w078OP+hhj/wC+Go/4ad+HH/Qwx/8AfDV3H/CD+H/+gNZ/9+RR/wAIP4f/AOgNZ/8AfkUc+W/8+5/+BL/5EOXG/wA8fuf+Z4V8O/GGleOP2mtU1PRroXlk2lqgkUY5BbP86+kazdO8OaXpExlsrC3tZCMFoowpxWlWGOxMMTUi6cWlGKWur0NMLRnQg1N3bbenmFeZ/tIsF+C/iUngCAE/99CvTKgvLG31G3aC5hSeFvvRyDIP4Vz4aqqFeFVq/K0/uZvWp+1pSprqmjxrwb+0h8P9N8I6LaXGvRx3FvZQxSLsPDKgBH5itj/hp34cf9DDH/3w1dx/wg/h/wD6A1n/AN+RR/wg/h//AKA1n/35FejOrl05OTpz1/vL/wCROKNPGxSipx08n/mcP/w078OP+hhj/wC+Go/4ad+HH/Qwx/8AfDV3H/CD+H/+gNZ/9+RR/wAIP4f/AOgNZ/8AfkVPPlv/AD7n/wCBL/5Erlxv88fuf+Zw/wDw078OP+hhj/74aj/hp34cf9DDH/3w1dx/wg/h/wD6A1n/AN+RR/wg/h//AKA1n/35FHPlv/Puf/gS/wDkQ5cb/PH7n/mcP/w078OP+hhj/wC+Go/4ad+HH/Qwx/8AfDV3H/CD+H/+gNZ/9+RR/wAIP4f/AOgNZ/8AfkUc+W/8+5/+BL/5EOXG/wA8fuf+Zw//AA078OP+hhj/AO+Go/4ad+HH/Qwx/wDfDV3H/CD+H/8AoDWf/fkUf8IP4f8A+gNZ/wDfkUc+W/8APuf/AIEv/kQ5cb/PH7n/AJnD/wDDTvw4/wChhj/74aj/AIad+HH/AEMMf/fDV3H/AAg/h/8A6A1n/wB+RR/wg/h//oDWf/fkUc+W/wDPuf8A4Ev/AJEOXG/zx+5/5nD/APDTvw4/6GGP/vhqP+Gnfhx/0MMf/fDV3H/CD+H/APoDWf8A35FH/CD+H/8AoDWf/fkUc+W/8+5/+BL/AORDlxv88fuf+Zw//DTvw4/6GGP/AL4aj/hp34cf9DDH/wB8NXcf8IP4f/6A1n/35FH/AAg/h/8A6A1n/wB+RRz5b/z7n/4Ev/kQ5cb/ADx+5/5nz58cPjL4S8faf4e0/Q9VW9u11SGQxqpHyg9a+nqxovBehQyLJHpFmjqchliGRW1WeLxFGrSp0aEWlG+7vvbsl2Lw9GrTnOpVkm5W2VtvvCiiivLO4KKKKACiiigArxLxRdQ2f7UXhiWeVIYho8+XkYADh+9e21wfjz4K+GfiRqlvqOsw3D3UEflI0MuzC5zjpXpYCtSo1Je2bUZRktNd1Y4sXTnUgvZ7pp6+TOq/4STSv+gla/8Af5f8aP8AhJNK/wCgla/9/l/xrzH/AIZX8C/88tQ/8Cz/AIUf8Mr+Bf8AnlqH/gWf8K29ll3/AD9l/wCAr/5Iy9pjP+fcf/An/kenf8JJpX/QStf+/wAv+NH/AAkmlf8AQStf+/y/415j/wAMr+Bf+eWof+BZ/wAKP+GV/Av/ADy1D/wLP+FHssu/5+y/8BX/AMkHtMZ/z7j/AOBP/I9O/wCEk0r/AKCVr/3+X/Gj/hJNK/6CVr/3+X/GvMf+GV/Av/PLUP8AwLP+FH/DK/gX/nlqH/gWf8KPZZd/z9l/4Cv/AJIPaYz/AJ9x/wDAn/kenf8ACSaV/wBBK1/7/L/jR/wkmlf9BK1/7/L/AI15j/wyv4F/55ah/wCBZ/wo/wCGV/Av/PLUP/As/wCFHssu/wCfsv8AwFf/ACQe0xn/AD7j/wCBP/I9O/4STSv+gla/9/l/xo/4STSv+gla/wDf5f8AGvMf+GV/Av8Azy1D/wACz/hR/wAMr+Bf+eWof+BZ/wAKPZZd/wA/Zf8AgK/+SD2mM/59x/8AAn/kenf8JJpX/QStf+/y/wCNH/CSaV/0ErX/AL/L/jXmP/DK/gX/AJ5ah/4Fn/Cj/hlfwL/zy1D/AMCz/hR7LLv+fsv/AAFf/JB7TGf8+4/+BP8AyPTv+Ek0r/oJWv8A3+X/ABo/4STSv+gla/8Af5f8a8x/4ZX8C/8APLUP/As/4Uf8Mr+Bf+eWof8AgWf8KPZZd/z9l/4Cv/kg9pjP+fcf/An/AJHp3/CSaV/0ErX/AL/L/jR/wkmlf9BK1/7/AC/415j/AMMr+Bf+eWof+BZ/wo/4ZX8C/wDPLUP/AALP+FHssu/5+y/8BX/yQe0xn/PuP/gT/wAj07/hJNK/6CVr/wB/l/xo/wCEk0r/AKCVr/3+X/GvMf8AhlfwL/zy1D/wLP8AhR/wyv4F/wCeWof+BZ/wo9ll3/P2X/gK/wDkg9pjP+fcf/An/kenf8JJpX/QStf+/wAv+NH/AAkmlf8AQStf+/y/415j/wAMr+Bf+eWof+BZ/wAKP+GV/Av/ADy1D/wLP+FHssu/5+y/8BX/AMkHtMZ/z7j/AOBP/I9O/wCEk0r/AKCVr/3+X/GuA+Peu6dcfCHxLHFf28kjW4wqyqSfmX3qh/wyv4F/55ah/wCBZ/wpr/sp+A5FKvBfOp6q10SP5VvQ/s6jVhV9rJ8rT+FdP+3jKr9cq05U+SOqa+J/5HdfDD/knnh3/ryj/wDQa6iqmk6XBoum21haqUt7eMRxqTkhQMCrdeLWkqlSU11bPTpxcIRi+iCiiisjQKKKKACiiigAooooAKKKKACiiigAooooAKKKKACiiigAooooAKKKKACiiigAooooAKKKKACiiigAooooAKKKKACiiigAooooAKKKKACiiigAooooAKKKKACiiigAooooAKKKKACiiigAooooAKKKKACiiigAooooAKKKKACiiigAooooAKKKKACiiigAooooAKKKKACiiigAooooAKKKKACiiigAooooAKKKKACiiigAooooAKKKKACiiigAooooAKKKKACiiigAooooAKKKKAP/2Q==)"
      ]
    },
    {
      "cell_type": "markdown",
      "metadata": {
        "id": "YzGkteP66Fl_"
      },
      "source": [
        "Basic Imputation Techniques:\n",
        "*   Imputating with a constant value\n",
        "\n",
        "*   Imputation using the statistics (mean, median or most frequent) of each column in which the missing values are located\n",
        "\n",
        "For this we shall use The SimpleImputer class from sklearn.\n",
        "\n"
      ]
    },
    {
      "cell_type": "code",
      "metadata": {
        "id": "pVnpO0P66YLj",
        "colab": {
          "base_uri": "https://localhost:8080/"
        },
        "outputId": "a2b11ad0-6a22-4018-a208-69b83931a32d"
      },
      "source": [
        "from sklearn.impute import SimpleImputer\n",
        "train_const = train.copy()\n",
        "main_imputer = SimpleImputer(strategy = 'constant', fill_value = 0)\n",
        "train_const.iloc[:,:] = main_imputer.fit_transform(train_const)\n",
        "train_const.isnull().sum()"
      ],
      "execution_count": 101,
      "outputs": [
        {
          "output_type": "execute_result",
          "data": {
            "text/plain": [
              "PassengerId    0\n",
              "Survived       0\n",
              "Pclass         0\n",
              "Name           0\n",
              "Sex            0\n",
              "Age            0\n",
              "SibSp          0\n",
              "Parch          0\n",
              "Ticket         0\n",
              "Fare           0\n",
              "Cabin          0\n",
              "Embarked       0\n",
              "dtype: int64"
            ]
          },
          "metadata": {
            "tags": []
          },
          "execution_count": 101
        }
      ]
    },
    {
      "cell_type": "code",
      "metadata": {
        "colab": {
          "base_uri": "https://localhost:8080/"
        },
        "id": "kJ1GFPznvblD",
        "outputId": "71c60aa5-4fca-4ba8-8e36-dc24e9259440"
      },
      "source": [
        "train_const = train.copy()\n",
        "main_imputer = SimpleImputer(strategy = 'most_frequent')\n",
        "train_const.iloc[:,:] = main_imputer.fit_transform(train_const)\n",
        "train_const.isnull().sum()"
      ],
      "execution_count": 102,
      "outputs": [
        {
          "output_type": "execute_result",
          "data": {
            "text/plain": [
              "PassengerId    0\n",
              "Survived       0\n",
              "Pclass         0\n",
              "Name           0\n",
              "Sex            0\n",
              "Age            0\n",
              "SibSp          0\n",
              "Parch          0\n",
              "Ticket         0\n",
              "Fare           0\n",
              "Cabin          0\n",
              "Embarked       0\n",
              "dtype: int64"
            ]
          },
          "metadata": {
            "tags": []
          },
          "execution_count": 102
        }
      ]
    },
    {
      "cell_type": "markdown",
      "metadata": {
        "id": "aBeSoRf0v0-x"
      },
      "source": [
        "# Advanced Imputation Techniques"
      ]
    },
    {
      "cell_type": "markdown",
      "metadata": {
        "id": "HIR21LPqv42r"
      },
      "source": [
        "**K-Nearest Neighbor**"
      ]
    },
    {
      "cell_type": "code",
      "metadata": {
        "id": "mAkgjoCkv8gX"
      },
      "source": [
        "train_knn = train.copy(deep = True)"
      ],
      "execution_count": 103,
      "outputs": []
    },
    {
      "cell_type": "code",
      "metadata": {
        "id": "PVaa6BjdwCZR"
      },
      "source": [
        "from sklearn.impute import KNNImputer\n",
        "from sklearn.preprocessing import MinMaxScaler\n",
        "\n",
        "scaler = MinMaxScaler()\n",
        "train_knn['Age'] = scaler.fit_transform(train_knn['Age'].to_numpy().reshape(-1, 1))\n",
        "\n",
        "knn_imputer = KNNImputer(n_neighbors = 2, weights = \"uniform\")\n",
        "train_knn['Age'] = knn_imputer.fit_transform(train_knn[['Age']])"
      ],
      "execution_count": 104,
      "outputs": []
    },
    {
      "cell_type": "code",
      "metadata": {
        "colab": {
          "base_uri": "https://localhost:8080/"
        },
        "id": "nUvFj0V8wtOx",
        "outputId": "26c8eac8-96b7-4825-dba9-2fe02dac0f7d"
      },
      "source": [
        "train_knn['Age'].isnull().sum()"
      ],
      "execution_count": 105,
      "outputs": [
        {
          "output_type": "execute_result",
          "data": {
            "text/plain": [
              "0"
            ]
          },
          "metadata": {
            "tags": []
          },
          "execution_count": 105
        }
      ]
    },
    {
      "cell_type": "code",
      "metadata": {
        "colab": {
          "base_uri": "https://localhost:8080/"
        },
        "id": "sP2SClU0wx6t",
        "outputId": "c5f76be5-a6ef-41b1-ea5d-1f0e1c1d763a"
      },
      "source": [
        "train_knn['Age'].head()"
      ],
      "execution_count": 106,
      "outputs": [
        {
          "output_type": "execute_result",
          "data": {
            "text/plain": [
              "0    0.271174\n",
              "1    0.472229\n",
              "2    0.321438\n",
              "3    0.434531\n",
              "4    0.434531\n",
              "Name: Age, dtype: float64"
            ]
          },
          "metadata": {
            "tags": []
          },
          "execution_count": 106
        }
      ]
    },
    {
      "cell_type": "markdown",
      "metadata": {
        "id": "kuu6AaXhw427"
      },
      "source": [
        "# Multivariate feature imputation - Multivariate imputation by chained equations (MICE)"
      ]
    },
    {
      "cell_type": "markdown",
      "metadata": {
        "id": "OM6cg5QHxDF6"
      },
      "source": [
        "A strategy for imputing missing values by modeling each feature with missing values as a function of other features in a round-robin fashion. It performs multiple regressions over random sample of the data, then takes the average of the multiple regression values and uses that value to impute the missing value. In sklearn, it is implemented as follows:"
      ]
    },
    {
      "cell_type": "code",
      "metadata": {
        "id": "U7hw3eflxYKN"
      },
      "source": [
        "from sklearn.experimental import enable_iterative_imputer\n",
        "from sklearn.impute import IterativeImputer\n",
        "train_mice = train.copy(deep = True)\n",
        "\n",
        "mice_imputer = IterativeImputer()\n",
        "train_mice['Age'] = mice_imputer.fit_transform(train_mice[['Age']])"
      ],
      "execution_count": 107,
      "outputs": []
    },
    {
      "cell_type": "code",
      "metadata": {
        "colab": {
          "base_uri": "https://localhost:8080/"
        },
        "id": "9RwLDDT_xzR5",
        "outputId": "e4a1d58d-522f-4bcd-cdf2-0d6fc49e97e6"
      },
      "source": [
        "train_mice['Age'].isnull().sum()"
      ],
      "execution_count": 108,
      "outputs": [
        {
          "output_type": "execute_result",
          "data": {
            "text/plain": [
              "0"
            ]
          },
          "metadata": {
            "tags": []
          },
          "execution_count": 108
        }
      ]
    },
    {
      "cell_type": "markdown",
      "metadata": {
        "id": "FM_oyoLIx7Hn"
      },
      "source": [
        "# Air Quality Data in India (2015 - 2020) for Time Series problem"
      ]
    },
    {
      "cell_type": "code",
      "metadata": {
        "colab": {
          "base_uri": "https://localhost:8080/",
          "height": 329
        },
        "id": "SydcqBghyEJ7",
        "outputId": "21f5b282-27f0-46b9-84fe-87e88497b5ba"
      },
      "source": [
        "city_day = pd.read_csv('/content/drive/MyDrive/city_day.csv', parse_dates = True, index_col = 'Date')\n",
        "city_day1 = city_day.copy(deep = True)\n",
        "city_day.head()"
      ],
      "execution_count": 109,
      "outputs": [
        {
          "output_type": "execute_result",
          "data": {
            "text/html": [
              "<div>\n",
              "<style scoped>\n",
              "    .dataframe tbody tr th:only-of-type {\n",
              "        vertical-align: middle;\n",
              "    }\n",
              "\n",
              "    .dataframe tbody tr th {\n",
              "        vertical-align: top;\n",
              "    }\n",
              "\n",
              "    .dataframe thead th {\n",
              "        text-align: right;\n",
              "    }\n",
              "</style>\n",
              "<table border=\"1\" class=\"dataframe\">\n",
              "  <thead>\n",
              "    <tr style=\"text-align: right;\">\n",
              "      <th></th>\n",
              "      <th>City</th>\n",
              "      <th>PM2.5</th>\n",
              "      <th>PM10</th>\n",
              "      <th>NO</th>\n",
              "      <th>NO2</th>\n",
              "      <th>NOx</th>\n",
              "      <th>NH3</th>\n",
              "      <th>CO</th>\n",
              "      <th>SO2</th>\n",
              "      <th>O3</th>\n",
              "      <th>Benzene</th>\n",
              "      <th>Toluene</th>\n",
              "      <th>Xylene</th>\n",
              "      <th>AQI</th>\n",
              "      <th>AQI_Bucket</th>\n",
              "    </tr>\n",
              "    <tr>\n",
              "      <th>Date</th>\n",
              "      <th></th>\n",
              "      <th></th>\n",
              "      <th></th>\n",
              "      <th></th>\n",
              "      <th></th>\n",
              "      <th></th>\n",
              "      <th></th>\n",
              "      <th></th>\n",
              "      <th></th>\n",
              "      <th></th>\n",
              "      <th></th>\n",
              "      <th></th>\n",
              "      <th></th>\n",
              "      <th></th>\n",
              "      <th></th>\n",
              "    </tr>\n",
              "  </thead>\n",
              "  <tbody>\n",
              "    <tr>\n",
              "      <th>2015-01-01</th>\n",
              "      <td>Ahmedabad</td>\n",
              "      <td>NaN</td>\n",
              "      <td>NaN</td>\n",
              "      <td>0.92</td>\n",
              "      <td>18.22</td>\n",
              "      <td>17.15</td>\n",
              "      <td>NaN</td>\n",
              "      <td>0.92</td>\n",
              "      <td>27.64</td>\n",
              "      <td>133.36</td>\n",
              "      <td>0.00</td>\n",
              "      <td>0.02</td>\n",
              "      <td>0.00</td>\n",
              "      <td>NaN</td>\n",
              "      <td>NaN</td>\n",
              "    </tr>\n",
              "    <tr>\n",
              "      <th>2015-01-02</th>\n",
              "      <td>Ahmedabad</td>\n",
              "      <td>NaN</td>\n",
              "      <td>NaN</td>\n",
              "      <td>0.97</td>\n",
              "      <td>15.69</td>\n",
              "      <td>16.46</td>\n",
              "      <td>NaN</td>\n",
              "      <td>0.97</td>\n",
              "      <td>24.55</td>\n",
              "      <td>34.06</td>\n",
              "      <td>3.68</td>\n",
              "      <td>5.50</td>\n",
              "      <td>3.77</td>\n",
              "      <td>NaN</td>\n",
              "      <td>NaN</td>\n",
              "    </tr>\n",
              "    <tr>\n",
              "      <th>2015-01-03</th>\n",
              "      <td>Ahmedabad</td>\n",
              "      <td>NaN</td>\n",
              "      <td>NaN</td>\n",
              "      <td>17.40</td>\n",
              "      <td>19.30</td>\n",
              "      <td>29.70</td>\n",
              "      <td>NaN</td>\n",
              "      <td>17.40</td>\n",
              "      <td>29.07</td>\n",
              "      <td>30.70</td>\n",
              "      <td>6.80</td>\n",
              "      <td>16.40</td>\n",
              "      <td>2.25</td>\n",
              "      <td>NaN</td>\n",
              "      <td>NaN</td>\n",
              "    </tr>\n",
              "    <tr>\n",
              "      <th>2015-01-04</th>\n",
              "      <td>Ahmedabad</td>\n",
              "      <td>NaN</td>\n",
              "      <td>NaN</td>\n",
              "      <td>1.70</td>\n",
              "      <td>18.48</td>\n",
              "      <td>17.97</td>\n",
              "      <td>NaN</td>\n",
              "      <td>1.70</td>\n",
              "      <td>18.59</td>\n",
              "      <td>36.08</td>\n",
              "      <td>4.43</td>\n",
              "      <td>10.14</td>\n",
              "      <td>1.00</td>\n",
              "      <td>NaN</td>\n",
              "      <td>NaN</td>\n",
              "    </tr>\n",
              "    <tr>\n",
              "      <th>2015-01-05</th>\n",
              "      <td>Ahmedabad</td>\n",
              "      <td>NaN</td>\n",
              "      <td>NaN</td>\n",
              "      <td>22.10</td>\n",
              "      <td>21.42</td>\n",
              "      <td>37.76</td>\n",
              "      <td>NaN</td>\n",
              "      <td>22.10</td>\n",
              "      <td>39.33</td>\n",
              "      <td>39.31</td>\n",
              "      <td>7.01</td>\n",
              "      <td>18.89</td>\n",
              "      <td>2.78</td>\n",
              "      <td>NaN</td>\n",
              "      <td>NaN</td>\n",
              "    </tr>\n",
              "  </tbody>\n",
              "</table>\n",
              "</div>"
            ],
            "text/plain": [
              "                 City  PM2.5  PM10     NO  ...  Toluene  Xylene  AQI  AQI_Bucket\n",
              "Date                                       ...                                  \n",
              "2015-01-01  Ahmedabad    NaN   NaN   0.92  ...     0.02    0.00  NaN         NaN\n",
              "2015-01-02  Ahmedabad    NaN   NaN   0.97  ...     5.50    3.77  NaN         NaN\n",
              "2015-01-03  Ahmedabad    NaN   NaN  17.40  ...    16.40    2.25  NaN         NaN\n",
              "2015-01-04  Ahmedabad    NaN   NaN   1.70  ...    10.14    1.00  NaN         NaN\n",
              "2015-01-05  Ahmedabad    NaN   NaN  22.10  ...    18.89    2.78  NaN         NaN\n",
              "\n",
              "[5 rows x 15 columns]"
            ]
          },
          "metadata": {
            "tags": []
          },
          "execution_count": 109
        }
      ]
    },
    {
      "cell_type": "markdown",
      "metadata": {
        "id": "vCQ2U-day9Vy"
      },
      "source": [
        "As is evident, city_day dataframe consists of daily pollution level data of some of the prominent cities in India."
      ]
    },
    {
      "cell_type": "code",
      "metadata": {
        "colab": {
          "base_uri": "https://localhost:8080/",
          "height": 491
        },
        "id": "tICLc3pyzGYE",
        "outputId": "fc7bde41-8645-415b-9347-a7b82e8e4cf9"
      },
      "source": [
        "missing_values_city_day = city_day.isnull().sum()\n",
        "percentage_city_day = 100 * city_day.isnull().sum() / len(city_day)\n",
        "missing_values_table_city_day = pd.concat([missing_values_city_day, percentage_city_day], axis = 1)\n",
        "missing_values_table_city_day.columns = ['Num. of missing values', '% of missing values']\n",
        "missing_values_table_city_day"
      ],
      "execution_count": 110,
      "outputs": [
        {
          "output_type": "execute_result",
          "data": {
            "text/html": [
              "<div>\n",
              "<style scoped>\n",
              "    .dataframe tbody tr th:only-of-type {\n",
              "        vertical-align: middle;\n",
              "    }\n",
              "\n",
              "    .dataframe tbody tr th {\n",
              "        vertical-align: top;\n",
              "    }\n",
              "\n",
              "    .dataframe thead th {\n",
              "        text-align: right;\n",
              "    }\n",
              "</style>\n",
              "<table border=\"1\" class=\"dataframe\">\n",
              "  <thead>\n",
              "    <tr style=\"text-align: right;\">\n",
              "      <th></th>\n",
              "      <th>Num. of missing values</th>\n",
              "      <th>% of missing values</th>\n",
              "    </tr>\n",
              "  </thead>\n",
              "  <tbody>\n",
              "    <tr>\n",
              "      <th>City</th>\n",
              "      <td>0</td>\n",
              "      <td>0.000000</td>\n",
              "    </tr>\n",
              "    <tr>\n",
              "      <th>PM2.5</th>\n",
              "      <td>4598</td>\n",
              "      <td>15.570079</td>\n",
              "    </tr>\n",
              "    <tr>\n",
              "      <th>PM10</th>\n",
              "      <td>11140</td>\n",
              "      <td>37.723071</td>\n",
              "    </tr>\n",
              "    <tr>\n",
              "      <th>NO</th>\n",
              "      <td>3582</td>\n",
              "      <td>12.129626</td>\n",
              "    </tr>\n",
              "    <tr>\n",
              "      <th>NO2</th>\n",
              "      <td>3585</td>\n",
              "      <td>12.139785</td>\n",
              "    </tr>\n",
              "    <tr>\n",
              "      <th>NOx</th>\n",
              "      <td>4185</td>\n",
              "      <td>14.171549</td>\n",
              "    </tr>\n",
              "    <tr>\n",
              "      <th>NH3</th>\n",
              "      <td>10328</td>\n",
              "      <td>34.973418</td>\n",
              "    </tr>\n",
              "    <tr>\n",
              "      <th>CO</th>\n",
              "      <td>2059</td>\n",
              "      <td>6.972334</td>\n",
              "    </tr>\n",
              "    <tr>\n",
              "      <th>SO2</th>\n",
              "      <td>3854</td>\n",
              "      <td>13.050692</td>\n",
              "    </tr>\n",
              "    <tr>\n",
              "      <th>O3</th>\n",
              "      <td>4022</td>\n",
              "      <td>13.619586</td>\n",
              "    </tr>\n",
              "    <tr>\n",
              "      <th>Benzene</th>\n",
              "      <td>5623</td>\n",
              "      <td>19.041008</td>\n",
              "    </tr>\n",
              "    <tr>\n",
              "      <th>Toluene</th>\n",
              "      <td>8041</td>\n",
              "      <td>27.229014</td>\n",
              "    </tr>\n",
              "    <tr>\n",
              "      <th>Xylene</th>\n",
              "      <td>18109</td>\n",
              "      <td>61.322001</td>\n",
              "    </tr>\n",
              "    <tr>\n",
              "      <th>AQI</th>\n",
              "      <td>4681</td>\n",
              "      <td>15.851139</td>\n",
              "    </tr>\n",
              "    <tr>\n",
              "      <th>AQI_Bucket</th>\n",
              "      <td>4681</td>\n",
              "      <td>15.851139</td>\n",
              "    </tr>\n",
              "  </tbody>\n",
              "</table>\n",
              "</div>"
            ],
            "text/plain": [
              "            Num. of missing values  % of missing values\n",
              "City                             0             0.000000\n",
              "PM2.5                         4598            15.570079\n",
              "PM10                         11140            37.723071\n",
              "NO                            3582            12.129626\n",
              "NO2                           3585            12.139785\n",
              "NOx                           4185            14.171549\n",
              "NH3                          10328            34.973418\n",
              "CO                            2059             6.972334\n",
              "SO2                           3854            13.050692\n",
              "O3                            4022            13.619586\n",
              "Benzene                       5623            19.041008\n",
              "Toluene                       8041            27.229014\n",
              "Xylene                       18109            61.322001\n",
              "AQI                           4681            15.851139\n",
              "AQI_Bucket                    4681            15.851139"
            ]
          },
          "metadata": {
            "tags": []
          },
          "execution_count": 110
        }
      ]
    },
    {
      "cell_type": "markdown",
      "metadata": {
        "id": "SgtCwzLpzuLu"
      },
      "source": [
        "There are a lot of missing values and some of the columns like **Xylene** and **PM10** have more than 50% of the values missing. Let's now see how we can impute these missing values."
      ]
    },
    {
      "cell_type": "code",
      "metadata": {
        "colab": {
          "base_uri": "https://localhost:8080/"
        },
        "id": "lSx6OwfTz7La",
        "outputId": "d6151e6e-1dfc-4095-f97e-1252d5cb2a15"
      },
      "source": [
        "city_day['Xylene'][50:64]"
      ],
      "execution_count": 111,
      "outputs": [
        {
          "output_type": "execute_result",
          "data": {
            "text/plain": [
              "Date\n",
              "2015-02-20     7.48\n",
              "2015-02-21    15.44\n",
              "2015-02-22     8.47\n",
              "2015-02-23    28.46\n",
              "2015-02-24     6.05\n",
              "2015-02-25     0.81\n",
              "2015-02-26      NaN\n",
              "2015-02-27      NaN\n",
              "2015-02-28      NaN\n",
              "2015-03-01     1.32\n",
              "2015-03-02     0.22\n",
              "2015-03-03     2.25\n",
              "2015-03-04     1.55\n",
              "2015-03-05     4.13\n",
              "Name: Xylene, dtype: float64"
            ]
          },
          "metadata": {
            "tags": []
          },
          "execution_count": 111
        }
      ]
    },
    {
      "cell_type": "markdown",
      "metadata": {
        "id": "-i3d1iUv0KiU"
      },
      "source": [
        "**Imputing using ffill**\n",
        "\n",
        "**ffill** propagate last valid observation forward to next valid"
      ]
    },
    {
      "cell_type": "code",
      "metadata": {
        "colab": {
          "base_uri": "https://localhost:8080/"
        },
        "id": "7-Vp1GMh0PCj",
        "outputId": "23b9ab0b-a87e-4ef4-b1c8-25316fc1cd73"
      },
      "source": [
        "city_day.fillna(method = 'ffill', inplace = True)\n",
        "city_day['Xylene'][50:64]"
      ],
      "execution_count": 112,
      "outputs": [
        {
          "output_type": "execute_result",
          "data": {
            "text/plain": [
              "Date\n",
              "2015-02-20     7.48\n",
              "2015-02-21    15.44\n",
              "2015-02-22     8.47\n",
              "2015-02-23    28.46\n",
              "2015-02-24     6.05\n",
              "2015-02-25     0.81\n",
              "2015-02-26     0.81\n",
              "2015-02-27     0.81\n",
              "2015-02-28     0.81\n",
              "2015-03-01     1.32\n",
              "2015-03-02     0.22\n",
              "2015-03-03     2.25\n",
              "2015-03-04     1.55\n",
              "2015-03-05     4.13\n",
              "Name: Xylene, dtype: float64"
            ]
          },
          "metadata": {
            "tags": []
          },
          "execution_count": 112
        }
      ]
    },
    {
      "cell_type": "markdown",
      "metadata": {
        "id": "dWTaByeo0nMS"
      },
      "source": [
        "**Imputation using bfill**\n",
        "\n",
        "**bfill**: use next valid observation to fill gap"
      ]
    },
    {
      "cell_type": "code",
      "metadata": {
        "colab": {
          "base_uri": "https://localhost:8080/"
        },
        "id": "F71IsbdZ0uBz",
        "outputId": "90a1bda5-8521-420d-cbb2-7a01ffe75a94"
      },
      "source": [
        "city_day['AQI'][20:30]"
      ],
      "execution_count": 113,
      "outputs": [
        {
          "output_type": "execute_result",
          "data": {
            "text/plain": [
              "Date\n",
              "2015-01-21      NaN\n",
              "2015-01-22      NaN\n",
              "2015-01-23      NaN\n",
              "2015-01-24      NaN\n",
              "2015-01-25      NaN\n",
              "2015-01-26      NaN\n",
              "2015-01-27      NaN\n",
              "2015-01-28      NaN\n",
              "2015-01-29    209.0\n",
              "2015-01-30    328.0\n",
              "Name: AQI, dtype: float64"
            ]
          },
          "metadata": {
            "tags": []
          },
          "execution_count": 113
        }
      ]
    },
    {
      "cell_type": "code",
      "metadata": {
        "colab": {
          "base_uri": "https://localhost:8080/"
        },
        "id": "KuBC41HK07Gn",
        "outputId": "98dfe416-5316-4ae5-bccc-05661d015785"
      },
      "source": [
        "city_day.fillna(method = 'bfill', inplace = True)\n",
        "city_day['AQI'][20:30]"
      ],
      "execution_count": 114,
      "outputs": [
        {
          "output_type": "execute_result",
          "data": {
            "text/plain": [
              "Date\n",
              "2015-01-21    209.0\n",
              "2015-01-22    209.0\n",
              "2015-01-23    209.0\n",
              "2015-01-24    209.0\n",
              "2015-01-25    209.0\n",
              "2015-01-26    209.0\n",
              "2015-01-27    209.0\n",
              "2015-01-28    209.0\n",
              "2015-01-29    209.0\n",
              "2015-01-30    328.0\n",
              "Name: AQI, dtype: float64"
            ]
          },
          "metadata": {
            "tags": []
          },
          "execution_count": 114
        }
      ]
    },
    {
      "cell_type": "markdown",
      "metadata": {
        "id": "FvJdmSn71HDL"
      },
      "source": [
        "**Imputation using Linear Interpolation method**"
      ]
    },
    {
      "cell_type": "markdown",
      "metadata": {
        "id": "g0BZ9Cky1LV5"
      },
      "source": [
        "![formula.jpg](data:image/jpeg;base64,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)"
      ]
    },
    {
      "cell_type": "code",
      "metadata": {
        "colab": {
          "base_uri": "https://localhost:8080/"
        },
        "id": "iz2wS1iM1Q9a",
        "outputId": "638b4d10-5b73-4aa8-df38-e353c189f099"
      },
      "source": [
        "city_day1['Xylene'][50:65]"
      ],
      "execution_count": 115,
      "outputs": [
        {
          "output_type": "execute_result",
          "data": {
            "text/plain": [
              "Date\n",
              "2015-02-20     7.48\n",
              "2015-02-21    15.44\n",
              "2015-02-22     8.47\n",
              "2015-02-23    28.46\n",
              "2015-02-24     6.05\n",
              "2015-02-25     0.81\n",
              "2015-02-26      NaN\n",
              "2015-02-27      NaN\n",
              "2015-02-28      NaN\n",
              "2015-03-01     1.32\n",
              "2015-03-02     0.22\n",
              "2015-03-03     2.25\n",
              "2015-03-04     1.55\n",
              "2015-03-05     4.13\n",
              "2015-03-06      NaN\n",
              "Name: Xylene, dtype: float64"
            ]
          },
          "metadata": {
            "tags": []
          },
          "execution_count": 115
        }
      ]
    },
    {
      "cell_type": "code",
      "metadata": {
        "colab": {
          "base_uri": "https://localhost:8080/"
        },
        "id": "9mACFleS1Vj9",
        "outputId": "8ddd89ac-2637-4193-c047-2fc3840faa1b"
      },
      "source": [
        "# Interpolate using the linear method\n",
        "city_day1.interpolate(limit_direction = \"both\", inplace = True)\n",
        "city_day1['Xylene'][50:65]"
      ],
      "execution_count": 116,
      "outputs": [
        {
          "output_type": "execute_result",
          "data": {
            "text/plain": [
              "Date\n",
              "2015-02-20     7.4800\n",
              "2015-02-21    15.4400\n",
              "2015-02-22     8.4700\n",
              "2015-02-23    28.4600\n",
              "2015-02-24     6.0500\n",
              "2015-02-25     0.8100\n",
              "2015-02-26     0.9375\n",
              "2015-02-27     1.0650\n",
              "2015-02-28     1.1925\n",
              "2015-03-01     1.3200\n",
              "2015-03-02     0.2200\n",
              "2015-03-03     2.2500\n",
              "2015-03-04     1.5500\n",
              "2015-03-05     4.1300\n",
              "2015-03-06     2.2600\n",
              "Name: Xylene, dtype: float64"
            ]
          },
          "metadata": {
            "tags": []
          },
          "execution_count": 116
        }
      ]
    },
    {
      "cell_type": "markdown",
      "metadata": {
        "id": "GemRg-oc1oBc"
      },
      "source": [
        "# Encoding Categorical Data"
      ]
    },
    {
      "cell_type": "markdown",
      "metadata": {
        "id": "dA2g5cHb1rUg"
      },
      "source": [
        "**Encoding labels**"
      ]
    },
    {
      "cell_type": "code",
      "metadata": {
        "colab": {
          "base_uri": "https://localhost:8080/",
          "height": 484
        },
        "id": "r1CtbrxO1s_4",
        "outputId": "44cba589-69a8-47c3-be00-69b50bc6a24f"
      },
      "source": [
        "train.head()"
      ],
      "execution_count": 117,
      "outputs": [
        {
          "output_type": "execute_result",
          "data": {
            "text/html": [
              "<div>\n",
              "<style scoped>\n",
              "    .dataframe tbody tr th:only-of-type {\n",
              "        vertical-align: middle;\n",
              "    }\n",
              "\n",
              "    .dataframe tbody tr th {\n",
              "        vertical-align: top;\n",
              "    }\n",
              "\n",
              "    .dataframe thead th {\n",
              "        text-align: right;\n",
              "    }\n",
              "</style>\n",
              "<table border=\"1\" class=\"dataframe\">\n",
              "  <thead>\n",
              "    <tr style=\"text-align: right;\">\n",
              "      <th></th>\n",
              "      <th>PassengerId</th>\n",
              "      <th>Survived</th>\n",
              "      <th>Pclass</th>\n",
              "      <th>Name</th>\n",
              "      <th>Sex</th>\n",
              "      <th>Age</th>\n",
              "      <th>SibSp</th>\n",
              "      <th>Parch</th>\n",
              "      <th>Ticket</th>\n",
              "      <th>Fare</th>\n",
              "      <th>Cabin</th>\n",
              "      <th>Embarked</th>\n",
              "    </tr>\n",
              "  </thead>\n",
              "  <tbody>\n",
              "    <tr>\n",
              "      <th>0</th>\n",
              "      <td>1</td>\n",
              "      <td>0</td>\n",
              "      <td>3</td>\n",
              "      <td>Braund, Mr. Owen Harris</td>\n",
              "      <td>male</td>\n",
              "      <td>22.0</td>\n",
              "      <td>1</td>\n",
              "      <td>0</td>\n",
              "      <td>A/5 21171</td>\n",
              "      <td>7.2500</td>\n",
              "      <td>NaN</td>\n",
              "      <td>S</td>\n",
              "    </tr>\n",
              "    <tr>\n",
              "      <th>1</th>\n",
              "      <td>2</td>\n",
              "      <td>1</td>\n",
              "      <td>1</td>\n",
              "      <td>Cumings, Mrs. John Bradley (Florence Briggs Th...</td>\n",
              "      <td>female</td>\n",
              "      <td>38.0</td>\n",
              "      <td>1</td>\n",
              "      <td>0</td>\n",
              "      <td>PC 17599</td>\n",
              "      <td>71.2833</td>\n",
              "      <td>C85</td>\n",
              "      <td>C</td>\n",
              "    </tr>\n",
              "    <tr>\n",
              "      <th>2</th>\n",
              "      <td>3</td>\n",
              "      <td>1</td>\n",
              "      <td>3</td>\n",
              "      <td>Heikkinen, Miss. Laina</td>\n",
              "      <td>female</td>\n",
              "      <td>26.0</td>\n",
              "      <td>0</td>\n",
              "      <td>0</td>\n",
              "      <td>STON/O2. 3101282</td>\n",
              "      <td>7.9250</td>\n",
              "      <td>NaN</td>\n",
              "      <td>S</td>\n",
              "    </tr>\n",
              "    <tr>\n",
              "      <th>3</th>\n",
              "      <td>4</td>\n",
              "      <td>1</td>\n",
              "      <td>1</td>\n",
              "      <td>Futrelle, Mrs. Jacques Heath (Lily May Peel)</td>\n",
              "      <td>female</td>\n",
              "      <td>35.0</td>\n",
              "      <td>1</td>\n",
              "      <td>0</td>\n",
              "      <td>113803</td>\n",
              "      <td>53.1000</td>\n",
              "      <td>C123</td>\n",
              "      <td>S</td>\n",
              "    </tr>\n",
              "    <tr>\n",
              "      <th>4</th>\n",
              "      <td>5</td>\n",
              "      <td>0</td>\n",
              "      <td>3</td>\n",
              "      <td>Allen, Mr. William Henry</td>\n",
              "      <td>male</td>\n",
              "      <td>35.0</td>\n",
              "      <td>0</td>\n",
              "      <td>0</td>\n",
              "      <td>373450</td>\n",
              "      <td>8.0500</td>\n",
              "      <td>NaN</td>\n",
              "      <td>S</td>\n",
              "    </tr>\n",
              "  </tbody>\n",
              "</table>\n",
              "</div>"
            ],
            "text/plain": [
              "   PassengerId  Survived  Pclass  ...     Fare Cabin  Embarked\n",
              "0            1         0       3  ...   7.2500   NaN         S\n",
              "1            2         1       1  ...  71.2833   C85         C\n",
              "2            3         1       3  ...   7.9250   NaN         S\n",
              "3            4         1       1  ...  53.1000  C123         S\n",
              "4            5         0       3  ...   8.0500   NaN         S\n",
              "\n",
              "[5 rows x 12 columns]"
            ]
          },
          "metadata": {
            "tags": []
          },
          "execution_count": 117
        }
      ]
    },
    {
      "cell_type": "code",
      "metadata": {
        "colab": {
          "base_uri": "https://localhost:8080/"
        },
        "id": "MOUVng4j1wNN",
        "outputId": "5415527e-4164-4d47-b852-e9abde8053d8"
      },
      "source": [
        "train['Embarked'].value_counts()"
      ],
      "execution_count": 118,
      "outputs": [
        {
          "output_type": "execute_result",
          "data": {
            "text/plain": [
              "S    644\n",
              "C    168\n",
              "Q     77\n",
              "Name: Embarked, dtype: int64"
            ]
          },
          "metadata": {
            "tags": []
          },
          "execution_count": 118
        }
      ]
    },
    {
      "cell_type": "code",
      "metadata": {
        "colab": {
          "base_uri": "https://localhost:8080/"
        },
        "id": "bLrZ3ADS2dR1",
        "outputId": "ae1d9127-f489-4e01-ef4d-872aac783a68"
      },
      "source": [
        "classes = list(set(train['Embarked']))\n",
        "classes"
      ],
      "execution_count": 119,
      "outputs": [
        {
          "output_type": "execute_result",
          "data": {
            "text/plain": [
              "[nan, 'S', 'Q', 'C']"
            ]
          },
          "metadata": {
            "tags": []
          },
          "execution_count": 119
        }
      ]
    },
    {
      "cell_type": "code",
      "metadata": {
        "colab": {
          "base_uri": "https://localhost:8080/"
        },
        "id": "vKuqdsN52iS-",
        "outputId": "d9297db3-ca65-497c-e570-69d966d08dd5"
      },
      "source": [
        "dict = {}\n",
        "for i in range(0, len(classes)):\n",
        "  dict[classes[i]] = i\n",
        "dict"
      ],
      "execution_count": 120,
      "outputs": [
        {
          "output_type": "execute_result",
          "data": {
            "text/plain": [
              "{'C': 3, 'Q': 2, 'S': 1, nan: 0}"
            ]
          },
          "metadata": {
            "tags": []
          },
          "execution_count": 120
        }
      ]
    },
    {
      "cell_type": "code",
      "metadata": {
        "id": "Kb4ii5TN31vH"
      },
      "source": [
        "train['Embarked'] = [dict[train['Embarked'][i]]for i in range(0, len(train['Embarked']))]"
      ],
      "execution_count": 121,
      "outputs": []
    },
    {
      "cell_type": "code",
      "metadata": {
        "colab": {
          "base_uri": "https://localhost:8080/"
        },
        "id": "Ugkr7vKV3-pD",
        "outputId": "ae399262-7efc-4d47-9848-b686adff1d07"
      },
      "source": [
        "train['Embarked']"
      ],
      "execution_count": 122,
      "outputs": [
        {
          "output_type": "execute_result",
          "data": {
            "text/plain": [
              "0      1\n",
              "1      3\n",
              "2      1\n",
              "3      1\n",
              "4      1\n",
              "      ..\n",
              "886    1\n",
              "887    1\n",
              "888    1\n",
              "889    3\n",
              "890    2\n",
              "Name: Embarked, Length: 891, dtype: int64"
            ]
          },
          "metadata": {
            "tags": []
          },
          "execution_count": 122
        }
      ]
    },
    {
      "cell_type": "code",
      "metadata": {
        "colab": {
          "base_uri": "https://localhost:8080/",
          "height": 484
        },
        "id": "SRS3gkx24H7u",
        "outputId": "5911c8a9-a35e-4844-d365-835df4b4e12d"
      },
      "source": [
        "train.head()"
      ],
      "execution_count": 123,
      "outputs": [
        {
          "output_type": "execute_result",
          "data": {
            "text/html": [
              "<div>\n",
              "<style scoped>\n",
              "    .dataframe tbody tr th:only-of-type {\n",
              "        vertical-align: middle;\n",
              "    }\n",
              "\n",
              "    .dataframe tbody tr th {\n",
              "        vertical-align: top;\n",
              "    }\n",
              "\n",
              "    .dataframe thead th {\n",
              "        text-align: right;\n",
              "    }\n",
              "</style>\n",
              "<table border=\"1\" class=\"dataframe\">\n",
              "  <thead>\n",
              "    <tr style=\"text-align: right;\">\n",
              "      <th></th>\n",
              "      <th>PassengerId</th>\n",
              "      <th>Survived</th>\n",
              "      <th>Pclass</th>\n",
              "      <th>Name</th>\n",
              "      <th>Sex</th>\n",
              "      <th>Age</th>\n",
              "      <th>SibSp</th>\n",
              "      <th>Parch</th>\n",
              "      <th>Ticket</th>\n",
              "      <th>Fare</th>\n",
              "      <th>Cabin</th>\n",
              "      <th>Embarked</th>\n",
              "    </tr>\n",
              "  </thead>\n",
              "  <tbody>\n",
              "    <tr>\n",
              "      <th>0</th>\n",
              "      <td>1</td>\n",
              "      <td>0</td>\n",
              "      <td>3</td>\n",
              "      <td>Braund, Mr. Owen Harris</td>\n",
              "      <td>male</td>\n",
              "      <td>22.0</td>\n",
              "      <td>1</td>\n",
              "      <td>0</td>\n",
              "      <td>A/5 21171</td>\n",
              "      <td>7.2500</td>\n",
              "      <td>NaN</td>\n",
              "      <td>1</td>\n",
              "    </tr>\n",
              "    <tr>\n",
              "      <th>1</th>\n",
              "      <td>2</td>\n",
              "      <td>1</td>\n",
              "      <td>1</td>\n",
              "      <td>Cumings, Mrs. John Bradley (Florence Briggs Th...</td>\n",
              "      <td>female</td>\n",
              "      <td>38.0</td>\n",
              "      <td>1</td>\n",
              "      <td>0</td>\n",
              "      <td>PC 17599</td>\n",
              "      <td>71.2833</td>\n",
              "      <td>C85</td>\n",
              "      <td>3</td>\n",
              "    </tr>\n",
              "    <tr>\n",
              "      <th>2</th>\n",
              "      <td>3</td>\n",
              "      <td>1</td>\n",
              "      <td>3</td>\n",
              "      <td>Heikkinen, Miss. Laina</td>\n",
              "      <td>female</td>\n",
              "      <td>26.0</td>\n",
              "      <td>0</td>\n",
              "      <td>0</td>\n",
              "      <td>STON/O2. 3101282</td>\n",
              "      <td>7.9250</td>\n",
              "      <td>NaN</td>\n",
              "      <td>1</td>\n",
              "    </tr>\n",
              "    <tr>\n",
              "      <th>3</th>\n",
              "      <td>4</td>\n",
              "      <td>1</td>\n",
              "      <td>1</td>\n",
              "      <td>Futrelle, Mrs. Jacques Heath (Lily May Peel)</td>\n",
              "      <td>female</td>\n",
              "      <td>35.0</td>\n",
              "      <td>1</td>\n",
              "      <td>0</td>\n",
              "      <td>113803</td>\n",
              "      <td>53.1000</td>\n",
              "      <td>C123</td>\n",
              "      <td>1</td>\n",
              "    </tr>\n",
              "    <tr>\n",
              "      <th>4</th>\n",
              "      <td>5</td>\n",
              "      <td>0</td>\n",
              "      <td>3</td>\n",
              "      <td>Allen, Mr. William Henry</td>\n",
              "      <td>male</td>\n",
              "      <td>35.0</td>\n",
              "      <td>0</td>\n",
              "      <td>0</td>\n",
              "      <td>373450</td>\n",
              "      <td>8.0500</td>\n",
              "      <td>NaN</td>\n",
              "      <td>1</td>\n",
              "    </tr>\n",
              "  </tbody>\n",
              "</table>\n",
              "</div>"
            ],
            "text/plain": [
              "   PassengerId  Survived  Pclass  ...     Fare Cabin  Embarked\n",
              "0            1         0       3  ...   7.2500   NaN         1\n",
              "1            2         1       1  ...  71.2833   C85         3\n",
              "2            3         1       3  ...   7.9250   NaN         1\n",
              "3            4         1       1  ...  53.1000  C123         1\n",
              "4            5         0       3  ...   8.0500   NaN         1\n",
              "\n",
              "[5 rows x 12 columns]"
            ]
          },
          "metadata": {
            "tags": []
          },
          "execution_count": 123
        }
      ]
    },
    {
      "cell_type": "code",
      "metadata": {
        "colab": {
          "base_uri": "https://localhost:8080/",
          "height": 909
        },
        "id": "F32gpU7l4MC6",
        "outputId": "dc2c5a94-bf1a-4320-d2d7-31fc6b491ebb"
      },
      "source": [
        "# label encoding the data\n",
        "from sklearn.preprocessing import LabelEncoder\n",
        "\n",
        "le = LabelEncoder()\n",
        "train['Sex'] = le.fit_transform(train['Sex'])\n",
        "train"
      ],
      "execution_count": 124,
      "outputs": [
        {
          "output_type": "execute_result",
          "data": {
            "text/html": [
              "<div>\n",
              "<style scoped>\n",
              "    .dataframe tbody tr th:only-of-type {\n",
              "        vertical-align: middle;\n",
              "    }\n",
              "\n",
              "    .dataframe tbody tr th {\n",
              "        vertical-align: top;\n",
              "    }\n",
              "\n",
              "    .dataframe thead th {\n",
              "        text-align: right;\n",
              "    }\n",
              "</style>\n",
              "<table border=\"1\" class=\"dataframe\">\n",
              "  <thead>\n",
              "    <tr style=\"text-align: right;\">\n",
              "      <th></th>\n",
              "      <th>PassengerId</th>\n",
              "      <th>Survived</th>\n",
              "      <th>Pclass</th>\n",
              "      <th>Name</th>\n",
              "      <th>Sex</th>\n",
              "      <th>Age</th>\n",
              "      <th>SibSp</th>\n",
              "      <th>Parch</th>\n",
              "      <th>Ticket</th>\n",
              "      <th>Fare</th>\n",
              "      <th>Cabin</th>\n",
              "      <th>Embarked</th>\n",
              "    </tr>\n",
              "  </thead>\n",
              "  <tbody>\n",
              "    <tr>\n",
              "      <th>0</th>\n",
              "      <td>1</td>\n",
              "      <td>0</td>\n",
              "      <td>3</td>\n",
              "      <td>Braund, Mr. Owen Harris</td>\n",
              "      <td>1</td>\n",
              "      <td>22.0</td>\n",
              "      <td>1</td>\n",
              "      <td>0</td>\n",
              "      <td>A/5 21171</td>\n",
              "      <td>7.2500</td>\n",
              "      <td>NaN</td>\n",
              "      <td>1</td>\n",
              "    </tr>\n",
              "    <tr>\n",
              "      <th>1</th>\n",
              "      <td>2</td>\n",
              "      <td>1</td>\n",
              "      <td>1</td>\n",
              "      <td>Cumings, Mrs. John Bradley (Florence Briggs Th...</td>\n",
              "      <td>0</td>\n",
              "      <td>38.0</td>\n",
              "      <td>1</td>\n",
              "      <td>0</td>\n",
              "      <td>PC 17599</td>\n",
              "      <td>71.2833</td>\n",
              "      <td>C85</td>\n",
              "      <td>3</td>\n",
              "    </tr>\n",
              "    <tr>\n",
              "      <th>2</th>\n",
              "      <td>3</td>\n",
              "      <td>1</td>\n",
              "      <td>3</td>\n",
              "      <td>Heikkinen, Miss. Laina</td>\n",
              "      <td>0</td>\n",
              "      <td>26.0</td>\n",
              "      <td>0</td>\n",
              "      <td>0</td>\n",
              "      <td>STON/O2. 3101282</td>\n",
              "      <td>7.9250</td>\n",
              "      <td>NaN</td>\n",
              "      <td>1</td>\n",
              "    </tr>\n",
              "    <tr>\n",
              "      <th>3</th>\n",
              "      <td>4</td>\n",
              "      <td>1</td>\n",
              "      <td>1</td>\n",
              "      <td>Futrelle, Mrs. Jacques Heath (Lily May Peel)</td>\n",
              "      <td>0</td>\n",
              "      <td>35.0</td>\n",
              "      <td>1</td>\n",
              "      <td>0</td>\n",
              "      <td>113803</td>\n",
              "      <td>53.1000</td>\n",
              "      <td>C123</td>\n",
              "      <td>1</td>\n",
              "    </tr>\n",
              "    <tr>\n",
              "      <th>4</th>\n",
              "      <td>5</td>\n",
              "      <td>0</td>\n",
              "      <td>3</td>\n",
              "      <td>Allen, Mr. William Henry</td>\n",
              "      <td>1</td>\n",
              "      <td>35.0</td>\n",
              "      <td>0</td>\n",
              "      <td>0</td>\n",
              "      <td>373450</td>\n",
              "      <td>8.0500</td>\n",
              "      <td>NaN</td>\n",
              "      <td>1</td>\n",
              "    </tr>\n",
              "    <tr>\n",
              "      <th>...</th>\n",
              "      <td>...</td>\n",
              "      <td>...</td>\n",
              "      <td>...</td>\n",
              "      <td>...</td>\n",
              "      <td>...</td>\n",
              "      <td>...</td>\n",
              "      <td>...</td>\n",
              "      <td>...</td>\n",
              "      <td>...</td>\n",
              "      <td>...</td>\n",
              "      <td>...</td>\n",
              "      <td>...</td>\n",
              "    </tr>\n",
              "    <tr>\n",
              "      <th>886</th>\n",
              "      <td>887</td>\n",
              "      <td>0</td>\n",
              "      <td>2</td>\n",
              "      <td>Montvila, Rev. Juozas</td>\n",
              "      <td>1</td>\n",
              "      <td>27.0</td>\n",
              "      <td>0</td>\n",
              "      <td>0</td>\n",
              "      <td>211536</td>\n",
              "      <td>13.0000</td>\n",
              "      <td>NaN</td>\n",
              "      <td>1</td>\n",
              "    </tr>\n",
              "    <tr>\n",
              "      <th>887</th>\n",
              "      <td>888</td>\n",
              "      <td>1</td>\n",
              "      <td>1</td>\n",
              "      <td>Graham, Miss. Margaret Edith</td>\n",
              "      <td>0</td>\n",
              "      <td>19.0</td>\n",
              "      <td>0</td>\n",
              "      <td>0</td>\n",
              "      <td>112053</td>\n",
              "      <td>30.0000</td>\n",
              "      <td>B42</td>\n",
              "      <td>1</td>\n",
              "    </tr>\n",
              "    <tr>\n",
              "      <th>888</th>\n",
              "      <td>889</td>\n",
              "      <td>0</td>\n",
              "      <td>3</td>\n",
              "      <td>Johnston, Miss. Catherine Helen \"Carrie\"</td>\n",
              "      <td>0</td>\n",
              "      <td>NaN</td>\n",
              "      <td>1</td>\n",
              "      <td>2</td>\n",
              "      <td>W./C. 6607</td>\n",
              "      <td>23.4500</td>\n",
              "      <td>NaN</td>\n",
              "      <td>1</td>\n",
              "    </tr>\n",
              "    <tr>\n",
              "      <th>889</th>\n",
              "      <td>890</td>\n",
              "      <td>1</td>\n",
              "      <td>1</td>\n",
              "      <td>Behr, Mr. Karl Howell</td>\n",
              "      <td>1</td>\n",
              "      <td>26.0</td>\n",
              "      <td>0</td>\n",
              "      <td>0</td>\n",
              "      <td>111369</td>\n",
              "      <td>30.0000</td>\n",
              "      <td>C148</td>\n",
              "      <td>3</td>\n",
              "    </tr>\n",
              "    <tr>\n",
              "      <th>890</th>\n",
              "      <td>891</td>\n",
              "      <td>0</td>\n",
              "      <td>3</td>\n",
              "      <td>Dooley, Mr. Patrick</td>\n",
              "      <td>1</td>\n",
              "      <td>32.0</td>\n",
              "      <td>0</td>\n",
              "      <td>0</td>\n",
              "      <td>370376</td>\n",
              "      <td>7.7500</td>\n",
              "      <td>NaN</td>\n",
              "      <td>2</td>\n",
              "    </tr>\n",
              "  </tbody>\n",
              "</table>\n",
              "<p>891 rows × 12 columns</p>\n",
              "</div>"
            ],
            "text/plain": [
              "     PassengerId  Survived  Pclass  ...     Fare  Cabin  Embarked\n",
              "0              1         0       3  ...   7.2500    NaN         1\n",
              "1              2         1       1  ...  71.2833    C85         3\n",
              "2              3         1       3  ...   7.9250    NaN         1\n",
              "3              4         1       1  ...  53.1000   C123         1\n",
              "4              5         0       3  ...   8.0500    NaN         1\n",
              "..           ...       ...     ...  ...      ...    ...       ...\n",
              "886          887         0       2  ...  13.0000    NaN         1\n",
              "887          888         1       1  ...  30.0000    B42         1\n",
              "888          889         0       3  ...  23.4500    NaN         1\n",
              "889          890         1       1  ...  30.0000   C148         3\n",
              "890          891         0       3  ...   7.7500    NaN         2\n",
              "\n",
              "[891 rows x 12 columns]"
            ]
          },
          "metadata": {
            "tags": []
          },
          "execution_count": 124
        }
      ]
    },
    {
      "cell_type": "markdown",
      "metadata": {
        "id": "92U9uI494bBZ"
      },
      "source": [
        "# One-Hot Encoding"
      ]
    },
    {
      "cell_type": "code",
      "metadata": {
        "colab": {
          "base_uri": "https://localhost:8080/",
          "height": 909
        },
        "id": "Rw4G3Exq4dlu",
        "outputId": "05950433-d3c0-40f0-fbee-140e68a781a2"
      },
      "source": [
        "import pandas as pd\n",
        "import numpy as np\n",
        "from sklearn.preprocessing import OneHotEncoder\n",
        "\n",
        "# creating instance of One-Hot Encoder\n",
        "enc = OneHotEncoder(handle_unknown = 'ignore')\n",
        "\n",
        "enc_df = pd.DataFrame(enc.fit_transform(train[['Embarked']]).toarray())\n",
        "\n",
        "# merge with the train data on key values\n",
        "train = train.join(enc_df)\n",
        "train"
      ],
      "execution_count": 125,
      "outputs": [
        {
          "output_type": "execute_result",
          "data": {
            "text/html": [
              "<div>\n",
              "<style scoped>\n",
              "    .dataframe tbody tr th:only-of-type {\n",
              "        vertical-align: middle;\n",
              "    }\n",
              "\n",
              "    .dataframe tbody tr th {\n",
              "        vertical-align: top;\n",
              "    }\n",
              "\n",
              "    .dataframe thead th {\n",
              "        text-align: right;\n",
              "    }\n",
              "</style>\n",
              "<table border=\"1\" class=\"dataframe\">\n",
              "  <thead>\n",
              "    <tr style=\"text-align: right;\">\n",
              "      <th></th>\n",
              "      <th>PassengerId</th>\n",
              "      <th>Survived</th>\n",
              "      <th>Pclass</th>\n",
              "      <th>Name</th>\n",
              "      <th>Sex</th>\n",
              "      <th>Age</th>\n",
              "      <th>SibSp</th>\n",
              "      <th>Parch</th>\n",
              "      <th>Ticket</th>\n",
              "      <th>Fare</th>\n",
              "      <th>Cabin</th>\n",
              "      <th>Embarked</th>\n",
              "      <th>0</th>\n",
              "      <th>1</th>\n",
              "      <th>2</th>\n",
              "      <th>3</th>\n",
              "    </tr>\n",
              "  </thead>\n",
              "  <tbody>\n",
              "    <tr>\n",
              "      <th>0</th>\n",
              "      <td>1</td>\n",
              "      <td>0</td>\n",
              "      <td>3</td>\n",
              "      <td>Braund, Mr. Owen Harris</td>\n",
              "      <td>1</td>\n",
              "      <td>22.0</td>\n",
              "      <td>1</td>\n",
              "      <td>0</td>\n",
              "      <td>A/5 21171</td>\n",
              "      <td>7.2500</td>\n",
              "      <td>NaN</td>\n",
              "      <td>1</td>\n",
              "      <td>0.0</td>\n",
              "      <td>1.0</td>\n",
              "      <td>0.0</td>\n",
              "      <td>0.0</td>\n",
              "    </tr>\n",
              "    <tr>\n",
              "      <th>1</th>\n",
              "      <td>2</td>\n",
              "      <td>1</td>\n",
              "      <td>1</td>\n",
              "      <td>Cumings, Mrs. John Bradley (Florence Briggs Th...</td>\n",
              "      <td>0</td>\n",
              "      <td>38.0</td>\n",
              "      <td>1</td>\n",
              "      <td>0</td>\n",
              "      <td>PC 17599</td>\n",
              "      <td>71.2833</td>\n",
              "      <td>C85</td>\n",
              "      <td>3</td>\n",
              "      <td>0.0</td>\n",
              "      <td>0.0</td>\n",
              "      <td>0.0</td>\n",
              "      <td>1.0</td>\n",
              "    </tr>\n",
              "    <tr>\n",
              "      <th>2</th>\n",
              "      <td>3</td>\n",
              "      <td>1</td>\n",
              "      <td>3</td>\n",
              "      <td>Heikkinen, Miss. Laina</td>\n",
              "      <td>0</td>\n",
              "      <td>26.0</td>\n",
              "      <td>0</td>\n",
              "      <td>0</td>\n",
              "      <td>STON/O2. 3101282</td>\n",
              "      <td>7.9250</td>\n",
              "      <td>NaN</td>\n",
              "      <td>1</td>\n",
              "      <td>0.0</td>\n",
              "      <td>1.0</td>\n",
              "      <td>0.0</td>\n",
              "      <td>0.0</td>\n",
              "    </tr>\n",
              "    <tr>\n",
              "      <th>3</th>\n",
              "      <td>4</td>\n",
              "      <td>1</td>\n",
              "      <td>1</td>\n",
              "      <td>Futrelle, Mrs. Jacques Heath (Lily May Peel)</td>\n",
              "      <td>0</td>\n",
              "      <td>35.0</td>\n",
              "      <td>1</td>\n",
              "      <td>0</td>\n",
              "      <td>113803</td>\n",
              "      <td>53.1000</td>\n",
              "      <td>C123</td>\n",
              "      <td>1</td>\n",
              "      <td>0.0</td>\n",
              "      <td>1.0</td>\n",
              "      <td>0.0</td>\n",
              "      <td>0.0</td>\n",
              "    </tr>\n",
              "    <tr>\n",
              "      <th>4</th>\n",
              "      <td>5</td>\n",
              "      <td>0</td>\n",
              "      <td>3</td>\n",
              "      <td>Allen, Mr. William Henry</td>\n",
              "      <td>1</td>\n",
              "      <td>35.0</td>\n",
              "      <td>0</td>\n",
              "      <td>0</td>\n",
              "      <td>373450</td>\n",
              "      <td>8.0500</td>\n",
              "      <td>NaN</td>\n",
              "      <td>1</td>\n",
              "      <td>0.0</td>\n",
              "      <td>1.0</td>\n",
              "      <td>0.0</td>\n",
              "      <td>0.0</td>\n",
              "    </tr>\n",
              "    <tr>\n",
              "      <th>...</th>\n",
              "      <td>...</td>\n",
              "      <td>...</td>\n",
              "      <td>...</td>\n",
              "      <td>...</td>\n",
              "      <td>...</td>\n",
              "      <td>...</td>\n",
              "      <td>...</td>\n",
              "      <td>...</td>\n",
              "      <td>...</td>\n",
              "      <td>...</td>\n",
              "      <td>...</td>\n",
              "      <td>...</td>\n",
              "      <td>...</td>\n",
              "      <td>...</td>\n",
              "      <td>...</td>\n",
              "      <td>...</td>\n",
              "    </tr>\n",
              "    <tr>\n",
              "      <th>886</th>\n",
              "      <td>887</td>\n",
              "      <td>0</td>\n",
              "      <td>2</td>\n",
              "      <td>Montvila, Rev. Juozas</td>\n",
              "      <td>1</td>\n",
              "      <td>27.0</td>\n",
              "      <td>0</td>\n",
              "      <td>0</td>\n",
              "      <td>211536</td>\n",
              "      <td>13.0000</td>\n",
              "      <td>NaN</td>\n",
              "      <td>1</td>\n",
              "      <td>0.0</td>\n",
              "      <td>1.0</td>\n",
              "      <td>0.0</td>\n",
              "      <td>0.0</td>\n",
              "    </tr>\n",
              "    <tr>\n",
              "      <th>887</th>\n",
              "      <td>888</td>\n",
              "      <td>1</td>\n",
              "      <td>1</td>\n",
              "      <td>Graham, Miss. Margaret Edith</td>\n",
              "      <td>0</td>\n",
              "      <td>19.0</td>\n",
              "      <td>0</td>\n",
              "      <td>0</td>\n",
              "      <td>112053</td>\n",
              "      <td>30.0000</td>\n",
              "      <td>B42</td>\n",
              "      <td>1</td>\n",
              "      <td>0.0</td>\n",
              "      <td>1.0</td>\n",
              "      <td>0.0</td>\n",
              "      <td>0.0</td>\n",
              "    </tr>\n",
              "    <tr>\n",
              "      <th>888</th>\n",
              "      <td>889</td>\n",
              "      <td>0</td>\n",
              "      <td>3</td>\n",
              "      <td>Johnston, Miss. Catherine Helen \"Carrie\"</td>\n",
              "      <td>0</td>\n",
              "      <td>NaN</td>\n",
              "      <td>1</td>\n",
              "      <td>2</td>\n",
              "      <td>W./C. 6607</td>\n",
              "      <td>23.4500</td>\n",
              "      <td>NaN</td>\n",
              "      <td>1</td>\n",
              "      <td>0.0</td>\n",
              "      <td>1.0</td>\n",
              "      <td>0.0</td>\n",
              "      <td>0.0</td>\n",
              "    </tr>\n",
              "    <tr>\n",
              "      <th>889</th>\n",
              "      <td>890</td>\n",
              "      <td>1</td>\n",
              "      <td>1</td>\n",
              "      <td>Behr, Mr. Karl Howell</td>\n",
              "      <td>1</td>\n",
              "      <td>26.0</td>\n",
              "      <td>0</td>\n",
              "      <td>0</td>\n",
              "      <td>111369</td>\n",
              "      <td>30.0000</td>\n",
              "      <td>C148</td>\n",
              "      <td>3</td>\n",
              "      <td>0.0</td>\n",
              "      <td>0.0</td>\n",
              "      <td>0.0</td>\n",
              "      <td>1.0</td>\n",
              "    </tr>\n",
              "    <tr>\n",
              "      <th>890</th>\n",
              "      <td>891</td>\n",
              "      <td>0</td>\n",
              "      <td>3</td>\n",
              "      <td>Dooley, Mr. Patrick</td>\n",
              "      <td>1</td>\n",
              "      <td>32.0</td>\n",
              "      <td>0</td>\n",
              "      <td>0</td>\n",
              "      <td>370376</td>\n",
              "      <td>7.7500</td>\n",
              "      <td>NaN</td>\n",
              "      <td>2</td>\n",
              "      <td>0.0</td>\n",
              "      <td>0.0</td>\n",
              "      <td>1.0</td>\n",
              "      <td>0.0</td>\n",
              "    </tr>\n",
              "  </tbody>\n",
              "</table>\n",
              "<p>891 rows × 16 columns</p>\n",
              "</div>"
            ],
            "text/plain": [
              "     PassengerId  Survived  Pclass  ...    1    2    3\n",
              "0              1         0       3  ...  1.0  0.0  0.0\n",
              "1              2         1       1  ...  0.0  0.0  1.0\n",
              "2              3         1       3  ...  1.0  0.0  0.0\n",
              "3              4         1       1  ...  1.0  0.0  0.0\n",
              "4              5         0       3  ...  1.0  0.0  0.0\n",
              "..           ...       ...     ...  ...  ...  ...  ...\n",
              "886          887         0       2  ...  1.0  0.0  0.0\n",
              "887          888         1       1  ...  1.0  0.0  0.0\n",
              "888          889         0       3  ...  1.0  0.0  0.0\n",
              "889          890         1       1  ...  0.0  0.0  1.0\n",
              "890          891         0       3  ...  0.0  1.0  0.0\n",
              "\n",
              "[891 rows x 16 columns]"
            ]
          },
          "metadata": {
            "tags": []
          },
          "execution_count": 125
        }
      ]
    },
    {
      "cell_type": "markdown",
      "metadata": {
        "id": "i9y8LY3347Es"
      },
      "source": [
        "# Text data vectorization"
      ]
    },
    {
      "cell_type": "markdown",
      "metadata": {
        "id": "drWo4Xo74-Pa"
      },
      "source": [
        "**Using CountVectorizer**"
      ]
    },
    {
      "cell_type": "code",
      "metadata": {
        "colab": {
          "base_uri": "https://localhost:8080/",
          "height": 422
        },
        "id": "SdAqtQOo5BWZ",
        "outputId": "37fdfc03-3f0a-4df2-aa0c-f2c54479b100"
      },
      "source": [
        "from sklearn.feature_extraction.text import CountVectorizer\n",
        "\n",
        "vectorizer = CountVectorizer()\n",
        "names = train['Name']\n",
        "X = vectorizer.fit_transform(names)\n",
        "feature_names = vectorizer.get_feature_names()\n",
        "dense = X.todense()\n",
        "denselist = dense.tolist()\n",
        "df = pd.DataFrame(denselist, columns = feature_names)\n",
        "df"
      ],
      "execution_count": 126,
      "outputs": [
        {
          "output_type": "execute_result",
          "data": {
            "text/html": [
              "<div>\n",
              "<style scoped>\n",
              "    .dataframe tbody tr th:only-of-type {\n",
              "        vertical-align: middle;\n",
              "    }\n",
              "\n",
              "    .dataframe tbody tr th {\n",
              "        vertical-align: top;\n",
              "    }\n",
              "\n",
              "    .dataframe thead th {\n",
              "        text-align: right;\n",
              "    }\n",
              "</style>\n",
              "<table border=\"1\" class=\"dataframe\">\n",
              "  <thead>\n",
              "    <tr style=\"text-align: right;\">\n",
              "      <th></th>\n",
              "      <th>aaron</th>\n",
              "      <th>abbing</th>\n",
              "      <th>abbott</th>\n",
              "      <th>abelson</th>\n",
              "      <th>abraham</th>\n",
              "      <th>achem</th>\n",
              "      <th>achille</th>\n",
              "      <th>achilles</th>\n",
              "      <th>ada</th>\n",
              "      <th>adahl</th>\n",
              "      <th>adams</th>\n",
              "      <th>adelaide</th>\n",
              "      <th>adele</th>\n",
              "      <th>adelia</th>\n",
              "      <th>adola</th>\n",
              "      <th>adolf</th>\n",
              "      <th>adolfina</th>\n",
              "      <th>adolphe</th>\n",
              "      <th>adrian</th>\n",
              "      <th>agatha</th>\n",
              "      <th>agda</th>\n",
              "      <th>agnes</th>\n",
              "      <th>ahlin</th>\n",
              "      <th>ahmed</th>\n",
              "      <th>aijo</th>\n",
              "      <th>aime</th>\n",
              "      <th>aina</th>\n",
              "      <th>aks</th>\n",
              "      <th>albert</th>\n",
              "      <th>albimona</th>\n",
              "      <th>albin</th>\n",
              "      <th>albina</th>\n",
              "      <th>alden</th>\n",
              "      <th>alexander</th>\n",
              "      <th>alexandra</th>\n",
              "      <th>alexanteri</th>\n",
              "      <th>alexenia</th>\n",
              "      <th>alfons</th>\n",
              "      <th>alfonzo</th>\n",
              "      <th>alfred</th>\n",
              "      <th>...</th>\n",
              "      <th>white</th>\n",
              "      <th>wick</th>\n",
              "      <th>widegren</th>\n",
              "      <th>widener</th>\n",
              "      <th>wiklund</th>\n",
              "      <th>wilhelm</th>\n",
              "      <th>wilhelmina</th>\n",
              "      <th>wilhelms</th>\n",
              "      <th>wilkinson</th>\n",
              "      <th>willey</th>\n",
              "      <th>william</th>\n",
              "      <th>williams</th>\n",
              "      <th>willingham</th>\n",
              "      <th>wills</th>\n",
              "      <th>wilson</th>\n",
              "      <th>windelov</th>\n",
              "      <th>winfield</th>\n",
              "      <th>winnie</th>\n",
              "      <th>wiseman</th>\n",
              "      <th>wizosky</th>\n",
              "      <th>wonnacott</th>\n",
              "      <th>wood</th>\n",
              "      <th>woolner</th>\n",
              "      <th>worth</th>\n",
              "      <th>wright</th>\n",
              "      <th>wyckoff</th>\n",
              "      <th>yarred</th>\n",
              "      <th>yasbeck</th>\n",
              "      <th>yoto</th>\n",
              "      <th>young</th>\n",
              "      <th>youseff</th>\n",
              "      <th>yousif</th>\n",
              "      <th>youssef</th>\n",
              "      <th>yousseff</th>\n",
              "      <th>yrois</th>\n",
              "      <th>zabour</th>\n",
              "      <th>zebley</th>\n",
              "      <th>zenni</th>\n",
              "      <th>zillah</th>\n",
              "      <th>zimmerman</th>\n",
              "    </tr>\n",
              "  </thead>\n",
              "  <tbody>\n",
              "    <tr>\n",
              "      <th>0</th>\n",
              "      <td>0</td>\n",
              "      <td>0</td>\n",
              "      <td>0</td>\n",
              "      <td>0</td>\n",
              "      <td>0</td>\n",
              "      <td>0</td>\n",
              "      <td>0</td>\n",
              "      <td>0</td>\n",
              "      <td>0</td>\n",
              "      <td>0</td>\n",
              "      <td>0</td>\n",
              "      <td>0</td>\n",
              "      <td>0</td>\n",
              "      <td>0</td>\n",
              "      <td>0</td>\n",
              "      <td>0</td>\n",
              "      <td>0</td>\n",
              "      <td>0</td>\n",
              "      <td>0</td>\n",
              "      <td>0</td>\n",
              "      <td>0</td>\n",
              "      <td>0</td>\n",
              "      <td>0</td>\n",
              "      <td>0</td>\n",
              "      <td>0</td>\n",
              "      <td>0</td>\n",
              "      <td>0</td>\n",
              "      <td>0</td>\n",
              "      <td>0</td>\n",
              "      <td>0</td>\n",
              "      <td>0</td>\n",
              "      <td>0</td>\n",
              "      <td>0</td>\n",
              "      <td>0</td>\n",
              "      <td>0</td>\n",
              "      <td>0</td>\n",
              "      <td>0</td>\n",
              "      <td>0</td>\n",
              "      <td>0</td>\n",
              "      <td>0</td>\n",
              "      <td>...</td>\n",
              "      <td>0</td>\n",
              "      <td>0</td>\n",
              "      <td>0</td>\n",
              "      <td>0</td>\n",
              "      <td>0</td>\n",
              "      <td>0</td>\n",
              "      <td>0</td>\n",
              "      <td>0</td>\n",
              "      <td>0</td>\n",
              "      <td>0</td>\n",
              "      <td>0</td>\n",
              "      <td>0</td>\n",
              "      <td>0</td>\n",
              "      <td>0</td>\n",
              "      <td>0</td>\n",
              "      <td>0</td>\n",
              "      <td>0</td>\n",
              "      <td>0</td>\n",
              "      <td>0</td>\n",
              "      <td>0</td>\n",
              "      <td>0</td>\n",
              "      <td>0</td>\n",
              "      <td>0</td>\n",
              "      <td>0</td>\n",
              "      <td>0</td>\n",
              "      <td>0</td>\n",
              "      <td>0</td>\n",
              "      <td>0</td>\n",
              "      <td>0</td>\n",
              "      <td>0</td>\n",
              "      <td>0</td>\n",
              "      <td>0</td>\n",
              "      <td>0</td>\n",
              "      <td>0</td>\n",
              "      <td>0</td>\n",
              "      <td>0</td>\n",
              "      <td>0</td>\n",
              "      <td>0</td>\n",
              "      <td>0</td>\n",
              "      <td>0</td>\n",
              "    </tr>\n",
              "    <tr>\n",
              "      <th>1</th>\n",
              "      <td>0</td>\n",
              "      <td>0</td>\n",
              "      <td>0</td>\n",
              "      <td>0</td>\n",
              "      <td>0</td>\n",
              "      <td>0</td>\n",
              "      <td>0</td>\n",
              "      <td>0</td>\n",
              "      <td>0</td>\n",
              "      <td>0</td>\n",
              "      <td>0</td>\n",
              "      <td>0</td>\n",
              "      <td>0</td>\n",
              "      <td>0</td>\n",
              "      <td>0</td>\n",
              "      <td>0</td>\n",
              "      <td>0</td>\n",
              "      <td>0</td>\n",
              "      <td>0</td>\n",
              "      <td>0</td>\n",
              "      <td>0</td>\n",
              "      <td>0</td>\n",
              "      <td>0</td>\n",
              "      <td>0</td>\n",
              "      <td>0</td>\n",
              "      <td>0</td>\n",
              "      <td>0</td>\n",
              "      <td>0</td>\n",
              "      <td>0</td>\n",
              "      <td>0</td>\n",
              "      <td>0</td>\n",
              "      <td>0</td>\n",
              "      <td>0</td>\n",
              "      <td>0</td>\n",
              "      <td>0</td>\n",
              "      <td>0</td>\n",
              "      <td>0</td>\n",
              "      <td>0</td>\n",
              "      <td>0</td>\n",
              "      <td>0</td>\n",
              "      <td>...</td>\n",
              "      <td>0</td>\n",
              "      <td>0</td>\n",
              "      <td>0</td>\n",
              "      <td>0</td>\n",
              "      <td>0</td>\n",
              "      <td>0</td>\n",
              "      <td>0</td>\n",
              "      <td>0</td>\n",
              "      <td>0</td>\n",
              "      <td>0</td>\n",
              "      <td>0</td>\n",
              "      <td>0</td>\n",
              "      <td>0</td>\n",
              "      <td>0</td>\n",
              "      <td>0</td>\n",
              "      <td>0</td>\n",
              "      <td>0</td>\n",
              "      <td>0</td>\n",
              "      <td>0</td>\n",
              "      <td>0</td>\n",
              "      <td>0</td>\n",
              "      <td>0</td>\n",
              "      <td>0</td>\n",
              "      <td>0</td>\n",
              "      <td>0</td>\n",
              "      <td>0</td>\n",
              "      <td>0</td>\n",
              "      <td>0</td>\n",
              "      <td>0</td>\n",
              "      <td>0</td>\n",
              "      <td>0</td>\n",
              "      <td>0</td>\n",
              "      <td>0</td>\n",
              "      <td>0</td>\n",
              "      <td>0</td>\n",
              "      <td>0</td>\n",
              "      <td>0</td>\n",
              "      <td>0</td>\n",
              "      <td>0</td>\n",
              "      <td>0</td>\n",
              "    </tr>\n",
              "    <tr>\n",
              "      <th>2</th>\n",
              "      <td>0</td>\n",
              "      <td>0</td>\n",
              "      <td>0</td>\n",
              "      <td>0</td>\n",
              "      <td>0</td>\n",
              "      <td>0</td>\n",
              "      <td>0</td>\n",
              "      <td>0</td>\n",
              "      <td>0</td>\n",
              "      <td>0</td>\n",
              "      <td>0</td>\n",
              "      <td>0</td>\n",
              "      <td>0</td>\n",
              "      <td>0</td>\n",
              "      <td>0</td>\n",
              "      <td>0</td>\n",
              "      <td>0</td>\n",
              "      <td>0</td>\n",
              "      <td>0</td>\n",
              "      <td>0</td>\n",
              "      <td>0</td>\n",
              "      <td>0</td>\n",
              "      <td>0</td>\n",
              "      <td>0</td>\n",
              "      <td>0</td>\n",
              "      <td>0</td>\n",
              "      <td>0</td>\n",
              "      <td>0</td>\n",
              "      <td>0</td>\n",
              "      <td>0</td>\n",
              "      <td>0</td>\n",
              "      <td>0</td>\n",
              "      <td>0</td>\n",
              "      <td>0</td>\n",
              "      <td>0</td>\n",
              "      <td>0</td>\n",
              "      <td>0</td>\n",
              "      <td>0</td>\n",
              "      <td>0</td>\n",
              "      <td>0</td>\n",
              "      <td>...</td>\n",
              "      <td>0</td>\n",
              "      <td>0</td>\n",
              "      <td>0</td>\n",
              "      <td>0</td>\n",
              "      <td>0</td>\n",
              "      <td>0</td>\n",
              "      <td>0</td>\n",
              "      <td>0</td>\n",
              "      <td>0</td>\n",
              "      <td>0</td>\n",
              "      <td>0</td>\n",
              "      <td>0</td>\n",
              "      <td>0</td>\n",
              "      <td>0</td>\n",
              "      <td>0</td>\n",
              "      <td>0</td>\n",
              "      <td>0</td>\n",
              "      <td>0</td>\n",
              "      <td>0</td>\n",
              "      <td>0</td>\n",
              "      <td>0</td>\n",
              "      <td>0</td>\n",
              "      <td>0</td>\n",
              "      <td>0</td>\n",
              "      <td>0</td>\n",
              "      <td>0</td>\n",
              "      <td>0</td>\n",
              "      <td>0</td>\n",
              "      <td>0</td>\n",
              "      <td>0</td>\n",
              "      <td>0</td>\n",
              "      <td>0</td>\n",
              "      <td>0</td>\n",
              "      <td>0</td>\n",
              "      <td>0</td>\n",
              "      <td>0</td>\n",
              "      <td>0</td>\n",
              "      <td>0</td>\n",
              "      <td>0</td>\n",
              "      <td>0</td>\n",
              "    </tr>\n",
              "    <tr>\n",
              "      <th>3</th>\n",
              "      <td>0</td>\n",
              "      <td>0</td>\n",
              "      <td>0</td>\n",
              "      <td>0</td>\n",
              "      <td>0</td>\n",
              "      <td>0</td>\n",
              "      <td>0</td>\n",
              "      <td>0</td>\n",
              "      <td>0</td>\n",
              "      <td>0</td>\n",
              "      <td>0</td>\n",
              "      <td>0</td>\n",
              "      <td>0</td>\n",
              "      <td>0</td>\n",
              "      <td>0</td>\n",
              "      <td>0</td>\n",
              "      <td>0</td>\n",
              "      <td>0</td>\n",
              "      <td>0</td>\n",
              "      <td>0</td>\n",
              "      <td>0</td>\n",
              "      <td>0</td>\n",
              "      <td>0</td>\n",
              "      <td>0</td>\n",
              "      <td>0</td>\n",
              "      <td>0</td>\n",
              "      <td>0</td>\n",
              "      <td>0</td>\n",
              "      <td>0</td>\n",
              "      <td>0</td>\n",
              "      <td>0</td>\n",
              "      <td>0</td>\n",
              "      <td>0</td>\n",
              "      <td>0</td>\n",
              "      <td>0</td>\n",
              "      <td>0</td>\n",
              "      <td>0</td>\n",
              "      <td>0</td>\n",
              "      <td>0</td>\n",
              "      <td>0</td>\n",
              "      <td>...</td>\n",
              "      <td>0</td>\n",
              "      <td>0</td>\n",
              "      <td>0</td>\n",
              "      <td>0</td>\n",
              "      <td>0</td>\n",
              "      <td>0</td>\n",
              "      <td>0</td>\n",
              "      <td>0</td>\n",
              "      <td>0</td>\n",
              "      <td>0</td>\n",
              "      <td>0</td>\n",
              "      <td>0</td>\n",
              "      <td>0</td>\n",
              "      <td>0</td>\n",
              "      <td>0</td>\n",
              "      <td>0</td>\n",
              "      <td>0</td>\n",
              "      <td>0</td>\n",
              "      <td>0</td>\n",
              "      <td>0</td>\n",
              "      <td>0</td>\n",
              "      <td>0</td>\n",
              "      <td>0</td>\n",
              "      <td>0</td>\n",
              "      <td>0</td>\n",
              "      <td>0</td>\n",
              "      <td>0</td>\n",
              "      <td>0</td>\n",
              "      <td>0</td>\n",
              "      <td>0</td>\n",
              "      <td>0</td>\n",
              "      <td>0</td>\n",
              "      <td>0</td>\n",
              "      <td>0</td>\n",
              "      <td>0</td>\n",
              "      <td>0</td>\n",
              "      <td>0</td>\n",
              "      <td>0</td>\n",
              "      <td>0</td>\n",
              "      <td>0</td>\n",
              "    </tr>\n",
              "    <tr>\n",
              "      <th>4</th>\n",
              "      <td>0</td>\n",
              "      <td>0</td>\n",
              "      <td>0</td>\n",
              "      <td>0</td>\n",
              "      <td>0</td>\n",
              "      <td>0</td>\n",
              "      <td>0</td>\n",
              "      <td>0</td>\n",
              "      <td>0</td>\n",
              "      <td>0</td>\n",
              "      <td>0</td>\n",
              "      <td>0</td>\n",
              "      <td>0</td>\n",
              "      <td>0</td>\n",
              "      <td>0</td>\n",
              "      <td>0</td>\n",
              "      <td>0</td>\n",
              "      <td>0</td>\n",
              "      <td>0</td>\n",
              "      <td>0</td>\n",
              "      <td>0</td>\n",
              "      <td>0</td>\n",
              "      <td>0</td>\n",
              "      <td>0</td>\n",
              "      <td>0</td>\n",
              "      <td>0</td>\n",
              "      <td>0</td>\n",
              "      <td>0</td>\n",
              "      <td>0</td>\n",
              "      <td>0</td>\n",
              "      <td>0</td>\n",
              "      <td>0</td>\n",
              "      <td>0</td>\n",
              "      <td>0</td>\n",
              "      <td>0</td>\n",
              "      <td>0</td>\n",
              "      <td>0</td>\n",
              "      <td>0</td>\n",
              "      <td>0</td>\n",
              "      <td>0</td>\n",
              "      <td>...</td>\n",
              "      <td>0</td>\n",
              "      <td>0</td>\n",
              "      <td>0</td>\n",
              "      <td>0</td>\n",
              "      <td>0</td>\n",
              "      <td>0</td>\n",
              "      <td>0</td>\n",
              "      <td>0</td>\n",
              "      <td>0</td>\n",
              "      <td>0</td>\n",
              "      <td>1</td>\n",
              "      <td>0</td>\n",
              "      <td>0</td>\n",
              "      <td>0</td>\n",
              "      <td>0</td>\n",
              "      <td>0</td>\n",
              "      <td>0</td>\n",
              "      <td>0</td>\n",
              "      <td>0</td>\n",
              "      <td>0</td>\n",
              "      <td>0</td>\n",
              "      <td>0</td>\n",
              "      <td>0</td>\n",
              "      <td>0</td>\n",
              "      <td>0</td>\n",
              "      <td>0</td>\n",
              "      <td>0</td>\n",
              "      <td>0</td>\n",
              "      <td>0</td>\n",
              "      <td>0</td>\n",
              "      <td>0</td>\n",
              "      <td>0</td>\n",
              "      <td>0</td>\n",
              "      <td>0</td>\n",
              "      <td>0</td>\n",
              "      <td>0</td>\n",
              "      <td>0</td>\n",
              "      <td>0</td>\n",
              "      <td>0</td>\n",
              "      <td>0</td>\n",
              "    </tr>\n",
              "    <tr>\n",
              "      <th>...</th>\n",
              "      <td>...</td>\n",
              "      <td>...</td>\n",
              "      <td>...</td>\n",
              "      <td>...</td>\n",
              "      <td>...</td>\n",
              "      <td>...</td>\n",
              "      <td>...</td>\n",
              "      <td>...</td>\n",
              "      <td>...</td>\n",
              "      <td>...</td>\n",
              "      <td>...</td>\n",
              "      <td>...</td>\n",
              "      <td>...</td>\n",
              "      <td>...</td>\n",
              "      <td>...</td>\n",
              "      <td>...</td>\n",
              "      <td>...</td>\n",
              "      <td>...</td>\n",
              "      <td>...</td>\n",
              "      <td>...</td>\n",
              "      <td>...</td>\n",
              "      <td>...</td>\n",
              "      <td>...</td>\n",
              "      <td>...</td>\n",
              "      <td>...</td>\n",
              "      <td>...</td>\n",
              "      <td>...</td>\n",
              "      <td>...</td>\n",
              "      <td>...</td>\n",
              "      <td>...</td>\n",
              "      <td>...</td>\n",
              "      <td>...</td>\n",
              "      <td>...</td>\n",
              "      <td>...</td>\n",
              "      <td>...</td>\n",
              "      <td>...</td>\n",
              "      <td>...</td>\n",
              "      <td>...</td>\n",
              "      <td>...</td>\n",
              "      <td>...</td>\n",
              "      <td>...</td>\n",
              "      <td>...</td>\n",
              "      <td>...</td>\n",
              "      <td>...</td>\n",
              "      <td>...</td>\n",
              "      <td>...</td>\n",
              "      <td>...</td>\n",
              "      <td>...</td>\n",
              "      <td>...</td>\n",
              "      <td>...</td>\n",
              "      <td>...</td>\n",
              "      <td>...</td>\n",
              "      <td>...</td>\n",
              "      <td>...</td>\n",
              "      <td>...</td>\n",
              "      <td>...</td>\n",
              "      <td>...</td>\n",
              "      <td>...</td>\n",
              "      <td>...</td>\n",
              "      <td>...</td>\n",
              "      <td>...</td>\n",
              "      <td>...</td>\n",
              "      <td>...</td>\n",
              "      <td>...</td>\n",
              "      <td>...</td>\n",
              "      <td>...</td>\n",
              "      <td>...</td>\n",
              "      <td>...</td>\n",
              "      <td>...</td>\n",
              "      <td>...</td>\n",
              "      <td>...</td>\n",
              "      <td>...</td>\n",
              "      <td>...</td>\n",
              "      <td>...</td>\n",
              "      <td>...</td>\n",
              "      <td>...</td>\n",
              "      <td>...</td>\n",
              "      <td>...</td>\n",
              "      <td>...</td>\n",
              "      <td>...</td>\n",
              "      <td>...</td>\n",
              "    </tr>\n",
              "    <tr>\n",
              "      <th>886</th>\n",
              "      <td>0</td>\n",
              "      <td>0</td>\n",
              "      <td>0</td>\n",
              "      <td>0</td>\n",
              "      <td>0</td>\n",
              "      <td>0</td>\n",
              "      <td>0</td>\n",
              "      <td>0</td>\n",
              "      <td>0</td>\n",
              "      <td>0</td>\n",
              "      <td>0</td>\n",
              "      <td>0</td>\n",
              "      <td>0</td>\n",
              "      <td>0</td>\n",
              "      <td>0</td>\n",
              "      <td>0</td>\n",
              "      <td>0</td>\n",
              "      <td>0</td>\n",
              "      <td>0</td>\n",
              "      <td>0</td>\n",
              "      <td>0</td>\n",
              "      <td>0</td>\n",
              "      <td>0</td>\n",
              "      <td>0</td>\n",
              "      <td>0</td>\n",
              "      <td>0</td>\n",
              "      <td>0</td>\n",
              "      <td>0</td>\n",
              "      <td>0</td>\n",
              "      <td>0</td>\n",
              "      <td>0</td>\n",
              "      <td>0</td>\n",
              "      <td>0</td>\n",
              "      <td>0</td>\n",
              "      <td>0</td>\n",
              "      <td>0</td>\n",
              "      <td>0</td>\n",
              "      <td>0</td>\n",
              "      <td>0</td>\n",
              "      <td>0</td>\n",
              "      <td>...</td>\n",
              "      <td>0</td>\n",
              "      <td>0</td>\n",
              "      <td>0</td>\n",
              "      <td>0</td>\n",
              "      <td>0</td>\n",
              "      <td>0</td>\n",
              "      <td>0</td>\n",
              "      <td>0</td>\n",
              "      <td>0</td>\n",
              "      <td>0</td>\n",
              "      <td>0</td>\n",
              "      <td>0</td>\n",
              "      <td>0</td>\n",
              "      <td>0</td>\n",
              "      <td>0</td>\n",
              "      <td>0</td>\n",
              "      <td>0</td>\n",
              "      <td>0</td>\n",
              "      <td>0</td>\n",
              "      <td>0</td>\n",
              "      <td>0</td>\n",
              "      <td>0</td>\n",
              "      <td>0</td>\n",
              "      <td>0</td>\n",
              "      <td>0</td>\n",
              "      <td>0</td>\n",
              "      <td>0</td>\n",
              "      <td>0</td>\n",
              "      <td>0</td>\n",
              "      <td>0</td>\n",
              "      <td>0</td>\n",
              "      <td>0</td>\n",
              "      <td>0</td>\n",
              "      <td>0</td>\n",
              "      <td>0</td>\n",
              "      <td>0</td>\n",
              "      <td>0</td>\n",
              "      <td>0</td>\n",
              "      <td>0</td>\n",
              "      <td>0</td>\n",
              "    </tr>\n",
              "    <tr>\n",
              "      <th>887</th>\n",
              "      <td>0</td>\n",
              "      <td>0</td>\n",
              "      <td>0</td>\n",
              "      <td>0</td>\n",
              "      <td>0</td>\n",
              "      <td>0</td>\n",
              "      <td>0</td>\n",
              "      <td>0</td>\n",
              "      <td>0</td>\n",
              "      <td>0</td>\n",
              "      <td>0</td>\n",
              "      <td>0</td>\n",
              "      <td>0</td>\n",
              "      <td>0</td>\n",
              "      <td>0</td>\n",
              "      <td>0</td>\n",
              "      <td>0</td>\n",
              "      <td>0</td>\n",
              "      <td>0</td>\n",
              "      <td>0</td>\n",
              "      <td>0</td>\n",
              "      <td>0</td>\n",
              "      <td>0</td>\n",
              "      <td>0</td>\n",
              "      <td>0</td>\n",
              "      <td>0</td>\n",
              "      <td>0</td>\n",
              "      <td>0</td>\n",
              "      <td>0</td>\n",
              "      <td>0</td>\n",
              "      <td>0</td>\n",
              "      <td>0</td>\n",
              "      <td>0</td>\n",
              "      <td>0</td>\n",
              "      <td>0</td>\n",
              "      <td>0</td>\n",
              "      <td>0</td>\n",
              "      <td>0</td>\n",
              "      <td>0</td>\n",
              "      <td>0</td>\n",
              "      <td>...</td>\n",
              "      <td>0</td>\n",
              "      <td>0</td>\n",
              "      <td>0</td>\n",
              "      <td>0</td>\n",
              "      <td>0</td>\n",
              "      <td>0</td>\n",
              "      <td>0</td>\n",
              "      <td>0</td>\n",
              "      <td>0</td>\n",
              "      <td>0</td>\n",
              "      <td>0</td>\n",
              "      <td>0</td>\n",
              "      <td>0</td>\n",
              "      <td>0</td>\n",
              "      <td>0</td>\n",
              "      <td>0</td>\n",
              "      <td>0</td>\n",
              "      <td>0</td>\n",
              "      <td>0</td>\n",
              "      <td>0</td>\n",
              "      <td>0</td>\n",
              "      <td>0</td>\n",
              "      <td>0</td>\n",
              "      <td>0</td>\n",
              "      <td>0</td>\n",
              "      <td>0</td>\n",
              "      <td>0</td>\n",
              "      <td>0</td>\n",
              "      <td>0</td>\n",
              "      <td>0</td>\n",
              "      <td>0</td>\n",
              "      <td>0</td>\n",
              "      <td>0</td>\n",
              "      <td>0</td>\n",
              "      <td>0</td>\n",
              "      <td>0</td>\n",
              "      <td>0</td>\n",
              "      <td>0</td>\n",
              "      <td>0</td>\n",
              "      <td>0</td>\n",
              "    </tr>\n",
              "    <tr>\n",
              "      <th>888</th>\n",
              "      <td>0</td>\n",
              "      <td>0</td>\n",
              "      <td>0</td>\n",
              "      <td>0</td>\n",
              "      <td>0</td>\n",
              "      <td>0</td>\n",
              "      <td>0</td>\n",
              "      <td>0</td>\n",
              "      <td>0</td>\n",
              "      <td>0</td>\n",
              "      <td>0</td>\n",
              "      <td>0</td>\n",
              "      <td>0</td>\n",
              "      <td>0</td>\n",
              "      <td>0</td>\n",
              "      <td>0</td>\n",
              "      <td>0</td>\n",
              "      <td>0</td>\n",
              "      <td>0</td>\n",
              "      <td>0</td>\n",
              "      <td>0</td>\n",
              "      <td>0</td>\n",
              "      <td>0</td>\n",
              "      <td>0</td>\n",
              "      <td>0</td>\n",
              "      <td>0</td>\n",
              "      <td>0</td>\n",
              "      <td>0</td>\n",
              "      <td>0</td>\n",
              "      <td>0</td>\n",
              "      <td>0</td>\n",
              "      <td>0</td>\n",
              "      <td>0</td>\n",
              "      <td>0</td>\n",
              "      <td>0</td>\n",
              "      <td>0</td>\n",
              "      <td>0</td>\n",
              "      <td>0</td>\n",
              "      <td>0</td>\n",
              "      <td>0</td>\n",
              "      <td>...</td>\n",
              "      <td>0</td>\n",
              "      <td>0</td>\n",
              "      <td>0</td>\n",
              "      <td>0</td>\n",
              "      <td>0</td>\n",
              "      <td>0</td>\n",
              "      <td>0</td>\n",
              "      <td>0</td>\n",
              "      <td>0</td>\n",
              "      <td>0</td>\n",
              "      <td>0</td>\n",
              "      <td>0</td>\n",
              "      <td>0</td>\n",
              "      <td>0</td>\n",
              "      <td>0</td>\n",
              "      <td>0</td>\n",
              "      <td>0</td>\n",
              "      <td>0</td>\n",
              "      <td>0</td>\n",
              "      <td>0</td>\n",
              "      <td>0</td>\n",
              "      <td>0</td>\n",
              "      <td>0</td>\n",
              "      <td>0</td>\n",
              "      <td>0</td>\n",
              "      <td>0</td>\n",
              "      <td>0</td>\n",
              "      <td>0</td>\n",
              "      <td>0</td>\n",
              "      <td>0</td>\n",
              "      <td>0</td>\n",
              "      <td>0</td>\n",
              "      <td>0</td>\n",
              "      <td>0</td>\n",
              "      <td>0</td>\n",
              "      <td>0</td>\n",
              "      <td>0</td>\n",
              "      <td>0</td>\n",
              "      <td>0</td>\n",
              "      <td>0</td>\n",
              "    </tr>\n",
              "    <tr>\n",
              "      <th>889</th>\n",
              "      <td>0</td>\n",
              "      <td>0</td>\n",
              "      <td>0</td>\n",
              "      <td>0</td>\n",
              "      <td>0</td>\n",
              "      <td>0</td>\n",
              "      <td>0</td>\n",
              "      <td>0</td>\n",
              "      <td>0</td>\n",
              "      <td>0</td>\n",
              "      <td>0</td>\n",
              "      <td>0</td>\n",
              "      <td>0</td>\n",
              "      <td>0</td>\n",
              "      <td>0</td>\n",
              "      <td>0</td>\n",
              "      <td>0</td>\n",
              "      <td>0</td>\n",
              "      <td>0</td>\n",
              "      <td>0</td>\n",
              "      <td>0</td>\n",
              "      <td>0</td>\n",
              "      <td>0</td>\n",
              "      <td>0</td>\n",
              "      <td>0</td>\n",
              "      <td>0</td>\n",
              "      <td>0</td>\n",
              "      <td>0</td>\n",
              "      <td>0</td>\n",
              "      <td>0</td>\n",
              "      <td>0</td>\n",
              "      <td>0</td>\n",
              "      <td>0</td>\n",
              "      <td>0</td>\n",
              "      <td>0</td>\n",
              "      <td>0</td>\n",
              "      <td>0</td>\n",
              "      <td>0</td>\n",
              "      <td>0</td>\n",
              "      <td>0</td>\n",
              "      <td>...</td>\n",
              "      <td>0</td>\n",
              "      <td>0</td>\n",
              "      <td>0</td>\n",
              "      <td>0</td>\n",
              "      <td>0</td>\n",
              "      <td>0</td>\n",
              "      <td>0</td>\n",
              "      <td>0</td>\n",
              "      <td>0</td>\n",
              "      <td>0</td>\n",
              "      <td>0</td>\n",
              "      <td>0</td>\n",
              "      <td>0</td>\n",
              "      <td>0</td>\n",
              "      <td>0</td>\n",
              "      <td>0</td>\n",
              "      <td>0</td>\n",
              "      <td>0</td>\n",
              "      <td>0</td>\n",
              "      <td>0</td>\n",
              "      <td>0</td>\n",
              "      <td>0</td>\n",
              "      <td>0</td>\n",
              "      <td>0</td>\n",
              "      <td>0</td>\n",
              "      <td>0</td>\n",
              "      <td>0</td>\n",
              "      <td>0</td>\n",
              "      <td>0</td>\n",
              "      <td>0</td>\n",
              "      <td>0</td>\n",
              "      <td>0</td>\n",
              "      <td>0</td>\n",
              "      <td>0</td>\n",
              "      <td>0</td>\n",
              "      <td>0</td>\n",
              "      <td>0</td>\n",
              "      <td>0</td>\n",
              "      <td>0</td>\n",
              "      <td>0</td>\n",
              "    </tr>\n",
              "    <tr>\n",
              "      <th>890</th>\n",
              "      <td>0</td>\n",
              "      <td>0</td>\n",
              "      <td>0</td>\n",
              "      <td>0</td>\n",
              "      <td>0</td>\n",
              "      <td>0</td>\n",
              "      <td>0</td>\n",
              "      <td>0</td>\n",
              "      <td>0</td>\n",
              "      <td>0</td>\n",
              "      <td>0</td>\n",
              "      <td>0</td>\n",
              "      <td>0</td>\n",
              "      <td>0</td>\n",
              "      <td>0</td>\n",
              "      <td>0</td>\n",
              "      <td>0</td>\n",
              "      <td>0</td>\n",
              "      <td>0</td>\n",
              "      <td>0</td>\n",
              "      <td>0</td>\n",
              "      <td>0</td>\n",
              "      <td>0</td>\n",
              "      <td>0</td>\n",
              "      <td>0</td>\n",
              "      <td>0</td>\n",
              "      <td>0</td>\n",
              "      <td>0</td>\n",
              "      <td>0</td>\n",
              "      <td>0</td>\n",
              "      <td>0</td>\n",
              "      <td>0</td>\n",
              "      <td>0</td>\n",
              "      <td>0</td>\n",
              "      <td>0</td>\n",
              "      <td>0</td>\n",
              "      <td>0</td>\n",
              "      <td>0</td>\n",
              "      <td>0</td>\n",
              "      <td>0</td>\n",
              "      <td>...</td>\n",
              "      <td>0</td>\n",
              "      <td>0</td>\n",
              "      <td>0</td>\n",
              "      <td>0</td>\n",
              "      <td>0</td>\n",
              "      <td>0</td>\n",
              "      <td>0</td>\n",
              "      <td>0</td>\n",
              "      <td>0</td>\n",
              "      <td>0</td>\n",
              "      <td>0</td>\n",
              "      <td>0</td>\n",
              "      <td>0</td>\n",
              "      <td>0</td>\n",
              "      <td>0</td>\n",
              "      <td>0</td>\n",
              "      <td>0</td>\n",
              "      <td>0</td>\n",
              "      <td>0</td>\n",
              "      <td>0</td>\n",
              "      <td>0</td>\n",
              "      <td>0</td>\n",
              "      <td>0</td>\n",
              "      <td>0</td>\n",
              "      <td>0</td>\n",
              "      <td>0</td>\n",
              "      <td>0</td>\n",
              "      <td>0</td>\n",
              "      <td>0</td>\n",
              "      <td>0</td>\n",
              "      <td>0</td>\n",
              "      <td>0</td>\n",
              "      <td>0</td>\n",
              "      <td>0</td>\n",
              "      <td>0</td>\n",
              "      <td>0</td>\n",
              "      <td>0</td>\n",
              "      <td>0</td>\n",
              "      <td>0</td>\n",
              "      <td>0</td>\n",
              "    </tr>\n",
              "  </tbody>\n",
              "</table>\n",
              "<p>891 rows × 1509 columns</p>\n",
              "</div>"
            ],
            "text/plain": [
              "     aaron  abbing  abbott  abelson  ...  zebley  zenni  zillah  zimmerman\n",
              "0        0       0       0        0  ...       0      0       0          0\n",
              "1        0       0       0        0  ...       0      0       0          0\n",
              "2        0       0       0        0  ...       0      0       0          0\n",
              "3        0       0       0        0  ...       0      0       0          0\n",
              "4        0       0       0        0  ...       0      0       0          0\n",
              "..     ...     ...     ...      ...  ...     ...    ...     ...        ...\n",
              "886      0       0       0        0  ...       0      0       0          0\n",
              "887      0       0       0        0  ...       0      0       0          0\n",
              "888      0       0       0        0  ...       0      0       0          0\n",
              "889      0       0       0        0  ...       0      0       0          0\n",
              "890      0       0       0        0  ...       0      0       0          0\n",
              "\n",
              "[891 rows x 1509 columns]"
            ]
          },
          "metadata": {
            "tags": []
          },
          "execution_count": 126
        }
      ]
    }
  ]
}