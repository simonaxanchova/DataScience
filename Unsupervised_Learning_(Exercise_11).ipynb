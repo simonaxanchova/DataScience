{
  "nbformat": 4,
  "nbformat_minor": 0,
  "metadata": {
    "colab": {
      "name": "Unsupervised Learning (Exercise 11).ipynb",
      "provenance": []
    },
    "kernelspec": {
      "name": "python3",
      "display_name": "Python 3"
    }
  },
  "cells": [
    {
      "cell_type": "markdown",
      "metadata": {
        "id": "HsEbKI_HhnNW"
      },
      "source": [
        "# Introduction"
      ]
    },
    {
      "cell_type": "markdown",
      "metadata": {
        "id": "UlB7LvB8dLGR"
      },
      "source": [
        "**Unsupervised Learning**\r\n",
        "\r\n",
        "Think about how human children learn. As a parent or teacher you don't need to show young children every breed of dog and vat there is to teach them to recognize dogs and cats. They can learn from a few examples, without a lot of explanation, and generalize and their own. \r\n",
        "\r\n",
        "A clustering problem is an unsupervised learning problem that asks the model to find groups of similar data points. There are a number of clustering algorithms currently in use, which tend to have slightly different characteristics."
      ]
    },
    {
      "cell_type": "markdown",
      "metadata": {
        "id": "DIMr1Lghd4Ap"
      },
      "source": [
        "**K-means clustering**\r\n",
        "\r\n",
        "The k-means clustering problem attempts to divide n observations into k clusters using the Euclidean distance metric, with the objective of minimizing the variance (sum of squares) within each cluster. It is a method of vector quantization, and is useful for feature learning.\r\n",
        "\r\n",
        "K-means assumes spherical clusters that are separable so that the mean converges towards the cluster center, and also assumes that the ordering of the data points does not matter. The clusters are expected to be of similar size, so that the assignment to the nearest cluster center is the correct assignment."
      ]
    },
    {
      "cell_type": "markdown",
      "metadata": {
        "id": "ZcfmaIkjfBIu"
      },
      "source": [
        "**Hierarchical Agglomerative clustering**\r\n",
        "\r\n",
        "Hierarchical cluster analysis (HCA) can be **agglomerative** (you build the clusters bottom-up starting with individual points and ending with a single cluster) or **divisive** (you start with a single cluster and break it up until you wind up with individual points). If you're lucky you can find an intermediate stage of the clustering process that reflects a meaningful classification."
      ]
    },
    {
      "cell_type": "markdown",
      "metadata": {
        "id": "cKeMjTA0gAEL"
      },
      "source": [
        "**DBSCAN clustering**\r\n",
        "\r\n",
        "Density-based spatial clustering of application with noise (DBSCAN) is a non-parametric data-clustering algorithm that dates from 1996. It is optimized for use with databases that can accelerate geometric region queries using an R* tree or som other geometric index structure.\r\n",
        "\r\n",
        "Essentially, DBSCAN clusters core points that have more than some minimum number of neighbors within some distance Epsilon, discards as outliers points that have no neighbors within Epsilon, and adds points that are within Epsilon of a core point to that cluster. DBSCAN is one of the most common clustering algorithms, and can find arbitrarily shaped clusters."
      ]
    },
    {
      "cell_type": "markdown",
      "metadata": {
        "id": "W73Q88kOhC-c"
      },
      "source": [
        "**Autoencoders**\r\n",
        "\r\n",
        "**Encoder**: This part of the network compresses the input into a latent space representation. The encoder layer encodes the input image as a compressed representation in a reduced dimension. The compressed image is the disorted version of the original image.\r\n",
        "\r\n",
        "**Code**: This part of the network represents the compressed input which is fed to the decoder.\r\n",
        "\r\n",
        "**Decoder**: This layer decodes the encoded image back to the original dimension. The decoded image is a lossy reconstruction of the original image and it is reconstructured from the latent space representation."
      ]
    },
    {
      "cell_type": "markdown",
      "metadata": {
        "id": "VTgd4jSIhqHP"
      },
      "source": [
        "# Clustering"
      ]
    },
    {
      "cell_type": "markdown",
      "metadata": {
        "id": "8QRU-agOhx55"
      },
      "source": [
        "**Preprocessing**"
      ]
    },
    {
      "cell_type": "code",
      "metadata": {
        "id": "KMf52kmjhxM4"
      },
      "source": [
        "import numpy as np\r\n",
        "\r\n",
        "# Let's begin by allocating 3 cluster points\r\n",
        "X = np.zeros((150, 2))\r\n",
        "\r\n",
        "np.random.seed(seed = 42)\r\n",
        "X[:50, 0] = np.random.normal(loc = 0.0, scale = .3, size = 50)\r\n",
        "X[:50, 1] = np.random.normal(loc = 0.0, scale = .3, size = 50)\r\n",
        "\r\n",
        "X[50:100, 0] = np.random.normal(loc = 2.0, scale = .5, size = 50)\r\n",
        "X[50:100, 1] = np.random.normal(loc = -1.0, scale = .2, size = 50)\r\n",
        "\r\n",
        "X[100:150, 0] = np.random.normal(loc = -1.0, scale = .2, size = 50)\r\n",
        "X[100:150, 1] = np.random.normal(loc = 2.0, scale = .5, size = 50)"
      ],
      "execution_count": null,
      "outputs": []
    },
    {
      "cell_type": "code",
      "metadata": {
        "colab": {
          "base_uri": "https://localhost:8080/",
          "height": 338
        },
        "id": "NKuaYiD8ivne",
        "outputId": "fc59385c-ce0d-4ab5-a476-3df230222ce9"
      },
      "source": [
        "import matplotlib.pyplot as plt\r\n",
        "%matplotlib inline\r\n",
        "\r\n",
        "plt.figure(figsize = (5, 5))\r\n",
        "plt.plot(X[:, 0], X[:, 1], 'bo')"
      ],
      "execution_count": null,
      "outputs": [
        {
          "output_type": "execute_result",
          "data": {
            "text/plain": [
              "[<matplotlib.lines.Line2D at 0x7fbfd1233cf8>]"
            ]
          },
          "metadata": {
            "tags": []
          },
          "execution_count": 2
        },
        {
          "output_type": "display_data",
          "data": {
            "image/png": "[encoded data removed]",
            "text/plain": [
              "<Figure size 360x360 with 1 Axes>"
            ]
          },
          "metadata": {
            "tags": [],
            "needs_background": "light"
          }
        }
      ]
    },
    {
      "cell_type": "markdown",
      "metadata": {
        "id": "LHoIGRh8jBjT"
      },
      "source": [
        "## K-Means Clustering"
      ]
    },
    {
      "cell_type": "code",
      "metadata": {
        "id": "MtoQOFDEjDfI"
      },
      "source": [
        "# calculated distance between them\r\n",
        "from scipy.spatial.distance import cdist\r\n",
        "\r\n",
        "# Randomly allocate the 3 centroids \r\n",
        "np.random.seed(seed=42)\r\n",
        "centroids = np.random.normal(loc=0.0, scale=1., size=6)\r\n",
        "centroids = centroids.reshape((3, 2))\r\n",
        "\r\n",
        "cent_history = []\r\n",
        "cent_history.append(centroids)\r\n",
        "\r\n",
        "for i in range(3):\r\n",
        "    # Calculating the distance from a point to a centroid\r\n",
        "    distances = cdist(X, centroids)\r\n",
        "    # Checking what's the closest centroid for the point\r\n",
        "    labels = distances.argmin(axis=1)\r\n",
        "    \r\n",
        "    # Labeling the point according the point's distance\r\n",
        "    centroids = centroids.copy()\r\n",
        "    centroids[0, :] = np.mean(X[labels == 0, :], axis=0)\r\n",
        "    centroids[1, :] = np.mean(X[labels == 1, :], axis=0)\r\n",
        "    centroids[2, :] = np.mean(X[labels == 2, :], axis=0)\r\n",
        "    \r\n",
        "    cent_history.append(centroids)"
      ],
      "execution_count": null,
      "outputs": []
    },
    {
      "cell_type": "code",
      "metadata": {
        "colab": {
          "base_uri": "https://localhost:8080/",
          "height": 499
        },
        "id": "A7zwJkuSlq29",
        "outputId": "535a8e0e-634b-4190-a8d2-1f3ac489f3f8"
      },
      "source": [
        "# Scipy has function that takes 2 tuples and return\r\n",
        "# calculated distance between them\r\n",
        "from scipy.spatial.distance import cdist\r\n",
        "\r\n",
        "# Randomly allocate the 3 centroids \r\n",
        "np.random.seed(seed=42)\r\n",
        "centroids = np.random.normal(loc=0.0, scale=1., size=6)\r\n",
        "centroids = centroids.reshape((3, 2))\r\n",
        "\r\n",
        "cent_history = []\r\n",
        "cent_history.append(centroids)\r\n",
        "\r\n",
        "for i in range(3):\r\n",
        "    # Calculating the distance from a point to a centroid\r\n",
        "    distances = cdist(X, centroids)\r\n",
        "    # Checking what's the closest centroid for the point\r\n",
        "    labels = distances.argmin(axis=1)\r\n",
        "    \r\n",
        "    # Labeling the point according the point's distance\r\n",
        "    centroids = centroids.copy()\r\n",
        "    centroids[0, :] = np.mean(X[labels == 0, :], axis=0)\r\n",
        "    centroids[1, :] = np.mean(X[labels == 1, :], axis=0)\r\n",
        "    centroids[2, :] = np.mean(X[labels == 2, :], axis=0)\r\n",
        "    \r\n",
        "    cent_history.append(centroids)\r\n",
        "# Let's plot K-means\r\n",
        "plt.figure(figsize=(8, 8))\r\n",
        "for i in range(4):\r\n",
        "    distances = cdist(X, cent_history[i])\r\n",
        "    labels = distances.argmin(axis=1)\r\n",
        "    \r\n",
        "    plt.subplot(2, 2, i + 1)\r\n",
        "    plt.plot(X[labels == 0, 0], X[labels == 0, 1], 'bo', label='cluster #1')\r\n",
        "    plt.plot(X[labels == 1, 0], X[labels == 1, 1], 'co', label='cluster #2')\r\n",
        "    plt.plot(X[labels == 2, 0], X[labels == 2, 1], 'mo', label='cluster #3')\r\n",
        "    plt.plot(cent_history[i][:, 0], cent_history[i][:, 1], 'rX')\r\n",
        "    plt.legend(loc=0)\r\n",
        "    plt.title('Step {:}'.format(i + 1));"
      ],
      "execution_count": null,
      "outputs": [
        {
          "output_type": "display_data",
          "data": {
            "image/png": "[encoded data removed]",
            "text/plain": [
              "<Figure size 576x576 with 4 Axes>"
            ]
          },
          "metadata": {
            "tags": [],
            "needs_background": "light"
          }
        }
      ]
    },
    {
      "cell_type": "markdown",
      "metadata": {
        "id": "k2L_KImNlwkg"
      },
      "source": [
        "**Choosing the number of clusters for K-means**"
      ]
    },
    {
      "cell_type": "code",
      "metadata": {
        "id": "VVjkjLl6lzLn"
      },
      "source": [
        "from sklearn.cluster import KMeans\r\n",
        "\r\n",
        "inertia = []\r\n",
        "for k in range(1, 8):\r\n",
        "  kmeans = KMeans(n_clusters = k, random_state = 1).fit(X)\r\n",
        "  inertia.append(np.sqrt(kmeans.inertia_))"
      ],
      "execution_count": null,
      "outputs": []
    },
    {
      "cell_type": "code",
      "metadata": {
        "colab": {
          "base_uri": "https://localhost:8080/",
          "height": 299
        },
        "id": "C8J2Sot_mAQu",
        "outputId": "76870307-071c-4473-f197-773966f8bce0"
      },
      "source": [
        "plt.plot(range(1, 8), inertia, marker='s')\r\n",
        "plt.xlabel('$k$')\r\n",
        "plt.ylabel('$J(C_k)$')"
      ],
      "execution_count": null,
      "outputs": [
        {
          "output_type": "execute_result",
          "data": {
            "text/plain": [
              "Text(0, 0.5, '$J(C_k)$')"
            ]
          },
          "metadata": {
            "tags": []
          },
          "execution_count": 10
        },
        {
          "output_type": "display_data",
          "data": {
            "image/png": "[encoded data removed]",
            "text/plain": [
              "<Figure size 432x288 with 1 Axes>"
            ]
          },
          "metadata": {
            "tags": [],
            "needs_background": "light"
          }
        }
      ]
    },
    {
      "cell_type": "markdown",
      "metadata": {
        "id": "mek-_Ks1mMvM"
      },
      "source": [
        "## Agglomerative clustering"
      ]
    },
    {
      "cell_type": "code",
      "metadata": {
        "colab": {
          "base_uri": "https://localhost:8080/",
          "height": 319
        },
        "id": "ftBz8L5SmPOE",
        "outputId": "a9afe099-2d47-43b3-abd1-0b0515e56dca"
      },
      "source": [
        "from scipy.cluster import hierarchy\r\n",
        "from scipy.spatial.distance import pdist\r\n",
        "\r\n",
        "# pdist will calculate the upper triangle of the pairwise distance matrix\r\n",
        "distance_mat = pdist(X)\r\n",
        "\r\n",
        "# linkage - is an implementation in agglomerative algorithm\r\n",
        "Z = hierarchy.linkage(distance_mat, 'single')\r\n",
        "plt.figure(figsize=(10, 5))\r\n",
        "dn = hierarchy.dendrogram(Z, color_threshold = 0.5)"
      ],
      "execution_count": null,
      "outputs": [
        {
          "output_type": "display_data",
          "data": {
            "image/png": "[encoded data removed]",
            "text/plain": [
              "<Figure size 720x360 with 1 Axes>"
            ]
          },
          "metadata": {
            "tags": [],
            "needs_background": "light"
          }
        }
      ]
    },
    {
      "cell_type": "markdown",
      "metadata": {
        "id": "cmkspFAwmvTx"
      },
      "source": [
        "**Comparison of clustering algorithms**"
      ]
    },
    {
      "cell_type": "code",
      "metadata": {
        "colab": {
          "base_uri": "https://localhost:8080/",
          "height": 194
        },
        "id": "8uBWQRV8myWZ",
        "outputId": "303bf2d0-f832-456d-c185-377773d7f115"
      },
      "source": [
        "from sklearn import metrics\r\n",
        "from sklearn import datasets\r\n",
        "import pandas as pd\r\n",
        "from sklearn.cluster import KMeans, AgglomerativeClustering, AffinityPropagation, SpectralClustering, DBSCAN\r\n",
        "\r\n",
        "data = datasets.load_digits()\r\n",
        "X, y = data.data, data.target\r\n",
        "\r\n",
        "algorithms = []\r\n",
        "algorithms.append(KMeans(n_clusters=10, random_state=1))\r\n",
        "algorithms.append(AffinityPropagation())\r\n",
        "algorithms.append(SpectralClustering(n_clusters=10, random_state=1,\r\n",
        "                                     affinity='nearest_neighbors'))\r\n",
        "algorithms.append(AgglomerativeClustering(n_clusters=10))\r\n",
        "algorithms.append(DBSCAN())\r\n",
        "\r\n",
        "data = []\r\n",
        "for algo in algorithms:\r\n",
        "    algo.fit(X)\r\n",
        "    data.append(({\r\n",
        "        'ARI': metrics.adjusted_rand_score(y, algo.labels_),\r\n",
        "        'AMI': metrics.adjusted_mutual_info_score(y, algo.labels_,\r\n",
        "                                                 average_method='arithmetic'),\r\n",
        "        'Homogenity': metrics.homogeneity_score(y, algo.labels_),\r\n",
        "        'Completeness': metrics.completeness_score(y, algo.labels_),\r\n",
        "        'V-measure': metrics.v_measure_score(y, algo.labels_)}))\r\n",
        "\r\n",
        "results = pd.DataFrame(data=data, columns=['ARI', 'AMI', 'Homogenity',\r\n",
        "                                           'Completeness', 'V-measure'],\r\n",
        "                       index=['K-means', 'Affinity', \r\n",
        "                              'Spectral', 'Agglomerative','DBSCAN'])\r\n",
        "\r\n",
        "results"
      ],
      "execution_count": null,
      "outputs": [
        {
          "output_type": "execute_result",
          "data": {
            "text/html": [
              "<div>\n",
              "<style scoped>\n",
              "    .dataframe tbody tr th:only-of-type {\n",
              "        vertical-align: middle;\n",
              "    }\n",
              "\n",
              "    .dataframe tbody tr th {\n",
              "        vertical-align: top;\n",
              "    }\n",
              "\n",
              "    .dataframe thead th {\n",
              "        text-align: right;\n",
              "    }\n",
              "</style>\n",
              "<table border=\"1\" class=\"dataframe\">\n",
              "  <thead>\n",
              "    <tr style=\"text-align: right;\">\n",
              "      <th></th>\n",
              "      <th>ARI</th>\n",
              "      <th>AMI</th>\n",
              "      <th>Homogenity</th>\n",
              "      <th>Completeness</th>\n",
              "      <th>V-measure</th>\n",
              "    </tr>\n",
              "  </thead>\n",
              "  <tbody>\n",
              "    <tr>\n",
              "      <th>K-means</th>\n",
              "      <td>0.668587</td>\n",
              "      <td>7.411565e-01</td>\n",
              "      <td>7.394638e-01</td>\n",
              "      <td>0.748061</td>\n",
              "      <td>7.437373e-01</td>\n",
              "    </tr>\n",
              "    <tr>\n",
              "      <th>Affinity</th>\n",
              "      <td>0.175174</td>\n",
              "      <td>6.124596e-01</td>\n",
              "      <td>9.589073e-01</td>\n",
              "      <td>0.486901</td>\n",
              "      <td>6.458574e-01</td>\n",
              "    </tr>\n",
              "    <tr>\n",
              "      <th>Spectral</th>\n",
              "      <td>0.756461</td>\n",
              "      <td>8.520396e-01</td>\n",
              "      <td>8.316906e-01</td>\n",
              "      <td>0.876614</td>\n",
              "      <td>8.535619e-01</td>\n",
              "    </tr>\n",
              "    <tr>\n",
              "      <th>Agglomerative</th>\n",
              "      <td>0.794003</td>\n",
              "      <td>8.668321e-01</td>\n",
              "      <td>8.575129e-01</td>\n",
              "      <td>0.879096</td>\n",
              "      <td>8.681701e-01</td>\n",
              "    </tr>\n",
              "    <tr>\n",
              "      <th>DBSCAN</th>\n",
              "      <td>0.000000</td>\n",
              "      <td>-7.965325e-17</td>\n",
              "      <td>3.616394e-17</td>\n",
              "      <td>1.000000</td>\n",
              "      <td>7.232789e-17</td>\n",
              "    </tr>\n",
              "  </tbody>\n",
              "</table>\n",
              "</div>"
            ],
            "text/plain": [
              "                    ARI           AMI    Homogenity  Completeness     V-measure\n",
              "K-means        0.668587  7.411565e-01  7.394638e-01      0.748061  7.437373e-01\n",
              "Affinity       0.175174  6.124596e-01  9.589073e-01      0.486901  6.458574e-01\n",
              "Spectral       0.756461  8.520396e-01  8.316906e-01      0.876614  8.535619e-01\n",
              "Agglomerative  0.794003  8.668321e-01  8.575129e-01      0.879096  8.681701e-01\n",
              "DBSCAN         0.000000 -7.965325e-17  3.616394e-17      1.000000  7.232789e-17"
            ]
          },
          "metadata": {
            "tags": []
          },
          "execution_count": 13
        }
      ]
    },
    {
      "cell_type": "markdown",
      "metadata": {
        "id": "m-iqB-dbnjSP"
      },
      "source": [
        "# Advanced Clustering: Generate clusters for sentiment analysis of the bitcoin tweets"
      ]
    },
    {
      "cell_type": "markdown",
      "metadata": {
        "id": "AwnTjRqwnosl"
      },
      "source": [
        "**Preprocessing**"
      ]
    },
    {
      "cell_type": "code",
      "metadata": {
        "id": "PojbXn1nnpun"
      },
      "source": [
        "import pandas as pd\r\n",
        "\r\n",
        "data = pd.read_csv('/content/drive/MyDrive/bitcointweets.csv')"
      ],
      "execution_count": null,
      "outputs": []
    },
    {
      "cell_type": "code",
      "metadata": {
        "id": "_bh4-2oToThj"
      },
      "source": [
        "data.columns = ['date', 'text', 'author', 'id', 'unknown', 'tags', 'url', 'sentiment']"
      ],
      "execution_count": null,
      "outputs": []
    },
    {
      "cell_type": "code",
      "metadata": {
        "colab": {
          "base_uri": "https://localhost:8080/",
          "height": 552
        },
        "id": "2OY51liDoXIA",
        "outputId": "753c3614-786b-4a99-e7d8-128ec1be51ec"
      },
      "source": [
        "data.head()"
      ],
      "execution_count": null,
      "outputs": [
        {
          "output_type": "execute_result",
          "data": {
            "text/html": [
              "<div>\n",
              "<style scoped>\n",
              "    .dataframe tbody tr th:only-of-type {\n",
              "        vertical-align: middle;\n",
              "    }\n",
              "\n",
              "    .dataframe tbody tr th {\n",
              "        vertical-align: top;\n",
              "    }\n",
              "\n",
              "    .dataframe thead th {\n",
              "        text-align: right;\n",
              "    }\n",
              "</style>\n",
              "<table border=\"1\" class=\"dataframe\">\n",
              "  <thead>\n",
              "    <tr style=\"text-align: right;\">\n",
              "      <th></th>\n",
              "      <th>date</th>\n",
              "      <th>text</th>\n",
              "      <th>author</th>\n",
              "      <th>id</th>\n",
              "      <th>unknown</th>\n",
              "      <th>tags</th>\n",
              "      <th>url</th>\n",
              "      <th>sentiment</th>\n",
              "    </tr>\n",
              "  </thead>\n",
              "  <tbody>\n",
              "    <tr>\n",
              "      <th>0</th>\n",
              "      <td>Fri Mar 23 00:40:34 +0000 2018</td>\n",
              "      <td>@lopp @_Kevin_Pham @psycho_sage @naval But @Pr...</td>\n",
              "      <td>BitMocro</td>\n",
              "      <td>1295</td>\n",
              "      <td>0</td>\n",
              "      <td>[u'Bitcoin']</td>\n",
              "      <td>&lt;a href=\"http://twitter.com/download/android\" ...</td>\n",
              "      <td>['neutral']</td>\n",
              "    </tr>\n",
              "    <tr>\n",
              "      <th>1</th>\n",
              "      <td>Fri Mar 23 00:40:35 +0000 2018</td>\n",
              "      <td>RT @tippereconomy: Another use case for #block...</td>\n",
              "      <td>hojachotopur</td>\n",
              "      <td>6090</td>\n",
              "      <td>0</td>\n",
              "      <td>[u'blockchain', u'Tipper', u'TipperEconomy']</td>\n",
              "      <td>&lt;a href=\"http://twitter.com\" rel=\"nofollow\"&gt;Tw...</td>\n",
              "      <td>['positive']</td>\n",
              "    </tr>\n",
              "    <tr>\n",
              "      <th>2</th>\n",
              "      <td>Fri Mar 23 00:40:36 +0000 2018</td>\n",
              "      <td>free coins https://t.co/DiuoePJdap</td>\n",
              "      <td>denies_distro</td>\n",
              "      <td>2626</td>\n",
              "      <td>0</td>\n",
              "      <td>[]</td>\n",
              "      <td>&lt;a href=\"http://twitter.com\" rel=\"nofollow\"&gt;Tw...</td>\n",
              "      <td>['positive']</td>\n",
              "    </tr>\n",
              "    <tr>\n",
              "      <th>3</th>\n",
              "      <td>Fri Mar 23 00:40:36 +0000 2018</td>\n",
              "      <td>RT @payvxofficial: WE are happy to announce th...</td>\n",
              "      <td>aditzgraha</td>\n",
              "      <td>184</td>\n",
              "      <td>0</td>\n",
              "      <td>[]</td>\n",
              "      <td>&lt;a href=\"http://twitter.com/download/android\" ...</td>\n",
              "      <td>['positive']</td>\n",
              "    </tr>\n",
              "    <tr>\n",
              "      <th>4</th>\n",
              "      <td>Fri Mar 23 00:40:36 +0000 2018</td>\n",
              "      <td>Copy successful traders automatically with Bit...</td>\n",
              "      <td>VictorS61164810</td>\n",
              "      <td>14</td>\n",
              "      <td>0</td>\n",
              "      <td>[]</td>\n",
              "      <td>&lt;a href=\"http://twitter.com\" rel=\"nofollow\"&gt;Tw...</td>\n",
              "      <td>['positive']</td>\n",
              "    </tr>\n",
              "  </tbody>\n",
              "</table>\n",
              "</div>"
            ],
            "text/plain": [
              "                             date  ...     sentiment\n",
              "0  Fri Mar 23 00:40:34 +0000 2018  ...   ['neutral']\n",
              "1  Fri Mar 23 00:40:35 +0000 2018  ...  ['positive']\n",
              "2  Fri Mar 23 00:40:36 +0000 2018  ...  ['positive']\n",
              "3  Fri Mar 23 00:40:36 +0000 2018  ...  ['positive']\n",
              "4  Fri Mar 23 00:40:36 +0000 2018  ...  ['positive']\n",
              "\n",
              "[5 rows x 8 columns]"
            ]
          },
          "metadata": {
            "tags": []
          },
          "execution_count": 17
        }
      ]
    },
    {
      "cell_type": "code",
      "metadata": {
        "id": "9OwA63yioYme"
      },
      "source": [
        "from sklearn.preprocessing import LabelEncoder\r\n",
        "encoder = LabelEncoder()\r\n",
        "data['sentiment'] = encoder.fit_transform(data['sentiment'])"
      ],
      "execution_count": null,
      "outputs": []
    },
    {
      "cell_type": "markdown",
      "metadata": {
        "id": "LaQzV1dPoh_8"
      },
      "source": [
        "**Universal Sentence Encoder**"
      ]
    },
    {
      "cell_type": "code",
      "metadata": {
        "colab": {
          "base_uri": "https://localhost:8080/"
        },
        "id": "QcZQVhipogXf",
        "outputId": "deb9597e-dbd1-44ab-9c6e-552c14fde947"
      },
      "source": [
        "pip install transformers"
      ],
      "execution_count": null,
      "outputs": [
        {
          "output_type": "stream",
          "text": [
            "Collecting transformers\n",
            "\u001b[?25l  Downloading https://files.pythonhosted.org/packages/cd/40/866cbfac4601e0f74c7303d533a9c5d4a53858bd402e08e3e294dd271f25/transformers-4.2.1-py3-none-any.whl (1.8MB)\n",
            "\u001b[K     |████████████████████████████████| 1.8MB 5.4MB/s \n",
            "\u001b[?25hCollecting sacremoses\n",
            "\u001b[?25l  Downloading https://files.pythonhosted.org/packages/7d/34/09d19aff26edcc8eb2a01bed8e98f13a1537005d31e95233fd48216eed10/sacremoses-0.0.43.tar.gz (883kB)\n",
            "\u001b[K     |████████████████████████████████| 890kB 24.9MB/s \n",
            "\u001b[?25hRequirement already satisfied: importlib-metadata; python_version < \"3.8\" in /usr/local/lib/python3.6/dist-packages (from transformers) (3.3.0)\n",
            "Requirement already satisfied: filelock in /usr/local/lib/python3.6/dist-packages (from transformers) (3.0.12)\n",
            "Requirement already satisfied: dataclasses; python_version < \"3.7\" in /usr/local/lib/python3.6/dist-packages (from transformers) (0.8)\n",
            "Requirement already satisfied: packaging in /usr/local/lib/python3.6/dist-packages (from transformers) (20.8)\n",
            "Collecting tokenizers==0.9.4\n",
            "\u001b[?25l  Downloading https://files.pythonhosted.org/packages/0f/1c/e789a8b12e28be5bc1ce2156cf87cb522b379be9cadc7ad8091a4cc107c4/tokenizers-0.9.4-cp36-cp36m-manylinux2010_x86_64.whl (2.9MB)\n",
            "\u001b[K     |████████████████████████████████| 2.9MB 37.4MB/s \n",
            "\u001b[?25hRequirement already satisfied: requests in /usr/local/lib/python3.6/dist-packages (from transformers) (2.23.0)\n",
            "Requirement already satisfied: tqdm>=4.27 in /usr/local/lib/python3.6/dist-packages (from transformers) (4.41.1)\n",
            "Requirement already satisfied: numpy in /usr/local/lib/python3.6/dist-packages (from transformers) (1.19.5)\n",
            "Requirement already satisfied: regex!=2019.12.17 in /usr/local/lib/python3.6/dist-packages (from transformers) (2019.12.20)\n",
            "Requirement already satisfied: six in /usr/local/lib/python3.6/dist-packages (from sacremoses->transformers) (1.15.0)\n",
            "Requirement already satisfied: click in /usr/local/lib/python3.6/dist-packages (from sacremoses->transformers) (7.1.2)\n",
            "Requirement already satisfied: joblib in /usr/local/lib/python3.6/dist-packages (from sacremoses->transformers) (1.0.0)\n",
            "Requirement already satisfied: typing-extensions>=3.6.4; python_version < \"3.8\" in /usr/local/lib/python3.6/dist-packages (from importlib-metadata; python_version < \"3.8\"->transformers) (3.7.4.3)\n",
            "Requirement already satisfied: zipp>=0.5 in /usr/local/lib/python3.6/dist-packages (from importlib-metadata; python_version < \"3.8\"->transformers) (3.4.0)\n",
            "Requirement already satisfied: pyparsing>=2.0.2 in /usr/local/lib/python3.6/dist-packages (from packaging->transformers) (2.4.7)\n",
            "Requirement already satisfied: chardet<4,>=3.0.2 in /usr/local/lib/python3.6/dist-packages (from requests->transformers) (3.0.4)\n",
            "Requirement already satisfied: urllib3!=1.25.0,!=1.25.1,<1.26,>=1.21.1 in /usr/local/lib/python3.6/dist-packages (from requests->transformers) (1.24.3)\n",
            "Requirement already satisfied: idna<3,>=2.5 in /usr/local/lib/python3.6/dist-packages (from requests->transformers) (2.10)\n",
            "Requirement already satisfied: certifi>=2017.4.17 in /usr/local/lib/python3.6/dist-packages (from requests->transformers) (2020.12.5)\n",
            "Building wheels for collected packages: sacremoses\n",
            "  Building wheel for sacremoses (setup.py) ... \u001b[?25l\u001b[?25hdone\n",
            "  Created wheel for sacremoses: filename=sacremoses-0.0.43-cp36-none-any.whl size=893261 sha256=4cf30b11224f63f9315533b2897baa491c4f1f080b8345c767e7d55433c5f0d1\n",
            "  Stored in directory: /root/.cache/pip/wheels/29/3c/fd/7ce5c3f0666dab31a50123635e6fb5e19ceb42ce38d4e58f45\n",
            "Successfully built sacremoses\n",
            "Installing collected packages: sacremoses, tokenizers, transformers\n",
            "Successfully installed sacremoses-0.0.43 tokenizers-0.9.4 transformers-4.2.1\n"
          ],
          "name": "stdout"
        }
      ]
    },
    {
      "cell_type": "code",
      "metadata": {
        "colab": {
          "base_uri": "https://localhost:8080/"
        },
        "id": "VBAOaaH7oq7z",
        "outputId": "38a58864-f4d2-483e-b4ff-63f0941ce795"
      },
      "source": [
        "from absl import logging\r\n",
        "import tensorflow as tf\r\n",
        "\r\n",
        "import tensorflow_hub as hub\r\n",
        "import matplotlib.pyplot as plt\r\n",
        "import numpy as np\r\n",
        "import os\r\n",
        "import pandas as pd\r\n",
        "import re\r\n",
        "import seaborn as sns\r\n",
        "\r\n",
        "module_url = 'https://tfhub.dev/google/universal-sentence-encoder/4'\r\n",
        "model = hub.load(module_url)\r\n",
        "print(\"module %s loaded\" % module_url)\r\n",
        "def embed(input):\r\n",
        "  return model(input)"
      ],
      "execution_count": null,
      "outputs": [
        {
          "output_type": "stream",
          "text": [
            "module https://tfhub.dev/google/universal-sentence-encoder/4 loaded\n"
          ],
          "name": "stdout"
        }
      ]
    },
    {
      "cell_type": "code",
      "metadata": {
        "id": "-_LuDOOvpG75"
      },
      "source": [
        "# Reduce logging output\r\n",
        "logging.set_verbosity(logging.ERROR)\r\n",
        "message_embeddings = embed(data.text.values)"
      ],
      "execution_count": null,
      "outputs": []
    },
    {
      "cell_type": "code",
      "metadata": {
        "colab": {
          "base_uri": "https://localhost:8080/"
        },
        "id": "SyVyuWsVpOrC",
        "outputId": "3eacc67e-8e64-4065-fab3-3c0d8a96a598"
      },
      "source": [
        "message_embeddings"
      ],
      "execution_count": null,
      "outputs": [
        {
          "output_type": "execute_result",
          "data": {
            "text/plain": [
              "<tf.Tensor: shape=(50858, 512), dtype=float32, numpy=\n",
              "array([[-0.00023593, -0.04965303, -0.0454464 , ..., -0.00699701,\n",
              "        -0.0817619 , -0.0673811 ],\n",
              "       [-0.00882475, -0.06427666, -0.06390415, ...,  0.05352812,\n",
              "        -0.06909751, -0.0684047 ],\n",
              "       [-0.0431166 , -0.07247733, -0.00263125, ..., -0.02413652,\n",
              "        -0.04707826, -0.0441168 ],\n",
              "       ...,\n",
              "       [-0.03637784, -0.0733358 , -0.0200667 , ...,  0.00748273,\n",
              "        -0.06006523, -0.06887387],\n",
              "       [-0.01435385, -0.0501017 ,  0.0069228 , ..., -0.01416572,\n",
              "        -0.07574022, -0.07719906],\n",
              "       [-0.008284  , -0.08008462, -0.033356  , ..., -0.01549362,\n",
              "        -0.03189271, -0.02582983]], dtype=float32)>"
            ]
          },
          "metadata": {
            "tags": []
          },
          "execution_count": 22
        }
      ]
    },
    {
      "cell_type": "markdown",
      "metadata": {
        "id": "iZMyvshGpTjt"
      },
      "source": [
        "## K-Means Clustering"
      ]
    },
    {
      "cell_type": "code",
      "metadata": {
        "id": "6Ze238C-pXyQ"
      },
      "source": [
        "from sklearn.cluster import KMeans\r\n",
        "km = KMeans(n_clusters=3)\r\n",
        "km.fit(message_embeddings)\r\n",
        "clusters = km.labels_.tolist()"
      ],
      "execution_count": null,
      "outputs": []
    },
    {
      "cell_type": "markdown",
      "metadata": {
        "id": "PE5GSYFEpgOu"
      },
      "source": [
        "**Visualization**"
      ]
    },
    {
      "cell_type": "markdown",
      "metadata": {
        "id": "LQTfLHCPpidh"
      },
      "source": [
        "**Dimensionality reduction**"
      ]
    },
    {
      "cell_type": "code",
      "metadata": {
        "id": "5-CFYRK3pkJF"
      },
      "source": [
        "from sklearn.decomposition import PCA\r\n",
        "import numpy as np\r\n",
        "\r\n",
        "data = message_embeddings\r\n",
        "pca = PCA(2)\r\n",
        "\r\n",
        "# Transform the data\r\n",
        "data_new = pca.fit_transform(data)"
      ],
      "execution_count": null,
      "outputs": []
    },
    {
      "cell_type": "markdown",
      "metadata": {
        "id": "jILXTtgdpuv1"
      },
      "source": [
        "**Cluster training**"
      ]
    },
    {
      "cell_type": "code",
      "metadata": {
        "id": "jPUbWoVhpt07"
      },
      "source": [
        "# Initialize the class object\r\n",
        "kmeans = KMeans(n_clusters=3)\r\n",
        "\r\n",
        "# Predict the labels of clusters\r\n",
        "label = kmeans.fit_predict(data_new)\r\n",
        "\r\n",
        "# Getting unique labels\r\n",
        "u_labels = np.unique(label)\r\n",
        "\r\n",
        "labels = kmeans.labels_"
      ],
      "execution_count": null,
      "outputs": []
    },
    {
      "cell_type": "markdown",
      "metadata": {
        "id": "DDRcZbAlqBLx"
      },
      "source": [
        "**Visualization of the clusters**"
      ]
    },
    {
      "cell_type": "code",
      "metadata": {
        "colab": {
          "base_uri": "https://localhost:8080/",
          "height": 265
        },
        "id": "bhLeNazGqDwV",
        "outputId": "0aab40cb-90a5-4b22-dacd-ec0fb007da61"
      },
      "source": [
        "import matplotlib.pyplot as plt\r\n",
        "import seaborn as sns\r\n",
        "%matplotlib inline\r\n",
        "\r\n",
        "# Plotting the results:\r\n",
        "for i in u_labels:\r\n",
        "  plt.scatter(data_new[label == i , 0] , data_new[label == i , 1] , label = i)\r\n",
        "plt.legend()\r\n",
        "plt.show()"
      ],
      "execution_count": null,
      "outputs": [
        {
          "output_type": "display_data",
          "data": {
            "image/png": "[encoded data removed]",
            "text/plain": [
              "<Figure size 432x288 with 1 Axes>"
            ]
          },
          "metadata": {
            "tags": [],
            "needs_background": "light"
          }
        }
      ]
    },
    {
      "cell_type": "markdown",
      "metadata": {
        "id": "JSFolR5bqdx4"
      },
      "source": [
        "## Agglomerative Clustering"
      ]
    },
    {
      "cell_type": "markdown",
      "metadata": {
        "id": "4sCmBr7dqgGh"
      },
      "source": [
        "**Dimensionality reduction**"
      ]
    },
    {
      "cell_type": "code",
      "metadata": {
        "id": "pUlAagakqjkU"
      },
      "source": [
        "from sklearn.decomposition import PCA\r\n",
        "import numpy as np\r\n",
        "\r\n",
        "data = message_embeddings\r\n",
        "pca = PCA(2)\r\n",
        "\r\n",
        "# Transform the data\r\n",
        "data_new = pca.fit_transform(data)"
      ],
      "execution_count": null,
      "outputs": []
    },
    {
      "cell_type": "markdown",
      "metadata": {
        "id": "NXoTcvnsqso0"
      },
      "source": [
        "**Cluster training**"
      ]
    },
    {
      "cell_type": "code",
      "metadata": {
        "id": "zwiiQexQqtiq"
      },
      "source": [
        "from sklearn.cluster import AgglomerativeClustering"
      ],
      "execution_count": null,
      "outputs": []
    },
    {
      "cell_type": "code",
      "metadata": {
        "id": "Gg2cXQ64qykl"
      },
      "source": [
        "# Define the structure A of the data. Here are 10 nearest neighbors\r\n",
        "from sklearn.neighbors import kneighbors_graph\r\n",
        "connectivity = kneighbors_graph(data_new, n_neighbors = 10, include_self = False)"
      ],
      "execution_count": null,
      "outputs": []
    },
    {
      "cell_type": "code",
      "metadata": {
        "colab": {
          "base_uri": "https://localhost:8080/"
        },
        "id": "5f3wPlBfrBKP",
        "outputId": "800e82b3-42ce-42aa-ad4f-0b08537dd537"
      },
      "source": [
        "model = AgglomerativeClustering(n_clusters=3, connectivity=connectivity, linkage='ward').fit(data_new)"
      ],
      "execution_count": null,
      "outputs": [
        {
          "output_type": "stream",
          "text": [
            "/usr/local/lib/python3.6/dist-packages/sklearn/cluster/_agglomerative.py:245: UserWarning: the number of connected components of the connectivity matrix is 29 > 1. Completing it to avoid stopping the tree early.\n",
            "  affinity='euclidean')\n"
          ],
          "name": "stderr"
        }
      ]
    },
    {
      "cell_type": "code",
      "metadata": {
        "id": "BWnZXmEXrIGl"
      },
      "source": [
        "clusters = model.labels_.tolist()"
      ],
      "execution_count": null,
      "outputs": []
    },
    {
      "cell_type": "code",
      "metadata": {
        "colab": {
          "base_uri": "https://localhost:8080/"
        },
        "id": "wUDcoWA-rPoW",
        "outputId": "37b45ba3-3c21-440d-e257-5e956aecb0aa"
      },
      "source": [
        "model.labels_"
      ],
      "execution_count": null,
      "outputs": [
        {
          "output_type": "execute_result",
          "data": {
            "text/plain": [
              "array([2, 0, 2, ..., 0, 2, 0])"
            ]
          },
          "metadata": {
            "tags": []
          },
          "execution_count": 34
        }
      ]
    },
    {
      "cell_type": "markdown",
      "metadata": {
        "id": "YudA0PlhrR0Q"
      },
      "source": [
        "**Visualization of the clusters**"
      ]
    },
    {
      "cell_type": "code",
      "metadata": {
        "colab": {
          "base_uri": "https://localhost:8080/",
          "height": 320
        },
        "id": "_bMMh3P8rTgX",
        "outputId": "da1ad3c4-61bf-4f2c-f09d-ca56cead7d28"
      },
      "source": [
        "import matplotlib.pyplot as plt\r\n",
        "import seaborn as sns\r\n",
        "%matplotlib inline\r\n",
        "\r\n",
        "label = model.fit_predict(data_new)\r\n",
        "\r\n",
        "u_labels = np.unique(label)\r\n",
        "\r\n",
        "#plotting the results:\r\n",
        "for i in u_labels:\r\n",
        "    plt.scatter(data_new[label == i , 0] , data_new[label == i , 1] , label = i)\r\n",
        "plt.legend()\r\n",
        "plt.show()"
      ],
      "execution_count": null,
      "outputs": [
        {
          "output_type": "stream",
          "text": [
            "/usr/local/lib/python3.6/dist-packages/sklearn/cluster/_agglomerative.py:245: UserWarning: the number of connected components of the connectivity matrix is 29 > 1. Completing it to avoid stopping the tree early.\n",
            "  affinity='euclidean')\n"
          ],
          "name": "stderr"
        },
        {
          "output_type": "display_data",
          "data": {
            "image/png": "[encoded data removed]",
            "text/plain": [
              "<Figure size 432x288 with 1 Axes>"
            ]
          },
          "metadata": {
            "tags": [],
            "needs_background": "light"
          }
        }
      ]
    },
    {
      "cell_type": "markdown",
      "metadata": {
        "id": "_EwSai_ErnGZ"
      },
      "source": [
        "# Deep Encoding for Categorical Data"
      ]
    },
    {
      "cell_type": "markdown",
      "metadata": {
        "id": "HKbdnOvwrvKR"
      },
      "source": [
        "**Preprocessing**"
      ]
    },
    {
      "cell_type": "code",
      "metadata": {
        "id": "aRCU5ZNPryhP"
      },
      "source": [
        "import pandas as pd\r\n",
        "\r\n",
        "data = pd.read_csv('/content/drive/MyDrive/Exercise_11_bike_sharing_daily.csv')"
      ],
      "execution_count": null,
      "outputs": []
    },
    {
      "cell_type": "code",
      "metadata": {
        "colab": {
          "base_uri": "https://localhost:8080/",
          "height": 298
        },
        "id": "wzrKcQCqsHh5",
        "outputId": "f54bf648-691b-46ef-fe60-41d237d9be79"
      },
      "source": [
        "data.head()"
      ],
      "execution_count": null,
      "outputs": [
        {
          "output_type": "execute_result",
          "data": {
            "text/html": [
              "<div>\n",
              "<style scoped>\n",
              "    .dataframe tbody tr th:only-of-type {\n",
              "        vertical-align: middle;\n",
              "    }\n",
              "\n",
              "    .dataframe tbody tr th {\n",
              "        vertical-align: top;\n",
              "    }\n",
              "\n",
              "    .dataframe thead th {\n",
              "        text-align: right;\n",
              "    }\n",
              "</style>\n",
              "<table border=\"1\" class=\"dataframe\">\n",
              "  <thead>\n",
              "    <tr style=\"text-align: right;\">\n",
              "      <th></th>\n",
              "      <th>instant</th>\n",
              "      <th>dteday</th>\n",
              "      <th>season</th>\n",
              "      <th>yr</th>\n",
              "      <th>mnth</th>\n",
              "      <th>holiday</th>\n",
              "      <th>weekday</th>\n",
              "      <th>workingday</th>\n",
              "      <th>weathersit</th>\n",
              "      <th>temp</th>\n",
              "      <th>atemp</th>\n",
              "      <th>hum</th>\n",
              "      <th>windspeed</th>\n",
              "      <th>casual</th>\n",
              "      <th>registered</th>\n",
              "      <th>cnt</th>\n",
              "    </tr>\n",
              "  </thead>\n",
              "  <tbody>\n",
              "    <tr>\n",
              "      <th>0</th>\n",
              "      <td>1</td>\n",
              "      <td>2011-01-01</td>\n",
              "      <td>1</td>\n",
              "      <td>0</td>\n",
              "      <td>1</td>\n",
              "      <td>0</td>\n",
              "      <td>6</td>\n",
              "      <td>0</td>\n",
              "      <td>2</td>\n",
              "      <td>0.344167</td>\n",
              "      <td>0.363625</td>\n",
              "      <td>0.805833</td>\n",
              "      <td>0.160446</td>\n",
              "      <td>331</td>\n",
              "      <td>654</td>\n",
              "      <td>985</td>\n",
              "    </tr>\n",
              "    <tr>\n",
              "      <th>1</th>\n",
              "      <td>2</td>\n",
              "      <td>2011-01-02</td>\n",
              "      <td>1</td>\n",
              "      <td>0</td>\n",
              "      <td>1</td>\n",
              "      <td>0</td>\n",
              "      <td>0</td>\n",
              "      <td>0</td>\n",
              "      <td>2</td>\n",
              "      <td>0.363478</td>\n",
              "      <td>0.353739</td>\n",
              "      <td>0.696087</td>\n",
              "      <td>0.248539</td>\n",
              "      <td>131</td>\n",
              "      <td>670</td>\n",
              "      <td>801</td>\n",
              "    </tr>\n",
              "    <tr>\n",
              "      <th>2</th>\n",
              "      <td>3</td>\n",
              "      <td>2011-01-03</td>\n",
              "      <td>1</td>\n",
              "      <td>0</td>\n",
              "      <td>1</td>\n",
              "      <td>0</td>\n",
              "      <td>1</td>\n",
              "      <td>1</td>\n",
              "      <td>1</td>\n",
              "      <td>0.196364</td>\n",
              "      <td>0.189405</td>\n",
              "      <td>0.437273</td>\n",
              "      <td>0.248309</td>\n",
              "      <td>120</td>\n",
              "      <td>1229</td>\n",
              "      <td>1349</td>\n",
              "    </tr>\n",
              "    <tr>\n",
              "      <th>3</th>\n",
              "      <td>4</td>\n",
              "      <td>2011-01-04</td>\n",
              "      <td>1</td>\n",
              "      <td>0</td>\n",
              "      <td>1</td>\n",
              "      <td>0</td>\n",
              "      <td>2</td>\n",
              "      <td>1</td>\n",
              "      <td>1</td>\n",
              "      <td>0.200000</td>\n",
              "      <td>0.212122</td>\n",
              "      <td>0.590435</td>\n",
              "      <td>0.160296</td>\n",
              "      <td>108</td>\n",
              "      <td>1454</td>\n",
              "      <td>1562</td>\n",
              "    </tr>\n",
              "    <tr>\n",
              "      <th>4</th>\n",
              "      <td>5</td>\n",
              "      <td>2011-01-05</td>\n",
              "      <td>1</td>\n",
              "      <td>0</td>\n",
              "      <td>1</td>\n",
              "      <td>0</td>\n",
              "      <td>3</td>\n",
              "      <td>1</td>\n",
              "      <td>1</td>\n",
              "      <td>0.226957</td>\n",
              "      <td>0.229270</td>\n",
              "      <td>0.436957</td>\n",
              "      <td>0.186900</td>\n",
              "      <td>82</td>\n",
              "      <td>1518</td>\n",
              "      <td>1600</td>\n",
              "    </tr>\n",
              "  </tbody>\n",
              "</table>\n",
              "</div>"
            ],
            "text/plain": [
              "   instant      dteday  season  yr  ...  windspeed  casual  registered   cnt\n",
              "0        1  2011-01-01       1   0  ...   0.160446     331         654   985\n",
              "1        2  2011-01-02       1   0  ...   0.248539     131         670   801\n",
              "2        3  2011-01-03       1   0  ...   0.248309     120        1229  1349\n",
              "3        4  2011-01-04       1   0  ...   0.160296     108        1454  1562\n",
              "4        5  2011-01-05       1   0  ...   0.186900      82        1518  1600\n",
              "\n",
              "[5 rows x 16 columns]"
            ]
          },
          "metadata": {
            "tags": []
          },
          "execution_count": 41
        }
      ]
    },
    {
      "cell_type": "code",
      "metadata": {
        "id": "I8krgMxUsJMZ"
      },
      "source": [
        "data_small_df = data[['dteday', 'cnt', 'mnth']]"
      ],
      "execution_count": null,
      "outputs": []
    },
    {
      "cell_type": "code",
      "metadata": {
        "colab": {
          "base_uri": "https://localhost:8080/",
          "height": 194
        },
        "id": "XreGpbHssPli",
        "outputId": "6fac5890-6a9b-4b59-ba47-abf26cb42f3d"
      },
      "source": [
        "data_small_df.head()"
      ],
      "execution_count": null,
      "outputs": [
        {
          "output_type": "execute_result",
          "data": {
            "text/html": [
              "<div>\n",
              "<style scoped>\n",
              "    .dataframe tbody tr th:only-of-type {\n",
              "        vertical-align: middle;\n",
              "    }\n",
              "\n",
              "    .dataframe tbody tr th {\n",
              "        vertical-align: top;\n",
              "    }\n",
              "\n",
              "    .dataframe thead th {\n",
              "        text-align: right;\n",
              "    }\n",
              "</style>\n",
              "<table border=\"1\" class=\"dataframe\">\n",
              "  <thead>\n",
              "    <tr style=\"text-align: right;\">\n",
              "      <th></th>\n",
              "      <th>dteday</th>\n",
              "      <th>cnt</th>\n",
              "      <th>mnth</th>\n",
              "    </tr>\n",
              "  </thead>\n",
              "  <tbody>\n",
              "    <tr>\n",
              "      <th>0</th>\n",
              "      <td>2011-01-01</td>\n",
              "      <td>985</td>\n",
              "      <td>1</td>\n",
              "    </tr>\n",
              "    <tr>\n",
              "      <th>1</th>\n",
              "      <td>2011-01-02</td>\n",
              "      <td>801</td>\n",
              "      <td>1</td>\n",
              "    </tr>\n",
              "    <tr>\n",
              "      <th>2</th>\n",
              "      <td>2011-01-03</td>\n",
              "      <td>1349</td>\n",
              "      <td>1</td>\n",
              "    </tr>\n",
              "    <tr>\n",
              "      <th>3</th>\n",
              "      <td>2011-01-04</td>\n",
              "      <td>1562</td>\n",
              "      <td>1</td>\n",
              "    </tr>\n",
              "    <tr>\n",
              "      <th>4</th>\n",
              "      <td>2011-01-05</td>\n",
              "      <td>1600</td>\n",
              "      <td>1</td>\n",
              "    </tr>\n",
              "  </tbody>\n",
              "</table>\n",
              "</div>"
            ],
            "text/plain": [
              "       dteday   cnt  mnth\n",
              "0  2011-01-01   985     1\n",
              "1  2011-01-02   801     1\n",
              "2  2011-01-03  1349     1\n",
              "3  2011-01-04  1562     1\n",
              "4  2011-01-05  1600     1"
            ]
          },
          "metadata": {
            "tags": []
          },
          "execution_count": 43
        }
      ]
    },
    {
      "cell_type": "code",
      "metadata": {
        "colab": {
          "base_uri": "https://localhost:8080/",
          "height": 194
        },
        "id": "KXr0ueWGsUv0",
        "outputId": "00e46619-859a-4a1c-a0d8-10166da7ce6e"
      },
      "source": [
        "data_small_df = data_small_df.sort_values(by = ['mnth', 'dteday'])\r\n",
        "data_small_df.head()"
      ],
      "execution_count": null,
      "outputs": [
        {
          "output_type": "execute_result",
          "data": {
            "text/html": [
              "<div>\n",
              "<style scoped>\n",
              "    .dataframe tbody tr th:only-of-type {\n",
              "        vertical-align: middle;\n",
              "    }\n",
              "\n",
              "    .dataframe tbody tr th {\n",
              "        vertical-align: top;\n",
              "    }\n",
              "\n",
              "    .dataframe thead th {\n",
              "        text-align: right;\n",
              "    }\n",
              "</style>\n",
              "<table border=\"1\" class=\"dataframe\">\n",
              "  <thead>\n",
              "    <tr style=\"text-align: right;\">\n",
              "      <th></th>\n",
              "      <th>dteday</th>\n",
              "      <th>cnt</th>\n",
              "      <th>mnth</th>\n",
              "    </tr>\n",
              "  </thead>\n",
              "  <tbody>\n",
              "    <tr>\n",
              "      <th>0</th>\n",
              "      <td>2011-01-01</td>\n",
              "      <td>985</td>\n",
              "      <td>1</td>\n",
              "    </tr>\n",
              "    <tr>\n",
              "      <th>1</th>\n",
              "      <td>2011-01-02</td>\n",
              "      <td>801</td>\n",
              "      <td>1</td>\n",
              "    </tr>\n",
              "    <tr>\n",
              "      <th>2</th>\n",
              "      <td>2011-01-03</td>\n",
              "      <td>1349</td>\n",
              "      <td>1</td>\n",
              "    </tr>\n",
              "    <tr>\n",
              "      <th>3</th>\n",
              "      <td>2011-01-04</td>\n",
              "      <td>1562</td>\n",
              "      <td>1</td>\n",
              "    </tr>\n",
              "    <tr>\n",
              "      <th>4</th>\n",
              "      <td>2011-01-05</td>\n",
              "      <td>1600</td>\n",
              "      <td>1</td>\n",
              "    </tr>\n",
              "  </tbody>\n",
              "</table>\n",
              "</div>"
            ],
            "text/plain": [
              "       dteday   cnt  mnth\n",
              "0  2011-01-01   985     1\n",
              "1  2011-01-02   801     1\n",
              "2  2011-01-03  1349     1\n",
              "3  2011-01-04  1562     1\n",
              "4  2011-01-05  1600     1"
            ]
          },
          "metadata": {
            "tags": []
          },
          "execution_count": 44
        }
      ]
    },
    {
      "cell_type": "code",
      "metadata": {
        "colab": {
          "base_uri": "https://localhost:8080/",
          "height": 379
        },
        "id": "umxvX6ALseNe",
        "outputId": "358fd0e5-0e67-4167-8ca4-6d77c7b08b7d"
      },
      "source": [
        "data_plot_2 = data[['dteday', 'cnt', 'mnth', 'yr']]\r\n",
        "data_plot_2 = data_plot_2[data_plot_2['yr'] == 0]\r\n",
        "\r\n",
        "for x in range(1, 12):\r\n",
        "  data_plot_2[data_plot_2['mnth'] == x]['cnt'].plot(figsize=(20, 10))"
      ],
      "execution_count": null,
      "outputs": [
        {
          "output_type": "display_data",
          "data": {
            "image/png": "[encoded data removed]",
            "text/plain": [
              "<Figure size 1440x720 with 1 Axes>"
            ]
          },
          "metadata": {
            "tags": [],
            "needs_background": "light"
          }
        }
      ]
    },
    {
      "cell_type": "code",
      "metadata": {
        "colab": {
          "base_uri": "https://localhost:8080/",
          "height": 194
        },
        "id": "dlB7f4qoszA4",
        "outputId": "9c8200d8-ec48-4fb4-cf47-a970aa873d13"
      },
      "source": [
        "from sklearn.preprocessing import MinMaxScaler\r\n",
        "\r\n",
        "scaler = MinMaxScaler()\r\n",
        "data_small_df['cnt_Scaled'] = scaler.fit_transform(data_small_df[['cnt']])\r\n",
        "data_small_df.head()"
      ],
      "execution_count": null,
      "outputs": [
        {
          "output_type": "execute_result",
          "data": {
            "text/html": [
              "<div>\n",
              "<style scoped>\n",
              "    .dataframe tbody tr th:only-of-type {\n",
              "        vertical-align: middle;\n",
              "    }\n",
              "\n",
              "    .dataframe tbody tr th {\n",
              "        vertical-align: top;\n",
              "    }\n",
              "\n",
              "    .dataframe thead th {\n",
              "        text-align: right;\n",
              "    }\n",
              "</style>\n",
              "<table border=\"1\" class=\"dataframe\">\n",
              "  <thead>\n",
              "    <tr style=\"text-align: right;\">\n",
              "      <th></th>\n",
              "      <th>dteday</th>\n",
              "      <th>cnt</th>\n",
              "      <th>mnth</th>\n",
              "      <th>cnt_Scaled</th>\n",
              "    </tr>\n",
              "  </thead>\n",
              "  <tbody>\n",
              "    <tr>\n",
              "      <th>0</th>\n",
              "      <td>2011-01-01</td>\n",
              "      <td>985</td>\n",
              "      <td>1</td>\n",
              "      <td>0.110792</td>\n",
              "    </tr>\n",
              "    <tr>\n",
              "      <th>1</th>\n",
              "      <td>2011-01-02</td>\n",
              "      <td>801</td>\n",
              "      <td>1</td>\n",
              "      <td>0.089623</td>\n",
              "    </tr>\n",
              "    <tr>\n",
              "      <th>2</th>\n",
              "      <td>2011-01-03</td>\n",
              "      <td>1349</td>\n",
              "      <td>1</td>\n",
              "      <td>0.152669</td>\n",
              "    </tr>\n",
              "    <tr>\n",
              "      <th>3</th>\n",
              "      <td>2011-01-04</td>\n",
              "      <td>1562</td>\n",
              "      <td>1</td>\n",
              "      <td>0.177174</td>\n",
              "    </tr>\n",
              "    <tr>\n",
              "      <th>4</th>\n",
              "      <td>2011-01-05</td>\n",
              "      <td>1600</td>\n",
              "      <td>1</td>\n",
              "      <td>0.181546</td>\n",
              "    </tr>\n",
              "  </tbody>\n",
              "</table>\n",
              "</div>"
            ],
            "text/plain": [
              "       dteday   cnt  mnth  cnt_Scaled\n",
              "0  2011-01-01   985     1    0.110792\n",
              "1  2011-01-02   801     1    0.089623\n",
              "2  2011-01-03  1349     1    0.152669\n",
              "3  2011-01-04  1562     1    0.177174\n",
              "4  2011-01-05  1600     1    0.181546"
            ]
          },
          "metadata": {
            "tags": []
          },
          "execution_count": 46
        }
      ]
    },
    {
      "cell_type": "markdown",
      "metadata": {
        "id": "UADfOSN6s6Fn"
      },
      "source": [
        "## Traditional Embeddings"
      ]
    },
    {
      "cell_type": "code",
      "metadata": {
        "colab": {
          "base_uri": "https://localhost:8080/",
          "height": 194
        },
        "id": "hYNj_L5Zs7qq",
        "outputId": "f9f56491-ff7f-40dd-9f87-c5a86fd03a0e"
      },
      "source": [
        "pd.get_dummies(data_small_df['mnth']).head()"
      ],
      "execution_count": null,
      "outputs": [
        {
          "output_type": "execute_result",
          "data": {
            "text/html": [
              "<div>\n",
              "<style scoped>\n",
              "    .dataframe tbody tr th:only-of-type {\n",
              "        vertical-align: middle;\n",
              "    }\n",
              "\n",
              "    .dataframe tbody tr th {\n",
              "        vertical-align: top;\n",
              "    }\n",
              "\n",
              "    .dataframe thead th {\n",
              "        text-align: right;\n",
              "    }\n",
              "</style>\n",
              "<table border=\"1\" class=\"dataframe\">\n",
              "  <thead>\n",
              "    <tr style=\"text-align: right;\">\n",
              "      <th></th>\n",
              "      <th>1</th>\n",
              "      <th>2</th>\n",
              "      <th>3</th>\n",
              "      <th>4</th>\n",
              "      <th>5</th>\n",
              "      <th>6</th>\n",
              "      <th>7</th>\n",
              "      <th>8</th>\n",
              "      <th>9</th>\n",
              "      <th>10</th>\n",
              "      <th>11</th>\n",
              "      <th>12</th>\n",
              "    </tr>\n",
              "  </thead>\n",
              "  <tbody>\n",
              "    <tr>\n",
              "      <th>0</th>\n",
              "      <td>1</td>\n",
              "      <td>0</td>\n",
              "      <td>0</td>\n",
              "      <td>0</td>\n",
              "      <td>0</td>\n",
              "      <td>0</td>\n",
              "      <td>0</td>\n",
              "      <td>0</td>\n",
              "      <td>0</td>\n",
              "      <td>0</td>\n",
              "      <td>0</td>\n",
              "      <td>0</td>\n",
              "    </tr>\n",
              "    <tr>\n",
              "      <th>1</th>\n",
              "      <td>1</td>\n",
              "      <td>0</td>\n",
              "      <td>0</td>\n",
              "      <td>0</td>\n",
              "      <td>0</td>\n",
              "      <td>0</td>\n",
              "      <td>0</td>\n",
              "      <td>0</td>\n",
              "      <td>0</td>\n",
              "      <td>0</td>\n",
              "      <td>0</td>\n",
              "      <td>0</td>\n",
              "    </tr>\n",
              "    <tr>\n",
              "      <th>2</th>\n",
              "      <td>1</td>\n",
              "      <td>0</td>\n",
              "      <td>0</td>\n",
              "      <td>0</td>\n",
              "      <td>0</td>\n",
              "      <td>0</td>\n",
              "      <td>0</td>\n",
              "      <td>0</td>\n",
              "      <td>0</td>\n",
              "      <td>0</td>\n",
              "      <td>0</td>\n",
              "      <td>0</td>\n",
              "    </tr>\n",
              "    <tr>\n",
              "      <th>3</th>\n",
              "      <td>1</td>\n",
              "      <td>0</td>\n",
              "      <td>0</td>\n",
              "      <td>0</td>\n",
              "      <td>0</td>\n",
              "      <td>0</td>\n",
              "      <td>0</td>\n",
              "      <td>0</td>\n",
              "      <td>0</td>\n",
              "      <td>0</td>\n",
              "      <td>0</td>\n",
              "      <td>0</td>\n",
              "    </tr>\n",
              "    <tr>\n",
              "      <th>4</th>\n",
              "      <td>1</td>\n",
              "      <td>0</td>\n",
              "      <td>0</td>\n",
              "      <td>0</td>\n",
              "      <td>0</td>\n",
              "      <td>0</td>\n",
              "      <td>0</td>\n",
              "      <td>0</td>\n",
              "      <td>0</td>\n",
              "      <td>0</td>\n",
              "      <td>0</td>\n",
              "      <td>0</td>\n",
              "    </tr>\n",
              "  </tbody>\n",
              "</table>\n",
              "</div>"
            ],
            "text/plain": [
              "   1   2   3   4   5   6   7   8   9   10  11  12\n",
              "0   1   0   0   0   0   0   0   0   0   0   0   0\n",
              "1   1   0   0   0   0   0   0   0   0   0   0   0\n",
              "2   1   0   0   0   0   0   0   0   0   0   0   0\n",
              "3   1   0   0   0   0   0   0   0   0   0   0   0\n",
              "4   1   0   0   0   0   0   0   0   0   0   0   0"
            ]
          },
          "metadata": {
            "tags": []
          },
          "execution_count": 47
        }
      ]
    },
    {
      "cell_type": "markdown",
      "metadata": {
        "id": "SJldIVijtBnI"
      },
      "source": [
        "**Deep Encoding**"
      ]
    },
    {
      "cell_type": "code",
      "metadata": {
        "colab": {
          "base_uri": "https://localhost:8080/"
        },
        "id": "N-xgNxtstC9o",
        "outputId": "bc26a443-d113-48c1-f0d0-692c2bc5126e"
      },
      "source": [
        "data_small_df['mnth'].unique()"
      ],
      "execution_count": null,
      "outputs": [
        {
          "output_type": "execute_result",
          "data": {
            "text/plain": [
              "array([ 1,  2,  3,  4,  5,  6,  7,  8,  9, 10, 11, 12])"
            ]
          },
          "metadata": {
            "tags": []
          },
          "execution_count": 48
        }
      ]
    },
    {
      "cell_type": "code",
      "metadata": {
        "id": "nbHbzLpqtF1q"
      },
      "source": [
        "data_small_df['mnth'] = data_small_df['mnth']-1\r\n",
        "data_small_df['mnth'] = data_small_df['mnth'].astype(int)"
      ],
      "execution_count": null,
      "outputs": []
    },
    {
      "cell_type": "markdown",
      "metadata": {
        "id": "mRh0YV8ptIVw"
      },
      "source": [
        "**Define Keras Model**"
      ]
    },
    {
      "cell_type": "code",
      "metadata": {
        "id": "htXpzBZitJkR"
      },
      "source": [
        "from keras.layers import Dense,Embedding, Flatten\r\n",
        "from keras.models import Sequential\r\n",
        "embedding_size = 3\r\n",
        "\r\n",
        "model = Sequential()\r\n",
        "model.add(Embedding(input_dim = 12, output_dim = 3, input_length = 1, name=\"embedding\"))\r\n",
        "model.add(Flatten())\r\n",
        "model.add(Dense(50, activation=\"relu\"))\r\n",
        "model.add(Dense(15, activation=\"relu\"))\r\n",
        "model.add(Dense(1))"
      ],
      "execution_count": null,
      "outputs": []
    },
    {
      "cell_type": "markdown",
      "metadata": {
        "id": "mCUeyDS6tL7A"
      },
      "source": [
        "**Compile Keras Model**"
      ]
    },
    {
      "cell_type": "code",
      "metadata": {
        "id": "3EC3yKBotLVc"
      },
      "source": [
        "model.compile(loss = \"mse\", optimizer = \"adam\", metrics=[\"accuracy\"])"
      ],
      "execution_count": null,
      "outputs": []
    },
    {
      "cell_type": "markdown",
      "metadata": {
        "id": "trh-2_VatPif"
      },
      "source": [
        "**Fit Keras Model**"
      ]
    },
    {
      "cell_type": "code",
      "metadata": {
        "colab": {
          "base_uri": "https://localhost:8080/"
        },
        "id": "kgHdvahPtQ8u",
        "outputId": "70ec60d9-68c7-4082-a14b-89f4a1568476"
      },
      "source": [
        "model.fit(x = data_small_df['mnth'].values  , y=data_small_df['cnt_Scaled'].values   , epochs = 50, batch_size = 4)"
      ],
      "execution_count": null,
      "outputs": [
        {
          "output_type": "stream",
          "text": [
            "Epoch 1/50\n",
            "183/183 [==============================] - 1s 1ms/step - loss: 0.1493 - accuracy: 0.0026\n",
            "Epoch 2/50\n",
            "183/183 [==============================] - 0s 1ms/step - loss: 0.0323 - accuracy: 0.0013\n",
            "Epoch 3/50\n",
            "183/183 [==============================] - 0s 1ms/step - loss: 0.0301 - accuracy: 2.2335e-05\n",
            "Epoch 4/50\n",
            "183/183 [==============================] - 0s 1ms/step - loss: 0.0309 - accuracy: 0.0015\n",
            "Epoch 5/50\n",
            "183/183 [==============================] - 0s 1ms/step - loss: 0.0334 - accuracy: 7.9868e-04\n",
            "Epoch 6/50\n",
            "183/183 [==============================] - 0s 1ms/step - loss: 0.0314 - accuracy: 0.0033\n",
            "Epoch 7/50\n",
            "183/183 [==============================] - 0s 1ms/step - loss: 0.0330 - accuracy: 5.1284e-04\n",
            "Epoch 8/50\n",
            "183/183 [==============================] - 0s 1ms/step - loss: 0.0315 - accuracy: 7.5948e-04\n",
            "Epoch 9/50\n",
            "183/183 [==============================] - 0s 1ms/step - loss: 0.0323 - accuracy: 0.0018\n",
            "Epoch 10/50\n",
            "183/183 [==============================] - 0s 1ms/step - loss: 0.0296 - accuracy: 0.0079\n",
            "Epoch 11/50\n",
            "183/183 [==============================] - 0s 1ms/step - loss: 0.0319 - accuracy: 0.0022\n",
            "Epoch 12/50\n",
            "183/183 [==============================] - 0s 1ms/step - loss: 0.0323 - accuracy: 0.0079\n",
            "Epoch 13/50\n",
            "183/183 [==============================] - 0s 1ms/step - loss: 0.0306 - accuracy: 0.0021\n",
            "Epoch 14/50\n",
            "183/183 [==============================] - 0s 1ms/step - loss: 0.0293 - accuracy: 0.0031\n",
            "Epoch 15/50\n",
            "183/183 [==============================] - 0s 1ms/step - loss: 0.0330 - accuracy: 0.0017\n",
            "Epoch 16/50\n",
            "183/183 [==============================] - 0s 1ms/step - loss: 0.0294 - accuracy: 5.0214e-04\n",
            "Epoch 17/50\n",
            "183/183 [==============================] - 0s 1ms/step - loss: 0.0336 - accuracy: 0.0024\n",
            "Epoch 18/50\n",
            "183/183 [==============================] - 0s 1ms/step - loss: 0.0310 - accuracy: 2.2335e-05\n",
            "Epoch 19/50\n",
            "183/183 [==============================] - 0s 1ms/step - loss: 0.0326 - accuracy: 4.4988e-04\n",
            "Epoch 20/50\n",
            "183/183 [==============================] - 0s 1ms/step - loss: 0.0308 - accuracy: 0.0010\n",
            "Epoch 21/50\n",
            "183/183 [==============================] - 0s 1ms/step - loss: 0.0302 - accuracy: 5.1284e-04\n",
            "Epoch 22/50\n",
            "183/183 [==============================] - 0s 1ms/step - loss: 0.0303 - accuracy: 7.5773e-05\n",
            "Epoch 23/50\n",
            "183/183 [==============================] - 0s 1ms/step - loss: 0.0294 - accuracy: 5.0214e-04\n",
            "Epoch 24/50\n",
            "183/183 [==============================] - 0s 1ms/step - loss: 0.0294 - accuracy: 0.0015\n",
            "Epoch 25/50\n",
            "183/183 [==============================] - 0s 1ms/step - loss: 0.0307 - accuracy: 0.0015\n",
            "Epoch 26/50\n",
            "183/183 [==============================] - 0s 1ms/step - loss: 0.0340 - accuracy: 0.0013\n",
            "Epoch 27/50\n",
            "183/183 [==============================] - 0s 1ms/step - loss: 0.0330 - accuracy: 0.0011\n",
            "Epoch 28/50\n",
            "183/183 [==============================] - 0s 1ms/step - loss: 0.0316 - accuracy: 0.0042\n",
            "Epoch 29/50\n",
            "183/183 [==============================] - 0s 1ms/step - loss: 0.0311 - accuracy: 7.2139e-04\n",
            "Epoch 30/50\n",
            "183/183 [==============================] - 0s 1ms/step - loss: 0.0348 - accuracy: 6.1312e-04\n",
            "Epoch 31/50\n",
            "183/183 [==============================] - 0s 1ms/step - loss: 0.0311 - accuracy: 0.0019\n",
            "Epoch 32/50\n",
            "183/183 [==============================] - 0s 1ms/step - loss: 0.0303 - accuracy: 0.0018\n",
            "Epoch 33/50\n",
            "183/183 [==============================] - 0s 1ms/step - loss: 0.0307 - accuracy: 9.8295e-04\n",
            "Epoch 34/50\n",
            "183/183 [==============================] - 0s 1ms/step - loss: 0.0333 - accuracy: 0.0079\n",
            "Epoch 35/50\n",
            "183/183 [==============================] - 0s 1ms/step - loss: 0.0315 - accuracy: 4.9153e-04\n",
            "Epoch 36/50\n",
            "183/183 [==============================] - 0s 1ms/step - loss: 0.0311 - accuracy: 0.0048\n",
            "Epoch 37/50\n",
            "183/183 [==============================] - 0s 1ms/step - loss: 0.0323 - accuracy: 7.3397e-04\n",
            "Epoch 38/50\n",
            "183/183 [==============================] - 0s 1ms/step - loss: 0.0306 - accuracy: 0.0013\n",
            "Epoch 39/50\n",
            "183/183 [==============================] - 0s 1ms/step - loss: 0.0319 - accuracy: 2.8587e-04\n",
            "Epoch 40/50\n",
            "183/183 [==============================] - 0s 1ms/step - loss: 0.0312 - accuracy: 7.3397e-04\n",
            "Epoch 41/50\n",
            "183/183 [==============================] - 0s 1ms/step - loss: 0.0289 - accuracy: 0.0010\n",
            "Epoch 42/50\n",
            "183/183 [==============================] - 0s 1ms/step - loss: 0.0319 - accuracy: 1.5596e-04\n",
            "Epoch 43/50\n",
            "183/183 [==============================] - 0s 1ms/step - loss: 0.0308 - accuracy: 0.0013\n",
            "Epoch 44/50\n",
            "183/183 [==============================] - 0s 1ms/step - loss: 0.0333 - accuracy: 4.8099e-04\n",
            "Epoch 45/50\n",
            "183/183 [==============================] - 0s 1ms/step - loss: 0.0322 - accuracy: 8.3582e-05\n",
            "Epoch 46/50\n",
            "183/183 [==============================] - 0s 1ms/step - loss: 0.0317 - accuracy: 0.0011\n",
            "Epoch 47/50\n",
            "183/183 [==============================] - 0s 1ms/step - loss: 0.0321 - accuracy: 7.8549e-04\n",
            "Epoch 48/50\n",
            "183/183 [==============================] - 0s 1ms/step - loss: 0.0309 - accuracy: 1.1527e-04\n",
            "Epoch 49/50\n",
            "183/183 [==============================] - 0s 1ms/step - loss: 0.0295 - accuracy: 6.0160e-04\n",
            "Epoch 50/50\n",
            "183/183 [==============================] - 0s 1ms/step - loss: 0.0312 - accuracy: 0.0032\n"
          ],
          "name": "stdout"
        },
        {
          "output_type": "execute_result",
          "data": {
            "text/plain": [
              "<tensorflow.python.keras.callbacks.History at 0x7fbf79fab6d8>"
            ]
          },
          "metadata": {
            "tags": []
          },
          "execution_count": 52
        }
      ]
    },
    {
      "cell_type": "markdown",
      "metadata": {
        "id": "i5HBl9zEtUW7"
      },
      "source": [
        "**Get Embeddings**"
      ]
    },
    {
      "cell_type": "code",
      "metadata": {
        "colab": {
          "base_uri": "https://localhost:8080/"
        },
        "id": "pRoHcbgptW8b",
        "outputId": "f8ebefe4-426f-41db-c5b0-d10ee1d2e5ee"
      },
      "source": [
        "layer = model.get_layer('embedding')\r\n",
        "output_embeddings = layer.get_weights()\r\n",
        "output_embeddings"
      ],
      "execution_count": null,
      "outputs": [
        {
          "output_type": "execute_result",
          "data": {
            "text/plain": [
              "[array([[ 0.23006487, -0.02837214, -0.04503892],\n",
              "        [ 0.13856135, -0.02573039, -0.14747944],\n",
              "        [ 0.04720479, -0.00619497, -0.02551225],\n",
              "        [-0.03355419, -0.00727865, -0.02787451],\n",
              "        [-0.11059501,  0.02378928,  0.04666044],\n",
              "        [-0.1581893 , -0.00957779,  0.04791855],\n",
              "        [-0.13382667, -0.00291104,  0.07492141],\n",
              "        [-0.12441044, -0.02481978,  0.09994685],\n",
              "        [-0.14144166, -0.012107  ,  0.11646404],\n",
              "        [-0.09487198,  0.01938964,  0.03089133],\n",
              "        [-0.00069843,  0.03485578,  0.00684513],\n",
              "        [ 0.06940132, -0.00427531, -0.083068  ]], dtype=float32)]"
            ]
          },
          "metadata": {
            "tags": []
          },
          "execution_count": 53
        }
      ]
    },
    {
      "cell_type": "code",
      "metadata": {
        "id": "F_vb8YeVtZ8R",
        "colab": {
          "base_uri": "https://localhost:8080/",
          "height": 399
        },
        "outputId": "d16e51eb-8c64-40f7-9c43-0959ff8f800e"
      },
      "source": [
        "output_embeddings_df = pd.DataFrame(output_embeddings[0])\r\n",
        "output_embeddings_df = output_embeddings_df.reset_index()\r\n",
        "output_embeddings_df.columns = ['mnth', 'embedding_1', 'embedding_2', 'embedding_3']\r\n",
        "output_embeddings_df"
      ],
      "execution_count": null,
      "outputs": [
        {
          "output_type": "execute_result",
          "data": {
            "text/html": [
              "<div>\n",
              "<style scoped>\n",
              "    .dataframe tbody tr th:only-of-type {\n",
              "        vertical-align: middle;\n",
              "    }\n",
              "\n",
              "    .dataframe tbody tr th {\n",
              "        vertical-align: top;\n",
              "    }\n",
              "\n",
              "    .dataframe thead th {\n",
              "        text-align: right;\n",
              "    }\n",
              "</style>\n",
              "<table border=\"1\" class=\"dataframe\">\n",
              "  <thead>\n",
              "    <tr style=\"text-align: right;\">\n",
              "      <th></th>\n",
              "      <th>mnth</th>\n",
              "      <th>embedding_1</th>\n",
              "      <th>embedding_2</th>\n",
              "      <th>embedding_3</th>\n",
              "    </tr>\n",
              "  </thead>\n",
              "  <tbody>\n",
              "    <tr>\n",
              "      <th>0</th>\n",
              "      <td>0</td>\n",
              "      <td>0.230065</td>\n",
              "      <td>-0.028372</td>\n",
              "      <td>-0.045039</td>\n",
              "    </tr>\n",
              "    <tr>\n",
              "      <th>1</th>\n",
              "      <td>1</td>\n",
              "      <td>0.138561</td>\n",
              "      <td>-0.025730</td>\n",
              "      <td>-0.147479</td>\n",
              "    </tr>\n",
              "    <tr>\n",
              "      <th>2</th>\n",
              "      <td>2</td>\n",
              "      <td>0.047205</td>\n",
              "      <td>-0.006195</td>\n",
              "      <td>-0.025512</td>\n",
              "    </tr>\n",
              "    <tr>\n",
              "      <th>3</th>\n",
              "      <td>3</td>\n",
              "      <td>-0.033554</td>\n",
              "      <td>-0.007279</td>\n",
              "      <td>-0.027875</td>\n",
              "    </tr>\n",
              "    <tr>\n",
              "      <th>4</th>\n",
              "      <td>4</td>\n",
              "      <td>-0.110595</td>\n",
              "      <td>0.023789</td>\n",
              "      <td>0.046660</td>\n",
              "    </tr>\n",
              "    <tr>\n",
              "      <th>5</th>\n",
              "      <td>5</td>\n",
              "      <td>-0.158189</td>\n",
              "      <td>-0.009578</td>\n",
              "      <td>0.047919</td>\n",
              "    </tr>\n",
              "    <tr>\n",
              "      <th>6</th>\n",
              "      <td>6</td>\n",
              "      <td>-0.133827</td>\n",
              "      <td>-0.002911</td>\n",
              "      <td>0.074921</td>\n",
              "    </tr>\n",
              "    <tr>\n",
              "      <th>7</th>\n",
              "      <td>7</td>\n",
              "      <td>-0.124410</td>\n",
              "      <td>-0.024820</td>\n",
              "      <td>0.099947</td>\n",
              "    </tr>\n",
              "    <tr>\n",
              "      <th>8</th>\n",
              "      <td>8</td>\n",
              "      <td>-0.141442</td>\n",
              "      <td>-0.012107</td>\n",
              "      <td>0.116464</td>\n",
              "    </tr>\n",
              "    <tr>\n",
              "      <th>9</th>\n",
              "      <td>9</td>\n",
              "      <td>-0.094872</td>\n",
              "      <td>0.019390</td>\n",
              "      <td>0.030891</td>\n",
              "    </tr>\n",
              "    <tr>\n",
              "      <th>10</th>\n",
              "      <td>10</td>\n",
              "      <td>-0.000698</td>\n",
              "      <td>0.034856</td>\n",
              "      <td>0.006845</td>\n",
              "    </tr>\n",
              "    <tr>\n",
              "      <th>11</th>\n",
              "      <td>11</td>\n",
              "      <td>0.069401</td>\n",
              "      <td>-0.004275</td>\n",
              "      <td>-0.083068</td>\n",
              "    </tr>\n",
              "  </tbody>\n",
              "</table>\n",
              "</div>"
            ],
            "text/plain": [
              "    mnth  embedding_1  embedding_2  embedding_3\n",
              "0      0     0.230065    -0.028372    -0.045039\n",
              "1      1     0.138561    -0.025730    -0.147479\n",
              "2      2     0.047205    -0.006195    -0.025512\n",
              "3      3    -0.033554    -0.007279    -0.027875\n",
              "4      4    -0.110595     0.023789     0.046660\n",
              "5      5    -0.158189    -0.009578     0.047919\n",
              "6      6    -0.133827    -0.002911     0.074921\n",
              "7      7    -0.124410    -0.024820     0.099947\n",
              "8      8    -0.141442    -0.012107     0.116464\n",
              "9      9    -0.094872     0.019390     0.030891\n",
              "10    10    -0.000698     0.034856     0.006845\n",
              "11    11     0.069401    -0.004275    -0.083068"
            ]
          },
          "metadata": {
            "tags": []
          },
          "execution_count": 54
        }
      ]
    },
    {
      "cell_type": "markdown",
      "metadata": {
        "id": "EQQRslP-tbvU"
      },
      "source": [
        "**Visualization**"
      ]
    },
    {
      "cell_type": "code",
      "metadata": {
        "id": "sNGm_ptStc7b",
        "colab": {
          "base_uri": "https://localhost:8080/",
          "height": 378
        },
        "outputId": "c3fd5208-98db-4baa-f7cc-2adb5d0cb722"
      },
      "source": [
        "import matplotlib.pyplot as plt\r\n",
        "%matplotlib inline\r\n",
        "\r\n",
        "m = output_embeddings_df.iloc[:,1:].to_numpy()\r\n",
        "labels = output_embeddings_df.iloc[:,0:1].to_numpy()\r\n",
        "fig = plt.figure(figsize=(20,10))\r\n",
        "ax = fig.add_subplot(111, projection='3d')\r\n",
        "\r\n",
        "for i in range(len(labels)):\r\n",
        "    ax.scatter(m[i,0],m[i,1],m[i,2], color='b')\r\n",
        "    ax.text(m[i,0],m[i,1],m[i,2],'%s'%(str(labels[i][0])), size=20, zorder=1, color='k')\r\n",
        "\r\n",
        "ax.set_xlabel('Embedding 1')  \r\n",
        "ax.set_ylabel('Embedding 2')  \r\n",
        "ax.set_zlabel('Embedding 3')  \r\n",
        "plt.show()"
      ],
      "execution_count": null,
      "outputs": [
        {
          "output_type": "display_data",
          "data": {
            "image/png": "[encoded data removed]",
            "text/plain": [
              "<Figure size 1440x720 with 1 Axes>"
            ]
          },
          "metadata": {
            "tags": [],
            "needs_background": "light"
          }
        }
      ]
    }
  ]
}