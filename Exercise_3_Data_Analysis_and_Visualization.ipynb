{
  "nbformat": 4,
  "nbformat_minor": 0,
  "metadata": {
    "colab": {
      "name": "Exercise 3 - Data Analysis and Visualization.ipynb",
      "provenance": [],
      "collapsed_sections": []
    },
    "kernelspec": {
      "name": "python3",
      "display_name": "Python 3"
    }
  },
  "cells": [
    {
      "cell_type": "markdown",
      "metadata": {
        "id": "ogwMItn_B8jv"
      },
      "source": [
        "**Code for Exercise 3**"
      ]
    },
    {
      "cell_type": "code",
      "metadata": {
        "id": "6jTsf1CUCTNr"
      },
      "source": [
        "# Import all modules that are required\n",
        "import numpy as np\n",
        "import pandas as pd\n",
        "from datetime import datetime\n",
        "from datetime import date\n",
        "\n",
        "import requests\n",
        "from bs4 import BeautifulSoup\n",
        "from IPython.display import HTML\n",
        "\n",
        "requests.packages.urllib3.disable_warnings()\n",
        "\n",
        "import warnings\n",
        "warnings.filterwarnings(\"ignore\")"
      ],
      "execution_count": 1,
      "outputs": []
    },
    {
      "cell_type": "code",
      "metadata": {
        "id": "n10-fOnzCvl5"
      },
      "source": [
        "def get_data(url,class1,class2,class3):\n",
        "  snapshot_url = url\n",
        "  snapshot = requests.get(snapshot_url)\n",
        "  raw_html = snapshot.text\n",
        "  soup = BeautifulSoup(raw_html, 'html.parser')\n",
        "  card_titles = soup.select('.'+class1)#('.Card-title')\n",
        "  card_times = soup.select('.'+class2)\n",
        "  card_classes = soup.select('.'+class3)\n",
        "  class_news = url.split('/')[-2]#'finance'\n",
        "  titles = []\n",
        "  times = []\n",
        "  classes = []\n",
        "  matrix = []\n",
        "  for i in range(0, len(card_titles)):\n",
        "    datestring = card_times[i].text#Fri, Oct 23th, 2020,\n",
        "    d = datestring.split(\" \")\n",
        "    date_list = []\n",
        "    if (d[1] == 'Ago' or d[1] == 'hours' or d[1] == 'hour' or d[1] == 'min'):\n",
        "      today = date.today()\n",
        "      date_list = [today.day,today.month]\n",
        "    else:\n",
        "      date_list = [datetime.strptime(d[1],  '%b').month, int(d[2][:-2])]\n",
        "      pom = [card_titles[i].select_one('div').text,card_times[i].text,date_list[1],date_list[0]]\n",
        "      if i < 5:\n",
        "        pom.append('Top News '+class_news)\n",
        "      else:\n",
        "        pom.append(card_classes[i-5].select_one('div').text)\n",
        "      matrix.append(pom)\n",
        "  df = pd.DataFrame(np.array(matrix),columns=['Title','Date','Day','Month','Class'])\n",
        "  return df"
      ],
      "execution_count": 4,
      "outputs": []
    },
    {
      "cell_type": "code",
      "metadata": {
        "id": "YOZKnptuEbt0"
      },
      "source": [
        "df_finance = get_data('https://www.cnbc.com/finance/','Card-title','Card-time','Card-eyebrow')"
      ],
      "execution_count": 21,
      "outputs": []
    },
    {
      "cell_type": "code",
      "metadata": {
        "id": "yrYOTGxhEjrG"
      },
      "source": [
        "df_health = get_data('https://www.cnbc.com/health-and-science/','Card-title','Card-time','Card-eyebrow')"
      ],
      "execution_count": 22,
      "outputs": []
    },
    {
      "cell_type": "code",
      "metadata": {
        "colab": {
          "base_uri": "https://localhost:8080/",
          "height": 1000
        },
        "id": "NvsvBWAuEw_S",
        "outputId": "bec2e6ae-3aed-4088-d2ab-499030e131d8"
      },
      "source": [
        "df_finance"
      ],
      "execution_count": 23,
      "outputs": [
        {
          "output_type": "execute_result",
          "data": {
            "text/html": [
              "<div>\n",
              "<style scoped>\n",
              "    .dataframe tbody tr th:only-of-type {\n",
              "        vertical-align: middle;\n",
              "    }\n",
              "\n",
              "    .dataframe tbody tr th {\n",
              "        vertical-align: top;\n",
              "    }\n",
              "\n",
              "    .dataframe thead th {\n",
              "        text-align: right;\n",
              "    }\n",
              "</style>\n",
              "<table border=\"1\" class=\"dataframe\">\n",
              "  <thead>\n",
              "    <tr style=\"text-align: right;\">\n",
              "      <th></th>\n",
              "      <th>Title</th>\n",
              "      <th>Date</th>\n",
              "      <th>Day</th>\n",
              "      <th>Month</th>\n",
              "      <th>Class</th>\n",
              "    </tr>\n",
              "  </thead>\n",
              "  <tbody>\n",
              "    <tr>\n",
              "      <th>0</th>\n",
              "      <td>Virus surge is leading to a double-dip recessi...</td>\n",
              "      <td>Mon, Nov 30th 2020</td>\n",
              "      <td>30</td>\n",
              "      <td>11</td>\n",
              "      <td>Top News finance</td>\n",
              "    </tr>\n",
              "    <tr>\n",
              "      <th>1</th>\n",
              "      <td>Tesla's stock will be added to the S&amp;P 500 in ...</td>\n",
              "      <td>Mon, Nov 30th 2020</td>\n",
              "      <td>30</td>\n",
              "      <td>11</td>\n",
              "      <td>Top News finance</td>\n",
              "    </tr>\n",
              "    <tr>\n",
              "      <th>2</th>\n",
              "      <td>Stocks making the biggest moves after hours: Z...</td>\n",
              "      <td>Mon, Nov 30th 2020</td>\n",
              "      <td>30</td>\n",
              "      <td>11</td>\n",
              "      <td>Top News finance</td>\n",
              "    </tr>\n",
              "    <tr>\n",
              "      <th>3</th>\n",
              "      <td>Stocks making the biggest moves midday: Modern...</td>\n",
              "      <td>Mon, Nov 30th 2020</td>\n",
              "      <td>30</td>\n",
              "      <td>11</td>\n",
              "      <td>Top News finance</td>\n",
              "    </tr>\n",
              "    <tr>\n",
              "      <th>4</th>\n",
              "      <td>Winklevoss twins say bitcoin will be the decad...</td>\n",
              "      <td>Mon, Nov 30th 2020</td>\n",
              "      <td>30</td>\n",
              "      <td>11</td>\n",
              "      <td>Markets</td>\n",
              "    </tr>\n",
              "    <tr>\n",
              "      <th>5</th>\n",
              "      <td>Stocks making the biggest moves premarket: Mod...</td>\n",
              "      <td>Mon, Nov 30th 2020</td>\n",
              "      <td>30</td>\n",
              "      <td>11</td>\n",
              "      <td>Market Insider</td>\n",
              "    </tr>\n",
              "    <tr>\n",
              "      <th>6</th>\n",
              "      <td>Huge November gains may make the usual year-en...</td>\n",
              "      <td>Mon, Nov 30th 2020</td>\n",
              "      <td>30</td>\n",
              "      <td>11</td>\n",
              "      <td>Trader Talk</td>\n",
              "    </tr>\n",
              "    <tr>\n",
              "      <th>7</th>\n",
              "      <td>Dow falls more than 200 points, but still post...</td>\n",
              "      <td>Mon, Nov 30th 2020</td>\n",
              "      <td>30</td>\n",
              "      <td>11</td>\n",
              "      <td>Markets</td>\n",
              "    </tr>\n",
              "    <tr>\n",
              "      <th>8</th>\n",
              "      <td>Market bull predicts holiday season surge will...</td>\n",
              "      <td>Sun, Nov 29th 2020</td>\n",
              "      <td>29</td>\n",
              "      <td>11</td>\n",
              "      <td>Trading Nation</td>\n",
              "    </tr>\n",
              "    <tr>\n",
              "      <th>9</th>\n",
              "      <td>Congress stalled on stimulus talks as millions...</td>\n",
              "      <td>Sat, Nov 28th 2020</td>\n",
              "      <td>28</td>\n",
              "      <td>11</td>\n",
              "      <td>Personal Finance</td>\n",
              "    </tr>\n",
              "    <tr>\n",
              "      <th>10</th>\n",
              "      <td>Stocks making the biggest moves midday: Amazon...</td>\n",
              "      <td>Fri, Nov 27th 2020</td>\n",
              "      <td>27</td>\n",
              "      <td>11</td>\n",
              "      <td>Market Insider</td>\n",
              "    </tr>\n",
              "    <tr>\n",
              "      <th>11</th>\n",
              "      <td>S&amp;P 500 closes at another record Friday, gains...</td>\n",
              "      <td>Fri, Nov 27th 2020</td>\n",
              "      <td>27</td>\n",
              "      <td>11</td>\n",
              "      <td>Markets</td>\n",
              "    </tr>\n",
              "    <tr>\n",
              "      <th>12</th>\n",
              "      <td>Stocks making the biggest moves in the premark...</td>\n",
              "      <td>Fri, Nov 27th 2020</td>\n",
              "      <td>27</td>\n",
              "      <td>11</td>\n",
              "      <td>Market Insider</td>\n",
              "    </tr>\n",
              "    <tr>\n",
              "      <th>13</th>\n",
              "      <td>Fed weighed adjusting bond purchases to help s...</td>\n",
              "      <td>Wed, Nov 25th 2020</td>\n",
              "      <td>25</td>\n",
              "      <td>11</td>\n",
              "      <td>Federal Reserve</td>\n",
              "    </tr>\n",
              "    <tr>\n",
              "      <th>14</th>\n",
              "      <td>Stocks making the biggest moves midday: Gap, S...</td>\n",
              "      <td>Wed, Nov 25th 2020</td>\n",
              "      <td>25</td>\n",
              "      <td>11</td>\n",
              "      <td>Market Insider</td>\n",
              "    </tr>\n",
              "    <tr>\n",
              "      <th>15</th>\n",
              "      <td>14 million workers face losing unemployment be...</td>\n",
              "      <td>Wed, Nov 25th 2020</td>\n",
              "      <td>25</td>\n",
              "      <td>11</td>\n",
              "      <td>Personal Finance</td>\n",
              "    </tr>\n",
              "    <tr>\n",
              "      <th>16</th>\n",
              "      <td>Goldman bankers are using flying drones to hel...</td>\n",
              "      <td>Wed, Nov 25th 2020</td>\n",
              "      <td>25</td>\n",
              "      <td>11</td>\n",
              "      <td>Finance</td>\n",
              "    </tr>\n",
              "    <tr>\n",
              "      <th>17</th>\n",
              "      <td>Stocks making the biggest moves in the premark...</td>\n",
              "      <td>Wed, Nov 25th 2020</td>\n",
              "      <td>25</td>\n",
              "      <td>11</td>\n",
              "      <td>Market Insider</td>\n",
              "    </tr>\n",
              "    <tr>\n",
              "      <th>18</th>\n",
              "      <td>Record market highs are justified despite viru...</td>\n",
              "      <td>Tue, Nov 24th 2020</td>\n",
              "      <td>24</td>\n",
              "      <td>11</td>\n",
              "      <td>Trading Nation</td>\n",
              "    </tr>\n",
              "    <tr>\n",
              "      <th>19</th>\n",
              "      <td>Dow pulls back more than 150 points after reac...</td>\n",
              "      <td>Wed, Nov 25th 2020</td>\n",
              "      <td>25</td>\n",
              "      <td>11</td>\n",
              "      <td>Markets</td>\n",
              "    </tr>\n",
              "    <tr>\n",
              "      <th>20</th>\n",
              "      <td>Stocks making the biggest moves after hours: G...</td>\n",
              "      <td>Tue, Nov 24th 2020</td>\n",
              "      <td>24</td>\n",
              "      <td>11</td>\n",
              "      <td>Market Insider</td>\n",
              "    </tr>\n",
              "    <tr>\n",
              "      <th>21</th>\n",
              "      <td>JPMorgan pays $250 million penalty over weak c...</td>\n",
              "      <td>Tue, Nov 24th 2020</td>\n",
              "      <td>24</td>\n",
              "      <td>11</td>\n",
              "      <td>Finance</td>\n",
              "    </tr>\n",
              "    <tr>\n",
              "      <th>22</th>\n",
              "      <td>Stocks making the biggest moves midday: Tesla,...</td>\n",
              "      <td>Tue, Nov 24th 2020</td>\n",
              "      <td>24</td>\n",
              "      <td>11</td>\n",
              "      <td>Market Insider</td>\n",
              "    </tr>\n",
              "    <tr>\n",
              "      <th>23</th>\n",
              "      <td>Square and PayPal may be new whales in crypto ...</td>\n",
              "      <td>Tue, Nov 24th 2020</td>\n",
              "      <td>24</td>\n",
              "      <td>11</td>\n",
              "      <td>Bitcoin</td>\n",
              "    </tr>\n",
              "    <tr>\n",
              "      <th>24</th>\n",
              "      <td>Stocks making the biggest moves in the premark...</td>\n",
              "      <td>Tue, Nov 24th 2020</td>\n",
              "      <td>24</td>\n",
              "      <td>11</td>\n",
              "      <td>Market Insider</td>\n",
              "    </tr>\n",
              "    <tr>\n",
              "      <th>25</th>\n",
              "      <td>This is the 'No. 1' thing preventing a dollar ...</td>\n",
              "      <td>Mon, Nov 23rd 2020</td>\n",
              "      <td>23</td>\n",
              "      <td>11</td>\n",
              "      <td>Trading Nation</td>\n",
              "    </tr>\n",
              "    <tr>\n",
              "      <th>26</th>\n",
              "      <td>Dow surges more than 400 points, closes above ...</td>\n",
              "      <td>Tue, Nov 24th 2020</td>\n",
              "      <td>24</td>\n",
              "      <td>11</td>\n",
              "      <td>Markets</td>\n",
              "    </tr>\n",
              "    <tr>\n",
              "      <th>27</th>\n",
              "      <td>You can get unemployment benefits if you're la...</td>\n",
              "      <td>Tue, Nov 24th 2020</td>\n",
              "      <td>24</td>\n",
              "      <td>11</td>\n",
              "      <td>Personal Finance</td>\n",
              "    </tr>\n",
              "    <tr>\n",
              "      <th>28</th>\n",
              "      <td>Ether, XRP and other 'altcoins' rally as bitco...</td>\n",
              "      <td>Mon, Nov 23rd 2020</td>\n",
              "      <td>23</td>\n",
              "      <td>11</td>\n",
              "      <td>Cryptocurrency</td>\n",
              "    </tr>\n",
              "    <tr>\n",
              "      <th>29</th>\n",
              "      <td>Stocks making the biggest moves midday: AstraZ...</td>\n",
              "      <td>Mon, Nov 23rd 2020</td>\n",
              "      <td>23</td>\n",
              "      <td>11</td>\n",
              "      <td>Market Insider</td>\n",
              "    </tr>\n",
              "    <tr>\n",
              "      <th>30</th>\n",
              "      <td>Stocks making the biggest moves in the premark...</td>\n",
              "      <td>Mon, Nov 23rd 2020</td>\n",
              "      <td>23</td>\n",
              "      <td>11</td>\n",
              "      <td>Market Insider</td>\n",
              "    </tr>\n",
              "    <tr>\n",
              "      <th>31</th>\n",
              "      <td>Five crypto bulls on what's next for bitcoin a...</td>\n",
              "      <td>Mon, Nov 23rd 2020</td>\n",
              "      <td>23</td>\n",
              "      <td>11</td>\n",
              "      <td>Cryptocurrency</td>\n",
              "    </tr>\n",
              "    <tr>\n",
              "      <th>32</th>\n",
              "      <td>IPO market in the U.S. and China to remain str...</td>\n",
              "      <td>Mon, Nov 23rd 2020</td>\n",
              "      <td>23</td>\n",
              "      <td>11</td>\n",
              "      <td>Tech</td>\n",
              "    </tr>\n",
              "  </tbody>\n",
              "</table>\n",
              "</div>"
            ],
            "text/plain": [
              "                                                Title  ...             Class\n",
              "0   Virus surge is leading to a double-dip recessi...  ...  Top News finance\n",
              "1   Tesla's stock will be added to the S&P 500 in ...  ...  Top News finance\n",
              "2   Stocks making the biggest moves after hours: Z...  ...  Top News finance\n",
              "3   Stocks making the biggest moves midday: Modern...  ...  Top News finance\n",
              "4   Winklevoss twins say bitcoin will be the decad...  ...           Markets\n",
              "5   Stocks making the biggest moves premarket: Mod...  ...    Market Insider\n",
              "6   Huge November gains may make the usual year-en...  ...       Trader Talk\n",
              "7   Dow falls more than 200 points, but still post...  ...           Markets\n",
              "8   Market bull predicts holiday season surge will...  ...    Trading Nation\n",
              "9   Congress stalled on stimulus talks as millions...  ...  Personal Finance\n",
              "10  Stocks making the biggest moves midday: Amazon...  ...    Market Insider\n",
              "11  S&P 500 closes at another record Friday, gains...  ...           Markets\n",
              "12  Stocks making the biggest moves in the premark...  ...    Market Insider\n",
              "13  Fed weighed adjusting bond purchases to help s...  ...   Federal Reserve\n",
              "14  Stocks making the biggest moves midday: Gap, S...  ...    Market Insider\n",
              "15  14 million workers face losing unemployment be...  ...  Personal Finance\n",
              "16  Goldman bankers are using flying drones to hel...  ...           Finance\n",
              "17  Stocks making the biggest moves in the premark...  ...    Market Insider\n",
              "18  Record market highs are justified despite viru...  ...    Trading Nation\n",
              "19  Dow pulls back more than 150 points after reac...  ...           Markets\n",
              "20  Stocks making the biggest moves after hours: G...  ...    Market Insider\n",
              "21  JPMorgan pays $250 million penalty over weak c...  ...           Finance\n",
              "22  Stocks making the biggest moves midday: Tesla,...  ...    Market Insider\n",
              "23  Square and PayPal may be new whales in crypto ...  ...           Bitcoin\n",
              "24  Stocks making the biggest moves in the premark...  ...    Market Insider\n",
              "25  This is the 'No. 1' thing preventing a dollar ...  ...    Trading Nation\n",
              "26  Dow surges more than 400 points, closes above ...  ...           Markets\n",
              "27  You can get unemployment benefits if you're la...  ...  Personal Finance\n",
              "28  Ether, XRP and other 'altcoins' rally as bitco...  ...    Cryptocurrency\n",
              "29  Stocks making the biggest moves midday: AstraZ...  ...    Market Insider\n",
              "30  Stocks making the biggest moves in the premark...  ...    Market Insider\n",
              "31  Five crypto bulls on what's next for bitcoin a...  ...    Cryptocurrency\n",
              "32  IPO market in the U.S. and China to remain str...  ...              Tech\n",
              "\n",
              "[33 rows x 5 columns]"
            ]
          },
          "metadata": {
            "tags": []
          },
          "execution_count": 23
        }
      ]
    },
    {
      "cell_type": "code",
      "metadata": {
        "colab": {
          "base_uri": "https://localhost:8080/",
          "height": 1000
        },
        "id": "sNkMjSMLE2jp",
        "outputId": "e2a0a525-f41c-4962-eada-68e9fecfb397"
      },
      "source": [
        "df_health"
      ],
      "execution_count": 24,
      "outputs": [
        {
          "output_type": "execute_result",
          "data": {
            "text/html": [
              "<div>\n",
              "<style scoped>\n",
              "    .dataframe tbody tr th:only-of-type {\n",
              "        vertical-align: middle;\n",
              "    }\n",
              "\n",
              "    .dataframe tbody tr th {\n",
              "        vertical-align: top;\n",
              "    }\n",
              "\n",
              "    .dataframe thead th {\n",
              "        text-align: right;\n",
              "    }\n",
              "</style>\n",
              "<table border=\"1\" class=\"dataframe\">\n",
              "  <thead>\n",
              "    <tr style=\"text-align: right;\">\n",
              "      <th></th>\n",
              "      <th>Title</th>\n",
              "      <th>Date</th>\n",
              "      <th>Day</th>\n",
              "      <th>Month</th>\n",
              "      <th>Class</th>\n",
              "    </tr>\n",
              "  </thead>\n",
              "  <tbody>\n",
              "    <tr>\n",
              "      <th>0</th>\n",
              "      <td>Biden Covid advisor 'relieved' about Dr. Scott...</td>\n",
              "      <td>Mon, Nov 30th 2020</td>\n",
              "      <td>30</td>\n",
              "      <td>11</td>\n",
              "      <td>Top News health-and-science</td>\n",
              "    </tr>\n",
              "    <tr>\n",
              "      <th>1</th>\n",
              "      <td>Controversial White House coronavirus advisor ...</td>\n",
              "      <td>Mon, Nov 30th 2020</td>\n",
              "      <td>30</td>\n",
              "      <td>11</td>\n",
              "      <td>Top News health-and-science</td>\n",
              "    </tr>\n",
              "    <tr>\n",
              "      <th>2</th>\n",
              "      <td>CEO of Montana hospital, which lost a doctor t...</td>\n",
              "      <td>Mon, Nov 30th 2020</td>\n",
              "      <td>30</td>\n",
              "      <td>11</td>\n",
              "      <td>Health and Science</td>\n",
              "    </tr>\n",
              "    <tr>\n",
              "      <th>3</th>\n",
              "      <td>NY implements emergency hospital measures as C...</td>\n",
              "      <td>Mon, Nov 30th 2020</td>\n",
              "      <td>30</td>\n",
              "      <td>11</td>\n",
              "      <td>Health and Science</td>\n",
              "    </tr>\n",
              "    <tr>\n",
              "      <th>4</th>\n",
              "      <td>First 'mass air shipment' of Pfizer's Covid va...</td>\n",
              "      <td>Mon, Nov 30th 2020</td>\n",
              "      <td>30</td>\n",
              "      <td>11</td>\n",
              "      <td>Airlines</td>\n",
              "    </tr>\n",
              "    <tr>\n",
              "      <th>5</th>\n",
              "      <td>Watch live: New York Gov. Andrew Cuomo holds a...</td>\n",
              "      <td>Mon, Nov 30th 2020</td>\n",
              "      <td>30</td>\n",
              "      <td>11</td>\n",
              "      <td>Health and Science</td>\n",
              "    </tr>\n",
              "    <tr>\n",
              "      <th>6</th>\n",
              "      <td>Watch live: WHO holds a press briefing on coro...</td>\n",
              "      <td>Mon, Nov 30th 2020</td>\n",
              "      <td>30</td>\n",
              "      <td>11</td>\n",
              "      <td>Health and Science</td>\n",
              "    </tr>\n",
              "    <tr>\n",
              "      <th>7</th>\n",
              "      <td>DeepMind solves 50-year-old ‘grand challenge’ ...</td>\n",
              "      <td>Mon, Nov 30th 2020</td>\n",
              "      <td>30</td>\n",
              "      <td>11</td>\n",
              "      <td>Tech</td>\n",
              "    </tr>\n",
              "    <tr>\n",
              "      <th>8</th>\n",
              "      <td>Thanksgiving air travel rises to pandemic high...</td>\n",
              "      <td>Mon, Nov 30th 2020</td>\n",
              "      <td>30</td>\n",
              "      <td>11</td>\n",
              "      <td>Airlines</td>\n",
              "    </tr>\n",
              "    <tr>\n",
              "      <th>9</th>\n",
              "      <td>Up to 30% of Americans may get Covid by year-e...</td>\n",
              "      <td>Mon, Nov 30th 2020</td>\n",
              "      <td>30</td>\n",
              "      <td>11</td>\n",
              "      <td>Health and Science</td>\n",
              "    </tr>\n",
              "    <tr>\n",
              "      <th>10</th>\n",
              "      <td>Experts see the 'most complex vaccination prog...</td>\n",
              "      <td>Mon, Nov 30th 2020</td>\n",
              "      <td>30</td>\n",
              "      <td>11</td>\n",
              "      <td>Coronavirus</td>\n",
              "    </tr>\n",
              "    <tr>\n",
              "      <th>11</th>\n",
              "      <td>Goldman Sachs predicts how quickly coronavirus...</td>\n",
              "      <td>Mon, Nov 30th 2020</td>\n",
              "      <td>30</td>\n",
              "      <td>11</td>\n",
              "      <td>Health and Science</td>\n",
              "    </tr>\n",
              "    <tr>\n",
              "      <th>12</th>\n",
              "      <td>Coronavirus updates: NY sets emergency hospita...</td>\n",
              "      <td>Mon, Nov 30th 2020</td>\n",
              "      <td>30</td>\n",
              "      <td>11</td>\n",
              "      <td>Health and Science</td>\n",
              "    </tr>\n",
              "    <tr>\n",
              "      <th>13</th>\n",
              "      <td>5 things to know before the stock market opens...</td>\n",
              "      <td>Mon, Nov 30th 2020</td>\n",
              "      <td>30</td>\n",
              "      <td>11</td>\n",
              "      <td>5 Things to Know</td>\n",
              "    </tr>\n",
              "    <tr>\n",
              "      <th>14</th>\n",
              "      <td>Moderna says Covid vaccine is 94% effective, p...</td>\n",
              "      <td>Mon, Nov 30th 2020</td>\n",
              "      <td>30</td>\n",
              "      <td>11</td>\n",
              "      <td>Health and Science</td>\n",
              "    </tr>\n",
              "    <tr>\n",
              "      <th>15</th>\n",
              "      <td>China's vaccines may have 'appeal' in developi...</td>\n",
              "      <td>Sun, Nov 29th 2020</td>\n",
              "      <td>29</td>\n",
              "      <td>11</td>\n",
              "      <td>Health and Science</td>\n",
              "    </tr>\n",
              "    <tr>\n",
              "      <th>16</th>\n",
              "      <td>White House health advisor Birx hopes to brief...</td>\n",
              "      <td>Sun, Nov 29th 2020</td>\n",
              "      <td>29</td>\n",
              "      <td>11</td>\n",
              "      <td>Politics</td>\n",
              "    </tr>\n",
              "    <tr>\n",
              "      <th>17</th>\n",
              "      <td>Fauci says Christmas and New Year’s restrictio...</td>\n",
              "      <td>Sun, Nov 29th 2020</td>\n",
              "      <td>29</td>\n",
              "      <td>11</td>\n",
              "      <td>Health and Science</td>\n",
              "    </tr>\n",
              "    <tr>\n",
              "      <th>18</th>\n",
              "      <td>Oxford, WHO scientists say more data needed on...</td>\n",
              "      <td>Fri, Nov 27th 2020</td>\n",
              "      <td>27</td>\n",
              "      <td>11</td>\n",
              "      <td>Health and Science</td>\n",
              "    </tr>\n",
              "    <tr>\n",
              "      <th>19</th>\n",
              "      <td>Long lines for Covid testing not going away so...</td>\n",
              "      <td>Fri, Nov 27th 2020</td>\n",
              "      <td>27</td>\n",
              "      <td>11</td>\n",
              "      <td>Health and Science</td>\n",
              "    </tr>\n",
              "    <tr>\n",
              "      <th>20</th>\n",
              "      <td>Watch live: World Health Organization holds a ...</td>\n",
              "      <td>Fri, Nov 27th 2020</td>\n",
              "      <td>27</td>\n",
              "      <td>11</td>\n",
              "      <td>Health and Science</td>\n",
              "    </tr>\n",
              "    <tr>\n",
              "      <th>21</th>\n",
              "      <td>Coronavirus updates: AstraZeneca CEO touts a n...</td>\n",
              "      <td>Mon, Nov 30th 2020</td>\n",
              "      <td>30</td>\n",
              "      <td>11</td>\n",
              "      <td>Health and Science</td>\n",
              "    </tr>\n",
              "    <tr>\n",
              "      <th>22</th>\n",
              "      <td>Britain tries to cool AstraZeneca concerns as ...</td>\n",
              "      <td>Fri, Nov 27th 2020</td>\n",
              "      <td>27</td>\n",
              "      <td>11</td>\n",
              "      <td>Health and Science</td>\n",
              "    </tr>\n",
              "    <tr>\n",
              "      <th>23</th>\n",
              "      <td>Singapore's co-developed vaccine candidate in ...</td>\n",
              "      <td>Thu, Nov 26th 2020</td>\n",
              "      <td>26</td>\n",
              "      <td>11</td>\n",
              "      <td>Health and Science</td>\n",
              "    </tr>\n",
              "    <tr>\n",
              "      <th>24</th>\n",
              "      <td>Coronavirus mutations do not appear to be help...</td>\n",
              "      <td>Fri, Nov 27th 2020</td>\n",
              "      <td>27</td>\n",
              "      <td>11</td>\n",
              "      <td>Health and Science</td>\n",
              "    </tr>\n",
              "    <tr>\n",
              "      <th>25</th>\n",
              "      <td>Deutsche Bank bullish about the 2021 economic ...</td>\n",
              "      <td>Thu, Nov 26th 2020</td>\n",
              "      <td>26</td>\n",
              "      <td>11</td>\n",
              "      <td>World Economy</td>\n",
              "    </tr>\n",
              "    <tr>\n",
              "      <th>26</th>\n",
              "      <td>AstraZeneca, Oxford defend Covid vaccine trial...</td>\n",
              "      <td>Thu, Nov 26th 2020</td>\n",
              "      <td>26</td>\n",
              "      <td>11</td>\n",
              "      <td>Health and Science</td>\n",
              "    </tr>\n",
              "    <tr>\n",
              "      <th>27</th>\n",
              "      <td>World’s largest medical glove maker becomes th...</td>\n",
              "      <td>Thu, Nov 26th 2020</td>\n",
              "      <td>26</td>\n",
              "      <td>11</td>\n",
              "      <td>Health and Science</td>\n",
              "    </tr>\n",
              "    <tr>\n",
              "      <th>28</th>\n",
              "      <td>No ski resorts or fireworks but lots of bubble...</td>\n",
              "      <td>Thu, Nov 26th 2020</td>\n",
              "      <td>26</td>\n",
              "      <td>11</td>\n",
              "      <td>Europe Politics</td>\n",
              "    </tr>\n",
              "    <tr>\n",
              "      <th>29</th>\n",
              "      <td>Supreme Court blocks New York from enforcing C...</td>\n",
              "      <td>Thu, Nov 26th 2020</td>\n",
              "      <td>26</td>\n",
              "      <td>11</td>\n",
              "      <td>Politics</td>\n",
              "    </tr>\n",
              "    <tr>\n",
              "      <th>30</th>\n",
              "      <td>‘We should be back to normal’ by summer 2021, ...</td>\n",
              "      <td>Wed, Nov 25th 2020</td>\n",
              "      <td>25</td>\n",
              "      <td>11</td>\n",
              "      <td>Health and Science</td>\n",
              "    </tr>\n",
              "  </tbody>\n",
              "</table>\n",
              "</div>"
            ],
            "text/plain": [
              "                                                Title  ...                        Class\n",
              "0   Biden Covid advisor 'relieved' about Dr. Scott...  ...  Top News health-and-science\n",
              "1   Controversial White House coronavirus advisor ...  ...  Top News health-and-science\n",
              "2   CEO of Montana hospital, which lost a doctor t...  ...           Health and Science\n",
              "3   NY implements emergency hospital measures as C...  ...           Health and Science\n",
              "4   First 'mass air shipment' of Pfizer's Covid va...  ...                     Airlines\n",
              "5   Watch live: New York Gov. Andrew Cuomo holds a...  ...           Health and Science\n",
              "6   Watch live: WHO holds a press briefing on coro...  ...           Health and Science\n",
              "7   DeepMind solves 50-year-old ‘grand challenge’ ...  ...                         Tech\n",
              "8   Thanksgiving air travel rises to pandemic high...  ...                     Airlines\n",
              "9   Up to 30% of Americans may get Covid by year-e...  ...           Health and Science\n",
              "10  Experts see the 'most complex vaccination prog...  ...                  Coronavirus\n",
              "11  Goldman Sachs predicts how quickly coronavirus...  ...           Health and Science\n",
              "12  Coronavirus updates: NY sets emergency hospita...  ...           Health and Science\n",
              "13  5 things to know before the stock market opens...  ...             5 Things to Know\n",
              "14  Moderna says Covid vaccine is 94% effective, p...  ...           Health and Science\n",
              "15  China's vaccines may have 'appeal' in developi...  ...           Health and Science\n",
              "16  White House health advisor Birx hopes to brief...  ...                     Politics\n",
              "17  Fauci says Christmas and New Year’s restrictio...  ...           Health and Science\n",
              "18  Oxford, WHO scientists say more data needed on...  ...           Health and Science\n",
              "19  Long lines for Covid testing not going away so...  ...           Health and Science\n",
              "20  Watch live: World Health Organization holds a ...  ...           Health and Science\n",
              "21  Coronavirus updates: AstraZeneca CEO touts a n...  ...           Health and Science\n",
              "22  Britain tries to cool AstraZeneca concerns as ...  ...           Health and Science\n",
              "23  Singapore's co-developed vaccine candidate in ...  ...           Health and Science\n",
              "24  Coronavirus mutations do not appear to be help...  ...           Health and Science\n",
              "25  Deutsche Bank bullish about the 2021 economic ...  ...                World Economy\n",
              "26  AstraZeneca, Oxford defend Covid vaccine trial...  ...           Health and Science\n",
              "27  World’s largest medical glove maker becomes th...  ...           Health and Science\n",
              "28  No ski resorts or fireworks but lots of bubble...  ...              Europe Politics\n",
              "29  Supreme Court blocks New York from enforcing C...  ...                     Politics\n",
              "30  ‘We should be back to normal’ by summer 2021, ...  ...           Health and Science\n",
              "\n",
              "[31 rows x 5 columns]"
            ]
          },
          "metadata": {
            "tags": []
          },
          "execution_count": 24
        }
      ]
    },
    {
      "cell_type": "markdown",
      "metadata": {
        "id": "c9hezNg8E7UR"
      },
      "source": [
        "**Save and Read .CSV**"
      ]
    },
    {
      "cell_type": "code",
      "metadata": {
        "id": "n9dkJ9gyFATm"
      },
      "source": [
        "df_finance.to_csv('/content/sample_data/dataset_finance.csv', index = False)"
      ],
      "execution_count": 25,
      "outputs": []
    },
    {
      "cell_type": "code",
      "metadata": {
        "id": "S5Eko1gaFUrY"
      },
      "source": [
        "df_health.to_csv('/content/sample_data/dataset_health.csv', index = False)"
      ],
      "execution_count": 26,
      "outputs": []
    },
    {
      "cell_type": "code",
      "metadata": {
        "id": "ak9z-g1mF31Q"
      },
      "source": [
        "df_finance = pd.read_csv('/content/sample_data/dataset_finance.csv')"
      ],
      "execution_count": 27,
      "outputs": []
    },
    {
      "cell_type": "code",
      "metadata": {
        "id": "FvUkzSsyF9s4"
      },
      "source": [
        "df_health = pd.read_csv('/content/sample_data/dataset_health.csv')"
      ],
      "execution_count": 28,
      "outputs": []
    },
    {
      "cell_type": "code",
      "metadata": {
        "colab": {
          "base_uri": "https://localhost:8080/",
          "height": 1000
        },
        "id": "JI5SCsEJGIQ9",
        "outputId": "fb9a8fc2-68dc-4e3d-d196-088bcbf7222e"
      },
      "source": [
        "df_finance"
      ],
      "execution_count": 29,
      "outputs": [
        {
          "output_type": "execute_result",
          "data": {
            "text/html": [
              "<div>\n",
              "<style scoped>\n",
              "    .dataframe tbody tr th:only-of-type {\n",
              "        vertical-align: middle;\n",
              "    }\n",
              "\n",
              "    .dataframe tbody tr th {\n",
              "        vertical-align: top;\n",
              "    }\n",
              "\n",
              "    .dataframe thead th {\n",
              "        text-align: right;\n",
              "    }\n",
              "</style>\n",
              "<table border=\"1\" class=\"dataframe\">\n",
              "  <thead>\n",
              "    <tr style=\"text-align: right;\">\n",
              "      <th></th>\n",
              "      <th>Title</th>\n",
              "      <th>Date</th>\n",
              "      <th>Day</th>\n",
              "      <th>Month</th>\n",
              "      <th>Class</th>\n",
              "    </tr>\n",
              "  </thead>\n",
              "  <tbody>\n",
              "    <tr>\n",
              "      <th>0</th>\n",
              "      <td>Virus surge is leading to a double-dip recessi...</td>\n",
              "      <td>Mon, Nov 30th 2020</td>\n",
              "      <td>30</td>\n",
              "      <td>11</td>\n",
              "      <td>Top News finance</td>\n",
              "    </tr>\n",
              "    <tr>\n",
              "      <th>1</th>\n",
              "      <td>Tesla's stock will be added to the S&amp;P 500 in ...</td>\n",
              "      <td>Mon, Nov 30th 2020</td>\n",
              "      <td>30</td>\n",
              "      <td>11</td>\n",
              "      <td>Top News finance</td>\n",
              "    </tr>\n",
              "    <tr>\n",
              "      <th>2</th>\n",
              "      <td>Stocks making the biggest moves after hours: Z...</td>\n",
              "      <td>Mon, Nov 30th 2020</td>\n",
              "      <td>30</td>\n",
              "      <td>11</td>\n",
              "      <td>Top News finance</td>\n",
              "    </tr>\n",
              "    <tr>\n",
              "      <th>3</th>\n",
              "      <td>Stocks making the biggest moves midday: Modern...</td>\n",
              "      <td>Mon, Nov 30th 2020</td>\n",
              "      <td>30</td>\n",
              "      <td>11</td>\n",
              "      <td>Top News finance</td>\n",
              "    </tr>\n",
              "    <tr>\n",
              "      <th>4</th>\n",
              "      <td>Winklevoss twins say bitcoin will be the decad...</td>\n",
              "      <td>Mon, Nov 30th 2020</td>\n",
              "      <td>30</td>\n",
              "      <td>11</td>\n",
              "      <td>Markets</td>\n",
              "    </tr>\n",
              "    <tr>\n",
              "      <th>5</th>\n",
              "      <td>Stocks making the biggest moves premarket: Mod...</td>\n",
              "      <td>Mon, Nov 30th 2020</td>\n",
              "      <td>30</td>\n",
              "      <td>11</td>\n",
              "      <td>Market Insider</td>\n",
              "    </tr>\n",
              "    <tr>\n",
              "      <th>6</th>\n",
              "      <td>Huge November gains may make the usual year-en...</td>\n",
              "      <td>Mon, Nov 30th 2020</td>\n",
              "      <td>30</td>\n",
              "      <td>11</td>\n",
              "      <td>Trader Talk</td>\n",
              "    </tr>\n",
              "    <tr>\n",
              "      <th>7</th>\n",
              "      <td>Dow falls more than 200 points, but still post...</td>\n",
              "      <td>Mon, Nov 30th 2020</td>\n",
              "      <td>30</td>\n",
              "      <td>11</td>\n",
              "      <td>Markets</td>\n",
              "    </tr>\n",
              "    <tr>\n",
              "      <th>8</th>\n",
              "      <td>Market bull predicts holiday season surge will...</td>\n",
              "      <td>Sun, Nov 29th 2020</td>\n",
              "      <td>29</td>\n",
              "      <td>11</td>\n",
              "      <td>Trading Nation</td>\n",
              "    </tr>\n",
              "    <tr>\n",
              "      <th>9</th>\n",
              "      <td>Congress stalled on stimulus talks as millions...</td>\n",
              "      <td>Sat, Nov 28th 2020</td>\n",
              "      <td>28</td>\n",
              "      <td>11</td>\n",
              "      <td>Personal Finance</td>\n",
              "    </tr>\n",
              "    <tr>\n",
              "      <th>10</th>\n",
              "      <td>Stocks making the biggest moves midday: Amazon...</td>\n",
              "      <td>Fri, Nov 27th 2020</td>\n",
              "      <td>27</td>\n",
              "      <td>11</td>\n",
              "      <td>Market Insider</td>\n",
              "    </tr>\n",
              "    <tr>\n",
              "      <th>11</th>\n",
              "      <td>S&amp;P 500 closes at another record Friday, gains...</td>\n",
              "      <td>Fri, Nov 27th 2020</td>\n",
              "      <td>27</td>\n",
              "      <td>11</td>\n",
              "      <td>Markets</td>\n",
              "    </tr>\n",
              "    <tr>\n",
              "      <th>12</th>\n",
              "      <td>Stocks making the biggest moves in the premark...</td>\n",
              "      <td>Fri, Nov 27th 2020</td>\n",
              "      <td>27</td>\n",
              "      <td>11</td>\n",
              "      <td>Market Insider</td>\n",
              "    </tr>\n",
              "    <tr>\n",
              "      <th>13</th>\n",
              "      <td>Fed weighed adjusting bond purchases to help s...</td>\n",
              "      <td>Wed, Nov 25th 2020</td>\n",
              "      <td>25</td>\n",
              "      <td>11</td>\n",
              "      <td>Federal Reserve</td>\n",
              "    </tr>\n",
              "    <tr>\n",
              "      <th>14</th>\n",
              "      <td>Stocks making the biggest moves midday: Gap, S...</td>\n",
              "      <td>Wed, Nov 25th 2020</td>\n",
              "      <td>25</td>\n",
              "      <td>11</td>\n",
              "      <td>Market Insider</td>\n",
              "    </tr>\n",
              "    <tr>\n",
              "      <th>15</th>\n",
              "      <td>14 million workers face losing unemployment be...</td>\n",
              "      <td>Wed, Nov 25th 2020</td>\n",
              "      <td>25</td>\n",
              "      <td>11</td>\n",
              "      <td>Personal Finance</td>\n",
              "    </tr>\n",
              "    <tr>\n",
              "      <th>16</th>\n",
              "      <td>Goldman bankers are using flying drones to hel...</td>\n",
              "      <td>Wed, Nov 25th 2020</td>\n",
              "      <td>25</td>\n",
              "      <td>11</td>\n",
              "      <td>Finance</td>\n",
              "    </tr>\n",
              "    <tr>\n",
              "      <th>17</th>\n",
              "      <td>Stocks making the biggest moves in the premark...</td>\n",
              "      <td>Wed, Nov 25th 2020</td>\n",
              "      <td>25</td>\n",
              "      <td>11</td>\n",
              "      <td>Market Insider</td>\n",
              "    </tr>\n",
              "    <tr>\n",
              "      <th>18</th>\n",
              "      <td>Record market highs are justified despite viru...</td>\n",
              "      <td>Tue, Nov 24th 2020</td>\n",
              "      <td>24</td>\n",
              "      <td>11</td>\n",
              "      <td>Trading Nation</td>\n",
              "    </tr>\n",
              "    <tr>\n",
              "      <th>19</th>\n",
              "      <td>Dow pulls back more than 150 points after reac...</td>\n",
              "      <td>Wed, Nov 25th 2020</td>\n",
              "      <td>25</td>\n",
              "      <td>11</td>\n",
              "      <td>Markets</td>\n",
              "    </tr>\n",
              "    <tr>\n",
              "      <th>20</th>\n",
              "      <td>Stocks making the biggest moves after hours: G...</td>\n",
              "      <td>Tue, Nov 24th 2020</td>\n",
              "      <td>24</td>\n",
              "      <td>11</td>\n",
              "      <td>Market Insider</td>\n",
              "    </tr>\n",
              "    <tr>\n",
              "      <th>21</th>\n",
              "      <td>JPMorgan pays $250 million penalty over weak c...</td>\n",
              "      <td>Tue, Nov 24th 2020</td>\n",
              "      <td>24</td>\n",
              "      <td>11</td>\n",
              "      <td>Finance</td>\n",
              "    </tr>\n",
              "    <tr>\n",
              "      <th>22</th>\n",
              "      <td>Stocks making the biggest moves midday: Tesla,...</td>\n",
              "      <td>Tue, Nov 24th 2020</td>\n",
              "      <td>24</td>\n",
              "      <td>11</td>\n",
              "      <td>Market Insider</td>\n",
              "    </tr>\n",
              "    <tr>\n",
              "      <th>23</th>\n",
              "      <td>Square and PayPal may be new whales in crypto ...</td>\n",
              "      <td>Tue, Nov 24th 2020</td>\n",
              "      <td>24</td>\n",
              "      <td>11</td>\n",
              "      <td>Bitcoin</td>\n",
              "    </tr>\n",
              "    <tr>\n",
              "      <th>24</th>\n",
              "      <td>Stocks making the biggest moves in the premark...</td>\n",
              "      <td>Tue, Nov 24th 2020</td>\n",
              "      <td>24</td>\n",
              "      <td>11</td>\n",
              "      <td>Market Insider</td>\n",
              "    </tr>\n",
              "    <tr>\n",
              "      <th>25</th>\n",
              "      <td>This is the 'No. 1' thing preventing a dollar ...</td>\n",
              "      <td>Mon, Nov 23rd 2020</td>\n",
              "      <td>23</td>\n",
              "      <td>11</td>\n",
              "      <td>Trading Nation</td>\n",
              "    </tr>\n",
              "    <tr>\n",
              "      <th>26</th>\n",
              "      <td>Dow surges more than 400 points, closes above ...</td>\n",
              "      <td>Tue, Nov 24th 2020</td>\n",
              "      <td>24</td>\n",
              "      <td>11</td>\n",
              "      <td>Markets</td>\n",
              "    </tr>\n",
              "    <tr>\n",
              "      <th>27</th>\n",
              "      <td>You can get unemployment benefits if you're la...</td>\n",
              "      <td>Tue, Nov 24th 2020</td>\n",
              "      <td>24</td>\n",
              "      <td>11</td>\n",
              "      <td>Personal Finance</td>\n",
              "    </tr>\n",
              "    <tr>\n",
              "      <th>28</th>\n",
              "      <td>Ether, XRP and other 'altcoins' rally as bitco...</td>\n",
              "      <td>Mon, Nov 23rd 2020</td>\n",
              "      <td>23</td>\n",
              "      <td>11</td>\n",
              "      <td>Cryptocurrency</td>\n",
              "    </tr>\n",
              "    <tr>\n",
              "      <th>29</th>\n",
              "      <td>Stocks making the biggest moves midday: AstraZ...</td>\n",
              "      <td>Mon, Nov 23rd 2020</td>\n",
              "      <td>23</td>\n",
              "      <td>11</td>\n",
              "      <td>Market Insider</td>\n",
              "    </tr>\n",
              "    <tr>\n",
              "      <th>30</th>\n",
              "      <td>Stocks making the biggest moves in the premark...</td>\n",
              "      <td>Mon, Nov 23rd 2020</td>\n",
              "      <td>23</td>\n",
              "      <td>11</td>\n",
              "      <td>Market Insider</td>\n",
              "    </tr>\n",
              "    <tr>\n",
              "      <th>31</th>\n",
              "      <td>Five crypto bulls on what's next for bitcoin a...</td>\n",
              "      <td>Mon, Nov 23rd 2020</td>\n",
              "      <td>23</td>\n",
              "      <td>11</td>\n",
              "      <td>Cryptocurrency</td>\n",
              "    </tr>\n",
              "    <tr>\n",
              "      <th>32</th>\n",
              "      <td>IPO market in the U.S. and China to remain str...</td>\n",
              "      <td>Mon, Nov 23rd 2020</td>\n",
              "      <td>23</td>\n",
              "      <td>11</td>\n",
              "      <td>Tech</td>\n",
              "    </tr>\n",
              "  </tbody>\n",
              "</table>\n",
              "</div>"
            ],
            "text/plain": [
              "                                                Title  ...             Class\n",
              "0   Virus surge is leading to a double-dip recessi...  ...  Top News finance\n",
              "1   Tesla's stock will be added to the S&P 500 in ...  ...  Top News finance\n",
              "2   Stocks making the biggest moves after hours: Z...  ...  Top News finance\n",
              "3   Stocks making the biggest moves midday: Modern...  ...  Top News finance\n",
              "4   Winklevoss twins say bitcoin will be the decad...  ...           Markets\n",
              "5   Stocks making the biggest moves premarket: Mod...  ...    Market Insider\n",
              "6   Huge November gains may make the usual year-en...  ...       Trader Talk\n",
              "7   Dow falls more than 200 points, but still post...  ...           Markets\n",
              "8   Market bull predicts holiday season surge will...  ...    Trading Nation\n",
              "9   Congress stalled on stimulus talks as millions...  ...  Personal Finance\n",
              "10  Stocks making the biggest moves midday: Amazon...  ...    Market Insider\n",
              "11  S&P 500 closes at another record Friday, gains...  ...           Markets\n",
              "12  Stocks making the biggest moves in the premark...  ...    Market Insider\n",
              "13  Fed weighed adjusting bond purchases to help s...  ...   Federal Reserve\n",
              "14  Stocks making the biggest moves midday: Gap, S...  ...    Market Insider\n",
              "15  14 million workers face losing unemployment be...  ...  Personal Finance\n",
              "16  Goldman bankers are using flying drones to hel...  ...           Finance\n",
              "17  Stocks making the biggest moves in the premark...  ...    Market Insider\n",
              "18  Record market highs are justified despite viru...  ...    Trading Nation\n",
              "19  Dow pulls back more than 150 points after reac...  ...           Markets\n",
              "20  Stocks making the biggest moves after hours: G...  ...    Market Insider\n",
              "21  JPMorgan pays $250 million penalty over weak c...  ...           Finance\n",
              "22  Stocks making the biggest moves midday: Tesla,...  ...    Market Insider\n",
              "23  Square and PayPal may be new whales in crypto ...  ...           Bitcoin\n",
              "24  Stocks making the biggest moves in the premark...  ...    Market Insider\n",
              "25  This is the 'No. 1' thing preventing a dollar ...  ...    Trading Nation\n",
              "26  Dow surges more than 400 points, closes above ...  ...           Markets\n",
              "27  You can get unemployment benefits if you're la...  ...  Personal Finance\n",
              "28  Ether, XRP and other 'altcoins' rally as bitco...  ...    Cryptocurrency\n",
              "29  Stocks making the biggest moves midday: AstraZ...  ...    Market Insider\n",
              "30  Stocks making the biggest moves in the premark...  ...    Market Insider\n",
              "31  Five crypto bulls on what's next for bitcoin a...  ...    Cryptocurrency\n",
              "32  IPO market in the U.S. and China to remain str...  ...              Tech\n",
              "\n",
              "[33 rows x 5 columns]"
            ]
          },
          "metadata": {
            "tags": []
          },
          "execution_count": 29
        }
      ]
    },
    {
      "cell_type": "code",
      "metadata": {
        "colab": {
          "base_uri": "https://localhost:8080/",
          "height": 1000
        },
        "id": "j5OezDz2GM7U",
        "outputId": "d372d5be-51b2-466f-888c-c26b7ae33289"
      },
      "source": [
        "df_health"
      ],
      "execution_count": 30,
      "outputs": [
        {
          "output_type": "execute_result",
          "data": {
            "text/html": [
              "<div>\n",
              "<style scoped>\n",
              "    .dataframe tbody tr th:only-of-type {\n",
              "        vertical-align: middle;\n",
              "    }\n",
              "\n",
              "    .dataframe tbody tr th {\n",
              "        vertical-align: top;\n",
              "    }\n",
              "\n",
              "    .dataframe thead th {\n",
              "        text-align: right;\n",
              "    }\n",
              "</style>\n",
              "<table border=\"1\" class=\"dataframe\">\n",
              "  <thead>\n",
              "    <tr style=\"text-align: right;\">\n",
              "      <th></th>\n",
              "      <th>Title</th>\n",
              "      <th>Date</th>\n",
              "      <th>Day</th>\n",
              "      <th>Month</th>\n",
              "      <th>Class</th>\n",
              "    </tr>\n",
              "  </thead>\n",
              "  <tbody>\n",
              "    <tr>\n",
              "      <th>0</th>\n",
              "      <td>Biden Covid advisor 'relieved' about Dr. Scott...</td>\n",
              "      <td>Mon, Nov 30th 2020</td>\n",
              "      <td>30</td>\n",
              "      <td>11</td>\n",
              "      <td>Top News health-and-science</td>\n",
              "    </tr>\n",
              "    <tr>\n",
              "      <th>1</th>\n",
              "      <td>Controversial White House coronavirus advisor ...</td>\n",
              "      <td>Mon, Nov 30th 2020</td>\n",
              "      <td>30</td>\n",
              "      <td>11</td>\n",
              "      <td>Top News health-and-science</td>\n",
              "    </tr>\n",
              "    <tr>\n",
              "      <th>2</th>\n",
              "      <td>CEO of Montana hospital, which lost a doctor t...</td>\n",
              "      <td>Mon, Nov 30th 2020</td>\n",
              "      <td>30</td>\n",
              "      <td>11</td>\n",
              "      <td>Health and Science</td>\n",
              "    </tr>\n",
              "    <tr>\n",
              "      <th>3</th>\n",
              "      <td>NY implements emergency hospital measures as C...</td>\n",
              "      <td>Mon, Nov 30th 2020</td>\n",
              "      <td>30</td>\n",
              "      <td>11</td>\n",
              "      <td>Health and Science</td>\n",
              "    </tr>\n",
              "    <tr>\n",
              "      <th>4</th>\n",
              "      <td>First 'mass air shipment' of Pfizer's Covid va...</td>\n",
              "      <td>Mon, Nov 30th 2020</td>\n",
              "      <td>30</td>\n",
              "      <td>11</td>\n",
              "      <td>Airlines</td>\n",
              "    </tr>\n",
              "    <tr>\n",
              "      <th>5</th>\n",
              "      <td>Watch live: New York Gov. Andrew Cuomo holds a...</td>\n",
              "      <td>Mon, Nov 30th 2020</td>\n",
              "      <td>30</td>\n",
              "      <td>11</td>\n",
              "      <td>Health and Science</td>\n",
              "    </tr>\n",
              "    <tr>\n",
              "      <th>6</th>\n",
              "      <td>Watch live: WHO holds a press briefing on coro...</td>\n",
              "      <td>Mon, Nov 30th 2020</td>\n",
              "      <td>30</td>\n",
              "      <td>11</td>\n",
              "      <td>Health and Science</td>\n",
              "    </tr>\n",
              "    <tr>\n",
              "      <th>7</th>\n",
              "      <td>DeepMind solves 50-year-old ‘grand challenge’ ...</td>\n",
              "      <td>Mon, Nov 30th 2020</td>\n",
              "      <td>30</td>\n",
              "      <td>11</td>\n",
              "      <td>Tech</td>\n",
              "    </tr>\n",
              "    <tr>\n",
              "      <th>8</th>\n",
              "      <td>Thanksgiving air travel rises to pandemic high...</td>\n",
              "      <td>Mon, Nov 30th 2020</td>\n",
              "      <td>30</td>\n",
              "      <td>11</td>\n",
              "      <td>Airlines</td>\n",
              "    </tr>\n",
              "    <tr>\n",
              "      <th>9</th>\n",
              "      <td>Up to 30% of Americans may get Covid by year-e...</td>\n",
              "      <td>Mon, Nov 30th 2020</td>\n",
              "      <td>30</td>\n",
              "      <td>11</td>\n",
              "      <td>Health and Science</td>\n",
              "    </tr>\n",
              "    <tr>\n",
              "      <th>10</th>\n",
              "      <td>Experts see the 'most complex vaccination prog...</td>\n",
              "      <td>Mon, Nov 30th 2020</td>\n",
              "      <td>30</td>\n",
              "      <td>11</td>\n",
              "      <td>Coronavirus</td>\n",
              "    </tr>\n",
              "    <tr>\n",
              "      <th>11</th>\n",
              "      <td>Goldman Sachs predicts how quickly coronavirus...</td>\n",
              "      <td>Mon, Nov 30th 2020</td>\n",
              "      <td>30</td>\n",
              "      <td>11</td>\n",
              "      <td>Health and Science</td>\n",
              "    </tr>\n",
              "    <tr>\n",
              "      <th>12</th>\n",
              "      <td>Coronavirus updates: NY sets emergency hospita...</td>\n",
              "      <td>Mon, Nov 30th 2020</td>\n",
              "      <td>30</td>\n",
              "      <td>11</td>\n",
              "      <td>Health and Science</td>\n",
              "    </tr>\n",
              "    <tr>\n",
              "      <th>13</th>\n",
              "      <td>5 things to know before the stock market opens...</td>\n",
              "      <td>Mon, Nov 30th 2020</td>\n",
              "      <td>30</td>\n",
              "      <td>11</td>\n",
              "      <td>5 Things to Know</td>\n",
              "    </tr>\n",
              "    <tr>\n",
              "      <th>14</th>\n",
              "      <td>Moderna says Covid vaccine is 94% effective, p...</td>\n",
              "      <td>Mon, Nov 30th 2020</td>\n",
              "      <td>30</td>\n",
              "      <td>11</td>\n",
              "      <td>Health and Science</td>\n",
              "    </tr>\n",
              "    <tr>\n",
              "      <th>15</th>\n",
              "      <td>China's vaccines may have 'appeal' in developi...</td>\n",
              "      <td>Sun, Nov 29th 2020</td>\n",
              "      <td>29</td>\n",
              "      <td>11</td>\n",
              "      <td>Health and Science</td>\n",
              "    </tr>\n",
              "    <tr>\n",
              "      <th>16</th>\n",
              "      <td>White House health advisor Birx hopes to brief...</td>\n",
              "      <td>Sun, Nov 29th 2020</td>\n",
              "      <td>29</td>\n",
              "      <td>11</td>\n",
              "      <td>Politics</td>\n",
              "    </tr>\n",
              "    <tr>\n",
              "      <th>17</th>\n",
              "      <td>Fauci says Christmas and New Year’s restrictio...</td>\n",
              "      <td>Sun, Nov 29th 2020</td>\n",
              "      <td>29</td>\n",
              "      <td>11</td>\n",
              "      <td>Health and Science</td>\n",
              "    </tr>\n",
              "    <tr>\n",
              "      <th>18</th>\n",
              "      <td>Oxford, WHO scientists say more data needed on...</td>\n",
              "      <td>Fri, Nov 27th 2020</td>\n",
              "      <td>27</td>\n",
              "      <td>11</td>\n",
              "      <td>Health and Science</td>\n",
              "    </tr>\n",
              "    <tr>\n",
              "      <th>19</th>\n",
              "      <td>Long lines for Covid testing not going away so...</td>\n",
              "      <td>Fri, Nov 27th 2020</td>\n",
              "      <td>27</td>\n",
              "      <td>11</td>\n",
              "      <td>Health and Science</td>\n",
              "    </tr>\n",
              "    <tr>\n",
              "      <th>20</th>\n",
              "      <td>Watch live: World Health Organization holds a ...</td>\n",
              "      <td>Fri, Nov 27th 2020</td>\n",
              "      <td>27</td>\n",
              "      <td>11</td>\n",
              "      <td>Health and Science</td>\n",
              "    </tr>\n",
              "    <tr>\n",
              "      <th>21</th>\n",
              "      <td>Coronavirus updates: AstraZeneca CEO touts a n...</td>\n",
              "      <td>Mon, Nov 30th 2020</td>\n",
              "      <td>30</td>\n",
              "      <td>11</td>\n",
              "      <td>Health and Science</td>\n",
              "    </tr>\n",
              "    <tr>\n",
              "      <th>22</th>\n",
              "      <td>Britain tries to cool AstraZeneca concerns as ...</td>\n",
              "      <td>Fri, Nov 27th 2020</td>\n",
              "      <td>27</td>\n",
              "      <td>11</td>\n",
              "      <td>Health and Science</td>\n",
              "    </tr>\n",
              "    <tr>\n",
              "      <th>23</th>\n",
              "      <td>Singapore's co-developed vaccine candidate in ...</td>\n",
              "      <td>Thu, Nov 26th 2020</td>\n",
              "      <td>26</td>\n",
              "      <td>11</td>\n",
              "      <td>Health and Science</td>\n",
              "    </tr>\n",
              "    <tr>\n",
              "      <th>24</th>\n",
              "      <td>Coronavirus mutations do not appear to be help...</td>\n",
              "      <td>Fri, Nov 27th 2020</td>\n",
              "      <td>27</td>\n",
              "      <td>11</td>\n",
              "      <td>Health and Science</td>\n",
              "    </tr>\n",
              "    <tr>\n",
              "      <th>25</th>\n",
              "      <td>Deutsche Bank bullish about the 2021 economic ...</td>\n",
              "      <td>Thu, Nov 26th 2020</td>\n",
              "      <td>26</td>\n",
              "      <td>11</td>\n",
              "      <td>World Economy</td>\n",
              "    </tr>\n",
              "    <tr>\n",
              "      <th>26</th>\n",
              "      <td>AstraZeneca, Oxford defend Covid vaccine trial...</td>\n",
              "      <td>Thu, Nov 26th 2020</td>\n",
              "      <td>26</td>\n",
              "      <td>11</td>\n",
              "      <td>Health and Science</td>\n",
              "    </tr>\n",
              "    <tr>\n",
              "      <th>27</th>\n",
              "      <td>World’s largest medical glove maker becomes th...</td>\n",
              "      <td>Thu, Nov 26th 2020</td>\n",
              "      <td>26</td>\n",
              "      <td>11</td>\n",
              "      <td>Health and Science</td>\n",
              "    </tr>\n",
              "    <tr>\n",
              "      <th>28</th>\n",
              "      <td>No ski resorts or fireworks but lots of bubble...</td>\n",
              "      <td>Thu, Nov 26th 2020</td>\n",
              "      <td>26</td>\n",
              "      <td>11</td>\n",
              "      <td>Europe Politics</td>\n",
              "    </tr>\n",
              "    <tr>\n",
              "      <th>29</th>\n",
              "      <td>Supreme Court blocks New York from enforcing C...</td>\n",
              "      <td>Thu, Nov 26th 2020</td>\n",
              "      <td>26</td>\n",
              "      <td>11</td>\n",
              "      <td>Politics</td>\n",
              "    </tr>\n",
              "    <tr>\n",
              "      <th>30</th>\n",
              "      <td>‘We should be back to normal’ by summer 2021, ...</td>\n",
              "      <td>Wed, Nov 25th 2020</td>\n",
              "      <td>25</td>\n",
              "      <td>11</td>\n",
              "      <td>Health and Science</td>\n",
              "    </tr>\n",
              "  </tbody>\n",
              "</table>\n",
              "</div>"
            ],
            "text/plain": [
              "                                                Title  ...                        Class\n",
              "0   Biden Covid advisor 'relieved' about Dr. Scott...  ...  Top News health-and-science\n",
              "1   Controversial White House coronavirus advisor ...  ...  Top News health-and-science\n",
              "2   CEO of Montana hospital, which lost a doctor t...  ...           Health and Science\n",
              "3   NY implements emergency hospital measures as C...  ...           Health and Science\n",
              "4   First 'mass air shipment' of Pfizer's Covid va...  ...                     Airlines\n",
              "5   Watch live: New York Gov. Andrew Cuomo holds a...  ...           Health and Science\n",
              "6   Watch live: WHO holds a press briefing on coro...  ...           Health and Science\n",
              "7   DeepMind solves 50-year-old ‘grand challenge’ ...  ...                         Tech\n",
              "8   Thanksgiving air travel rises to pandemic high...  ...                     Airlines\n",
              "9   Up to 30% of Americans may get Covid by year-e...  ...           Health and Science\n",
              "10  Experts see the 'most complex vaccination prog...  ...                  Coronavirus\n",
              "11  Goldman Sachs predicts how quickly coronavirus...  ...           Health and Science\n",
              "12  Coronavirus updates: NY sets emergency hospita...  ...           Health and Science\n",
              "13  5 things to know before the stock market opens...  ...             5 Things to Know\n",
              "14  Moderna says Covid vaccine is 94% effective, p...  ...           Health and Science\n",
              "15  China's vaccines may have 'appeal' in developi...  ...           Health and Science\n",
              "16  White House health advisor Birx hopes to brief...  ...                     Politics\n",
              "17  Fauci says Christmas and New Year’s restrictio...  ...           Health and Science\n",
              "18  Oxford, WHO scientists say more data needed on...  ...           Health and Science\n",
              "19  Long lines for Covid testing not going away so...  ...           Health and Science\n",
              "20  Watch live: World Health Organization holds a ...  ...           Health and Science\n",
              "21  Coronavirus updates: AstraZeneca CEO touts a n...  ...           Health and Science\n",
              "22  Britain tries to cool AstraZeneca concerns as ...  ...           Health and Science\n",
              "23  Singapore's co-developed vaccine candidate in ...  ...           Health and Science\n",
              "24  Coronavirus mutations do not appear to be help...  ...           Health and Science\n",
              "25  Deutsche Bank bullish about the 2021 economic ...  ...                World Economy\n",
              "26  AstraZeneca, Oxford defend Covid vaccine trial...  ...           Health and Science\n",
              "27  World’s largest medical glove maker becomes th...  ...           Health and Science\n",
              "28  No ski resorts or fireworks but lots of bubble...  ...              Europe Politics\n",
              "29  Supreme Court blocks New York from enforcing C...  ...                     Politics\n",
              "30  ‘We should be back to normal’ by summer 2021, ...  ...           Health and Science\n",
              "\n",
              "[31 rows x 5 columns]"
            ]
          },
          "metadata": {
            "tags": []
          },
          "execution_count": 30
        }
      ]
    },
    {
      "cell_type": "markdown",
      "metadata": {
        "id": "rMvApZcsGeWD"
      },
      "source": [
        "**Some quick EDA**"
      ]
    },
    {
      "cell_type": "code",
      "metadata": {
        "colab": {
          "base_uri": "https://localhost:8080/"
        },
        "id": "x5cW3Aw0GhWh",
        "outputId": "312c00bf-e6f0-4ea6-ecbe-4e9a76e15dd1"
      },
      "source": [
        "df_finance.info()"
      ],
      "execution_count": 31,
      "outputs": [
        {
          "output_type": "stream",
          "text": [
            "<class 'pandas.core.frame.DataFrame'>\n",
            "RangeIndex: 33 entries, 0 to 32\n",
            "Data columns (total 5 columns):\n",
            " #   Column  Non-Null Count  Dtype \n",
            "---  ------  --------------  ----- \n",
            " 0   Title   33 non-null     object\n",
            " 1   Date    33 non-null     object\n",
            " 2   Day     33 non-null     int64 \n",
            " 3   Month   33 non-null     int64 \n",
            " 4   Class   33 non-null     object\n",
            "dtypes: int64(2), object(3)\n",
            "memory usage: 1.4+ KB\n"
          ],
          "name": "stdout"
        }
      ]
    },
    {
      "cell_type": "code",
      "metadata": {
        "colab": {
          "base_uri": "https://localhost:8080/",
          "height": 279
        },
        "id": "JYKgs1bxGlvD",
        "outputId": "b973ec9d-377b-4c94-ce40-5b41bdfe7b09"
      },
      "source": [
        "df_finance.head()"
      ],
      "execution_count": 32,
      "outputs": [
        {
          "output_type": "execute_result",
          "data": {
            "text/html": [
              "<div>\n",
              "<style scoped>\n",
              "    .dataframe tbody tr th:only-of-type {\n",
              "        vertical-align: middle;\n",
              "    }\n",
              "\n",
              "    .dataframe tbody tr th {\n",
              "        vertical-align: top;\n",
              "    }\n",
              "\n",
              "    .dataframe thead th {\n",
              "        text-align: right;\n",
              "    }\n",
              "</style>\n",
              "<table border=\"1\" class=\"dataframe\">\n",
              "  <thead>\n",
              "    <tr style=\"text-align: right;\">\n",
              "      <th></th>\n",
              "      <th>Title</th>\n",
              "      <th>Date</th>\n",
              "      <th>Day</th>\n",
              "      <th>Month</th>\n",
              "      <th>Class</th>\n",
              "    </tr>\n",
              "  </thead>\n",
              "  <tbody>\n",
              "    <tr>\n",
              "      <th>0</th>\n",
              "      <td>Virus surge is leading to a double-dip recessi...</td>\n",
              "      <td>Mon, Nov 30th 2020</td>\n",
              "      <td>30</td>\n",
              "      <td>11</td>\n",
              "      <td>Top News finance</td>\n",
              "    </tr>\n",
              "    <tr>\n",
              "      <th>1</th>\n",
              "      <td>Tesla's stock will be added to the S&amp;P 500 in ...</td>\n",
              "      <td>Mon, Nov 30th 2020</td>\n",
              "      <td>30</td>\n",
              "      <td>11</td>\n",
              "      <td>Top News finance</td>\n",
              "    </tr>\n",
              "    <tr>\n",
              "      <th>2</th>\n",
              "      <td>Stocks making the biggest moves after hours: Z...</td>\n",
              "      <td>Mon, Nov 30th 2020</td>\n",
              "      <td>30</td>\n",
              "      <td>11</td>\n",
              "      <td>Top News finance</td>\n",
              "    </tr>\n",
              "    <tr>\n",
              "      <th>3</th>\n",
              "      <td>Stocks making the biggest moves midday: Modern...</td>\n",
              "      <td>Mon, Nov 30th 2020</td>\n",
              "      <td>30</td>\n",
              "      <td>11</td>\n",
              "      <td>Top News finance</td>\n",
              "    </tr>\n",
              "    <tr>\n",
              "      <th>4</th>\n",
              "      <td>Winklevoss twins say bitcoin will be the decad...</td>\n",
              "      <td>Mon, Nov 30th 2020</td>\n",
              "      <td>30</td>\n",
              "      <td>11</td>\n",
              "      <td>Markets</td>\n",
              "    </tr>\n",
              "  </tbody>\n",
              "</table>\n",
              "</div>"
            ],
            "text/plain": [
              "                                               Title  ...             Class\n",
              "0  Virus surge is leading to a double-dip recessi...  ...  Top News finance\n",
              "1  Tesla's stock will be added to the S&P 500 in ...  ...  Top News finance\n",
              "2  Stocks making the biggest moves after hours: Z...  ...  Top News finance\n",
              "3  Stocks making the biggest moves midday: Modern...  ...  Top News finance\n",
              "4  Winklevoss twins say bitcoin will be the decad...  ...           Markets\n",
              "\n",
              "[5 rows x 5 columns]"
            ]
          },
          "metadata": {
            "tags": []
          },
          "execution_count": 32
        }
      ]
    },
    {
      "cell_type": "code",
      "metadata": {
        "colab": {
          "base_uri": "https://localhost:8080/"
        },
        "id": "e2dkWqGiGpBn",
        "outputId": "1f244aa4-84ed-4148-e445-a116a0c2e72f"
      },
      "source": [
        "df_top_news= df_finance[df_finance.Class == 'Top News finance']\n",
        "df_top_news.info()"
      ],
      "execution_count": 34,
      "outputs": [
        {
          "output_type": "stream",
          "text": [
            "<class 'pandas.core.frame.DataFrame'>\n",
            "Int64Index: 4 entries, 0 to 3\n",
            "Data columns (total 5 columns):\n",
            " #   Column  Non-Null Count  Dtype \n",
            "---  ------  --------------  ----- \n",
            " 0   Title   4 non-null      object\n",
            " 1   Date    4 non-null      object\n",
            " 2   Day     4 non-null      int64 \n",
            " 3   Month   4 non-null      int64 \n",
            " 4   Class   4 non-null      object\n",
            "dtypes: int64(2), object(3)\n",
            "memory usage: 192.0+ bytes\n"
          ],
          "name": "stdout"
        }
      ]
    },
    {
      "cell_type": "code",
      "metadata": {
        "colab": {
          "base_uri": "https://localhost:8080/",
          "height": 233
        },
        "id": "D_jMw4VSG0xy",
        "outputId": "ca33014d-315c-401d-ea8b-1fe7e1016172"
      },
      "source": [
        "df_top_news.sort_values('Day').head()"
      ],
      "execution_count": 35,
      "outputs": [
        {
          "output_type": "execute_result",
          "data": {
            "text/html": [
              "<div>\n",
              "<style scoped>\n",
              "    .dataframe tbody tr th:only-of-type {\n",
              "        vertical-align: middle;\n",
              "    }\n",
              "\n",
              "    .dataframe tbody tr th {\n",
              "        vertical-align: top;\n",
              "    }\n",
              "\n",
              "    .dataframe thead th {\n",
              "        text-align: right;\n",
              "    }\n",
              "</style>\n",
              "<table border=\"1\" class=\"dataframe\">\n",
              "  <thead>\n",
              "    <tr style=\"text-align: right;\">\n",
              "      <th></th>\n",
              "      <th>Title</th>\n",
              "      <th>Date</th>\n",
              "      <th>Day</th>\n",
              "      <th>Month</th>\n",
              "      <th>Class</th>\n",
              "    </tr>\n",
              "  </thead>\n",
              "  <tbody>\n",
              "    <tr>\n",
              "      <th>0</th>\n",
              "      <td>Virus surge is leading to a double-dip recessi...</td>\n",
              "      <td>Mon, Nov 30th 2020</td>\n",
              "      <td>30</td>\n",
              "      <td>11</td>\n",
              "      <td>Top News finance</td>\n",
              "    </tr>\n",
              "    <tr>\n",
              "      <th>1</th>\n",
              "      <td>Tesla's stock will be added to the S&amp;P 500 in ...</td>\n",
              "      <td>Mon, Nov 30th 2020</td>\n",
              "      <td>30</td>\n",
              "      <td>11</td>\n",
              "      <td>Top News finance</td>\n",
              "    </tr>\n",
              "    <tr>\n",
              "      <th>2</th>\n",
              "      <td>Stocks making the biggest moves after hours: Z...</td>\n",
              "      <td>Mon, Nov 30th 2020</td>\n",
              "      <td>30</td>\n",
              "      <td>11</td>\n",
              "      <td>Top News finance</td>\n",
              "    </tr>\n",
              "    <tr>\n",
              "      <th>3</th>\n",
              "      <td>Stocks making the biggest moves midday: Modern...</td>\n",
              "      <td>Mon, Nov 30th 2020</td>\n",
              "      <td>30</td>\n",
              "      <td>11</td>\n",
              "      <td>Top News finance</td>\n",
              "    </tr>\n",
              "  </tbody>\n",
              "</table>\n",
              "</div>"
            ],
            "text/plain": [
              "                                               Title  ...             Class\n",
              "0  Virus surge is leading to a double-dip recessi...  ...  Top News finance\n",
              "1  Tesla's stock will be added to the S&P 500 in ...  ...  Top News finance\n",
              "2  Stocks making the biggest moves after hours: Z...  ...  Top News finance\n",
              "3  Stocks making the biggest moves midday: Modern...  ...  Top News finance\n",
              "\n",
              "[4 rows x 5 columns]"
            ]
          },
          "metadata": {
            "tags": []
          },
          "execution_count": 35
        }
      ]
    },
    {
      "cell_type": "code",
      "metadata": {
        "colab": {
          "base_uri": "https://localhost:8080/",
          "height": 570
        },
        "id": "e69wUWI_G8XX",
        "outputId": "d0513d32-8813-4777-deab-f77dc6ea7dcb"
      },
      "source": [
        "df = pd.concat([df_finance, df_health], ignore_index = True)\n",
        "df"
      ],
      "execution_count": 36,
      "outputs": [
        {
          "output_type": "execute_result",
          "data": {
            "text/html": [
              "<div>\n",
              "<style scoped>\n",
              "    .dataframe tbody tr th:only-of-type {\n",
              "        vertical-align: middle;\n",
              "    }\n",
              "\n",
              "    .dataframe tbody tr th {\n",
              "        vertical-align: top;\n",
              "    }\n",
              "\n",
              "    .dataframe thead th {\n",
              "        text-align: right;\n",
              "    }\n",
              "</style>\n",
              "<table border=\"1\" class=\"dataframe\">\n",
              "  <thead>\n",
              "    <tr style=\"text-align: right;\">\n",
              "      <th></th>\n",
              "      <th>Title</th>\n",
              "      <th>Date</th>\n",
              "      <th>Day</th>\n",
              "      <th>Month</th>\n",
              "      <th>Class</th>\n",
              "    </tr>\n",
              "  </thead>\n",
              "  <tbody>\n",
              "    <tr>\n",
              "      <th>0</th>\n",
              "      <td>Virus surge is leading to a double-dip recessi...</td>\n",
              "      <td>Mon, Nov 30th 2020</td>\n",
              "      <td>30</td>\n",
              "      <td>11</td>\n",
              "      <td>Top News finance</td>\n",
              "    </tr>\n",
              "    <tr>\n",
              "      <th>1</th>\n",
              "      <td>Tesla's stock will be added to the S&amp;P 500 in ...</td>\n",
              "      <td>Mon, Nov 30th 2020</td>\n",
              "      <td>30</td>\n",
              "      <td>11</td>\n",
              "      <td>Top News finance</td>\n",
              "    </tr>\n",
              "    <tr>\n",
              "      <th>2</th>\n",
              "      <td>Stocks making the biggest moves after hours: Z...</td>\n",
              "      <td>Mon, Nov 30th 2020</td>\n",
              "      <td>30</td>\n",
              "      <td>11</td>\n",
              "      <td>Top News finance</td>\n",
              "    </tr>\n",
              "    <tr>\n",
              "      <th>3</th>\n",
              "      <td>Stocks making the biggest moves midday: Modern...</td>\n",
              "      <td>Mon, Nov 30th 2020</td>\n",
              "      <td>30</td>\n",
              "      <td>11</td>\n",
              "      <td>Top News finance</td>\n",
              "    </tr>\n",
              "    <tr>\n",
              "      <th>4</th>\n",
              "      <td>Winklevoss twins say bitcoin will be the decad...</td>\n",
              "      <td>Mon, Nov 30th 2020</td>\n",
              "      <td>30</td>\n",
              "      <td>11</td>\n",
              "      <td>Markets</td>\n",
              "    </tr>\n",
              "    <tr>\n",
              "      <th>...</th>\n",
              "      <td>...</td>\n",
              "      <td>...</td>\n",
              "      <td>...</td>\n",
              "      <td>...</td>\n",
              "      <td>...</td>\n",
              "    </tr>\n",
              "    <tr>\n",
              "      <th>59</th>\n",
              "      <td>AstraZeneca, Oxford defend Covid vaccine trial...</td>\n",
              "      <td>Thu, Nov 26th 2020</td>\n",
              "      <td>26</td>\n",
              "      <td>11</td>\n",
              "      <td>Health and Science</td>\n",
              "    </tr>\n",
              "    <tr>\n",
              "      <th>60</th>\n",
              "      <td>World’s largest medical glove maker becomes th...</td>\n",
              "      <td>Thu, Nov 26th 2020</td>\n",
              "      <td>26</td>\n",
              "      <td>11</td>\n",
              "      <td>Health and Science</td>\n",
              "    </tr>\n",
              "    <tr>\n",
              "      <th>61</th>\n",
              "      <td>No ski resorts or fireworks but lots of bubble...</td>\n",
              "      <td>Thu, Nov 26th 2020</td>\n",
              "      <td>26</td>\n",
              "      <td>11</td>\n",
              "      <td>Europe Politics</td>\n",
              "    </tr>\n",
              "    <tr>\n",
              "      <th>62</th>\n",
              "      <td>Supreme Court blocks New York from enforcing C...</td>\n",
              "      <td>Thu, Nov 26th 2020</td>\n",
              "      <td>26</td>\n",
              "      <td>11</td>\n",
              "      <td>Politics</td>\n",
              "    </tr>\n",
              "    <tr>\n",
              "      <th>63</th>\n",
              "      <td>‘We should be back to normal’ by summer 2021, ...</td>\n",
              "      <td>Wed, Nov 25th 2020</td>\n",
              "      <td>25</td>\n",
              "      <td>11</td>\n",
              "      <td>Health and Science</td>\n",
              "    </tr>\n",
              "  </tbody>\n",
              "</table>\n",
              "<p>64 rows × 5 columns</p>\n",
              "</div>"
            ],
            "text/plain": [
              "                                                Title  ...               Class\n",
              "0   Virus surge is leading to a double-dip recessi...  ...    Top News finance\n",
              "1   Tesla's stock will be added to the S&P 500 in ...  ...    Top News finance\n",
              "2   Stocks making the biggest moves after hours: Z...  ...    Top News finance\n",
              "3   Stocks making the biggest moves midday: Modern...  ...    Top News finance\n",
              "4   Winklevoss twins say bitcoin will be the decad...  ...             Markets\n",
              "..                                                ...  ...                 ...\n",
              "59  AstraZeneca, Oxford defend Covid vaccine trial...  ...  Health and Science\n",
              "60  World’s largest medical glove maker becomes th...  ...  Health and Science\n",
              "61  No ski resorts or fireworks but lots of bubble...  ...     Europe Politics\n",
              "62  Supreme Court blocks New York from enforcing C...  ...            Politics\n",
              "63  ‘We should be back to normal’ by summer 2021, ...  ...  Health and Science\n",
              "\n",
              "[64 rows x 5 columns]"
            ]
          },
          "metadata": {
            "tags": []
          },
          "execution_count": 36
        }
      ]
    },
    {
      "cell_type": "code",
      "metadata": {
        "id": "orAPwNbeHESD"
      },
      "source": [
        "df.to_csv('/content/sample_data/dataset_exercise3.csv', index = False)"
      ],
      "execution_count": 37,
      "outputs": []
    },
    {
      "cell_type": "code",
      "metadata": {
        "id": "bEKlWCLXHMKf"
      },
      "source": [
        "df = pd.read_csv('/content/sample_data/dataset_exercise3.csv')"
      ],
      "execution_count": 38,
      "outputs": []
    },
    {
      "cell_type": "code",
      "metadata": {
        "colab": {
          "base_uri": "https://localhost:8080/",
          "height": 570
        },
        "id": "x3qmJFZNHRTi",
        "outputId": "35751359-b2d0-40bf-d777-021e305ccbd8"
      },
      "source": [
        "df"
      ],
      "execution_count": 39,
      "outputs": [
        {
          "output_type": "execute_result",
          "data": {
            "text/html": [
              "<div>\n",
              "<style scoped>\n",
              "    .dataframe tbody tr th:only-of-type {\n",
              "        vertical-align: middle;\n",
              "    }\n",
              "\n",
              "    .dataframe tbody tr th {\n",
              "        vertical-align: top;\n",
              "    }\n",
              "\n",
              "    .dataframe thead th {\n",
              "        text-align: right;\n",
              "    }\n",
              "</style>\n",
              "<table border=\"1\" class=\"dataframe\">\n",
              "  <thead>\n",
              "    <tr style=\"text-align: right;\">\n",
              "      <th></th>\n",
              "      <th>Title</th>\n",
              "      <th>Date</th>\n",
              "      <th>Day</th>\n",
              "      <th>Month</th>\n",
              "      <th>Class</th>\n",
              "    </tr>\n",
              "  </thead>\n",
              "  <tbody>\n",
              "    <tr>\n",
              "      <th>0</th>\n",
              "      <td>Virus surge is leading to a double-dip recessi...</td>\n",
              "      <td>Mon, Nov 30th 2020</td>\n",
              "      <td>30</td>\n",
              "      <td>11</td>\n",
              "      <td>Top News finance</td>\n",
              "    </tr>\n",
              "    <tr>\n",
              "      <th>1</th>\n",
              "      <td>Tesla's stock will be added to the S&amp;P 500 in ...</td>\n",
              "      <td>Mon, Nov 30th 2020</td>\n",
              "      <td>30</td>\n",
              "      <td>11</td>\n",
              "      <td>Top News finance</td>\n",
              "    </tr>\n",
              "    <tr>\n",
              "      <th>2</th>\n",
              "      <td>Stocks making the biggest moves after hours: Z...</td>\n",
              "      <td>Mon, Nov 30th 2020</td>\n",
              "      <td>30</td>\n",
              "      <td>11</td>\n",
              "      <td>Top News finance</td>\n",
              "    </tr>\n",
              "    <tr>\n",
              "      <th>3</th>\n",
              "      <td>Stocks making the biggest moves midday: Modern...</td>\n",
              "      <td>Mon, Nov 30th 2020</td>\n",
              "      <td>30</td>\n",
              "      <td>11</td>\n",
              "      <td>Top News finance</td>\n",
              "    </tr>\n",
              "    <tr>\n",
              "      <th>4</th>\n",
              "      <td>Winklevoss twins say bitcoin will be the decad...</td>\n",
              "      <td>Mon, Nov 30th 2020</td>\n",
              "      <td>30</td>\n",
              "      <td>11</td>\n",
              "      <td>Markets</td>\n",
              "    </tr>\n",
              "    <tr>\n",
              "      <th>...</th>\n",
              "      <td>...</td>\n",
              "      <td>...</td>\n",
              "      <td>...</td>\n",
              "      <td>...</td>\n",
              "      <td>...</td>\n",
              "    </tr>\n",
              "    <tr>\n",
              "      <th>59</th>\n",
              "      <td>AstraZeneca, Oxford defend Covid vaccine trial...</td>\n",
              "      <td>Thu, Nov 26th 2020</td>\n",
              "      <td>26</td>\n",
              "      <td>11</td>\n",
              "      <td>Health and Science</td>\n",
              "    </tr>\n",
              "    <tr>\n",
              "      <th>60</th>\n",
              "      <td>World’s largest medical glove maker becomes th...</td>\n",
              "      <td>Thu, Nov 26th 2020</td>\n",
              "      <td>26</td>\n",
              "      <td>11</td>\n",
              "      <td>Health and Science</td>\n",
              "    </tr>\n",
              "    <tr>\n",
              "      <th>61</th>\n",
              "      <td>No ski resorts or fireworks but lots of bubble...</td>\n",
              "      <td>Thu, Nov 26th 2020</td>\n",
              "      <td>26</td>\n",
              "      <td>11</td>\n",
              "      <td>Europe Politics</td>\n",
              "    </tr>\n",
              "    <tr>\n",
              "      <th>62</th>\n",
              "      <td>Supreme Court blocks New York from enforcing C...</td>\n",
              "      <td>Thu, Nov 26th 2020</td>\n",
              "      <td>26</td>\n",
              "      <td>11</td>\n",
              "      <td>Politics</td>\n",
              "    </tr>\n",
              "    <tr>\n",
              "      <th>63</th>\n",
              "      <td>‘We should be back to normal’ by summer 2021, ...</td>\n",
              "      <td>Wed, Nov 25th 2020</td>\n",
              "      <td>25</td>\n",
              "      <td>11</td>\n",
              "      <td>Health and Science</td>\n",
              "    </tr>\n",
              "  </tbody>\n",
              "</table>\n",
              "<p>64 rows × 5 columns</p>\n",
              "</div>"
            ],
            "text/plain": [
              "                                                Title  ...               Class\n",
              "0   Virus surge is leading to a double-dip recessi...  ...    Top News finance\n",
              "1   Tesla's stock will be added to the S&P 500 in ...  ...    Top News finance\n",
              "2   Stocks making the biggest moves after hours: Z...  ...    Top News finance\n",
              "3   Stocks making the biggest moves midday: Modern...  ...    Top News finance\n",
              "4   Winklevoss twins say bitcoin will be the decad...  ...             Markets\n",
              "..                                                ...  ...                 ...\n",
              "59  AstraZeneca, Oxford defend Covid vaccine trial...  ...  Health and Science\n",
              "60  World’s largest medical glove maker becomes th...  ...  Health and Science\n",
              "61  No ski resorts or fireworks but lots of bubble...  ...     Europe Politics\n",
              "62  Supreme Court blocks New York from enforcing C...  ...            Politics\n",
              "63  ‘We should be back to normal’ by summer 2021, ...  ...  Health and Science\n",
              "\n",
              "[64 rows x 5 columns]"
            ]
          },
          "metadata": {
            "tags": []
          },
          "execution_count": 39
        }
      ]
    },
    {
      "cell_type": "markdown",
      "metadata": {
        "id": "5x9HperjHT78"
      },
      "source": [
        "**Continuius variables**"
      ]
    },
    {
      "cell_type": "code",
      "metadata": {
        "colab": {
          "base_uri": "https://localhost:8080/"
        },
        "id": "zlGXFjkoHW7x",
        "outputId": "cf10f258-1134-433d-f7c9-f83590145ea1"
      },
      "source": [
        "df_health.median()"
      ],
      "execution_count": 40,
      "outputs": [
        {
          "output_type": "execute_result",
          "data": {
            "text/plain": [
              "Day      30.0\n",
              "Month    11.0\n",
              "dtype: float64"
            ]
          },
          "metadata": {
            "tags": []
          },
          "execution_count": 40
        }
      ]
    },
    {
      "cell_type": "code",
      "metadata": {
        "colab": {
          "base_uri": "https://localhost:8080/"
        },
        "id": "zUosm-_KHa0w",
        "outputId": "779df921-5499-4b79-d79f-8ff3d1754fbd"
      },
      "source": [
        "df_health['Day'].median()"
      ],
      "execution_count": 41,
      "outputs": [
        {
          "output_type": "execute_result",
          "data": {
            "text/plain": [
              "30.0"
            ]
          },
          "metadata": {
            "tags": []
          },
          "execution_count": 41
        }
      ]
    },
    {
      "cell_type": "code",
      "metadata": {
        "colab": {
          "base_uri": "https://localhost:8080/"
        },
        "id": "xp0jmH3RHesw",
        "outputId": "04cdea41-140e-4025-93a5-8c03237e440e"
      },
      "source": [
        "df_finance.median()"
      ],
      "execution_count": 42,
      "outputs": [
        {
          "output_type": "execute_result",
          "data": {
            "text/plain": [
              "Day      25.0\n",
              "Month    11.0\n",
              "dtype: float64"
            ]
          },
          "metadata": {
            "tags": []
          },
          "execution_count": 42
        }
      ]
    },
    {
      "cell_type": "code",
      "metadata": {
        "colab": {
          "base_uri": "https://localhost:8080/"
        },
        "id": "izVztGCDHmoT",
        "outputId": "af683b05-1260-40d7-c93f-e89e7725aa68"
      },
      "source": [
        "df.median()"
      ],
      "execution_count": 44,
      "outputs": [
        {
          "output_type": "execute_result",
          "data": {
            "text/plain": [
              "Day      27.0\n",
              "Month    11.0\n",
              "dtype: float64"
            ]
          },
          "metadata": {
            "tags": []
          },
          "execution_count": 44
        }
      ]
    },
    {
      "cell_type": "code",
      "metadata": {
        "colab": {
          "base_uri": "https://localhost:8080/"
        },
        "id": "jCHT7KXqHn3t",
        "outputId": "d344a232-f3cc-48d0-9745-2fb4606bcf9f"
      },
      "source": [
        "df.std()"
      ],
      "execution_count": 45,
      "outputs": [
        {
          "output_type": "execute_result",
          "data": {
            "text/plain": [
              "Day      2.619704\n",
              "Month    0.000000\n",
              "dtype: float64"
            ]
          },
          "metadata": {
            "tags": []
          },
          "execution_count": 45
        }
      ]
    },
    {
      "cell_type": "code",
      "metadata": {
        "colab": {
          "base_uri": "https://localhost:8080/"
        },
        "id": "HueuqtDbHpp8",
        "outputId": "fc2c12bb-2ea3-438b-f657-ae6de0d24dab"
      },
      "source": [
        "df.min()"
      ],
      "execution_count": 46,
      "outputs": [
        {
          "output_type": "execute_result",
          "data": {
            "text/plain": [
              "Title    14 million workers face losing unemployment be...\n",
              "Date                                    Fri, Nov 27th 2020\n",
              "Day                                                     23\n",
              "Month                                                   11\n",
              "Class                                     5 Things to Know\n",
              "dtype: object"
            ]
          },
          "metadata": {
            "tags": []
          },
          "execution_count": 46
        }
      ]
    },
    {
      "cell_type": "code",
      "metadata": {
        "colab": {
          "base_uri": "https://localhost:8080/"
        },
        "id": "bRZ_oFViHudR",
        "outputId": "0434e330-705a-4ebd-faf8-f8c9c62f8d50"
      },
      "source": [
        "df.max()"
      ],
      "execution_count": 47,
      "outputs": [
        {
          "output_type": "execute_result",
          "data": {
            "text/plain": [
              "Title    ‘We should be back to normal’ by summer 2021, ...\n",
              "Date                                    Wed, Nov 25th 2020\n",
              "Day                                                     30\n",
              "Month                                                   11\n",
              "Class                                        World Economy\n",
              "dtype: object"
            ]
          },
          "metadata": {
            "tags": []
          },
          "execution_count": 47
        }
      ]
    },
    {
      "cell_type": "code",
      "metadata": {
        "colab": {
          "base_uri": "https://localhost:8080/",
          "height": 166
        },
        "id": "-GeWOpNjHxLt",
        "outputId": "77b726cd-cd23-485f-9502-a69d01fc8098"
      },
      "source": [
        "df.quantile([.1, .25, .5, .75], axis = 0)"
      ],
      "execution_count": 50,
      "outputs": [
        {
          "output_type": "execute_result",
          "data": {
            "text/html": [
              "<div>\n",
              "<style scoped>\n",
              "    .dataframe tbody tr th:only-of-type {\n",
              "        vertical-align: middle;\n",
              "    }\n",
              "\n",
              "    .dataframe tbody tr th {\n",
              "        vertical-align: top;\n",
              "    }\n",
              "\n",
              "    .dataframe thead th {\n",
              "        text-align: right;\n",
              "    }\n",
              "</style>\n",
              "<table border=\"1\" class=\"dataframe\">\n",
              "  <thead>\n",
              "    <tr style=\"text-align: right;\">\n",
              "      <th></th>\n",
              "      <th>Day</th>\n",
              "      <th>Month</th>\n",
              "    </tr>\n",
              "  </thead>\n",
              "  <tbody>\n",
              "    <tr>\n",
              "      <th>0.10</th>\n",
              "      <td>24.0</td>\n",
              "      <td>11.0</td>\n",
              "    </tr>\n",
              "    <tr>\n",
              "      <th>0.25</th>\n",
              "      <td>25.0</td>\n",
              "      <td>11.0</td>\n",
              "    </tr>\n",
              "    <tr>\n",
              "      <th>0.50</th>\n",
              "      <td>27.0</td>\n",
              "      <td>11.0</td>\n",
              "    </tr>\n",
              "    <tr>\n",
              "      <th>0.75</th>\n",
              "      <td>30.0</td>\n",
              "      <td>11.0</td>\n",
              "    </tr>\n",
              "  </tbody>\n",
              "</table>\n",
              "</div>"
            ],
            "text/plain": [
              "       Day  Month\n",
              "0.10  24.0   11.0\n",
              "0.25  25.0   11.0\n",
              "0.50  27.0   11.0\n",
              "0.75  30.0   11.0"
            ]
          },
          "metadata": {
            "tags": []
          },
          "execution_count": 50
        }
      ]
    },
    {
      "cell_type": "markdown",
      "metadata": {
        "id": "PMpXR9pvH81_"
      },
      "source": [
        "*Geometric Mean of the column in dataframe*"
      ]
    },
    {
      "cell_type": "code",
      "metadata": {
        "colab": {
          "base_uri": "https://localhost:8080/"
        },
        "id": "nxBMT6y8H_kE",
        "outputId": "320f1dcd-e962-48a5-d4bd-874ebc3efc38"
      },
      "source": [
        "from scipy import stats   # NumPy contains array data and basic operations such as sorting, indexing, etc whereas, SciPy consists of all the numerical code\n",
        "\n",
        "stats.gmean(df.iloc[:,2:4], axis = 0)"
      ],
      "execution_count": 52,
      "outputs": [
        {
          "output_type": "execute_result",
          "data": {
            "text/plain": [
              "array([27.07662248, 11.        ])"
            ]
          },
          "metadata": {
            "tags": []
          },
          "execution_count": 52
        }
      ]
    },
    {
      "cell_type": "markdown",
      "metadata": {
        "id": "MbaIpyR9IW-e"
      },
      "source": [
        "**Categorical variables**"
      ]
    },
    {
      "cell_type": "code",
      "metadata": {
        "colab": {
          "base_uri": "https://localhost:8080/"
        },
        "id": "-7KBa11bIaN2",
        "outputId": "90cfa8c2-5e32-4ee6-94d3-1ccc11d6b351"
      },
      "source": [
        "df_finance.Class.value_counts()"
      ],
      "execution_count": 53,
      "outputs": [
        {
          "output_type": "execute_result",
          "data": {
            "text/plain": [
              "Market Insider      10\n",
              "Markets              5\n",
              "Top News finance     4\n",
              "Trading Nation       3\n",
              "Personal Finance     3\n",
              "Cryptocurrency       2\n",
              "Finance              2\n",
              "Bitcoin              1\n",
              "Trader Talk          1\n",
              "Tech                 1\n",
              "Federal Reserve      1\n",
              "Name: Class, dtype: int64"
            ]
          },
          "metadata": {
            "tags": []
          },
          "execution_count": 53
        }
      ]
    },
    {
      "cell_type": "code",
      "metadata": {
        "colab": {
          "base_uri": "https://localhost:8080/"
        },
        "id": "rQ35jsixIeRA",
        "outputId": "5715dda4-f559-4554-a3f0-9574679a3720"
      },
      "source": [
        "df_health.Class.value_counts()"
      ],
      "execution_count": 54,
      "outputs": [
        {
          "output_type": "execute_result",
          "data": {
            "text/plain": [
              "Health and Science             20\n",
              "Airlines                        2\n",
              "Politics                        2\n",
              "Top News health-and-science     2\n",
              "5 Things to Know                1\n",
              "Europe Politics                 1\n",
              "Coronavirus                     1\n",
              "World Economy                   1\n",
              "Tech                            1\n",
              "Name: Class, dtype: int64"
            ]
          },
          "metadata": {
            "tags": []
          },
          "execution_count": 54
        }
      ]
    },
    {
      "cell_type": "code",
      "metadata": {
        "colab": {
          "base_uri": "https://localhost:8080/"
        },
        "id": "RuZpXW7FIicD",
        "outputId": "640b4ad6-dbe7-4282-cd8a-fd6d6c3da4e2"
      },
      "source": [
        "df.Class.value_counts()"
      ],
      "execution_count": 55,
      "outputs": [
        {
          "output_type": "execute_result",
          "data": {
            "text/plain": [
              "Health and Science             20\n",
              "Market Insider                 10\n",
              "Markets                         5\n",
              "Top News finance                4\n",
              "Personal Finance                3\n",
              "Trading Nation                  3\n",
              "Politics                        2\n",
              "Tech                            2\n",
              "Top News health-and-science     2\n",
              "Airlines                        2\n",
              "Cryptocurrency                  2\n",
              "Finance                         2\n",
              "Coronavirus                     1\n",
              "5 Things to Know                1\n",
              "Federal Reserve                 1\n",
              "Bitcoin                         1\n",
              "Trader Talk                     1\n",
              "World Economy                   1\n",
              "Europe Politics                 1\n",
              "Name: Class, dtype: int64"
            ]
          },
          "metadata": {
            "tags": []
          },
          "execution_count": 55
        }
      ]
    },
    {
      "cell_type": "markdown",
      "metadata": {
        "id": "kM3HDoLPInlE"
      },
      "source": [
        "**Data Visualization**"
      ]
    },
    {
      "cell_type": "code",
      "metadata": {
        "id": "T4otwggCIp_B"
      },
      "source": [
        "# Import all modules that are required\n",
        "%matplotlib inline\n",
        "import matplotlib.pyplot as plt   # Each pyplot function makes some change to a figure: e.g., creates a figure, creates a plotting area in a figure, plots some lines in a plotting area, decorates the plot with labels, etc."
      ],
      "execution_count": 57,
      "outputs": []
    },
    {
      "cell_type": "code",
      "metadata": {
        "colab": {
          "base_uri": "https://localhost:8080/",
          "height": 434
        },
        "id": "HLnVUtopI_2b",
        "outputId": "635f5252-44f3-46a7-dcfe-239f27d5ca6c"
      },
      "source": [
        "df['Class'].hist()\n",
        "plt.xticks(rotation = 90)"
      ],
      "execution_count": 64,
      "outputs": [
        {
          "output_type": "execute_result",
          "data": {
            "text/plain": [
              "([0, 1, 2, 3, 4, 5, 6, 7, 8, 9, 10, 11, 12, 13, 14, 15, 16, 17, 18],\n",
              " <a list of 19 Text major ticklabel objects>)"
            ]
          },
          "metadata": {
            "tags": []
          },
          "execution_count": 64
        },
        {
          "output_type": "display_data",
          "data": {
            "image/png": "[encoded data removed]",
            "text/plain": [
              "<Figure size 432x288 with 1 Axes>"
            ]
          },
          "metadata": {
            "tags": [],
            "needs_background": "light"
          }
        }
      ]
    },
    {
      "cell_type": "code",
      "metadata": {
        "colab": {
          "base_uri": "https://localhost:8080/",
          "height": 331
        },
        "id": "LA1jNsfBJPsE",
        "outputId": "8c1a8808-6da5-49b3-b951-398328be9a93"
      },
      "source": [
        "df.hist(bins = 5)"
      ],
      "execution_count": 65,
      "outputs": [
        {
          "output_type": "execute_result",
          "data": {
            "text/plain": [
              "array([[<matplotlib.axes._subplots.AxesSubplot object at 0x7fe59fa77d68>,\n",
              "        <matplotlib.axes._subplots.AxesSubplot object at 0x7fe59fa31b00>]],\n",
              "      dtype=object)"
            ]
          },
          "metadata": {
            "tags": []
          },
          "execution_count": 65
        },
        {
          "output_type": "display_data",
          "data": {
            "image/png": "[encoded data removed]",
            "text/plain": [
              "<Figure size 432x288 with 2 Axes>"
            ]
          },
          "metadata": {
            "tags": [],
            "needs_background": "light"
          }
        }
      ]
    },
    {
      "cell_type": "code",
      "metadata": {
        "colab": {
          "base_uri": "https://localhost:8080/",
          "height": 103
        },
        "id": "7s0Nnu9JJUIA",
        "outputId": "565ccc8b-6a1d-42e7-e005-b63b9be5892b"
      },
      "source": [
        "fig = plt.figure()\n",
        "df.plot.bar(rot = 0, figsize = (50, 5))\n",
        "fig.show()"
      ],
      "execution_count": 70,
      "outputs": [
        {
          "output_type": "display_data",
          "data": {
            "text/plain": [
              "<Figure size 432x288 with 0 Axes>"
            ]
          },
          "metadata": {
            "tags": []
          }
        },
        {
          "output_type": "display_data",
          "data": {
            "image/png": "[encoded data removed]",
            "text/plain": [
              "<Figure size 3600x360 with 1 Axes>"
            ]
          },
          "metadata": {
            "tags": [],
            "needs_background": "light"
          }
        }
      ]
    },
    {
      "cell_type": "code",
      "metadata": {
        "colab": {
          "base_uri": "https://localhost:8080/",
          "height": 103
        },
        "id": "YnDPRUzRJlqn",
        "outputId": "d848dffb-1e3d-433c-af3a-6f88dc6edd6f"
      },
      "source": [
        "df.plot.bar(stacked = True, figsize = (50, 5))"
      ],
      "execution_count": 71,
      "outputs": [
        {
          "output_type": "execute_result",
          "data": {
            "text/plain": [
              "<matplotlib.axes._subplots.AxesSubplot at 0x7fe59f544518>"
            ]
          },
          "metadata": {
            "tags": []
          },
          "execution_count": 71
        },
        {
          "output_type": "display_data",
          "data": {
            "image/png": "[encoded data removed]",
            "text/plain": [
              "<Figure size 3600x360 with 1 Axes>"
            ]
          },
          "metadata": {
            "tags": [],
            "needs_background": "light"
          }
        }
      ]
    },
    {
      "cell_type": "code",
      "metadata": {
        "colab": {
          "base_uri": "https://localhost:8080/",
          "height": 106
        },
        "id": "A_uJ1d1xJp-o",
        "outputId": "a9493636-f7b8-4b5f-be37-a117f4022196"
      },
      "source": [
        "axes = df.plot.bar(rot = 0, subplots = True, figsize = (50, 5))   # subplots = True indicates that there will be two subplots\n",
        "axes[1].legend(loc = 2)   # the legend is placed upper left"
      ],
      "execution_count": 78,
      "outputs": [
        {
          "output_type": "execute_result",
          "data": {
            "text/plain": [
              "<matplotlib.legend.Legend at 0x7fe59e6e6be0>"
            ]
          },
          "metadata": {
            "tags": []
          },
          "execution_count": 78
        },
        {
          "output_type": "display_data",
          "data": {
            "image/png": "[encoded data removed]",
            "text/plain": [
              "<Figure size 3600x360 with 2 Axes>"
            ]
          },
          "metadata": {
            "tags": [],
            "needs_background": "light"
          }
        }
      ]
    },
    {
      "cell_type": "markdown",
      "metadata": {
        "id": "7P_M_ZcbK61H"
      },
      "source": [
        "**Show Trend over Time**"
      ]
    },
    {
      "cell_type": "code",
      "metadata": {
        "colab": {
          "base_uri": "https://localhost:8080/",
          "height": 282
        },
        "id": "gh3biugJK9mP",
        "outputId": "517a7a57-2048-498e-c606-cb0231b68f72"
      },
      "source": [
        "df.plot.area()"
      ],
      "execution_count": 79,
      "outputs": [
        {
          "output_type": "execute_result",
          "data": {
            "text/plain": [
              "<matplotlib.axes._subplots.AxesSubplot at 0x7fe59f53a080>"
            ]
          },
          "metadata": {
            "tags": []
          },
          "execution_count": 79
        },
        {
          "output_type": "display_data",
          "data": {
            "image/png": "[encoded data removed]",
            "text/plain": [
              "<Figure size 432x288 with 1 Axes>"
            ]
          },
          "metadata": {
            "tags": [],
            "needs_background": "light"
          }
        }
      ]
    },
    {
      "cell_type": "markdown",
      "metadata": {
        "id": "RRYau7LuLBEW"
      },
      "source": [
        "**Relationship**"
      ]
    },
    {
      "cell_type": "code",
      "metadata": {
        "colab": {
          "base_uri": "https://localhost:8080/",
          "height": 466
        },
        "id": "6pq1GQOuLCig",
        "outputId": "836f3cb6-347b-4660-cc70-edd055b94a87"
      },
      "source": [
        "fig = plt.figure()\n",
        "df.plot.scatter(x = 'Class', y = 'Date', alpha = 0.75, rot = 0)\n",
        "plt.xticks(rotation = 90)"
      ],
      "execution_count": 94,
      "outputs": [
        {
          "output_type": "execute_result",
          "data": {
            "text/plain": [
              "([0, 1, 2, 3, 4, 5, 6, 7, 8, 9, 10, 11, 12, 13, 14, 15, 16, 17, 18],\n",
              " <a list of 19 Text major ticklabel objects>)"
            ]
          },
          "metadata": {
            "tags": []
          },
          "execution_count": 94
        },
        {
          "output_type": "display_data",
          "data": {
            "text/plain": [
              "<Figure size 432x288 with 0 Axes>"
            ]
          },
          "metadata": {
            "tags": []
          }
        },
        {
          "output_type": "display_data",
          "data": {
            "image/png": "[encoded data removed]",
            "text/plain": [
              "<Figure size 432x288 with 1 Axes>"
            ]
          },
          "metadata": {
            "tags": [],
            "needs_background": "light"
          }
        }
      ]
    },
    {
      "cell_type": "code",
      "metadata": {
        "colab": {
          "base_uri": "https://localhost:8080/",
          "height": 727
        },
        "id": "vAk3uJhIMLse",
        "outputId": "008d5bdd-1545-4c52-f470-61d917ab41b9"
      },
      "source": [
        "# Import all modules that are required\n",
        "%matplotlib inline\n",
        "import matplotlib.pyplot as plt\n",
        "\n",
        "\n",
        "plt.figure(figsize=[10,10])\n",
        "plt.plot(df.groupby('Class').Day.sum(),  '-ob', linewidth='2', alpha = 0.75)\n",
        "plt.xticks(rotation=90)\n",
        "plt.show()"
      ],
      "execution_count": 95,
      "outputs": [
        {
          "output_type": "display_data",
          "data": {
            "image/png": "[encoded data removed]",
            "text/plain": [
              "<Figure size 720x720 with 1 Axes>"
            ]
          },
          "metadata": {
            "tags": [],
            "needs_background": "light"
          }
        }
      ]
    },
    {
      "cell_type": "markdown",
      "metadata": {
        "id": "SdpmotYJMOy1"
      },
      "source": [
        "**Comparison**"
      ]
    },
    {
      "cell_type": "code",
      "metadata": {
        "colab": {
          "base_uri": "https://localhost:8080/",
          "height": 282
        },
        "id": "QFXQgfC1MP0-",
        "outputId": "3c76efe7-a93c-4ede-ad74-df464a2a2eca"
      },
      "source": [
        "df['Day'].hist()\n",
        "df['Month'].hist()"
      ],
      "execution_count": 96,
      "outputs": [
        {
          "output_type": "execute_result",
          "data": {
            "text/plain": [
              "<matplotlib.axes._subplots.AxesSubplot at 0x7fe59c6792b0>"
            ]
          },
          "metadata": {
            "tags": []
          },
          "execution_count": 96
        },
        {
          "output_type": "display_data",
          "data": {
            "image/png": "[encoded data removed]",
            "text/plain": [
              "<Figure size 432x288 with 1 Axes>"
            ]
          },
          "metadata": {
            "tags": [],
            "needs_background": "light"
          }
        }
      ]
    },
    {
      "cell_type": "code",
      "metadata": {
        "colab": {
          "base_uri": "https://localhost:8080/",
          "height": 279
        },
        "id": "bCvTWEXQMU5t",
        "outputId": "ed0b01ae-6ff5-40f4-ab4e-625035fc6365"
      },
      "source": [
        "import seaborn as sns   # provides a high-level interface for drawing attractive and informative statistical graphics\n",
        "line_up = sns.distplot(df['Day'], bins = 3, kde = True, rug = True, label = 'Day')\n",
        "line_down=sns.distplot(df['Month'], bins=3, kde=True, rug=True,label = 'Month')"
      ],
      "execution_count": 99,
      "outputs": [
        {
          "output_type": "display_data",
          "data": {
            "image/png": "[encoded data removed]",
            "text/plain": [
              "<Figure size 432x288 with 1 Axes>"
            ]
          },
          "metadata": {
            "tags": [],
            "needs_background": "light"
          }
        }
      ]
    },
    {
      "cell_type": "code",
      "metadata": {
        "colab": {
          "base_uri": "https://localhost:8080/",
          "height": 279
        },
        "id": "LH-iONhaNZVM",
        "outputId": "e7442e7c-c72f-4df4-ffc7-6ae5bfa249bf"
      },
      "source": [
        "import seaborn as sns\n",
        "line_up = sns.distplot(df['Day'], bins = 3, kde = False, rug = True, label = 'Day')\n",
        "line_down = sns.distplot(df['Month'], bins = 3, kde = False, rug = True, label = 'Month')"
      ],
      "execution_count": 100,
      "outputs": [
        {
          "output_type": "display_data",
          "data": {
            "image/png": "[encoded data removed]",
            "text/plain": [
              "<Figure size 432x288 with 1 Axes>"
            ]
          },
          "metadata": {
            "tags": [],
            "needs_background": "light"
          }
        }
      ]
    },
    {
      "cell_type": "code",
      "metadata": {
        "colab": {
          "base_uri": "https://localhost:8080/",
          "height": 265
        },
        "id": "EOy5LJLjNpI_",
        "outputId": "b761eb42-3e17-4cb1-e0b0-c7594f8b6fb9"
      },
      "source": [
        "boxplot = df.boxplot(column=['Day', 'Month'])"
      ],
      "execution_count": 102,
      "outputs": [
        {
          "output_type": "display_data",
          "data": {
            "image/png": "[encoded data removed]",
            "text/plain": [
              "<Figure size 432x288 with 1 Axes>"
            ]
          },
          "metadata": {
            "tags": [],
            "needs_background": "light"
          }
        }
      ]
    },
    {
      "cell_type": "markdown",
      "metadata": {
        "id": "T18SM8O_Ny3E"
      },
      "source": [
        "**Kaggle dataset visualization**"
      ]
    },
    {
      "cell_type": "markdown",
      "metadata": {
        "id": "M4dtYfk8N5Da"
      },
      "source": [
        "*Add the files on your Google Drive or change the path for the training and testing dataset*"
      ]
    },
    {
      "cell_type": "code",
      "metadata": {
        "id": "ptdXUeYrN__v"
      },
      "source": [
        "train = pd.read_csv('/content/drive/MyDrive/train_data.csv')\n",
        "test = pd.read_csv('/content/drive/MyDrive/test_data.csv')\n",
        "train = train.drop(['case_id'], axis = 1)\n",
        "test = test.drop(['case_id'], axis = 1)\n",
        "train['dataset'] = 'train'\n",
        "test['dataset'] = 'test'\n",
        "df = pd.concat([train, test])"
      ],
      "execution_count": 103,
      "outputs": []
    },
    {
      "cell_type": "code",
      "metadata": {
        "colab": {
          "base_uri": "https://localhost:8080/",
          "height": 640
        },
        "id": "ATDC9392O1E1",
        "outputId": "b46c69f8-a3a0-4b9f-fa04-e977259910dd"
      },
      "source": [
        "df"
      ],
      "execution_count": 104,
      "outputs": [
        {
          "output_type": "execute_result",
          "data": {
            "text/html": [
              "<div>\n",
              "<style scoped>\n",
              "    .dataframe tbody tr th:only-of-type {\n",
              "        vertical-align: middle;\n",
              "    }\n",
              "\n",
              "    .dataframe tbody tr th {\n",
              "        vertical-align: top;\n",
              "    }\n",
              "\n",
              "    .dataframe thead th {\n",
              "        text-align: right;\n",
              "    }\n",
              "</style>\n",
              "<table border=\"1\" class=\"dataframe\">\n",
              "  <thead>\n",
              "    <tr style=\"text-align: right;\">\n",
              "      <th></th>\n",
              "      <th>Hospital_code</th>\n",
              "      <th>Hospital_type_code</th>\n",
              "      <th>City_Code_Hospital</th>\n",
              "      <th>Hospital_region_code</th>\n",
              "      <th>Available Extra Rooms in Hospital</th>\n",
              "      <th>Department</th>\n",
              "      <th>Ward_Type</th>\n",
              "      <th>Ward_Facility_Code</th>\n",
              "      <th>Bed Grade</th>\n",
              "      <th>patientid</th>\n",
              "      <th>City_Code_Patient</th>\n",
              "      <th>Type of Admission</th>\n",
              "      <th>Severity of Illness</th>\n",
              "      <th>Visitors with Patient</th>\n",
              "      <th>Age</th>\n",
              "      <th>Admission_Deposit</th>\n",
              "      <th>Stay</th>\n",
              "      <th>dataset</th>\n",
              "    </tr>\n",
              "  </thead>\n",
              "  <tbody>\n",
              "    <tr>\n",
              "      <th>0</th>\n",
              "      <td>8</td>\n",
              "      <td>c</td>\n",
              "      <td>3</td>\n",
              "      <td>Z</td>\n",
              "      <td>3</td>\n",
              "      <td>radiotherapy</td>\n",
              "      <td>R</td>\n",
              "      <td>F</td>\n",
              "      <td>2.0</td>\n",
              "      <td>31397</td>\n",
              "      <td>7.0</td>\n",
              "      <td>Emergency</td>\n",
              "      <td>Extreme</td>\n",
              "      <td>2</td>\n",
              "      <td>51-60</td>\n",
              "      <td>4911.0</td>\n",
              "      <td>0-10</td>\n",
              "      <td>train</td>\n",
              "    </tr>\n",
              "    <tr>\n",
              "      <th>1</th>\n",
              "      <td>2</td>\n",
              "      <td>c</td>\n",
              "      <td>5</td>\n",
              "      <td>Z</td>\n",
              "      <td>2</td>\n",
              "      <td>radiotherapy</td>\n",
              "      <td>S</td>\n",
              "      <td>F</td>\n",
              "      <td>2.0</td>\n",
              "      <td>31397</td>\n",
              "      <td>7.0</td>\n",
              "      <td>Trauma</td>\n",
              "      <td>Extreme</td>\n",
              "      <td>2</td>\n",
              "      <td>51-60</td>\n",
              "      <td>5954.0</td>\n",
              "      <td>41-50</td>\n",
              "      <td>train</td>\n",
              "    </tr>\n",
              "    <tr>\n",
              "      <th>2</th>\n",
              "      <td>10</td>\n",
              "      <td>e</td>\n",
              "      <td>1</td>\n",
              "      <td>X</td>\n",
              "      <td>2</td>\n",
              "      <td>anesthesia</td>\n",
              "      <td>S</td>\n",
              "      <td>E</td>\n",
              "      <td>2.0</td>\n",
              "      <td>31397</td>\n",
              "      <td>7.0</td>\n",
              "      <td>Trauma</td>\n",
              "      <td>Extreme</td>\n",
              "      <td>2</td>\n",
              "      <td>51-60</td>\n",
              "      <td>4745.0</td>\n",
              "      <td>31-40</td>\n",
              "      <td>train</td>\n",
              "    </tr>\n",
              "    <tr>\n",
              "      <th>3</th>\n",
              "      <td>26</td>\n",
              "      <td>b</td>\n",
              "      <td>2</td>\n",
              "      <td>Y</td>\n",
              "      <td>2</td>\n",
              "      <td>radiotherapy</td>\n",
              "      <td>R</td>\n",
              "      <td>D</td>\n",
              "      <td>2.0</td>\n",
              "      <td>31397</td>\n",
              "      <td>7.0</td>\n",
              "      <td>Trauma</td>\n",
              "      <td>Extreme</td>\n",
              "      <td>2</td>\n",
              "      <td>51-60</td>\n",
              "      <td>7272.0</td>\n",
              "      <td>41-50</td>\n",
              "      <td>train</td>\n",
              "    </tr>\n",
              "    <tr>\n",
              "      <th>4</th>\n",
              "      <td>26</td>\n",
              "      <td>b</td>\n",
              "      <td>2</td>\n",
              "      <td>Y</td>\n",
              "      <td>2</td>\n",
              "      <td>radiotherapy</td>\n",
              "      <td>S</td>\n",
              "      <td>D</td>\n",
              "      <td>2.0</td>\n",
              "      <td>31397</td>\n",
              "      <td>7.0</td>\n",
              "      <td>Trauma</td>\n",
              "      <td>Extreme</td>\n",
              "      <td>2</td>\n",
              "      <td>51-60</td>\n",
              "      <td>5558.0</td>\n",
              "      <td>41-50</td>\n",
              "      <td>train</td>\n",
              "    </tr>\n",
              "    <tr>\n",
              "      <th>...</th>\n",
              "      <td>...</td>\n",
              "      <td>...</td>\n",
              "      <td>...</td>\n",
              "      <td>...</td>\n",
              "      <td>...</td>\n",
              "      <td>...</td>\n",
              "      <td>...</td>\n",
              "      <td>...</td>\n",
              "      <td>...</td>\n",
              "      <td>...</td>\n",
              "      <td>...</td>\n",
              "      <td>...</td>\n",
              "      <td>...</td>\n",
              "      <td>...</td>\n",
              "      <td>...</td>\n",
              "      <td>...</td>\n",
              "      <td>...</td>\n",
              "      <td>...</td>\n",
              "    </tr>\n",
              "    <tr>\n",
              "      <th>137052</th>\n",
              "      <td>11</td>\n",
              "      <td>b</td>\n",
              "      <td>2</td>\n",
              "      <td>Y</td>\n",
              "      <td>4</td>\n",
              "      <td>anesthesia</td>\n",
              "      <td>Q</td>\n",
              "      <td>D</td>\n",
              "      <td>3.0</td>\n",
              "      <td>41160</td>\n",
              "      <td>3.0</td>\n",
              "      <td>Emergency</td>\n",
              "      <td>Minor</td>\n",
              "      <td>4</td>\n",
              "      <td>41-50</td>\n",
              "      <td>6313.0</td>\n",
              "      <td>NaN</td>\n",
              "      <td>test</td>\n",
              "    </tr>\n",
              "    <tr>\n",
              "      <th>137053</th>\n",
              "      <td>25</td>\n",
              "      <td>e</td>\n",
              "      <td>1</td>\n",
              "      <td>X</td>\n",
              "      <td>2</td>\n",
              "      <td>radiotherapy</td>\n",
              "      <td>R</td>\n",
              "      <td>E</td>\n",
              "      <td>4.0</td>\n",
              "      <td>30985</td>\n",
              "      <td>7.0</td>\n",
              "      <td>Emergency</td>\n",
              "      <td>Moderate</td>\n",
              "      <td>2</td>\n",
              "      <td>0-10</td>\n",
              "      <td>3510.0</td>\n",
              "      <td>NaN</td>\n",
              "      <td>test</td>\n",
              "    </tr>\n",
              "    <tr>\n",
              "      <th>137054</th>\n",
              "      <td>30</td>\n",
              "      <td>c</td>\n",
              "      <td>3</td>\n",
              "      <td>Z</td>\n",
              "      <td>2</td>\n",
              "      <td>anesthesia</td>\n",
              "      <td>R</td>\n",
              "      <td>A</td>\n",
              "      <td>4.0</td>\n",
              "      <td>81811</td>\n",
              "      <td>12.0</td>\n",
              "      <td>Urgent</td>\n",
              "      <td>Minor</td>\n",
              "      <td>2</td>\n",
              "      <td>0-10</td>\n",
              "      <td>7190.0</td>\n",
              "      <td>NaN</td>\n",
              "      <td>test</td>\n",
              "    </tr>\n",
              "    <tr>\n",
              "      <th>137055</th>\n",
              "      <td>5</td>\n",
              "      <td>a</td>\n",
              "      <td>1</td>\n",
              "      <td>X</td>\n",
              "      <td>2</td>\n",
              "      <td>anesthesia</td>\n",
              "      <td>R</td>\n",
              "      <td>E</td>\n",
              "      <td>4.0</td>\n",
              "      <td>57021</td>\n",
              "      <td>10.0</td>\n",
              "      <td>Trauma</td>\n",
              "      <td>Minor</td>\n",
              "      <td>2</td>\n",
              "      <td>41-50</td>\n",
              "      <td>5435.0</td>\n",
              "      <td>NaN</td>\n",
              "      <td>test</td>\n",
              "    </tr>\n",
              "    <tr>\n",
              "      <th>137056</th>\n",
              "      <td>6</td>\n",
              "      <td>a</td>\n",
              "      <td>6</td>\n",
              "      <td>X</td>\n",
              "      <td>3</td>\n",
              "      <td>gynecology</td>\n",
              "      <td>Q</td>\n",
              "      <td>F</td>\n",
              "      <td>4.0</td>\n",
              "      <td>126729</td>\n",
              "      <td>3.0</td>\n",
              "      <td>Trauma</td>\n",
              "      <td>Extreme</td>\n",
              "      <td>5</td>\n",
              "      <td>51-60</td>\n",
              "      <td>4702.0</td>\n",
              "      <td>NaN</td>\n",
              "      <td>test</td>\n",
              "    </tr>\n",
              "  </tbody>\n",
              "</table>\n",
              "<p>455495 rows × 18 columns</p>\n",
              "</div>"
            ],
            "text/plain": [
              "        Hospital_code Hospital_type_code  ...   Stay dataset\n",
              "0                   8                  c  ...   0-10   train\n",
              "1                   2                  c  ...  41-50   train\n",
              "2                  10                  e  ...  31-40   train\n",
              "3                  26                  b  ...  41-50   train\n",
              "4                  26                  b  ...  41-50   train\n",
              "...               ...                ...  ...    ...     ...\n",
              "137052             11                  b  ...    NaN    test\n",
              "137053             25                  e  ...    NaN    test\n",
              "137054             30                  c  ...    NaN    test\n",
              "137055              5                  a  ...    NaN    test\n",
              "137056              6                  a  ...    NaN    test\n",
              "\n",
              "[455495 rows x 18 columns]"
            ]
          },
          "metadata": {
            "tags": []
          },
          "execution_count": 104
        }
      ]
    },
    {
      "cell_type": "code",
      "metadata": {
        "colab": {
          "base_uri": "https://localhost:8080/",
          "height": 282
        },
        "id": "Hjf4JEo7O420",
        "outputId": "e069f888-d0f9-41f5-9ed8-5438c7e7e595"
      },
      "source": [
        "df['Hospital_type_code'].hist(bins = 6)"
      ],
      "execution_count": 105,
      "outputs": [
        {
          "output_type": "execute_result",
          "data": {
            "text/plain": [
              "<matplotlib.axes._subplots.AxesSubplot at 0x7fe59c7e2240>"
            ]
          },
          "metadata": {
            "tags": []
          },
          "execution_count": 105
        },
        {
          "output_type": "display_data",
          "data": {
            "image/png": "[encoded data removed]",
            "text/plain": [
              "<Figure size 432x288 with 1 Axes>"
            ]
          },
          "metadata": {
            "tags": [],
            "needs_background": "light"
          }
        }
      ]
    },
    {
      "cell_type": "code",
      "metadata": {
        "colab": {
          "base_uri": "https://localhost:8080/",
          "height": 369
        },
        "id": "cEZal5ydO85s",
        "outputId": "8c9d100e-d824-4280-ecc3-383900ede605"
      },
      "source": [
        "import seaborn as sns\n",
        "line_up = sns.displot(df['Bed Grade'], bins = 3, kde = True, rug = True)"
      ],
      "execution_count": 106,
      "outputs": [
        {
          "output_type": "display_data",
          "data": {
            "image/png": "[encoded data removed]",
            "text/plain": [
              "<Figure size 360x360 with 1 Axes>"
            ]
          },
          "metadata": {
            "tags": [],
            "needs_background": "light"
          }
        }
      ]
    },
    {
      "cell_type": "code",
      "metadata": {
        "id": "kdY7nUt2PFCH"
      },
      "source": [
        "ds = df.groupby(['Department', 'Bed Grade'])['patientid'].count().reset_index()\n",
        "ds.columns = ['Department', 'Bed Grade', 'count']"
      ],
      "execution_count": 107,
      "outputs": []
    },
    {
      "cell_type": "code",
      "metadata": {
        "colab": {
          "base_uri": "https://localhost:8080/",
          "height": 639
        },
        "id": "FznBj7M7PU4F",
        "outputId": "016f44bb-d058-42a8-e4ff-35d260306559"
      },
      "source": [
        "ds"
      ],
      "execution_count": 108,
      "outputs": [
        {
          "output_type": "execute_result",
          "data": {
            "text/html": [
              "<div>\n",
              "<style scoped>\n",
              "    .dataframe tbody tr th:only-of-type {\n",
              "        vertical-align: middle;\n",
              "    }\n",
              "\n",
              "    .dataframe tbody tr th {\n",
              "        vertical-align: top;\n",
              "    }\n",
              "\n",
              "    .dataframe thead th {\n",
              "        text-align: right;\n",
              "    }\n",
              "</style>\n",
              "<table border=\"1\" class=\"dataframe\">\n",
              "  <thead>\n",
              "    <tr style=\"text-align: right;\">\n",
              "      <th></th>\n",
              "      <th>Department</th>\n",
              "      <th>Bed Grade</th>\n",
              "      <th>count</th>\n",
              "    </tr>\n",
              "  </thead>\n",
              "  <tbody>\n",
              "    <tr>\n",
              "      <th>0</th>\n",
              "      <td>TB &amp; Chest disease</td>\n",
              "      <td>1.0</td>\n",
              "      <td>773</td>\n",
              "    </tr>\n",
              "    <tr>\n",
              "      <th>1</th>\n",
              "      <td>TB &amp; Chest disease</td>\n",
              "      <td>2.0</td>\n",
              "      <td>4880</td>\n",
              "    </tr>\n",
              "    <tr>\n",
              "      <th>2</th>\n",
              "      <td>TB &amp; Chest disease</td>\n",
              "      <td>3.0</td>\n",
              "      <td>5151</td>\n",
              "    </tr>\n",
              "    <tr>\n",
              "      <th>3</th>\n",
              "      <td>TB &amp; Chest disease</td>\n",
              "      <td>4.0</td>\n",
              "      <td>2944</td>\n",
              "    </tr>\n",
              "    <tr>\n",
              "      <th>4</th>\n",
              "      <td>anesthesia</td>\n",
              "      <td>1.0</td>\n",
              "      <td>452</td>\n",
              "    </tr>\n",
              "    <tr>\n",
              "      <th>5</th>\n",
              "      <td>anesthesia</td>\n",
              "      <td>2.0</td>\n",
              "      <td>10068</td>\n",
              "    </tr>\n",
              "    <tr>\n",
              "      <th>6</th>\n",
              "      <td>anesthesia</td>\n",
              "      <td>3.0</td>\n",
              "      <td>20163</td>\n",
              "    </tr>\n",
              "    <tr>\n",
              "      <th>7</th>\n",
              "      <td>anesthesia</td>\n",
              "      <td>4.0</td>\n",
              "      <td>11673</td>\n",
              "    </tr>\n",
              "    <tr>\n",
              "      <th>8</th>\n",
              "      <td>gynecology</td>\n",
              "      <td>1.0</td>\n",
              "      <td>32168</td>\n",
              "    </tr>\n",
              "    <tr>\n",
              "      <th>9</th>\n",
              "      <td>gynecology</td>\n",
              "      <td>2.0</td>\n",
              "      <td>144816</td>\n",
              "    </tr>\n",
              "    <tr>\n",
              "      <th>10</th>\n",
              "      <td>gynecology</td>\n",
              "      <td>3.0</td>\n",
              "      <td>119532</td>\n",
              "    </tr>\n",
              "    <tr>\n",
              "      <th>11</th>\n",
              "      <td>gynecology</td>\n",
              "      <td>4.0</td>\n",
              "      <td>60042</td>\n",
              "    </tr>\n",
              "    <tr>\n",
              "      <th>12</th>\n",
              "      <td>radiotherapy</td>\n",
              "      <td>1.0</td>\n",
              "      <td>3870</td>\n",
              "    </tr>\n",
              "    <tr>\n",
              "      <th>13</th>\n",
              "      <td>radiotherapy</td>\n",
              "      <td>2.0</td>\n",
              "      <td>15925</td>\n",
              "    </tr>\n",
              "    <tr>\n",
              "      <th>14</th>\n",
              "      <td>radiotherapy</td>\n",
              "      <td>3.0</td>\n",
              "      <td>13710</td>\n",
              "    </tr>\n",
              "    <tr>\n",
              "      <th>15</th>\n",
              "      <td>radiotherapy</td>\n",
              "      <td>4.0</td>\n",
              "      <td>7515</td>\n",
              "    </tr>\n",
              "    <tr>\n",
              "      <th>16</th>\n",
              "      <td>surgery</td>\n",
              "      <td>1.0</td>\n",
              "      <td>304</td>\n",
              "    </tr>\n",
              "    <tr>\n",
              "      <th>17</th>\n",
              "      <td>surgery</td>\n",
              "      <td>2.0</td>\n",
              "      <td>762</td>\n",
              "    </tr>\n",
              "    <tr>\n",
              "      <th>18</th>\n",
              "      <td>surgery</td>\n",
              "      <td>3.0</td>\n",
              "      <td>386</td>\n",
              "    </tr>\n",
              "    <tr>\n",
              "      <th>19</th>\n",
              "      <td>surgery</td>\n",
              "      <td>4.0</td>\n",
              "      <td>213</td>\n",
              "    </tr>\n",
              "  </tbody>\n",
              "</table>\n",
              "</div>"
            ],
            "text/plain": [
              "            Department  Bed Grade   count\n",
              "0   TB & Chest disease        1.0     773\n",
              "1   TB & Chest disease        2.0    4880\n",
              "2   TB & Chest disease        3.0    5151\n",
              "3   TB & Chest disease        4.0    2944\n",
              "4           anesthesia        1.0     452\n",
              "5           anesthesia        2.0   10068\n",
              "6           anesthesia        3.0   20163\n",
              "7           anesthesia        4.0   11673\n",
              "8           gynecology        1.0   32168\n",
              "9           gynecology        2.0  144816\n",
              "10          gynecology        3.0  119532\n",
              "11          gynecology        4.0   60042\n",
              "12        radiotherapy        1.0    3870\n",
              "13        radiotherapy        2.0   15925\n",
              "14        radiotherapy        3.0   13710\n",
              "15        radiotherapy        4.0    7515\n",
              "16             surgery        1.0     304\n",
              "17             surgery        2.0     762\n",
              "18             surgery        3.0     386\n",
              "19             surgery        4.0     213"
            ]
          },
          "metadata": {
            "tags": []
          },
          "execution_count": 108
        }
      ]
    },
    {
      "cell_type": "code",
      "metadata": {
        "colab": {
          "base_uri": "https://localhost:8080/",
          "height": 202
        },
        "id": "Y-6PPXKRPYEO",
        "outputId": "e42e69cc-f528-4434-85ed-a06c33d62565"
      },
      "source": [
        "ds.plot.bar(figsize = (20, 5))"
      ],
      "execution_count": 109,
      "outputs": [
        {
          "output_type": "execute_result",
          "data": {
            "text/plain": [
              "<matplotlib.axes._subplots.AxesSubplot at 0x7fe58b201748>"
            ]
          },
          "metadata": {
            "tags": []
          },
          "execution_count": 109
        },
        {
          "output_type": "display_data",
          "data": {
            "image/png": "[encoded data removed]",
            "text/plain": [
              "<Figure size 1440x360 with 1 Axes>"
            ]
          },
          "metadata": {
            "tags": [],
            "needs_background": "light"
          }
        }
      ]
    },
    {
      "cell_type": "code",
      "metadata": {
        "colab": {
          "base_uri": "https://localhost:8080/",
          "height": 106
        },
        "id": "FopD-l2fPdhb",
        "outputId": "98114b51-43d9-47ad-a533-9349f24179eb"
      },
      "source": [
        "axes = ds.plot.bar(rot = 0, subplots = True, figsize = (50, 5))\n",
        "axes[1].legend(loc = 2)"
      ],
      "execution_count": 110,
      "outputs": [
        {
          "output_type": "execute_result",
          "data": {
            "text/plain": [
              "<matplotlib.legend.Legend at 0x7fe58b2098d0>"
            ]
          },
          "metadata": {
            "tags": []
          },
          "execution_count": 110
        },
        {
          "output_type": "display_data",
          "data": {
            "image/png": "[encoded data removed]",
            "text/plain": [
              "<Figure size 3600x360 with 2 Axes>"
            ]
          },
          "metadata": {
            "tags": [],
            "needs_background": "light"
          }
        }
      ]
    },
    {
      "cell_type": "code",
      "metadata": {
        "colab": {
          "base_uri": "https://localhost:8080/",
          "height": 282
        },
        "id": "dlXloYcGPltw",
        "outputId": "3e60468e-16fd-4c19-eac5-b8b40645227c"
      },
      "source": [
        "df['Department'].hist(bins = 5)"
      ],
      "execution_count": 111,
      "outputs": [
        {
          "output_type": "execute_result",
          "data": {
            "text/plain": [
              "<matplotlib.axes._subplots.AxesSubplot at 0x7fe58afc03c8>"
            ]
          },
          "metadata": {
            "tags": []
          },
          "execution_count": 111
        },
        {
          "output_type": "display_data",
          "data": {
            "image/png": "[encoded data removed]",
            "text/plain": [
              "<Figure size 432x288 with 1 Axes>"
            ]
          },
          "metadata": {
            "tags": [],
            "needs_background": "light"
          }
        }
      ]
    },
    {
      "cell_type": "code",
      "metadata": {
        "colab": {
          "base_uri": "https://localhost:8080/",
          "height": 737
        },
        "id": "j5mcXgpjPqgl",
        "outputId": "ea521532-4e74-4488-f13b-868334fda81d"
      },
      "source": [
        "import plotly.express as px\n",
        "\n",
        "fig = px.bar(\n",
        "    ds,\n",
        "    x = 'Department',\n",
        "    y = 'count',\n",
        "    color = 'Bed Grade',\n",
        "    barmode = 'group',\n",
        "    orientation = 'v',\n",
        "    title = 'Cases per department distribution',\n",
        "    width = 800,\n",
        "    height = 700\n",
        ")\n",
        "fig.show()"
      ],
      "execution_count": 112,
      "outputs": [
        {
          "output_type": "display_data",
          "data": {
            "text/html": [
              "<html>\n",
              "<head><meta charset=\"utf-8\" /></head>\n",
              "<body>\n",
              "    <div>\n",
              "            <script src=\"https://cdnjs.cloudflare.com/ajax/libs/mathjax/2.7.5/MathJax.js?config=TeX-AMS-MML_SVG\"></script><script type=\"text/javascript\">if (window.MathJax) {MathJax.Hub.Config({SVG: {font: \"STIX-Web\"}});}</script>\n",
              "                <script type=\"text/javascript\">window.PlotlyConfig = {MathJaxConfig: 'local'};</script>\n",
              "        <script src=\"https://cdn.plot.ly/plotly-latest.min.js\"></script>    \n",
              "            <div id=\"84d95f17-3282-424a-ac27-eea1de27599c\" class=\"plotly-graph-div\" style=\"height:700px; width:800px;\"></div>\n",
              "            <script type=\"text/javascript\">\n",
              "                \n",
              "                    window.PLOTLYENV=window.PLOTLYENV || {};\n",
              "                    \n",
              "                if (document.getElementById(\"84d95f17-3282-424a-ac27-eea1de27599c\")) {\n",
              "                    Plotly.newPlot(\n",
              "                        '84d95f17-3282-424a-ac27-eea1de27599c',\n",
              "                        [{\"alignmentgroup\": \"True\", \"hoverlabel\": {\"namelength\": 0}, \"hovertemplate\": \"Department=%{x}<br>count=%{y}<br>Bed Grade=%{marker.color}\", \"legendgroup\": \"\", \"marker\": {\"color\": [1.0, 2.0, 3.0, 4.0, 1.0, 2.0, 3.0, 4.0, 1.0, 2.0, 3.0, 4.0, 1.0, 2.0, 3.0, 4.0, 1.0, 2.0, 3.0, 4.0], \"coloraxis\": \"coloraxis\"}, \"name\": \"\", \"offsetgroup\": \"\", \"orientation\": \"v\", \"showlegend\": false, \"textposition\": \"auto\", \"type\": \"bar\", \"x\": [\"TB & Chest disease\", \"TB & Chest disease\", \"TB & Chest disease\", \"TB & Chest disease\", \"anesthesia\", \"anesthesia\", \"anesthesia\", \"anesthesia\", \"gynecology\", \"gynecology\", \"gynecology\", \"gynecology\", \"radiotherapy\", \"radiotherapy\", \"radiotherapy\", \"radiotherapy\", \"surgery\", \"surgery\", \"surgery\", \"surgery\"], \"xaxis\": \"x\", \"y\": [773, 4880, 5151, 2944, 452, 10068, 20163, 11673, 32168, 144816, 119532, 60042, 3870, 15925, 13710, 7515, 304, 762, 386, 213], \"yaxis\": \"y\"}],\n",
              "                        {\"barmode\": \"group\", \"coloraxis\": {\"colorbar\": {\"title\": {\"text\": \"Bed Grade\"}}, \"colorscale\": [[0.0, \"#0d0887\"], [0.1111111111111111, \"#46039f\"], [0.2222222222222222, \"#7201a8\"], [0.3333333333333333, \"#9c179e\"], [0.4444444444444444, \"#bd3786\"], [0.5555555555555556, \"#d8576b\"], [0.6666666666666666, \"#ed7953\"], [0.7777777777777778, \"#fb9f3a\"], [0.8888888888888888, \"#fdca26\"], [1.0, \"#f0f921\"]]}, \"height\": 700, \"legend\": {\"tracegroupgap\": 0}, \"template\": {\"data\": {\"bar\": [{\"error_x\": {\"color\": \"#2a3f5f\"}, \"error_y\": {\"color\": \"#2a3f5f\"}, \"marker\": {\"line\": {\"color\": \"#E5ECF6\", \"width\": 0.5}}, \"type\": \"bar\"}], \"barpolar\": [{\"marker\": {\"line\": {\"color\": \"#E5ECF6\", \"width\": 0.5}}, \"type\": \"barpolar\"}], \"carpet\": [{\"aaxis\": {\"endlinecolor\": \"#2a3f5f\", \"gridcolor\": \"white\", \"linecolor\": \"white\", \"minorgridcolor\": \"white\", \"startlinecolor\": \"#2a3f5f\"}, \"baxis\": {\"endlinecolor\": \"#2a3f5f\", \"gridcolor\": \"white\", \"linecolor\": \"white\", \"minorgridcolor\": \"white\", \"startlinecolor\": \"#2a3f5f\"}, \"type\": \"carpet\"}], \"choropleth\": [{\"colorbar\": {\"outlinewidth\": 0, \"ticks\": \"\"}, \"type\": \"choropleth\"}], \"contour\": [{\"colorbar\": {\"outlinewidth\": 0, \"ticks\": \"\"}, \"colorscale\": [[0.0, \"#0d0887\"], [0.1111111111111111, \"#46039f\"], [0.2222222222222222, \"#7201a8\"], [0.3333333333333333, \"#9c179e\"], [0.4444444444444444, \"#bd3786\"], [0.5555555555555556, \"#d8576b\"], [0.6666666666666666, \"#ed7953\"], [0.7777777777777778, \"#fb9f3a\"], [0.8888888888888888, \"#fdca26\"], [1.0, \"#f0f921\"]], \"type\": \"contour\"}], \"contourcarpet\": [{\"colorbar\": {\"outlinewidth\": 0, \"ticks\": \"\"}, \"type\": \"contourcarpet\"}], \"heatmap\": [{\"colorbar\": {\"outlinewidth\": 0, \"ticks\": \"\"}, \"colorscale\": [[0.0, \"#0d0887\"], [0.1111111111111111, \"#46039f\"], [0.2222222222222222, \"#7201a8\"], [0.3333333333333333, \"#9c179e\"], [0.4444444444444444, \"#bd3786\"], [0.5555555555555556, \"#d8576b\"], [0.6666666666666666, \"#ed7953\"], [0.7777777777777778, \"#fb9f3a\"], [0.8888888888888888, \"#fdca26\"], [1.0, \"#f0f921\"]], \"type\": \"heatmap\"}], \"heatmapgl\": [{\"colorbar\": {\"outlinewidth\": 0, \"ticks\": \"\"}, \"colorscale\": [[0.0, \"#0d0887\"], [0.1111111111111111, \"#46039f\"], [0.2222222222222222, \"#7201a8\"], [0.3333333333333333, \"#9c179e\"], [0.4444444444444444, \"#bd3786\"], [0.5555555555555556, \"#d8576b\"], [0.6666666666666666, \"#ed7953\"], [0.7777777777777778, \"#fb9f3a\"], [0.8888888888888888, \"#fdca26\"], [1.0, \"#f0f921\"]], \"type\": \"heatmapgl\"}], \"histogram\": [{\"marker\": {\"colorbar\": {\"outlinewidth\": 0, \"ticks\": \"\"}}, \"type\": \"histogram\"}], \"histogram2d\": [{\"colorbar\": {\"outlinewidth\": 0, \"ticks\": \"\"}, \"colorscale\": [[0.0, \"#0d0887\"], [0.1111111111111111, \"#46039f\"], [0.2222222222222222, \"#7201a8\"], [0.3333333333333333, \"#9c179e\"], [0.4444444444444444, \"#bd3786\"], [0.5555555555555556, \"#d8576b\"], [0.6666666666666666, \"#ed7953\"], [0.7777777777777778, \"#fb9f3a\"], [0.8888888888888888, \"#fdca26\"], [1.0, \"#f0f921\"]], \"type\": \"histogram2d\"}], \"histogram2dcontour\": [{\"colorbar\": {\"outlinewidth\": 0, \"ticks\": \"\"}, \"colorscale\": [[0.0, \"#0d0887\"], [0.1111111111111111, \"#46039f\"], [0.2222222222222222, \"#7201a8\"], [0.3333333333333333, \"#9c179e\"], [0.4444444444444444, \"#bd3786\"], [0.5555555555555556, \"#d8576b\"], [0.6666666666666666, \"#ed7953\"], [0.7777777777777778, \"#fb9f3a\"], [0.8888888888888888, \"#fdca26\"], [1.0, \"#f0f921\"]], \"type\": \"histogram2dcontour\"}], \"mesh3d\": [{\"colorbar\": {\"outlinewidth\": 0, \"ticks\": \"\"}, \"type\": \"mesh3d\"}], \"parcoords\": [{\"line\": {\"colorbar\": {\"outlinewidth\": 0, \"ticks\": \"\"}}, \"type\": \"parcoords\"}], \"pie\": [{\"automargin\": true, \"type\": \"pie\"}], \"scatter\": [{\"marker\": {\"colorbar\": {\"outlinewidth\": 0, \"ticks\": \"\"}}, \"type\": \"scatter\"}], \"scatter3d\": [{\"line\": {\"colorbar\": {\"outlinewidth\": 0, \"ticks\": \"\"}}, \"marker\": {\"colorbar\": {\"outlinewidth\": 0, \"ticks\": \"\"}}, \"type\": \"scatter3d\"}], \"scattercarpet\": [{\"marker\": {\"colorbar\": {\"outlinewidth\": 0, \"ticks\": \"\"}}, \"type\": \"scattercarpet\"}], \"scattergeo\": [{\"marker\": {\"colorbar\": {\"outlinewidth\": 0, \"ticks\": \"\"}}, \"type\": \"scattergeo\"}], \"scattergl\": [{\"marker\": {\"colorbar\": {\"outlinewidth\": 0, \"ticks\": \"\"}}, \"type\": \"scattergl\"}], \"scattermapbox\": [{\"marker\": {\"colorbar\": {\"outlinewidth\": 0, \"ticks\": \"\"}}, \"type\": \"scattermapbox\"}], \"scatterpolar\": [{\"marker\": {\"colorbar\": {\"outlinewidth\": 0, \"ticks\": \"\"}}, \"type\": \"scatterpolar\"}], \"scatterpolargl\": [{\"marker\": {\"colorbar\": {\"outlinewidth\": 0, \"ticks\": \"\"}}, \"type\": \"scatterpolargl\"}], \"scatterternary\": [{\"marker\": {\"colorbar\": {\"outlinewidth\": 0, \"ticks\": \"\"}}, \"type\": \"scatterternary\"}], \"surface\": [{\"colorbar\": {\"outlinewidth\": 0, \"ticks\": \"\"}, \"colorscale\": [[0.0, \"#0d0887\"], [0.1111111111111111, \"#46039f\"], [0.2222222222222222, \"#7201a8\"], [0.3333333333333333, \"#9c179e\"], [0.4444444444444444, \"#bd3786\"], [0.5555555555555556, \"#d8576b\"], [0.6666666666666666, \"#ed7953\"], [0.7777777777777778, \"#fb9f3a\"], [0.8888888888888888, \"#fdca26\"], [1.0, \"#f0f921\"]], \"type\": \"surface\"}], \"table\": [{\"cells\": {\"fill\": {\"color\": \"#EBF0F8\"}, \"line\": {\"color\": \"white\"}}, \"header\": {\"fill\": {\"color\": \"#C8D4E3\"}, \"line\": {\"color\": \"white\"}}, \"type\": \"table\"}]}, \"layout\": {\"annotationdefaults\": {\"arrowcolor\": \"#2a3f5f\", \"arrowhead\": 0, \"arrowwidth\": 1}, \"coloraxis\": {\"colorbar\": {\"outlinewidth\": 0, \"ticks\": \"\"}}, \"colorscale\": {\"diverging\": [[0, \"#8e0152\"], [0.1, \"#c51b7d\"], [0.2, \"#de77ae\"], [0.3, \"#f1b6da\"], [0.4, \"#fde0ef\"], [0.5, \"#f7f7f7\"], [0.6, \"#e6f5d0\"], [0.7, \"#b8e186\"], [0.8, \"#7fbc41\"], [0.9, \"#4d9221\"], [1, \"#276419\"]], \"sequential\": [[0.0, \"#0d0887\"], [0.1111111111111111, \"#46039f\"], [0.2222222222222222, \"#7201a8\"], [0.3333333333333333, \"#9c179e\"], [0.4444444444444444, \"#bd3786\"], [0.5555555555555556, \"#d8576b\"], [0.6666666666666666, \"#ed7953\"], [0.7777777777777778, \"#fb9f3a\"], [0.8888888888888888, \"#fdca26\"], [1.0, \"#f0f921\"]], \"sequentialminus\": [[0.0, \"#0d0887\"], [0.1111111111111111, \"#46039f\"], [0.2222222222222222, \"#7201a8\"], [0.3333333333333333, \"#9c179e\"], [0.4444444444444444, \"#bd3786\"], [0.5555555555555556, \"#d8576b\"], [0.6666666666666666, \"#ed7953\"], [0.7777777777777778, \"#fb9f3a\"], [0.8888888888888888, \"#fdca26\"], [1.0, \"#f0f921\"]]}, \"colorway\": [\"#636efa\", \"#EF553B\", \"#00cc96\", \"#ab63fa\", \"#FFA15A\", \"#19d3f3\", \"#FF6692\", \"#B6E880\", \"#FF97FF\", \"#FECB52\"], \"font\": {\"color\": \"#2a3f5f\"}, \"geo\": {\"bgcolor\": \"white\", \"lakecolor\": \"white\", \"landcolor\": \"#E5ECF6\", \"showlakes\": true, \"showland\": true, \"subunitcolor\": \"white\"}, \"hoverlabel\": {\"align\": \"left\"}, \"hovermode\": \"closest\", \"mapbox\": {\"style\": \"light\"}, \"paper_bgcolor\": \"white\", \"plot_bgcolor\": \"#E5ECF6\", \"polar\": {\"angularaxis\": {\"gridcolor\": \"white\", \"linecolor\": \"white\", \"ticks\": \"\"}, \"bgcolor\": \"#E5ECF6\", \"radialaxis\": {\"gridcolor\": \"white\", \"linecolor\": \"white\", \"ticks\": \"\"}}, \"scene\": {\"xaxis\": {\"backgroundcolor\": \"#E5ECF6\", \"gridcolor\": \"white\", \"gridwidth\": 2, \"linecolor\": \"white\", \"showbackground\": true, \"ticks\": \"\", \"zerolinecolor\": \"white\"}, \"yaxis\": {\"backgroundcolor\": \"#E5ECF6\", \"gridcolor\": \"white\", \"gridwidth\": 2, \"linecolor\": \"white\", \"showbackground\": true, \"ticks\": \"\", \"zerolinecolor\": \"white\"}, \"zaxis\": {\"backgroundcolor\": \"#E5ECF6\", \"gridcolor\": \"white\", \"gridwidth\": 2, \"linecolor\": \"white\", \"showbackground\": true, \"ticks\": \"\", \"zerolinecolor\": \"white\"}}, \"shapedefaults\": {\"line\": {\"color\": \"#2a3f5f\"}}, \"ternary\": {\"aaxis\": {\"gridcolor\": \"white\", \"linecolor\": \"white\", \"ticks\": \"\"}, \"baxis\": {\"gridcolor\": \"white\", \"linecolor\": \"white\", \"ticks\": \"\"}, \"bgcolor\": \"#E5ECF6\", \"caxis\": {\"gridcolor\": \"white\", \"linecolor\": \"white\", \"ticks\": \"\"}}, \"title\": {\"x\": 0.05}, \"xaxis\": {\"automargin\": true, \"gridcolor\": \"white\", \"linecolor\": \"white\", \"ticks\": \"\", \"title\": {\"standoff\": 15}, \"zerolinecolor\": \"white\", \"zerolinewidth\": 2}, \"yaxis\": {\"automargin\": true, \"gridcolor\": \"white\", \"linecolor\": \"white\", \"ticks\": \"\", \"title\": {\"standoff\": 15}, \"zerolinecolor\": \"white\", \"zerolinewidth\": 2}}}, \"title\": {\"text\": \"Cases per department distribution\"}, \"width\": 800, \"xaxis\": {\"anchor\": \"y\", \"domain\": [0.0, 1.0], \"title\": {\"text\": \"Department\"}}, \"yaxis\": {\"anchor\": \"x\", \"domain\": [0.0, 1.0], \"title\": {\"text\": \"count\"}}},\n",
              "                        {\"responsive\": true}\n",
              "                    ).then(function(){\n",
              "                            \n",
              "var gd = document.getElementById('84d95f17-3282-424a-ac27-eea1de27599c');\n",
              "var x = new MutationObserver(function (mutations, observer) {{\n",
              "        var display = window.getComputedStyle(gd).display;\n",
              "        if (!display || display === 'none') {{\n",
              "            console.log([gd, 'removed!']);\n",
              "            Plotly.purge(gd);\n",
              "            observer.disconnect();\n",
              "        }}\n",
              "}});\n",
              "\n",
              "// Listen for the removal of the full notebook cells\n",
              "var notebookContainer = gd.closest('#notebook-container');\n",
              "if (notebookContainer) {{\n",
              "    x.observe(notebookContainer, {childList: true});\n",
              "}}\n",
              "\n",
              "// Listen for the clearing of the current output cell\n",
              "var outputEl = gd.closest('.output');\n",
              "if (outputEl) {{\n",
              "    x.observe(outputEl, {childList: true});\n",
              "}}\n",
              "\n",
              "                        })\n",
              "                };\n",
              "                \n",
              "            </script>\n",
              "        </div>\n",
              "</body>\n",
              "</html>"
            ]
          },
          "metadata": {
            "tags": []
          }
        }
      ]
    },
    {
      "cell_type": "code",
      "metadata": {
        "colab": {
          "base_uri": "https://localhost:8080/",
          "height": 265
        },
        "id": "pcW4l0HNP_Q7",
        "outputId": "1dfe3b92-931b-4a74-963b-76e165c092f2"
      },
      "source": [
        "boxplot = df.boxplot(column = ['Visitors with Patient', 'Bed Grade'])"
      ],
      "execution_count": 114,
      "outputs": [
        {
          "output_type": "display_data",
          "data": {
            "image/png": "[encoded data removed]",
            "text/plain": [
              "<Figure size 432x288 with 1 Axes>"
            ]
          },
          "metadata": {
            "tags": [],
            "needs_background": "light"
          }
        }
      ]
    },
    {
      "cell_type": "code",
      "metadata": {
        "id": "PZc8nGaOQIIv"
      },
      "source": [
        "ds = df.groupby(['Department', 'Age'])['patientid'].count().reset_index()\n",
        "ds.columns = ['Department', 'Age', 'Count']"
      ],
      "execution_count": 115,
      "outputs": []
    },
    {
      "cell_type": "code",
      "metadata": {
        "colab": {
          "base_uri": "https://localhost:8080/",
          "height": 1000
        },
        "id": "O3yqn7jHQS2M",
        "outputId": "c5f3561a-6bb8-4601-894e-7e1ba331dbc4"
      },
      "source": [
        "ds"
      ],
      "execution_count": 116,
      "outputs": [
        {
          "output_type": "execute_result",
          "data": {
            "text/html": [
              "<div>\n",
              "<style scoped>\n",
              "    .dataframe tbody tr th:only-of-type {\n",
              "        vertical-align: middle;\n",
              "    }\n",
              "\n",
              "    .dataframe tbody tr th {\n",
              "        vertical-align: top;\n",
              "    }\n",
              "\n",
              "    .dataframe thead th {\n",
              "        text-align: right;\n",
              "    }\n",
              "</style>\n",
              "<table border=\"1\" class=\"dataframe\">\n",
              "  <thead>\n",
              "    <tr style=\"text-align: right;\">\n",
              "      <th></th>\n",
              "      <th>Department</th>\n",
              "      <th>Age</th>\n",
              "      <th>Count</th>\n",
              "    </tr>\n",
              "  </thead>\n",
              "  <tbody>\n",
              "    <tr>\n",
              "      <th>0</th>\n",
              "      <td>TB &amp; Chest disease</td>\n",
              "      <td>0-10</td>\n",
              "      <td>602</td>\n",
              "    </tr>\n",
              "    <tr>\n",
              "      <th>1</th>\n",
              "      <td>TB &amp; Chest disease</td>\n",
              "      <td>11-20</td>\n",
              "      <td>998</td>\n",
              "    </tr>\n",
              "    <tr>\n",
              "      <th>2</th>\n",
              "      <td>TB &amp; Chest disease</td>\n",
              "      <td>21-30</td>\n",
              "      <td>1809</td>\n",
              "    </tr>\n",
              "    <tr>\n",
              "      <th>3</th>\n",
              "      <td>TB &amp; Chest disease</td>\n",
              "      <td>31-40</td>\n",
              "      <td>2144</td>\n",
              "    </tr>\n",
              "    <tr>\n",
              "      <th>4</th>\n",
              "      <td>TB &amp; Chest disease</td>\n",
              "      <td>41-50</td>\n",
              "      <td>2470</td>\n",
              "    </tr>\n",
              "    <tr>\n",
              "      <th>5</th>\n",
              "      <td>TB &amp; Chest disease</td>\n",
              "      <td>51-60</td>\n",
              "      <td>2708</td>\n",
              "    </tr>\n",
              "    <tr>\n",
              "      <th>6</th>\n",
              "      <td>TB &amp; Chest disease</td>\n",
              "      <td>61-70</td>\n",
              "      <td>1884</td>\n",
              "    </tr>\n",
              "    <tr>\n",
              "      <th>7</th>\n",
              "      <td>TB &amp; Chest disease</td>\n",
              "      <td>71-80</td>\n",
              "      <td>964</td>\n",
              "    </tr>\n",
              "    <tr>\n",
              "      <th>8</th>\n",
              "      <td>TB &amp; Chest disease</td>\n",
              "      <td>81-90</td>\n",
              "      <td>116</td>\n",
              "    </tr>\n",
              "    <tr>\n",
              "      <th>9</th>\n",
              "      <td>TB &amp; Chest disease</td>\n",
              "      <td>91-100</td>\n",
              "      <td>56</td>\n",
              "    </tr>\n",
              "    <tr>\n",
              "      <th>10</th>\n",
              "      <td>anesthesia</td>\n",
              "      <td>0-10</td>\n",
              "      <td>649</td>\n",
              "    </tr>\n",
              "    <tr>\n",
              "      <th>11</th>\n",
              "      <td>anesthesia</td>\n",
              "      <td>11-20</td>\n",
              "      <td>1897</td>\n",
              "    </tr>\n",
              "    <tr>\n",
              "      <th>12</th>\n",
              "      <td>anesthesia</td>\n",
              "      <td>21-30</td>\n",
              "      <td>4819</td>\n",
              "    </tr>\n",
              "    <tr>\n",
              "      <th>13</th>\n",
              "      <td>anesthesia</td>\n",
              "      <td>31-40</td>\n",
              "      <td>7134</td>\n",
              "    </tr>\n",
              "    <tr>\n",
              "      <th>14</th>\n",
              "      <td>anesthesia</td>\n",
              "      <td>41-50</td>\n",
              "      <td>8154</td>\n",
              "    </tr>\n",
              "    <tr>\n",
              "      <th>15</th>\n",
              "      <td>anesthesia</td>\n",
              "      <td>51-60</td>\n",
              "      <td>6935</td>\n",
              "    </tr>\n",
              "    <tr>\n",
              "      <th>16</th>\n",
              "      <td>anesthesia</td>\n",
              "      <td>61-70</td>\n",
              "      <td>5509</td>\n",
              "    </tr>\n",
              "    <tr>\n",
              "      <th>17</th>\n",
              "      <td>anesthesia</td>\n",
              "      <td>71-80</td>\n",
              "      <td>5704</td>\n",
              "    </tr>\n",
              "    <tr>\n",
              "      <th>18</th>\n",
              "      <td>anesthesia</td>\n",
              "      <td>81-90</td>\n",
              "      <td>1266</td>\n",
              "    </tr>\n",
              "    <tr>\n",
              "      <th>19</th>\n",
              "      <td>anesthesia</td>\n",
              "      <td>91-100</td>\n",
              "      <td>291</td>\n",
              "    </tr>\n",
              "    <tr>\n",
              "      <th>20</th>\n",
              "      <td>gynecology</td>\n",
              "      <td>0-10</td>\n",
              "      <td>6365</td>\n",
              "    </tr>\n",
              "    <tr>\n",
              "      <th>21</th>\n",
              "      <td>gynecology</td>\n",
              "      <td>11-20</td>\n",
              "      <td>18487</td>\n",
              "    </tr>\n",
              "    <tr>\n",
              "      <th>22</th>\n",
              "      <td>gynecology</td>\n",
              "      <td>21-30</td>\n",
              "      <td>47777</td>\n",
              "    </tr>\n",
              "    <tr>\n",
              "      <th>23</th>\n",
              "      <td>gynecology</td>\n",
              "      <td>31-40</td>\n",
              "      <td>75705</td>\n",
              "    </tr>\n",
              "    <tr>\n",
              "      <th>24</th>\n",
              "      <td>gynecology</td>\n",
              "      <td>41-50</td>\n",
              "      <td>74985</td>\n",
              "    </tr>\n",
              "    <tr>\n",
              "      <th>25</th>\n",
              "      <td>gynecology</td>\n",
              "      <td>51-60</td>\n",
              "      <td>54069</td>\n",
              "    </tr>\n",
              "    <tr>\n",
              "      <th>26</th>\n",
              "      <td>gynecology</td>\n",
              "      <td>61-70</td>\n",
              "      <td>35281</td>\n",
              "    </tr>\n",
              "    <tr>\n",
              "      <th>27</th>\n",
              "      <td>gynecology</td>\n",
              "      <td>71-80</td>\n",
              "      <td>35370</td>\n",
              "    </tr>\n",
              "    <tr>\n",
              "      <th>28</th>\n",
              "      <td>gynecology</td>\n",
              "      <td>81-90</td>\n",
              "      <td>7525</td>\n",
              "    </tr>\n",
              "    <tr>\n",
              "      <th>29</th>\n",
              "      <td>gynecology</td>\n",
              "      <td>91-100</td>\n",
              "      <td>1124</td>\n",
              "    </tr>\n",
              "    <tr>\n",
              "      <th>30</th>\n",
              "      <td>radiotherapy</td>\n",
              "      <td>0-10</td>\n",
              "      <td>1389</td>\n",
              "    </tr>\n",
              "    <tr>\n",
              "      <th>31</th>\n",
              "      <td>radiotherapy</td>\n",
              "      <td>11-20</td>\n",
              "      <td>2421</td>\n",
              "    </tr>\n",
              "    <tr>\n",
              "      <th>32</th>\n",
              "      <td>radiotherapy</td>\n",
              "      <td>21-30</td>\n",
              "      <td>4050</td>\n",
              "    </tr>\n",
              "    <tr>\n",
              "      <th>33</th>\n",
              "      <td>radiotherapy</td>\n",
              "      <td>31-40</td>\n",
              "      <td>5229</td>\n",
              "    </tr>\n",
              "    <tr>\n",
              "      <th>34</th>\n",
              "      <td>radiotherapy</td>\n",
              "      <td>41-50</td>\n",
              "      <td>5629</td>\n",
              "    </tr>\n",
              "    <tr>\n",
              "      <th>35</th>\n",
              "      <td>radiotherapy</td>\n",
              "      <td>51-60</td>\n",
              "      <td>5525</td>\n",
              "    </tr>\n",
              "    <tr>\n",
              "      <th>36</th>\n",
              "      <td>radiotherapy</td>\n",
              "      <td>61-70</td>\n",
              "      <td>5692</td>\n",
              "    </tr>\n",
              "    <tr>\n",
              "      <th>37</th>\n",
              "      <td>radiotherapy</td>\n",
              "      <td>71-80</td>\n",
              "      <td>8427</td>\n",
              "    </tr>\n",
              "    <tr>\n",
              "      <th>38</th>\n",
              "      <td>radiotherapy</td>\n",
              "      <td>81-90</td>\n",
              "      <td>2251</td>\n",
              "    </tr>\n",
              "    <tr>\n",
              "      <th>39</th>\n",
              "      <td>radiotherapy</td>\n",
              "      <td>91-100</td>\n",
              "      <td>420</td>\n",
              "    </tr>\n",
              "    <tr>\n",
              "      <th>40</th>\n",
              "      <td>surgery</td>\n",
              "      <td>0-10</td>\n",
              "      <td>135</td>\n",
              "    </tr>\n",
              "    <tr>\n",
              "      <th>41</th>\n",
              "      <td>surgery</td>\n",
              "      <td>11-20</td>\n",
              "      <td>68</td>\n",
              "    </tr>\n",
              "    <tr>\n",
              "      <th>42</th>\n",
              "      <td>surgery</td>\n",
              "      <td>21-30</td>\n",
              "      <td>105</td>\n",
              "    </tr>\n",
              "    <tr>\n",
              "      <th>43</th>\n",
              "      <td>surgery</td>\n",
              "      <td>31-40</td>\n",
              "      <td>208</td>\n",
              "    </tr>\n",
              "    <tr>\n",
              "      <th>44</th>\n",
              "      <td>surgery</td>\n",
              "      <td>41-50</td>\n",
              "      <td>257</td>\n",
              "    </tr>\n",
              "    <tr>\n",
              "      <th>45</th>\n",
              "      <td>surgery</td>\n",
              "      <td>51-60</td>\n",
              "      <td>269</td>\n",
              "    </tr>\n",
              "    <tr>\n",
              "      <th>46</th>\n",
              "      <td>surgery</td>\n",
              "      <td>61-70</td>\n",
              "      <td>253</td>\n",
              "    </tr>\n",
              "    <tr>\n",
              "      <th>47</th>\n",
              "      <td>surgery</td>\n",
              "      <td>71-80</td>\n",
              "      <td>272</td>\n",
              "    </tr>\n",
              "    <tr>\n",
              "      <th>48</th>\n",
              "      <td>surgery</td>\n",
              "      <td>81-90</td>\n",
              "      <td>82</td>\n",
              "    </tr>\n",
              "    <tr>\n",
              "      <th>49</th>\n",
              "      <td>surgery</td>\n",
              "      <td>91-100</td>\n",
              "      <td>16</td>\n",
              "    </tr>\n",
              "  </tbody>\n",
              "</table>\n",
              "</div>"
            ],
            "text/plain": [
              "            Department     Age  Count\n",
              "0   TB & Chest disease    0-10    602\n",
              "1   TB & Chest disease   11-20    998\n",
              "2   TB & Chest disease   21-30   1809\n",
              "3   TB & Chest disease   31-40   2144\n",
              "4   TB & Chest disease   41-50   2470\n",
              "5   TB & Chest disease   51-60   2708\n",
              "6   TB & Chest disease   61-70   1884\n",
              "7   TB & Chest disease   71-80    964\n",
              "8   TB & Chest disease   81-90    116\n",
              "9   TB & Chest disease  91-100     56\n",
              "10          anesthesia    0-10    649\n",
              "11          anesthesia   11-20   1897\n",
              "12          anesthesia   21-30   4819\n",
              "13          anesthesia   31-40   7134\n",
              "14          anesthesia   41-50   8154\n",
              "15          anesthesia   51-60   6935\n",
              "16          anesthesia   61-70   5509\n",
              "17          anesthesia   71-80   5704\n",
              "18          anesthesia   81-90   1266\n",
              "19          anesthesia  91-100    291\n",
              "20          gynecology    0-10   6365\n",
              "21          gynecology   11-20  18487\n",
              "22          gynecology   21-30  47777\n",
              "23          gynecology   31-40  75705\n",
              "24          gynecology   41-50  74985\n",
              "25          gynecology   51-60  54069\n",
              "26          gynecology   61-70  35281\n",
              "27          gynecology   71-80  35370\n",
              "28          gynecology   81-90   7525\n",
              "29          gynecology  91-100   1124\n",
              "30        radiotherapy    0-10   1389\n",
              "31        radiotherapy   11-20   2421\n",
              "32        radiotherapy   21-30   4050\n",
              "33        radiotherapy   31-40   5229\n",
              "34        radiotherapy   41-50   5629\n",
              "35        radiotherapy   51-60   5525\n",
              "36        radiotherapy   61-70   5692\n",
              "37        radiotherapy   71-80   8427\n",
              "38        radiotherapy   81-90   2251\n",
              "39        radiotherapy  91-100    420\n",
              "40             surgery    0-10    135\n",
              "41             surgery   11-20     68\n",
              "42             surgery   21-30    105\n",
              "43             surgery   31-40    208\n",
              "44             surgery   41-50    257\n",
              "45             surgery   51-60    269\n",
              "46             surgery   61-70    253\n",
              "47             surgery   71-80    272\n",
              "48             surgery   81-90     82\n",
              "49             surgery  91-100     16"
            ]
          },
          "metadata": {
            "tags": []
          },
          "execution_count": 116
        }
      ]
    },
    {
      "cell_type": "code",
      "metadata": {
        "colab": {
          "base_uri": "https://localhost:8080/",
          "height": 737
        },
        "id": "3Z5xzNPRQYc7",
        "outputId": "6af030e9-fa94-445f-efba-bf8cd3cf0f0d"
      },
      "source": [
        "import plotly.express as px\n",
        "\n",
        "fig = px.bar(\n",
        "    ds,\n",
        "    x = 'Department',\n",
        "    y = 'Count',\n",
        "    color = 'Age',\n",
        "    barmode = 'group',\n",
        "    orientation = 'v',\n",
        "    title = 'Cases per age distribution',\n",
        "    width = 800,\n",
        "    height = 700\n",
        ")\n",
        "fig.show()"
      ],
      "execution_count": 118,
      "outputs": [
        {
          "output_type": "display_data",
          "data": {
            "text/html": [
              "<html>\n",
              "<head><meta charset=\"utf-8\" /></head>\n",
              "<body>\n",
              "    <div>\n",
              "            <script src=\"https://cdnjs.cloudflare.com/ajax/libs/mathjax/2.7.5/MathJax.js?config=TeX-AMS-MML_SVG\"></script><script type=\"text/javascript\">if (window.MathJax) {MathJax.Hub.Config({SVG: {font: \"STIX-Web\"}});}</script>\n",
              "                <script type=\"text/javascript\">window.PlotlyConfig = {MathJaxConfig: 'local'};</script>\n",
              "        <script src=\"https://cdn.plot.ly/plotly-latest.min.js\"></script>    \n",
              "            <div id=\"3c66c4e7-ffe2-45be-8dea-b058f4d0effe\" class=\"plotly-graph-div\" style=\"height:700px; width:800px;\"></div>\n",
              "            <script type=\"text/javascript\">\n",
              "                \n",
              "                    window.PLOTLYENV=window.PLOTLYENV || {};\n",
              "                    \n",
              "                if (document.getElementById(\"3c66c4e7-ffe2-45be-8dea-b058f4d0effe\")) {\n",
              "                    Plotly.newPlot(\n",
              "                        '3c66c4e7-ffe2-45be-8dea-b058f4d0effe',\n",
              "                        [{\"alignmentgroup\": \"True\", \"hoverlabel\": {\"namelength\": 0}, \"hovertemplate\": \"Age=0-10<br>Department=%{x}<br>Count=%{y}\", \"legendgroup\": \"Age=0-10\", \"marker\": {\"color\": \"#636efa\"}, \"name\": \"Age=0-10\", \"offsetgroup\": \"Age=0-10\", \"orientation\": \"v\", \"showlegend\": true, \"textposition\": \"auto\", \"type\": \"bar\", \"x\": [\"TB & Chest disease\", \"anesthesia\", \"gynecology\", \"radiotherapy\", \"surgery\"], \"xaxis\": \"x\", \"y\": [602, 649, 6365, 1389, 135], \"yaxis\": \"y\"}, {\"alignmentgroup\": \"True\", \"hoverlabel\": {\"namelength\": 0}, \"hovertemplate\": \"Age=11-20<br>Department=%{x}<br>Count=%{y}\", \"legendgroup\": \"Age=11-20\", \"marker\": {\"color\": \"#EF553B\"}, \"name\": \"Age=11-20\", \"offsetgroup\": \"Age=11-20\", \"orientation\": \"v\", \"showlegend\": true, \"textposition\": \"auto\", \"type\": \"bar\", \"x\": [\"TB & Chest disease\", \"anesthesia\", \"gynecology\", \"radiotherapy\", \"surgery\"], \"xaxis\": \"x\", \"y\": [998, 1897, 18487, 2421, 68], \"yaxis\": \"y\"}, {\"alignmentgroup\": \"True\", \"hoverlabel\": {\"namelength\": 0}, \"hovertemplate\": \"Age=21-30<br>Department=%{x}<br>Count=%{y}\", \"legendgroup\": \"Age=21-30\", \"marker\": {\"color\": \"#00cc96\"}, \"name\": \"Age=21-30\", \"offsetgroup\": \"Age=21-30\", \"orientation\": \"v\", \"showlegend\": true, \"textposition\": \"auto\", \"type\": \"bar\", \"x\": [\"TB & Chest disease\", \"anesthesia\", \"gynecology\", \"radiotherapy\", \"surgery\"], \"xaxis\": \"x\", \"y\": [1809, 4819, 47777, 4050, 105], \"yaxis\": \"y\"}, {\"alignmentgroup\": \"True\", \"hoverlabel\": {\"namelength\": 0}, \"hovertemplate\": \"Age=31-40<br>Department=%{x}<br>Count=%{y}\", \"legendgroup\": \"Age=31-40\", \"marker\": {\"color\": \"#ab63fa\"}, \"name\": \"Age=31-40\", \"offsetgroup\": \"Age=31-40\", \"orientation\": \"v\", \"showlegend\": true, \"textposition\": \"auto\", \"type\": \"bar\", \"x\": [\"TB & Chest disease\", \"anesthesia\", \"gynecology\", \"radiotherapy\", \"surgery\"], \"xaxis\": \"x\", \"y\": [2144, 7134, 75705, 5229, 208], \"yaxis\": \"y\"}, {\"alignmentgroup\": \"True\", \"hoverlabel\": {\"namelength\": 0}, \"hovertemplate\": \"Age=41-50<br>Department=%{x}<br>Count=%{y}\", \"legendgroup\": \"Age=41-50\", \"marker\": {\"color\": \"#FFA15A\"}, \"name\": \"Age=41-50\", \"offsetgroup\": \"Age=41-50\", \"orientation\": \"v\", \"showlegend\": true, \"textposition\": \"auto\", \"type\": \"bar\", \"x\": [\"TB & Chest disease\", \"anesthesia\", \"gynecology\", \"radiotherapy\", \"surgery\"], \"xaxis\": \"x\", \"y\": [2470, 8154, 74985, 5629, 257], \"yaxis\": \"y\"}, {\"alignmentgroup\": \"True\", \"hoverlabel\": {\"namelength\": 0}, \"hovertemplate\": \"Age=51-60<br>Department=%{x}<br>Count=%{y}\", \"legendgroup\": \"Age=51-60\", \"marker\": {\"color\": \"#19d3f3\"}, \"name\": \"Age=51-60\", \"offsetgroup\": \"Age=51-60\", \"orientation\": \"v\", \"showlegend\": true, \"textposition\": \"auto\", \"type\": \"bar\", \"x\": [\"TB & Chest disease\", \"anesthesia\", \"gynecology\", \"radiotherapy\", \"surgery\"], \"xaxis\": \"x\", \"y\": [2708, 6935, 54069, 5525, 269], \"yaxis\": \"y\"}, {\"alignmentgroup\": \"True\", \"hoverlabel\": {\"namelength\": 0}, \"hovertemplate\": \"Age=61-70<br>Department=%{x}<br>Count=%{y}\", \"legendgroup\": \"Age=61-70\", \"marker\": {\"color\": \"#FF6692\"}, \"name\": \"Age=61-70\", \"offsetgroup\": \"Age=61-70\", \"orientation\": \"v\", \"showlegend\": true, \"textposition\": \"auto\", \"type\": \"bar\", \"x\": [\"TB & Chest disease\", \"anesthesia\", \"gynecology\", \"radiotherapy\", \"surgery\"], \"xaxis\": \"x\", \"y\": [1884, 5509, 35281, 5692, 253], \"yaxis\": \"y\"}, {\"alignmentgroup\": \"True\", \"hoverlabel\": {\"namelength\": 0}, \"hovertemplate\": \"Age=71-80<br>Department=%{x}<br>Count=%{y}\", \"legendgroup\": \"Age=71-80\", \"marker\": {\"color\": \"#B6E880\"}, \"name\": \"Age=71-80\", \"offsetgroup\": \"Age=71-80\", \"orientation\": \"v\", \"showlegend\": true, \"textposition\": \"auto\", \"type\": \"bar\", \"x\": [\"TB & Chest disease\", \"anesthesia\", \"gynecology\", \"radiotherapy\", \"surgery\"], \"xaxis\": \"x\", \"y\": [964, 5704, 35370, 8427, 272], \"yaxis\": \"y\"}, {\"alignmentgroup\": \"True\", \"hoverlabel\": {\"namelength\": 0}, \"hovertemplate\": \"Age=81-90<br>Department=%{x}<br>Count=%{y}\", \"legendgroup\": \"Age=81-90\", \"marker\": {\"color\": \"#FF97FF\"}, \"name\": \"Age=81-90\", \"offsetgroup\": \"Age=81-90\", \"orientation\": \"v\", \"showlegend\": true, \"textposition\": \"auto\", \"type\": \"bar\", \"x\": [\"TB & Chest disease\", \"anesthesia\", \"gynecology\", \"radiotherapy\", \"surgery\"], \"xaxis\": \"x\", \"y\": [116, 1266, 7525, 2251, 82], \"yaxis\": \"y\"}, {\"alignmentgroup\": \"True\", \"hoverlabel\": {\"namelength\": 0}, \"hovertemplate\": \"Age=91-100<br>Department=%{x}<br>Count=%{y}\", \"legendgroup\": \"Age=91-100\", \"marker\": {\"color\": \"#FECB52\"}, \"name\": \"Age=91-100\", \"offsetgroup\": \"Age=91-100\", \"orientation\": \"v\", \"showlegend\": true, \"textposition\": \"auto\", \"type\": \"bar\", \"x\": [\"TB & Chest disease\", \"anesthesia\", \"gynecology\", \"radiotherapy\", \"surgery\"], \"xaxis\": \"x\", \"y\": [56, 291, 1124, 420, 16], \"yaxis\": \"y\"}],\n",
              "                        {\"barmode\": \"group\", \"height\": 700, \"legend\": {\"tracegroupgap\": 0}, \"template\": {\"data\": {\"bar\": [{\"error_x\": {\"color\": \"#2a3f5f\"}, \"error_y\": {\"color\": \"#2a3f5f\"}, \"marker\": {\"line\": {\"color\": \"#E5ECF6\", \"width\": 0.5}}, \"type\": \"bar\"}], \"barpolar\": [{\"marker\": {\"line\": {\"color\": \"#E5ECF6\", \"width\": 0.5}}, \"type\": \"barpolar\"}], \"carpet\": [{\"aaxis\": {\"endlinecolor\": \"#2a3f5f\", \"gridcolor\": \"white\", \"linecolor\": \"white\", \"minorgridcolor\": \"white\", \"startlinecolor\": \"#2a3f5f\"}, \"baxis\": {\"endlinecolor\": \"#2a3f5f\", \"gridcolor\": \"white\", \"linecolor\": \"white\", \"minorgridcolor\": \"white\", \"startlinecolor\": \"#2a3f5f\"}, \"type\": \"carpet\"}], \"choropleth\": [{\"colorbar\": {\"outlinewidth\": 0, \"ticks\": \"\"}, \"type\": \"choropleth\"}], \"contour\": [{\"colorbar\": {\"outlinewidth\": 0, \"ticks\": \"\"}, \"colorscale\": [[0.0, \"#0d0887\"], [0.1111111111111111, \"#46039f\"], [0.2222222222222222, \"#7201a8\"], [0.3333333333333333, \"#9c179e\"], [0.4444444444444444, \"#bd3786\"], [0.5555555555555556, \"#d8576b\"], [0.6666666666666666, \"#ed7953\"], [0.7777777777777778, \"#fb9f3a\"], [0.8888888888888888, \"#fdca26\"], [1.0, \"#f0f921\"]], \"type\": \"contour\"}], \"contourcarpet\": [{\"colorbar\": {\"outlinewidth\": 0, \"ticks\": \"\"}, \"type\": \"contourcarpet\"}], \"heatmap\": [{\"colorbar\": {\"outlinewidth\": 0, \"ticks\": \"\"}, \"colorscale\": [[0.0, \"#0d0887\"], [0.1111111111111111, \"#46039f\"], [0.2222222222222222, \"#7201a8\"], [0.3333333333333333, \"#9c179e\"], [0.4444444444444444, \"#bd3786\"], [0.5555555555555556, \"#d8576b\"], [0.6666666666666666, \"#ed7953\"], [0.7777777777777778, \"#fb9f3a\"], [0.8888888888888888, \"#fdca26\"], [1.0, \"#f0f921\"]], \"type\": \"heatmap\"}], \"heatmapgl\": [{\"colorbar\": {\"outlinewidth\": 0, \"ticks\": \"\"}, \"colorscale\": [[0.0, \"#0d0887\"], [0.1111111111111111, \"#46039f\"], [0.2222222222222222, \"#7201a8\"], [0.3333333333333333, \"#9c179e\"], [0.4444444444444444, \"#bd3786\"], [0.5555555555555556, \"#d8576b\"], [0.6666666666666666, \"#ed7953\"], [0.7777777777777778, \"#fb9f3a\"], [0.8888888888888888, \"#fdca26\"], [1.0, \"#f0f921\"]], \"type\": \"heatmapgl\"}], \"histogram\": [{\"marker\": {\"colorbar\": {\"outlinewidth\": 0, \"ticks\": \"\"}}, \"type\": \"histogram\"}], \"histogram2d\": [{\"colorbar\": {\"outlinewidth\": 0, \"ticks\": \"\"}, \"colorscale\": [[0.0, \"#0d0887\"], [0.1111111111111111, \"#46039f\"], [0.2222222222222222, \"#7201a8\"], [0.3333333333333333, \"#9c179e\"], [0.4444444444444444, \"#bd3786\"], [0.5555555555555556, \"#d8576b\"], [0.6666666666666666, \"#ed7953\"], [0.7777777777777778, \"#fb9f3a\"], [0.8888888888888888, \"#fdca26\"], [1.0, \"#f0f921\"]], \"type\": \"histogram2d\"}], \"histogram2dcontour\": [{\"colorbar\": {\"outlinewidth\": 0, \"ticks\": \"\"}, \"colorscale\": [[0.0, \"#0d0887\"], [0.1111111111111111, \"#46039f\"], [0.2222222222222222, \"#7201a8\"], [0.3333333333333333, \"#9c179e\"], [0.4444444444444444, \"#bd3786\"], [0.5555555555555556, \"#d8576b\"], [0.6666666666666666, \"#ed7953\"], [0.7777777777777778, \"#fb9f3a\"], [0.8888888888888888, \"#fdca26\"], [1.0, \"#f0f921\"]], \"type\": \"histogram2dcontour\"}], \"mesh3d\": [{\"colorbar\": {\"outlinewidth\": 0, \"ticks\": \"\"}, \"type\": \"mesh3d\"}], \"parcoords\": [{\"line\": {\"colorbar\": {\"outlinewidth\": 0, \"ticks\": \"\"}}, \"type\": \"parcoords\"}], \"pie\": [{\"automargin\": true, \"type\": \"pie\"}], \"scatter\": [{\"marker\": {\"colorbar\": {\"outlinewidth\": 0, \"ticks\": \"\"}}, \"type\": \"scatter\"}], \"scatter3d\": [{\"line\": {\"colorbar\": {\"outlinewidth\": 0, \"ticks\": \"\"}}, \"marker\": {\"colorbar\": {\"outlinewidth\": 0, \"ticks\": \"\"}}, \"type\": \"scatter3d\"}], \"scattercarpet\": [{\"marker\": {\"colorbar\": {\"outlinewidth\": 0, \"ticks\": \"\"}}, \"type\": \"scattercarpet\"}], \"scattergeo\": [{\"marker\": {\"colorbar\": {\"outlinewidth\": 0, \"ticks\": \"\"}}, \"type\": \"scattergeo\"}], \"scattergl\": [{\"marker\": {\"colorbar\": {\"outlinewidth\": 0, \"ticks\": \"\"}}, \"type\": \"scattergl\"}], \"scattermapbox\": [{\"marker\": {\"colorbar\": {\"outlinewidth\": 0, \"ticks\": \"\"}}, \"type\": \"scattermapbox\"}], \"scatterpolar\": [{\"marker\": {\"colorbar\": {\"outlinewidth\": 0, \"ticks\": \"\"}}, \"type\": \"scatterpolar\"}], \"scatterpolargl\": [{\"marker\": {\"colorbar\": {\"outlinewidth\": 0, \"ticks\": \"\"}}, \"type\": \"scatterpolargl\"}], \"scatterternary\": [{\"marker\": {\"colorbar\": {\"outlinewidth\": 0, \"ticks\": \"\"}}, \"type\": \"scatterternary\"}], \"surface\": [{\"colorbar\": {\"outlinewidth\": 0, \"ticks\": \"\"}, \"colorscale\": [[0.0, \"#0d0887\"], [0.1111111111111111, \"#46039f\"], [0.2222222222222222, \"#7201a8\"], [0.3333333333333333, \"#9c179e\"], [0.4444444444444444, \"#bd3786\"], [0.5555555555555556, \"#d8576b\"], [0.6666666666666666, \"#ed7953\"], [0.7777777777777778, \"#fb9f3a\"], [0.8888888888888888, \"#fdca26\"], [1.0, \"#f0f921\"]], \"type\": \"surface\"}], \"table\": [{\"cells\": {\"fill\": {\"color\": \"#EBF0F8\"}, \"line\": {\"color\": \"white\"}}, \"header\": {\"fill\": {\"color\": \"#C8D4E3\"}, \"line\": {\"color\": \"white\"}}, \"type\": \"table\"}]}, \"layout\": {\"annotationdefaults\": {\"arrowcolor\": \"#2a3f5f\", \"arrowhead\": 0, \"arrowwidth\": 1}, \"coloraxis\": {\"colorbar\": {\"outlinewidth\": 0, \"ticks\": \"\"}}, \"colorscale\": {\"diverging\": [[0, \"#8e0152\"], [0.1, \"#c51b7d\"], [0.2, \"#de77ae\"], [0.3, \"#f1b6da\"], [0.4, \"#fde0ef\"], [0.5, \"#f7f7f7\"], [0.6, \"#e6f5d0\"], [0.7, \"#b8e186\"], [0.8, \"#7fbc41\"], [0.9, \"#4d9221\"], [1, \"#276419\"]], \"sequential\": [[0.0, \"#0d0887\"], [0.1111111111111111, \"#46039f\"], [0.2222222222222222, \"#7201a8\"], [0.3333333333333333, \"#9c179e\"], [0.4444444444444444, \"#bd3786\"], [0.5555555555555556, \"#d8576b\"], [0.6666666666666666, \"#ed7953\"], [0.7777777777777778, \"#fb9f3a\"], [0.8888888888888888, \"#fdca26\"], [1.0, \"#f0f921\"]], \"sequentialminus\": [[0.0, \"#0d0887\"], [0.1111111111111111, \"#46039f\"], [0.2222222222222222, \"#7201a8\"], [0.3333333333333333, \"#9c179e\"], [0.4444444444444444, \"#bd3786\"], [0.5555555555555556, \"#d8576b\"], [0.6666666666666666, \"#ed7953\"], [0.7777777777777778, \"#fb9f3a\"], [0.8888888888888888, \"#fdca26\"], [1.0, \"#f0f921\"]]}, \"colorway\": [\"#636efa\", \"#EF553B\", \"#00cc96\", \"#ab63fa\", \"#FFA15A\", \"#19d3f3\", \"#FF6692\", \"#B6E880\", \"#FF97FF\", \"#FECB52\"], \"font\": {\"color\": \"#2a3f5f\"}, \"geo\": {\"bgcolor\": \"white\", \"lakecolor\": \"white\", \"landcolor\": \"#E5ECF6\", \"showlakes\": true, \"showland\": true, \"subunitcolor\": \"white\"}, \"hoverlabel\": {\"align\": \"left\"}, \"hovermode\": \"closest\", \"mapbox\": {\"style\": \"light\"}, \"paper_bgcolor\": \"white\", \"plot_bgcolor\": \"#E5ECF6\", \"polar\": {\"angularaxis\": {\"gridcolor\": \"white\", \"linecolor\": \"white\", \"ticks\": \"\"}, \"bgcolor\": \"#E5ECF6\", \"radialaxis\": {\"gridcolor\": \"white\", \"linecolor\": \"white\", \"ticks\": \"\"}}, \"scene\": {\"xaxis\": {\"backgroundcolor\": \"#E5ECF6\", \"gridcolor\": \"white\", \"gridwidth\": 2, \"linecolor\": \"white\", \"showbackground\": true, \"ticks\": \"\", \"zerolinecolor\": \"white\"}, \"yaxis\": {\"backgroundcolor\": \"#E5ECF6\", \"gridcolor\": \"white\", \"gridwidth\": 2, \"linecolor\": \"white\", \"showbackground\": true, \"ticks\": \"\", \"zerolinecolor\": \"white\"}, \"zaxis\": {\"backgroundcolor\": \"#E5ECF6\", \"gridcolor\": \"white\", \"gridwidth\": 2, \"linecolor\": \"white\", \"showbackground\": true, \"ticks\": \"\", \"zerolinecolor\": \"white\"}}, \"shapedefaults\": {\"line\": {\"color\": \"#2a3f5f\"}}, \"ternary\": {\"aaxis\": {\"gridcolor\": \"white\", \"linecolor\": \"white\", \"ticks\": \"\"}, \"baxis\": {\"gridcolor\": \"white\", \"linecolor\": \"white\", \"ticks\": \"\"}, \"bgcolor\": \"#E5ECF6\", \"caxis\": {\"gridcolor\": \"white\", \"linecolor\": \"white\", \"ticks\": \"\"}}, \"title\": {\"x\": 0.05}, \"xaxis\": {\"automargin\": true, \"gridcolor\": \"white\", \"linecolor\": \"white\", \"ticks\": \"\", \"title\": {\"standoff\": 15}, \"zerolinecolor\": \"white\", \"zerolinewidth\": 2}, \"yaxis\": {\"automargin\": true, \"gridcolor\": \"white\", \"linecolor\": \"white\", \"ticks\": \"\", \"title\": {\"standoff\": 15}, \"zerolinecolor\": \"white\", \"zerolinewidth\": 2}}}, \"title\": {\"text\": \"Cases per age distribution\"}, \"width\": 800, \"xaxis\": {\"anchor\": \"y\", \"domain\": [0.0, 1.0], \"title\": {\"text\": \"Department\"}}, \"yaxis\": {\"anchor\": \"x\", \"domain\": [0.0, 1.0], \"title\": {\"text\": \"Count\"}}},\n",
              "                        {\"responsive\": true}\n",
              "                    ).then(function(){\n",
              "                            \n",
              "var gd = document.getElementById('3c66c4e7-ffe2-45be-8dea-b058f4d0effe');\n",
              "var x = new MutationObserver(function (mutations, observer) {{\n",
              "        var display = window.getComputedStyle(gd).display;\n",
              "        if (!display || display === 'none') {{\n",
              "            console.log([gd, 'removed!']);\n",
              "            Plotly.purge(gd);\n",
              "            observer.disconnect();\n",
              "        }}\n",
              "}});\n",
              "\n",
              "// Listen for the removal of the full notebook cells\n",
              "var notebookContainer = gd.closest('#notebook-container');\n",
              "if (notebookContainer) {{\n",
              "    x.observe(notebookContainer, {childList: true});\n",
              "}}\n",
              "\n",
              "// Listen for the clearing of the current output cell\n",
              "var outputEl = gd.closest('.output');\n",
              "if (outputEl) {{\n",
              "    x.observe(outputEl, {childList: true});\n",
              "}}\n",
              "\n",
              "                        })\n",
              "                };\n",
              "                \n",
              "            </script>\n",
              "        </div>\n",
              "</body>\n",
              "</html>"
            ]
          },
          "metadata": {
            "tags": []
          }
        }
      ]
    },
    {
      "cell_type": "code",
      "metadata": {
        "id": "Cc2Ojcc8Qtw-"
      },
      "source": [
        "ds = df.groupby(['Age', 'dataset'])['patientid'].count().reset_index()\n",
        "ds.columns = ['Age', 'dataset', 'Count']"
      ],
      "execution_count": 123,
      "outputs": []
    },
    {
      "cell_type": "code",
      "metadata": {
        "colab": {
          "base_uri": "https://localhost:8080/",
          "height": 737
        },
        "id": "p-OCX2KzQ4qu",
        "outputId": "31b0c590-c47b-4aa9-cf33-f35070364557"
      },
      "source": [
        "import plotly.express as px\n",
        "\n",
        "fig = px.bar(\n",
        "    ds,\n",
        "    x = 'Age',\n",
        "    y = 'Count',\n",
        "    color = 'dataset',\n",
        "    barmode = 'group',\n",
        "    orientation = 'v',\n",
        "    title = 'Cases per age distribution',\n",
        "    width = 800,\n",
        "    height = 700\n",
        ")\n",
        "fig.show()"
      ],
      "execution_count": 124,
      "outputs": [
        {
          "output_type": "display_data",
          "data": {
            "text/html": [
              "<html>\n",
              "<head><meta charset=\"utf-8\" /></head>\n",
              "<body>\n",
              "    <div>\n",
              "            <script src=\"https://cdnjs.cloudflare.com/ajax/libs/mathjax/2.7.5/MathJax.js?config=TeX-AMS-MML_SVG\"></script><script type=\"text/javascript\">if (window.MathJax) {MathJax.Hub.Config({SVG: {font: \"STIX-Web\"}});}</script>\n",
              "                <script type=\"text/javascript\">window.PlotlyConfig = {MathJaxConfig: 'local'};</script>\n",
              "        <script src=\"https://cdn.plot.ly/plotly-latest.min.js\"></script>    \n",
              "            <div id=\"bb8b011b-bed6-486c-9b7b-a7b03a61ecea\" class=\"plotly-graph-div\" style=\"height:700px; width:800px;\"></div>\n",
              "            <script type=\"text/javascript\">\n",
              "                \n",
              "                    window.PLOTLYENV=window.PLOTLYENV || {};\n",
              "                    \n",
              "                if (document.getElementById(\"bb8b011b-bed6-486c-9b7b-a7b03a61ecea\")) {\n",
              "                    Plotly.newPlot(\n",
              "                        'bb8b011b-bed6-486c-9b7b-a7b03a61ecea',\n",
              "                        [{\"alignmentgroup\": \"True\", \"hoverlabel\": {\"namelength\": 0}, \"hovertemplate\": \"dataset=test<br>Age=%{x}<br>Count=%{y}\", \"legendgroup\": \"dataset=test\", \"marker\": {\"color\": \"#636efa\"}, \"name\": \"dataset=test\", \"offsetgroup\": \"dataset=test\", \"orientation\": \"v\", \"showlegend\": true, \"textposition\": \"auto\", \"type\": \"bar\", \"x\": [\"0-10\", \"11-20\", \"21-30\", \"31-40\", \"41-50\", \"51-60\", \"61-70\", \"71-80\", \"81-90\", \"91-100\"], \"xaxis\": \"x\", \"y\": [2886, 7103, 17717, 26781, 27746, 20992, 14932, 14945, 3350, 605], \"yaxis\": \"y\"}, {\"alignmentgroup\": \"True\", \"hoverlabel\": {\"namelength\": 0}, \"hovertemplate\": \"dataset=train<br>Age=%{x}<br>Count=%{y}\", \"legendgroup\": \"dataset=train\", \"marker\": {\"color\": \"#EF553B\"}, \"name\": \"dataset=train\", \"offsetgroup\": \"dataset=train\", \"orientation\": \"v\", \"showlegend\": true, \"textposition\": \"auto\", \"type\": \"bar\", \"x\": [\"0-10\", \"11-20\", \"21-30\", \"31-40\", \"41-50\", \"51-60\", \"61-70\", \"71-80\", \"81-90\", \"91-100\"], \"xaxis\": \"x\", \"y\": [6254, 16768, 40843, 63639, 63749, 48514, 33687, 35792, 7890, 1302], \"yaxis\": \"y\"}],\n",
              "                        {\"barmode\": \"group\", \"height\": 700, \"legend\": {\"tracegroupgap\": 0}, \"template\": {\"data\": {\"bar\": [{\"error_x\": {\"color\": \"#2a3f5f\"}, \"error_y\": {\"color\": \"#2a3f5f\"}, \"marker\": {\"line\": {\"color\": \"#E5ECF6\", \"width\": 0.5}}, \"type\": \"bar\"}], \"barpolar\": [{\"marker\": {\"line\": {\"color\": \"#E5ECF6\", \"width\": 0.5}}, \"type\": \"barpolar\"}], \"carpet\": [{\"aaxis\": {\"endlinecolor\": \"#2a3f5f\", \"gridcolor\": \"white\", \"linecolor\": \"white\", \"minorgridcolor\": \"white\", \"startlinecolor\": \"#2a3f5f\"}, \"baxis\": {\"endlinecolor\": \"#2a3f5f\", \"gridcolor\": \"white\", \"linecolor\": \"white\", \"minorgridcolor\": \"white\", \"startlinecolor\": \"#2a3f5f\"}, \"type\": \"carpet\"}], \"choropleth\": [{\"colorbar\": {\"outlinewidth\": 0, \"ticks\": \"\"}, \"type\": \"choropleth\"}], \"contour\": [{\"colorbar\": {\"outlinewidth\": 0, \"ticks\": \"\"}, \"colorscale\": [[0.0, \"#0d0887\"], [0.1111111111111111, \"#46039f\"], [0.2222222222222222, \"#7201a8\"], [0.3333333333333333, \"#9c179e\"], [0.4444444444444444, \"#bd3786\"], [0.5555555555555556, \"#d8576b\"], [0.6666666666666666, \"#ed7953\"], [0.7777777777777778, \"#fb9f3a\"], [0.8888888888888888, \"#fdca26\"], [1.0, \"#f0f921\"]], \"type\": \"contour\"}], \"contourcarpet\": [{\"colorbar\": {\"outlinewidth\": 0, \"ticks\": \"\"}, \"type\": \"contourcarpet\"}], \"heatmap\": [{\"colorbar\": {\"outlinewidth\": 0, \"ticks\": \"\"}, \"colorscale\": [[0.0, \"#0d0887\"], [0.1111111111111111, \"#46039f\"], [0.2222222222222222, \"#7201a8\"], [0.3333333333333333, \"#9c179e\"], [0.4444444444444444, \"#bd3786\"], [0.5555555555555556, \"#d8576b\"], [0.6666666666666666, \"#ed7953\"], [0.7777777777777778, \"#fb9f3a\"], [0.8888888888888888, \"#fdca26\"], [1.0, \"#f0f921\"]], \"type\": \"heatmap\"}], \"heatmapgl\": [{\"colorbar\": {\"outlinewidth\": 0, \"ticks\": \"\"}, \"colorscale\": [[0.0, \"#0d0887\"], [0.1111111111111111, \"#46039f\"], [0.2222222222222222, \"#7201a8\"], [0.3333333333333333, \"#9c179e\"], [0.4444444444444444, \"#bd3786\"], [0.5555555555555556, \"#d8576b\"], [0.6666666666666666, \"#ed7953\"], [0.7777777777777778, \"#fb9f3a\"], [0.8888888888888888, \"#fdca26\"], [1.0, \"#f0f921\"]], \"type\": \"heatmapgl\"}], \"histogram\": [{\"marker\": {\"colorbar\": {\"outlinewidth\": 0, \"ticks\": \"\"}}, \"type\": \"histogram\"}], \"histogram2d\": [{\"colorbar\": {\"outlinewidth\": 0, \"ticks\": \"\"}, \"colorscale\": [[0.0, \"#0d0887\"], [0.1111111111111111, \"#46039f\"], [0.2222222222222222, \"#7201a8\"], [0.3333333333333333, \"#9c179e\"], [0.4444444444444444, \"#bd3786\"], [0.5555555555555556, \"#d8576b\"], [0.6666666666666666, \"#ed7953\"], [0.7777777777777778, \"#fb9f3a\"], [0.8888888888888888, \"#fdca26\"], [1.0, \"#f0f921\"]], \"type\": \"histogram2d\"}], \"histogram2dcontour\": [{\"colorbar\": {\"outlinewidth\": 0, \"ticks\": \"\"}, \"colorscale\": [[0.0, \"#0d0887\"], [0.1111111111111111, \"#46039f\"], [0.2222222222222222, \"#7201a8\"], [0.3333333333333333, \"#9c179e\"], [0.4444444444444444, \"#bd3786\"], [0.5555555555555556, \"#d8576b\"], [0.6666666666666666, \"#ed7953\"], [0.7777777777777778, \"#fb9f3a\"], [0.8888888888888888, \"#fdca26\"], [1.0, \"#f0f921\"]], \"type\": \"histogram2dcontour\"}], \"mesh3d\": [{\"colorbar\": {\"outlinewidth\": 0, \"ticks\": \"\"}, \"type\": \"mesh3d\"}], \"parcoords\": [{\"line\": {\"colorbar\": {\"outlinewidth\": 0, \"ticks\": \"\"}}, \"type\": \"parcoords\"}], \"pie\": [{\"automargin\": true, \"type\": \"pie\"}], \"scatter\": [{\"marker\": {\"colorbar\": {\"outlinewidth\": 0, \"ticks\": \"\"}}, \"type\": \"scatter\"}], \"scatter3d\": [{\"line\": {\"colorbar\": {\"outlinewidth\": 0, \"ticks\": \"\"}}, \"marker\": {\"colorbar\": {\"outlinewidth\": 0, \"ticks\": \"\"}}, \"type\": \"scatter3d\"}], \"scattercarpet\": [{\"marker\": {\"colorbar\": {\"outlinewidth\": 0, \"ticks\": \"\"}}, \"type\": \"scattercarpet\"}], \"scattergeo\": [{\"marker\": {\"colorbar\": {\"outlinewidth\": 0, \"ticks\": \"\"}}, \"type\": \"scattergeo\"}], \"scattergl\": [{\"marker\": {\"colorbar\": {\"outlinewidth\": 0, \"ticks\": \"\"}}, \"type\": \"scattergl\"}], \"scattermapbox\": [{\"marker\": {\"colorbar\": {\"outlinewidth\": 0, \"ticks\": \"\"}}, \"type\": \"scattermapbox\"}], \"scatterpolar\": [{\"marker\": {\"colorbar\": {\"outlinewidth\": 0, \"ticks\": \"\"}}, \"type\": \"scatterpolar\"}], \"scatterpolargl\": [{\"marker\": {\"colorbar\": {\"outlinewidth\": 0, \"ticks\": \"\"}}, \"type\": \"scatterpolargl\"}], \"scatterternary\": [{\"marker\": {\"colorbar\": {\"outlinewidth\": 0, \"ticks\": \"\"}}, \"type\": \"scatterternary\"}], \"surface\": [{\"colorbar\": {\"outlinewidth\": 0, \"ticks\": \"\"}, \"colorscale\": [[0.0, \"#0d0887\"], [0.1111111111111111, \"#46039f\"], [0.2222222222222222, \"#7201a8\"], [0.3333333333333333, \"#9c179e\"], [0.4444444444444444, \"#bd3786\"], [0.5555555555555556, \"#d8576b\"], [0.6666666666666666, \"#ed7953\"], [0.7777777777777778, \"#fb9f3a\"], [0.8888888888888888, \"#fdca26\"], [1.0, \"#f0f921\"]], \"type\": \"surface\"}], \"table\": [{\"cells\": {\"fill\": {\"color\": \"#EBF0F8\"}, \"line\": {\"color\": \"white\"}}, \"header\": {\"fill\": {\"color\": \"#C8D4E3\"}, \"line\": {\"color\": \"white\"}}, \"type\": \"table\"}]}, \"layout\": {\"annotationdefaults\": {\"arrowcolor\": \"#2a3f5f\", \"arrowhead\": 0, \"arrowwidth\": 1}, \"coloraxis\": {\"colorbar\": {\"outlinewidth\": 0, \"ticks\": \"\"}}, \"colorscale\": {\"diverging\": [[0, \"#8e0152\"], [0.1, \"#c51b7d\"], [0.2, \"#de77ae\"], [0.3, \"#f1b6da\"], [0.4, \"#fde0ef\"], [0.5, \"#f7f7f7\"], [0.6, \"#e6f5d0\"], [0.7, \"#b8e186\"], [0.8, \"#7fbc41\"], [0.9, \"#4d9221\"], [1, \"#276419\"]], \"sequential\": [[0.0, \"#0d0887\"], [0.1111111111111111, \"#46039f\"], [0.2222222222222222, \"#7201a8\"], [0.3333333333333333, \"#9c179e\"], [0.4444444444444444, \"#bd3786\"], [0.5555555555555556, \"#d8576b\"], [0.6666666666666666, \"#ed7953\"], [0.7777777777777778, \"#fb9f3a\"], [0.8888888888888888, \"#fdca26\"], [1.0, \"#f0f921\"]], \"sequentialminus\": [[0.0, \"#0d0887\"], [0.1111111111111111, \"#46039f\"], [0.2222222222222222, \"#7201a8\"], [0.3333333333333333, \"#9c179e\"], [0.4444444444444444, \"#bd3786\"], [0.5555555555555556, \"#d8576b\"], [0.6666666666666666, \"#ed7953\"], [0.7777777777777778, \"#fb9f3a\"], [0.8888888888888888, \"#fdca26\"], [1.0, \"#f0f921\"]]}, \"colorway\": [\"#636efa\", \"#EF553B\", \"#00cc96\", \"#ab63fa\", \"#FFA15A\", \"#19d3f3\", \"#FF6692\", \"#B6E880\", \"#FF97FF\", \"#FECB52\"], \"font\": {\"color\": \"#2a3f5f\"}, \"geo\": {\"bgcolor\": \"white\", \"lakecolor\": \"white\", \"landcolor\": \"#E5ECF6\", \"showlakes\": true, \"showland\": true, \"subunitcolor\": \"white\"}, \"hoverlabel\": {\"align\": \"left\"}, \"hovermode\": \"closest\", \"mapbox\": {\"style\": \"light\"}, \"paper_bgcolor\": \"white\", \"plot_bgcolor\": \"#E5ECF6\", \"polar\": {\"angularaxis\": {\"gridcolor\": \"white\", \"linecolor\": \"white\", \"ticks\": \"\"}, \"bgcolor\": \"#E5ECF6\", \"radialaxis\": {\"gridcolor\": \"white\", \"linecolor\": \"white\", \"ticks\": \"\"}}, \"scene\": {\"xaxis\": {\"backgroundcolor\": \"#E5ECF6\", \"gridcolor\": \"white\", \"gridwidth\": 2, \"linecolor\": \"white\", \"showbackground\": true, \"ticks\": \"\", \"zerolinecolor\": \"white\"}, \"yaxis\": {\"backgroundcolor\": \"#E5ECF6\", \"gridcolor\": \"white\", \"gridwidth\": 2, \"linecolor\": \"white\", \"showbackground\": true, \"ticks\": \"\", \"zerolinecolor\": \"white\"}, \"zaxis\": {\"backgroundcolor\": \"#E5ECF6\", \"gridcolor\": \"white\", \"gridwidth\": 2, \"linecolor\": \"white\", \"showbackground\": true, \"ticks\": \"\", \"zerolinecolor\": \"white\"}}, \"shapedefaults\": {\"line\": {\"color\": \"#2a3f5f\"}}, \"ternary\": {\"aaxis\": {\"gridcolor\": \"white\", \"linecolor\": \"white\", \"ticks\": \"\"}, \"baxis\": {\"gridcolor\": \"white\", \"linecolor\": \"white\", \"ticks\": \"\"}, \"bgcolor\": \"#E5ECF6\", \"caxis\": {\"gridcolor\": \"white\", \"linecolor\": \"white\", \"ticks\": \"\"}}, \"title\": {\"x\": 0.05}, \"xaxis\": {\"automargin\": true, \"gridcolor\": \"white\", \"linecolor\": \"white\", \"ticks\": \"\", \"title\": {\"standoff\": 15}, \"zerolinecolor\": \"white\", \"zerolinewidth\": 2}, \"yaxis\": {\"automargin\": true, \"gridcolor\": \"white\", \"linecolor\": \"white\", \"ticks\": \"\", \"title\": {\"standoff\": 15}, \"zerolinecolor\": \"white\", \"zerolinewidth\": 2}}}, \"title\": {\"text\": \"Cases per age distribution\"}, \"width\": 800, \"xaxis\": {\"anchor\": \"y\", \"domain\": [0.0, 1.0], \"title\": {\"text\": \"Age\"}}, \"yaxis\": {\"anchor\": \"x\", \"domain\": [0.0, 1.0], \"title\": {\"text\": \"Count\"}}},\n",
              "                        {\"responsive\": true}\n",
              "                    ).then(function(){\n",
              "                            \n",
              "var gd = document.getElementById('bb8b011b-bed6-486c-9b7b-a7b03a61ecea');\n",
              "var x = new MutationObserver(function (mutations, observer) {{\n",
              "        var display = window.getComputedStyle(gd).display;\n",
              "        if (!display || display === 'none') {{\n",
              "            console.log([gd, 'removed!']);\n",
              "            Plotly.purge(gd);\n",
              "            observer.disconnect();\n",
              "        }}\n",
              "}});\n",
              "\n",
              "// Listen for the removal of the full notebook cells\n",
              "var notebookContainer = gd.closest('#notebook-container');\n",
              "if (notebookContainer) {{\n",
              "    x.observe(notebookContainer, {childList: true});\n",
              "}}\n",
              "\n",
              "// Listen for the clearing of the current output cell\n",
              "var outputEl = gd.closest('.output');\n",
              "if (outputEl) {{\n",
              "    x.observe(outputEl, {childList: true});\n",
              "}}\n",
              "\n",
              "                        })\n",
              "                };\n",
              "                \n",
              "            </script>\n",
              "        </div>\n",
              "</body>\n",
              "</html>"
            ]
          },
          "metadata": {
            "tags": []
          }
        }
      ]
    },
    {
      "cell_type": "code",
      "metadata": {
        "id": "amMP5IWeROho"
      },
      "source": [
        "ds = df.groupby(['Age', 'Severity of Illness'])['patientid'].count().reset_index()\n",
        "ds.columns = ['Age', 'Severity of Illness', 'Count']"
      ],
      "execution_count": 125,
      "outputs": []
    },
    {
      "cell_type": "code",
      "metadata": {
        "colab": {
          "base_uri": "https://localhost:8080/",
          "height": 717
        },
        "id": "F_0zBYWYRYLX",
        "outputId": "7e357676-4a48-419d-a425-80b9fe83707a"
      },
      "source": [
        "import plotly.express as px\n",
        "\n",
        "fig = px.bar(\n",
        "    ds,\n",
        "    x = 'Age',\n",
        "    y = 'Count',\n",
        "    color = 'Severity of Illness',\n",
        "    barmode = 'group',\n",
        "    orientation = 'v',\n",
        "    title = 'Cases per age distribution',\n",
        "    width = 800,\n",
        "    height = 700\n",
        ")\n",
        "fig.show()"
      ],
      "execution_count": 126,
      "outputs": [
        {
          "output_type": "display_data",
          "data": {
            "text/html": [
              "<html>\n",
              "<head><meta charset=\"utf-8\" /></head>\n",
              "<body>\n",
              "    <div>\n",
              "            <script src=\"https://cdnjs.cloudflare.com/ajax/libs/mathjax/2.7.5/MathJax.js?config=TeX-AMS-MML_SVG\"></script><script type=\"text/javascript\">if (window.MathJax) {MathJax.Hub.Config({SVG: {font: \"STIX-Web\"}});}</script>\n",
              "                <script type=\"text/javascript\">window.PlotlyConfig = {MathJaxConfig: 'local'};</script>\n",
              "        <script src=\"https://cdn.plot.ly/plotly-latest.min.js\"></script>    \n",
              "            <div id=\"0c044ea2-e56a-4937-850f-a0b806d20e16\" class=\"plotly-graph-div\" style=\"height:700px; width:800px;\"></div>\n",
              "            <script type=\"text/javascript\">\n",
              "                \n",
              "                    window.PLOTLYENV=window.PLOTLYENV || {};\n",
              "                    \n",
              "                if (document.getElementById(\"0c044ea2-e56a-4937-850f-a0b806d20e16\")) {\n",
              "                    Plotly.newPlot(\n",
              "                        '0c044ea2-e56a-4937-850f-a0b806d20e16',\n",
              "                        [{\"alignmentgroup\": \"True\", \"hoverlabel\": {\"namelength\": 0}, \"hovertemplate\": \"Severity of Illness=Extreme<br>Age=%{x}<br>Count=%{y}\", \"legendgroup\": \"Severity of Illness=Extreme\", \"marker\": {\"color\": \"#636efa\"}, \"name\": \"Severity of Illness=Extreme\", \"offsetgroup\": \"Severity of Illness=Extreme\", \"orientation\": \"v\", \"showlegend\": true, \"textposition\": \"auto\", \"type\": \"bar\", \"x\": [\"0-10\", \"11-20\", \"21-30\", \"31-40\", \"41-50\", \"51-60\", \"61-70\", \"71-80\", \"81-90\", \"91-100\"], \"xaxis\": \"x\", \"y\": [945, 1897, 6173, 14453, 19360, 15055, 10552, 9852, 2500, 408], \"yaxis\": \"y\"}, {\"alignmentgroup\": \"True\", \"hoverlabel\": {\"namelength\": 0}, \"hovertemplate\": \"Severity of Illness=Minor<br>Age=%{x}<br>Count=%{y}\", \"legendgroup\": \"Severity of Illness=Minor\", \"marker\": {\"color\": \"#EF553B\"}, \"name\": \"Severity of Illness=Minor\", \"offsetgroup\": \"Severity of Illness=Minor\", \"orientation\": \"v\", \"showlegend\": true, \"textposition\": \"auto\", \"type\": \"bar\", \"x\": [\"0-10\", \"11-20\", \"21-30\", \"31-40\", \"41-50\", \"51-60\", \"61-70\", \"71-80\", \"81-90\", \"91-100\"], \"xaxis\": \"x\", \"y\": [3728, 11559, 21923, 23272, 18831, 14851, 11652, 13838, 2654, 427], \"yaxis\": \"y\"}, {\"alignmentgroup\": \"True\", \"hoverlabel\": {\"namelength\": 0}, \"hovertemplate\": \"Severity of Illness=Moderate<br>Age=%{x}<br>Count=%{y}\", \"legendgroup\": \"Severity of Illness=Moderate\", \"marker\": {\"color\": \"#00cc96\"}, \"name\": \"Severity of Illness=Moderate\", \"offsetgroup\": \"Severity of Illness=Moderate\", \"orientation\": \"v\", \"showlegend\": true, \"textposition\": \"auto\", \"type\": \"bar\", \"x\": [\"0-10\", \"11-20\", \"21-30\", \"31-40\", \"41-50\", \"51-60\", \"61-70\", \"71-80\", \"81-90\", \"91-100\"], \"xaxis\": \"x\", \"y\": [4467, 10415, 30464, 52695, 53304, 39600, 26415, 27047, 6086, 1072], \"yaxis\": \"y\"}],\n",
              "                        {\"barmode\": \"group\", \"height\": 700, \"legend\": {\"tracegroupgap\": 0}, \"template\": {\"data\": {\"bar\": [{\"error_x\": {\"color\": \"#2a3f5f\"}, \"error_y\": {\"color\": \"#2a3f5f\"}, \"marker\": {\"line\": {\"color\": \"#E5ECF6\", \"width\": 0.5}}, \"type\": \"bar\"}], \"barpolar\": [{\"marker\": {\"line\": {\"color\": \"#E5ECF6\", \"width\": 0.5}}, \"type\": \"barpolar\"}], \"carpet\": [{\"aaxis\": {\"endlinecolor\": \"#2a3f5f\", \"gridcolor\": \"white\", \"linecolor\": \"white\", \"minorgridcolor\": \"white\", \"startlinecolor\": \"#2a3f5f\"}, \"baxis\": {\"endlinecolor\": \"#2a3f5f\", \"gridcolor\": \"white\", \"linecolor\": \"white\", \"minorgridcolor\": \"white\", \"startlinecolor\": \"#2a3f5f\"}, \"type\": \"carpet\"}], \"choropleth\": [{\"colorbar\": {\"outlinewidth\": 0, \"ticks\": \"\"}, \"type\": \"choropleth\"}], \"contour\": [{\"colorbar\": {\"outlinewidth\": 0, \"ticks\": \"\"}, \"colorscale\": [[0.0, \"#0d0887\"], [0.1111111111111111, \"#46039f\"], [0.2222222222222222, \"#7201a8\"], [0.3333333333333333, \"#9c179e\"], [0.4444444444444444, \"#bd3786\"], [0.5555555555555556, \"#d8576b\"], [0.6666666666666666, \"#ed7953\"], [0.7777777777777778, \"#fb9f3a\"], [0.8888888888888888, \"#fdca26\"], [1.0, \"#f0f921\"]], \"type\": \"contour\"}], \"contourcarpet\": [{\"colorbar\": {\"outlinewidth\": 0, \"ticks\": \"\"}, \"type\": \"contourcarpet\"}], \"heatmap\": [{\"colorbar\": {\"outlinewidth\": 0, \"ticks\": \"\"}, \"colorscale\": [[0.0, \"#0d0887\"], [0.1111111111111111, \"#46039f\"], [0.2222222222222222, \"#7201a8\"], [0.3333333333333333, \"#9c179e\"], [0.4444444444444444, \"#bd3786\"], [0.5555555555555556, \"#d8576b\"], [0.6666666666666666, \"#ed7953\"], [0.7777777777777778, \"#fb9f3a\"], [0.8888888888888888, \"#fdca26\"], [1.0, \"#f0f921\"]], \"type\": \"heatmap\"}], \"heatmapgl\": [{\"colorbar\": {\"outlinewidth\": 0, \"ticks\": \"\"}, \"colorscale\": [[0.0, \"#0d0887\"], [0.1111111111111111, \"#46039f\"], [0.2222222222222222, \"#7201a8\"], [0.3333333333333333, \"#9c179e\"], [0.4444444444444444, \"#bd3786\"], [0.5555555555555556, \"#d8576b\"], [0.6666666666666666, \"#ed7953\"], [0.7777777777777778, \"#fb9f3a\"], [0.8888888888888888, \"#fdca26\"], [1.0, \"#f0f921\"]], \"type\": \"heatmapgl\"}], \"histogram\": [{\"marker\": {\"colorbar\": {\"outlinewidth\": 0, \"ticks\": \"\"}}, \"type\": \"histogram\"}], \"histogram2d\": [{\"colorbar\": {\"outlinewidth\": 0, \"ticks\": \"\"}, \"colorscale\": [[0.0, \"#0d0887\"], [0.1111111111111111, \"#46039f\"], [0.2222222222222222, \"#7201a8\"], [0.3333333333333333, \"#9c179e\"], [0.4444444444444444, \"#bd3786\"], [0.5555555555555556, \"#d8576b\"], [0.6666666666666666, \"#ed7953\"], [0.7777777777777778, \"#fb9f3a\"], [0.8888888888888888, \"#fdca26\"], [1.0, \"#f0f921\"]], \"type\": \"histogram2d\"}], \"histogram2dcontour\": [{\"colorbar\": {\"outlinewidth\": 0, \"ticks\": \"\"}, \"colorscale\": [[0.0, \"#0d0887\"], [0.1111111111111111, \"#46039f\"], [0.2222222222222222, \"#7201a8\"], [0.3333333333333333, \"#9c179e\"], [0.4444444444444444, \"#bd3786\"], [0.5555555555555556, \"#d8576b\"], [0.6666666666666666, \"#ed7953\"], [0.7777777777777778, \"#fb9f3a\"], [0.8888888888888888, \"#fdca26\"], [1.0, \"#f0f921\"]], \"type\": \"histogram2dcontour\"}], \"mesh3d\": [{\"colorbar\": {\"outlinewidth\": 0, \"ticks\": \"\"}, \"type\": \"mesh3d\"}], \"parcoords\": [{\"line\": {\"colorbar\": {\"outlinewidth\": 0, \"ticks\": \"\"}}, \"type\": \"parcoords\"}], \"pie\": [{\"automargin\": true, \"type\": \"pie\"}], \"scatter\": [{\"marker\": {\"colorbar\": {\"outlinewidth\": 0, \"ticks\": \"\"}}, \"type\": \"scatter\"}], \"scatter3d\": [{\"line\": {\"colorbar\": {\"outlinewidth\": 0, \"ticks\": \"\"}}, \"marker\": {\"colorbar\": {\"outlinewidth\": 0, \"ticks\": \"\"}}, \"type\": \"scatter3d\"}], \"scattercarpet\": [{\"marker\": {\"colorbar\": {\"outlinewidth\": 0, \"ticks\": \"\"}}, \"type\": \"scattercarpet\"}], \"scattergeo\": [{\"marker\": {\"colorbar\": {\"outlinewidth\": 0, \"ticks\": \"\"}}, \"type\": \"scattergeo\"}], \"scattergl\": [{\"marker\": {\"colorbar\": {\"outlinewidth\": 0, \"ticks\": \"\"}}, \"type\": \"scattergl\"}], \"scattermapbox\": [{\"marker\": {\"colorbar\": {\"outlinewidth\": 0, \"ticks\": \"\"}}, \"type\": \"scattermapbox\"}], \"scatterpolar\": [{\"marker\": {\"colorbar\": {\"outlinewidth\": 0, \"ticks\": \"\"}}, \"type\": \"scatterpolar\"}], \"scatterpolargl\": [{\"marker\": {\"colorbar\": {\"outlinewidth\": 0, \"ticks\": \"\"}}, \"type\": \"scatterpolargl\"}], \"scatterternary\": [{\"marker\": {\"colorbar\": {\"outlinewidth\": 0, \"ticks\": \"\"}}, \"type\": \"scatterternary\"}], \"surface\": [{\"colorbar\": {\"outlinewidth\": 0, \"ticks\": \"\"}, \"colorscale\": [[0.0, \"#0d0887\"], [0.1111111111111111, \"#46039f\"], [0.2222222222222222, \"#7201a8\"], [0.3333333333333333, \"#9c179e\"], [0.4444444444444444, \"#bd3786\"], [0.5555555555555556, \"#d8576b\"], [0.6666666666666666, \"#ed7953\"], [0.7777777777777778, \"#fb9f3a\"], [0.8888888888888888, \"#fdca26\"], [1.0, \"#f0f921\"]], \"type\": \"surface\"}], \"table\": [{\"cells\": {\"fill\": {\"color\": \"#EBF0F8\"}, \"line\": {\"color\": \"white\"}}, \"header\": {\"fill\": {\"color\": \"#C8D4E3\"}, \"line\": {\"color\": \"white\"}}, \"type\": \"table\"}]}, \"layout\": {\"annotationdefaults\": {\"arrowcolor\": \"#2a3f5f\", \"arrowhead\": 0, \"arrowwidth\": 1}, \"coloraxis\": {\"colorbar\": {\"outlinewidth\": 0, \"ticks\": \"\"}}, \"colorscale\": {\"diverging\": [[0, \"#8e0152\"], [0.1, \"#c51b7d\"], [0.2, \"#de77ae\"], [0.3, \"#f1b6da\"], [0.4, \"#fde0ef\"], [0.5, \"#f7f7f7\"], [0.6, \"#e6f5d0\"], [0.7, \"#b8e186\"], [0.8, \"#7fbc41\"], [0.9, \"#4d9221\"], [1, \"#276419\"]], \"sequential\": [[0.0, \"#0d0887\"], [0.1111111111111111, \"#46039f\"], [0.2222222222222222, \"#7201a8\"], [0.3333333333333333, \"#9c179e\"], [0.4444444444444444, \"#bd3786\"], [0.5555555555555556, \"#d8576b\"], [0.6666666666666666, \"#ed7953\"], [0.7777777777777778, \"#fb9f3a\"], [0.8888888888888888, \"#fdca26\"], [1.0, \"#f0f921\"]], \"sequentialminus\": [[0.0, \"#0d0887\"], [0.1111111111111111, \"#46039f\"], [0.2222222222222222, \"#7201a8\"], [0.3333333333333333, \"#9c179e\"], [0.4444444444444444, \"#bd3786\"], [0.5555555555555556, \"#d8576b\"], [0.6666666666666666, \"#ed7953\"], [0.7777777777777778, \"#fb9f3a\"], [0.8888888888888888, \"#fdca26\"], [1.0, \"#f0f921\"]]}, \"colorway\": [\"#636efa\", \"#EF553B\", \"#00cc96\", \"#ab63fa\", \"#FFA15A\", \"#19d3f3\", \"#FF6692\", \"#B6E880\", \"#FF97FF\", \"#FECB52\"], \"font\": {\"color\": \"#2a3f5f\"}, \"geo\": {\"bgcolor\": \"white\", \"lakecolor\": \"white\", \"landcolor\": \"#E5ECF6\", \"showlakes\": true, \"showland\": true, \"subunitcolor\": \"white\"}, \"hoverlabel\": {\"align\": \"left\"}, \"hovermode\": \"closest\", \"mapbox\": {\"style\": \"light\"}, \"paper_bgcolor\": \"white\", \"plot_bgcolor\": \"#E5ECF6\", \"polar\": {\"angularaxis\": {\"gridcolor\": \"white\", \"linecolor\": \"white\", \"ticks\": \"\"}, \"bgcolor\": \"#E5ECF6\", \"radialaxis\": {\"gridcolor\": \"white\", \"linecolor\": \"white\", \"ticks\": \"\"}}, \"scene\": {\"xaxis\": {\"backgroundcolor\": \"#E5ECF6\", \"gridcolor\": \"white\", \"gridwidth\": 2, \"linecolor\": \"white\", \"showbackground\": true, \"ticks\": \"\", \"zerolinecolor\": \"white\"}, \"yaxis\": {\"backgroundcolor\": \"#E5ECF6\", \"gridcolor\": \"white\", \"gridwidth\": 2, \"linecolor\": \"white\", \"showbackground\": true, \"ticks\": \"\", \"zerolinecolor\": \"white\"}, \"zaxis\": {\"backgroundcolor\": \"#E5ECF6\", \"gridcolor\": \"white\", \"gridwidth\": 2, \"linecolor\": \"white\", \"showbackground\": true, \"ticks\": \"\", \"zerolinecolor\": \"white\"}}, \"shapedefaults\": {\"line\": {\"color\": \"#2a3f5f\"}}, \"ternary\": {\"aaxis\": {\"gridcolor\": \"white\", \"linecolor\": \"white\", \"ticks\": \"\"}, \"baxis\": {\"gridcolor\": \"white\", \"linecolor\": \"white\", \"ticks\": \"\"}, \"bgcolor\": \"#E5ECF6\", \"caxis\": {\"gridcolor\": \"white\", \"linecolor\": \"white\", \"ticks\": \"\"}}, \"title\": {\"x\": 0.05}, \"xaxis\": {\"automargin\": true, \"gridcolor\": \"white\", \"linecolor\": \"white\", \"ticks\": \"\", \"title\": {\"standoff\": 15}, \"zerolinecolor\": \"white\", \"zerolinewidth\": 2}, \"yaxis\": {\"automargin\": true, \"gridcolor\": \"white\", \"linecolor\": \"white\", \"ticks\": \"\", \"title\": {\"standoff\": 15}, \"zerolinecolor\": \"white\", \"zerolinewidth\": 2}}}, \"title\": {\"text\": \"Cases per age distribution\"}, \"width\": 800, \"xaxis\": {\"anchor\": \"y\", \"domain\": [0.0, 1.0], \"title\": {\"text\": \"Age\"}}, \"yaxis\": {\"anchor\": \"x\", \"domain\": [0.0, 1.0], \"title\": {\"text\": \"Count\"}}},\n",
              "                        {\"responsive\": true}\n",
              "                    ).then(function(){\n",
              "                            \n",
              "var gd = document.getElementById('0c044ea2-e56a-4937-850f-a0b806d20e16');\n",
              "var x = new MutationObserver(function (mutations, observer) {{\n",
              "        var display = window.getComputedStyle(gd).display;\n",
              "        if (!display || display === 'none') {{\n",
              "            console.log([gd, 'removed!']);\n",
              "            Plotly.purge(gd);\n",
              "            observer.disconnect();\n",
              "        }}\n",
              "}});\n",
              "\n",
              "// Listen for the removal of the full notebook cells\n",
              "var notebookContainer = gd.closest('#notebook-container');\n",
              "if (notebookContainer) {{\n",
              "    x.observe(notebookContainer, {childList: true});\n",
              "}}\n",
              "\n",
              "// Listen for the clearing of the current output cell\n",
              "var outputEl = gd.closest('.output');\n",
              "if (outputEl) {{\n",
              "    x.observe(outputEl, {childList: true});\n",
              "}}\n",
              "\n",
              "                        })\n",
              "                };\n",
              "                \n",
              "            </script>\n",
              "        </div>\n",
              "</body>\n",
              "</html>"
            ]
          },
          "metadata": {
            "tags": []
          }
        }
      ]
    }
  ]
}